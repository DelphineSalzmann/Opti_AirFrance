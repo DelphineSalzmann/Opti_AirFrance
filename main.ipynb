{
 "cells": [
  {
   "cell_type": "markdown",
   "metadata": {},
   "source": [
    "## Import libraries"
   ]
  },
  {
   "cell_type": "code",
   "execution_count": 1,
   "metadata": {},
   "outputs": [],
   "source": [
    "import numpy as np\n",
    "import pandas as pd\n",
    "import matplotlib.pyplot as plt\n",
    "from gurobipy import *\n",
    "import csv\n",
    "from datetime import datetime\n",
    "import os"
   ]
  },
  {
   "cell_type": "markdown",
   "metadata": {},
   "source": [
    "## Read and preprocess data\n"
   ]
  },
  {
   "cell_type": "code",
   "execution_count": 2,
   "metadata": {},
   "outputs": [],
   "source": [
    "def load_data(file_path):\n",
    "    data_dict = dict()\n",
    "\n",
    "    with open(file_path) as file:\n",
    "        reader = csv.DictReader(file)\n",
    "        for row in reader:\n",
    "            if row['Numéro du groupe'] != '':\n",
    "                heures, minutes, _ = map(int, row['TransitTime'].split(':')) \n",
    "                total_minutes = heures * 60 + minutes\n",
    "                data_dict[int(float(row['Numéro du groupe']))] = (\n",
    "                    int(float(row['Femmes'])),\n",
    "                    int(float(row['Hommes'])),\n",
    "                    int(float(row['WCHR'])),\n",
    "                    total_minutes\n",
    "                )\n",
    "\n",
    "    return data_dict\n",
    "\n",
    "# Load data for each file\n",
    "\n",
    "file_names = [\"5Nov.csv\", \"7Nov.csv\", \"22Oct.csv\", \"24Oct.csv\", \"23Oct.csv\", \"30Oct.csv\", \"DataSeating 2024.csv\"]\n",
    "data_directory = 'data'\n",
    "# for eachy dictionary : dict[Numéro du groupe : (Femmes, Hommes, WCHR, TransitTime)]\n",
    "Nov5, Nov7, Oct22, Oct24, Oct23, Oct30, Date0 = [load_data(os.path.join(data_directory, file)) for file in file_names]"
   ]
  },
  {
   "cell_type": "markdown",
   "metadata": {},
   "source": [
    "Example of how we access data"
   ]
  },
  {
   "cell_type": "code",
   "execution_count": 3,
   "metadata": {},
   "outputs": [
    {
     "data": {
      "text/plain": [
       "1"
      ]
     },
     "execution_count": 3,
     "metadata": {},
     "output_type": "execute_result"
    }
   ],
   "source": [
    "Nov5[1][0] # Number of women in group 1 on November 5th"
   ]
  },
  {
   "cell_type": "markdown",
   "metadata": {},
   "source": [
    "Transforming data to access each passenger's Id\n",
    "\n",
    "First we solved the problem for November 5th, then we'll have to automate it"
   ]
  },
  {
   "cell_type": "code",
   "execution_count": 4,
   "metadata": {},
   "outputs": [
    {
     "name": "stdout",
     "output_type": "stream",
     "text": [
      "{1: {'gender': 'Femmes', 'group': 1, 'weight': 70, 'connection_time': 0}, 2: {'gender': 'Hommes', 'group': 1, 'weight': 85, 'connection_time': 0}, 3: {'gender': 'Hommes', 'group': 1, 'weight': 85, 'connection_time': 0}, 4: {'gender': 'Hommes', 'group': 2, 'weight': 85, 'connection_time': 60}, 5: {'gender': 'Femmes', 'group': 3, 'weight': 70, 'connection_time': 165}, 6: {'gender': 'Hommes', 'group': 3, 'weight': 85, 'connection_time': 165}, 7: {'gender': 'Femmes', 'group': 4, 'weight': 70, 'connection_time': 0}, 8: {'gender': 'Hommes', 'group': 4, 'weight': 85, 'connection_time': 0}, 9: {'gender': 'WCHR', 'group': 4, 'weight': 100, 'connection_time': 0}, 10: {'gender': 'Femmes', 'group': 5, 'weight': 70, 'connection_time': 0}, 11: {'gender': 'Femmes', 'group': 5, 'weight': 70, 'connection_time': 0}, 12: {'gender': 'Femmes', 'group': 5, 'weight': 70, 'connection_time': 0}, 13: {'gender': 'Femmes', 'group': 6, 'weight': 70, 'connection_time': 0}, 14: {'gender': 'Hommes', 'group': 6, 'weight': 85, 'connection_time': 0}, 15: {'gender': 'Femmes', 'group': 7, 'weight': 70, 'connection_time': 85}, 16: {'gender': 'Hommes', 'group': 7, 'weight': 85, 'connection_time': 85}, 17: {'gender': 'Hommes', 'group': 8, 'weight': 85, 'connection_time': 0}, 18: {'gender': 'Femmes', 'group': 9, 'weight': 70, 'connection_time': 60}, 19: {'gender': 'Femmes', 'group': 9, 'weight': 70, 'connection_time': 60}, 20: {'gender': 'Hommes', 'group': 9, 'weight': 85, 'connection_time': 60}, 21: {'gender': 'Hommes', 'group': 9, 'weight': 85, 'connection_time': 60}, 22: {'gender': 'Femmes', 'group': 10, 'weight': 70, 'connection_time': 0}, 23: {'gender': 'Femmes', 'group': 11, 'weight': 70, 'connection_time': 0}, 24: {'gender': 'Hommes', 'group': 12, 'weight': 85, 'connection_time': 0}, 25: {'gender': 'Hommes', 'group': 12, 'weight': 85, 'connection_time': 0}, 26: {'gender': 'Hommes', 'group': 13, 'weight': 85, 'connection_time': 0}, 27: {'gender': 'Hommes', 'group': 14, 'weight': 85, 'connection_time': 0}, 28: {'gender': 'Hommes', 'group': 14, 'weight': 85, 'connection_time': 0}, 29: {'gender': 'Hommes', 'group': 14, 'weight': 85, 'connection_time': 0}, 30: {'gender': 'Femmes', 'group': 15, 'weight': 70, 'connection_time': 0}, 31: {'gender': 'Femmes', 'group': 15, 'weight': 70, 'connection_time': 0}, 32: {'gender': 'Femmes', 'group': 16, 'weight': 70, 'connection_time': 60}, 33: {'gender': 'Femmes', 'group': 17, 'weight': 70, 'connection_time': 0}, 34: {'gender': 'Femmes', 'group': 18, 'weight': 70, 'connection_time': 0}, 35: {'gender': 'Hommes', 'group': 18, 'weight': 85, 'connection_time': 0}, 36: {'gender': 'Hommes', 'group': 19, 'weight': 85, 'connection_time': 0}, 37: {'gender': 'Femmes', 'group': 20, 'weight': 70, 'connection_time': 0}, 38: {'gender': 'Hommes', 'group': 20, 'weight': 85, 'connection_time': 0}, 39: {'gender': 'Hommes', 'group': 21, 'weight': 85, 'connection_time': 0}, 40: {'gender': 'Hommes', 'group': 22, 'weight': 85, 'connection_time': 0}, 41: {'gender': 'Femmes', 'group': 23, 'weight': 70, 'connection_time': 0}, 42: {'gender': 'Femmes', 'group': 23, 'weight': 70, 'connection_time': 0}, 43: {'gender': 'Hommes', 'group': 23, 'weight': 85, 'connection_time': 0}, 44: {'gender': 'Femmes', 'group': 24, 'weight': 70, 'connection_time': 0}, 45: {'gender': 'Hommes', 'group': 24, 'weight': 85, 'connection_time': 0}, 46: {'gender': 'Femmes', 'group': 26, 'weight': 70, 'connection_time': 0}, 47: {'gender': 'Femmes', 'group': 26, 'weight': 70, 'connection_time': 0}, 48: {'gender': 'Hommes', 'group': 27, 'weight': 85, 'connection_time': 0}, 49: {'gender': 'Hommes', 'group': 28, 'weight': 85, 'connection_time': 0}, 50: {'gender': 'Hommes', 'group': 29, 'weight': 85, 'connection_time': 85}, 51: {'gender': 'Femmes', 'group': 30, 'weight': 70, 'connection_time': 85}, 52: {'gender': 'Hommes', 'group': 30, 'weight': 85, 'connection_time': 85}, 53: {'gender': 'Femmes', 'group': 31, 'weight': 70, 'connection_time': 0}, 54: {'gender': 'Femmes', 'group': 31, 'weight': 70, 'connection_time': 0}, 55: {'gender': 'Hommes', 'group': 31, 'weight': 85, 'connection_time': 0}, 56: {'gender': 'Hommes', 'group': 31, 'weight': 85, 'connection_time': 0}, 57: {'gender': 'Hommes', 'group': 32, 'weight': 85, 'connection_time': 0}, 58: {'gender': 'Hommes', 'group': 32, 'weight': 85, 'connection_time': 0}, 59: {'gender': 'Hommes', 'group': 32, 'weight': 85, 'connection_time': 0}, 60: {'gender': 'Hommes', 'group': 32, 'weight': 85, 'connection_time': 0}, 61: {'gender': 'Hommes', 'group': 32, 'weight': 85, 'connection_time': 0}, 62: {'gender': 'Hommes', 'group': 33, 'weight': 85, 'connection_time': 0}, 63: {'gender': 'Hommes', 'group': 33, 'weight': 85, 'connection_time': 0}, 64: {'gender': 'Hommes', 'group': 33, 'weight': 85, 'connection_time': 0}, 65: {'gender': 'Hommes', 'group': 33, 'weight': 85, 'connection_time': 0}, 66: {'gender': 'Femmes', 'group': 34, 'weight': 70, 'connection_time': 85}, 67: {'gender': 'Hommes', 'group': 34, 'weight': 85, 'connection_time': 85}, 68: {'gender': 'Femmes', 'group': 35, 'weight': 70, 'connection_time': 0}, 69: {'gender': 'Hommes', 'group': 35, 'weight': 85, 'connection_time': 0}, 70: {'gender': 'Femmes', 'group': 36, 'weight': 70, 'connection_time': 60}, 71: {'gender': 'Femmes', 'group': 36, 'weight': 70, 'connection_time': 60}, 72: {'gender': 'Hommes', 'group': 37, 'weight': 85, 'connection_time': 0}, 73: {'gender': 'Hommes', 'group': 38, 'weight': 85, 'connection_time': 0}, 74: {'gender': 'Femmes', 'group': 39, 'weight': 70, 'connection_time': 0}, 75: {'gender': 'WCHR', 'group': 39, 'weight': 100, 'connection_time': 0}, 76: {'gender': 'Femmes', 'group': 40, 'weight': 70, 'connection_time': 0}, 77: {'gender': 'WCHR', 'group': 40, 'weight': 100, 'connection_time': 0}, 78: {'gender': 'Hommes', 'group': 41, 'weight': 85, 'connection_time': 0}, 79: {'gender': 'Hommes', 'group': 42, 'weight': 85, 'connection_time': 165}, 80: {'gender': 'Femmes', 'group': 43, 'weight': 70, 'connection_time': 0}, 81: {'gender': 'Femmes', 'group': 43, 'weight': 70, 'connection_time': 0}, 82: {'gender': 'Femmes', 'group': 43, 'weight': 70, 'connection_time': 0}, 83: {'gender': 'Femmes', 'group': 43, 'weight': 70, 'connection_time': 0}, 84: {'gender': 'Femmes', 'group': 43, 'weight': 70, 'connection_time': 0}, 85: {'gender': 'Femmes', 'group': 44, 'weight': 70, 'connection_time': 85}, 86: {'gender': 'Femmes', 'group': 44, 'weight': 70, 'connection_time': 85}, 87: {'gender': 'Hommes', 'group': 45, 'weight': 85, 'connection_time': 85}, 88: {'gender': 'Femmes', 'group': 46, 'weight': 70, 'connection_time': 0}, 89: {'gender': 'Hommes', 'group': 46, 'weight': 85, 'connection_time': 0}, 90: {'gender': 'Hommes', 'group': 46, 'weight': 85, 'connection_time': 0}, 91: {'gender': 'Femmes', 'group': 47, 'weight': 70, 'connection_time': 0}, 92: {'gender': 'Femmes', 'group': 48, 'weight': 70, 'connection_time': 0}, 93: {'gender': 'WCHR', 'group': 49, 'weight': 100, 'connection_time': 0}, 94: {'gender': 'Femmes', 'group': 50, 'weight': 70, 'connection_time': 0}, 95: {'gender': 'Hommes', 'group': 51, 'weight': 85, 'connection_time': 0}, 96: {'gender': 'Femmes', 'group': 52, 'weight': 70, 'connection_time': 0}, 97: {'gender': 'Femmes', 'group': 53, 'weight': 70, 'connection_time': 0}}\n"
     ]
    }
   ],
   "source": [
    "Passengers = {}\n",
    "j = 1\n",
    "\n",
    "for group_num, data in Nov5.items():\n",
    "    weights = {'Femmes': 70, 'Hommes': 85, 'WCHR': 100}  # Weight per passenger\n",
    "    \n",
    "    # Extracting data\n",
    "    femmes, hommes, wchr, total_minutes = data\n",
    "    \n",
    "    # Enumerating passengers\n",
    "    for _ in range(femmes + hommes + wchr):\n",
    "        if femmes > 0:\n",
    "            weight = weights['Femmes']  \n",
    "            Passengers[j] = {'gender': 'Femmes', 'group': group_num, 'weight': weight, 'connection_time': total_minutes}\n",
    "            femmes -= 1\n",
    "        elif hommes > 0:\n",
    "            weight = weights['Hommes']\n",
    "            Passengers[j] = {'gender': 'Hommes', 'group': group_num, 'weight': weight, 'connection_time': total_minutes}\n",
    "            hommes -= 1\n",
    "        else:\n",
    "            weight = weights['WCHR']\n",
    "            Passengers[j] = {'gender': 'WCHR', 'group': group_num, 'weight': weight, 'connection_time': total_minutes}\n",
    "            wchr -= 1\n",
    "        j += 1\n",
    "\n",
    "print(Passengers)"
   ]
  },
  {
   "cell_type": "code",
   "execution_count": 5,
   "metadata": {},
   "outputs": [
    {
     "data": {
      "text/plain": [
       "{'gender': 'Femmes', 'group': 1, 'weight': 70, 'connection_time': 0}"
      ]
     },
     "execution_count": 5,
     "metadata": {},
     "output_type": "execute_result"
    }
   ],
   "source": [
    "Passengers[1] # Characteristic of passenger 1 of November 5"
   ]
  },
  {
   "cell_type": "markdown",
   "metadata": {},
   "source": [
    "## Static model"
   ]
  },
  {
   "cell_type": "code",
   "execution_count": 6,
   "metadata": {},
   "outputs": [],
   "source": [
    "ranks = 29 #number of rows in the aircraft\n",
    "n = 90 #number of passengers - TO BE CHANGED\n",
    "ns=7*ranks #number of seats\n",
    "\n",
    "def modele_statique():\n",
    "    m=Model('statique') # Model initialization\n",
    "    \n",
    "    # -- Adding variables  --\n",
    "    # Sij : dict[(int, int) : Var] : Associate passenger i with seat j\n",
    "    S = {(i,j) : m.addVar(vtype = GRB.BINARY, name = f'j{i}') for i in range(1, n+1) for j in range (1, ns+1)}\n",
    "\n",
    "    # -- Adding constraints  --\n",
    "    \n",
    "    # Max. 1 seat per passenger\n",
    "    for j in range (1, ns+1):\n",
    "        m.addConstr(quicksum(S[(i,j)] for i in range (1, n+1)) <=1, name=\"PassengerMax\")\n",
    "\n",
    "    #Each passenger has one and only one seat\n",
    "    for i in range (1, n+1):\n",
    "        m.addConstr(quicksum(S[(i,j)] for j in range (1, ns+1)) == 1, name=\"SeatMax\")\n",
    "        \n",
    "    #The central aisle is left free   \n",
    "    for i in range (1, n+1):\n",
    "        for j in range (1, ns+1):\n",
    "            if j%7==4 : \n",
    "                m.addConstr(S[(i, j)] == 0)\n",
    "                \n",
    "   #Barycenters\n",
    "    x_g = LinExpr()\n",
    "    y_g = LinExpr()\n",
    "\n",
    "    total_weight = quicksum(Passengers[i]['weight'] for i in range(1, n + 1)).getValue()\n",
    "\n",
    "    for i in range(1, n + 1):\n",
    "        for j in range(1, ns + 1):\n",
    "            weight_ij = Passengers[i]['weight'] / total_weight\n",
    "            if (j % 7 == 0):\n",
    "                x_g += (1 * S[i, j] * weight_ij)\n",
    "                y_g += (1 * S[i, j] * weight_ij)\n",
    "            else:\n",
    "                x_g += ((j % 7) * S[i, j] * weight_ij)\n",
    "                y_g += ((j % 21) * S[i, j] * weight_ij)\n",
    "    \n",
    "\n",
    "    m.addConstr(x_g >= 3)  \n",
    "    m.addConstr(x_g <= 5)  \n",
    "    m.addConstr(y_g >= 13)  \n",
    "    m.addConstr(y_g <= 17)\n",
    "\n",
    "    return m, S"
   ]
  },
  {
   "cell_type": "markdown",
   "metadata": {},
   "source": [
    "Fonctions objectifs"
   ]
  },
  {
   "cell_type": "code",
   "execution_count": 7,
   "metadata": {},
   "outputs": [
    {
     "name": "stdout",
     "output_type": "stream",
     "text": [
      "Set parameter Username\n",
      "Academic license - for non-commercial use only - expires 2025-03-01\n"
     ]
    }
   ],
   "source": [
    "m,S=modele_statique()\n",
    "\n",
    "#Les passagers en transit sont placés à l'avant de l'avion\n",
    "\n",
    "def obj_transit():\n",
    "    T= {} \n",
    "    \n",
    "    \n",
    "    for passenger in Passengers:\n",
    "        if Passengers[passenger]['connection_time'] >0:   #passager en transit\n",
    "            T[passenger]=Passengers[passenger]['connection_time']\n",
    "\n",
    "    #T=sorted(T.items(), key=lambda item:item[1], reverse=True)\n",
    "    P=list(T.keys())  #retourne la liste des identifiants des passagers en transit\n",
    "    \n",
    "\n",
    "    f=0\n",
    "    for k in range (len(P)):\n",
    "        for j in range (1, ns+1):\n",
    "            q=(j-1)//7\n",
    "            f+= S[(P[k],j)] * (1/T[P[k]]) * q\n",
    "            \n",
    "\n",
    "    return f\n",
    "\n",
    "#m.setObjective(obj_transit(), GRB.MINIMIZE)"
   ]
  },
  {
   "cell_type": "code",
   "execution_count": 8,
   "metadata": {},
   "outputs": [],
   "source": [
    "def obj_dist(alpha):\n",
    "    \n",
    "    distance = 0\n",
    "\n",
    "    # Calculating distance for each group\n",
    "    for i in range(1, n + 1):\n",
    "        for j in range(i + 1, n + 1):\n",
    "            # Check if passengers are from the same group\n",
    "            if Passengers[i]['group'] == Passengers[j]['group']:  \n",
    "                # Calculating coordinates x and y\n",
    "                \n",
    "                if ( i %7 ==0):\n",
    "                    x_i = 7  \n",
    "                    y_i = (i // 7) + 1\n",
    "                    x_j = 7              \t\n",
    "                    y_j = (j // 7) + 1\n",
    "                else:\n",
    "                    x_i = (i % 7)  \n",
    "                    y_i = (i // 7) + 1\n",
    "                    x_j = (j % 7)  \n",
    "                    y_j = (j // 7) + 1\n",
    "\n",
    "                \n",
    "                # Calculating distance \n",
    "                distance_x = abs(x_i - x_j)**2\n",
    "                distance_y = abs(y_i - y_j)**2\n",
    "                \n",
    "                # Weighting more for distance in x\n",
    "                weighted_distance = alpha * distance_x + (1-alpha)* distance_y\n",
    "                \n",
    "                distance += weighted_distance\n",
    "                \n",
    "    return distance\n",
    "\n",
    "alpha = 0.8\n",
    "m.setObjective(obj_dist(alpha),GRB.MINIMIZE)"
   ]
  },
  {
   "cell_type": "code",
   "execution_count": 9,
   "metadata": {},
   "outputs": [
    {
     "data": {
      "text/plain": [
       "<gurobi.Model MIP instance statique: 2907 constrs, 18270 vars, Parameter changes: Username=(user-defined), OutputFlag=0>"
      ]
     },
     "metadata": {},
     "output_type": "display_data"
    }
   ],
   "source": [
    "# -- Choix d'un paramétrage d'affichage minimaliste --\n",
    "m.params.outputflag = 0 # mode muet\n",
    "\n",
    "# -- Mise à jour du modèle  --\n",
    "m.update() \n",
    "\n",
    "# -- Affichage en mode texte du PL --\n",
    "display(m)"
   ]
  },
  {
   "cell_type": "code",
   "execution_count": 10,
   "metadata": {},
   "outputs": [
    {
     "name": "stdout",
     "output_type": "stream",
     "text": [
      "Les places dans l'avion sont les suivantes : [(1, 203), (2, 162), (3, 114), (4, 33), (5, 14), (6, 97), (7, 190), (8, 82), (9, 202), (10, 10), (11, 100), (12, 121), (13, 61), (14, 145), (15, 40), (16, 125), (17, 113), (18, 12), (19, 1), (20, 143), (21, 142), (22, 157), (23, 51), (24, 181), (25, 139), (26, 54), (27, 156), (28, 198), (29, 50), (30, 79), (31, 31), (32, 19), (33, 188), (34, 52), (35, 17), (36, 185), (37, 120), (38, 163), (39, 73), (40, 13), (41, 7), (42, 164), (43, 41), (44, 176), (45, 134), (46, 58), (47, 42), (48, 16), (49, 146), (50, 9), (51, 71), (52, 141), (53, 64), (54, 197), (55, 183), (56, 155), (57, 166), (58, 8), (59, 135), (60, 20), (61, 92), (62, 72), (63, 122), (64, 78), (65, 115), (66, 104), (67, 187), (68, 201), (69, 99), (70, 136), (71, 38), (72, 57), (73, 29), (74, 80), (75, 15), (76, 103), (77, 124), (78, 37), (79, 83), (80, 93), (81, 178), (82, 62), (83, 184), (84, 36), (85, 76), (86, 22), (87, 101), (88, 94), (89, 167), (90, 59)]\n"
     ]
    }
   ],
   "source": [
    "# -- Résolution --\n",
    "m.optimize()\n",
    "\n",
    "# -- Affichage de la solution --\n",
    "print(\"Les places dans l'avion sont les suivantes :\", [(i,j) for i in range(1,n+1) for j in range (1,ns+1) if S[(i,j)].x])"
   ]
  },
  {
   "cell_type": "markdown",
   "metadata": {},
   "source": [
    "Sample seating arrangement data obtained from the optimization model"
   ]
  },
  {
   "cell_type": "code",
   "execution_count": 11,
   "metadata": {},
   "outputs": [
    {
     "data": {
      "image/png": "[encoded data removed]",
      "text/plain": [
       "<Figure size 1000x600 with 1 Axes>"
      ]
     },
     "metadata": {},
     "output_type": "display_data"
    }
   ],
   "source": [
    "# Get the seats assigned by the Gurobi model\n",
    "assigned_seats = [(i, j) for i in range(1, n + 1) for j in range(1, ns + 1) if S[(i, j)].x]\n",
    "\n",
    "# Plotting the seating arrangement\n",
    "plt.figure(figsize=(10, 6))  # Adjust figure size as needed\n",
    "\n",
    "for seat in assigned_seats:\n",
    "    plt.scatter(seat[1] % 7, seat[1] // 7, color=\"blue\")  # Plot seat position on the aircraft grid\n",
    "\n",
    "plt.title(\"Seating Arrangement\")\n",
    "plt.xlabel(\"Column\")\n",
    "plt.ylabel(\"Row\")\n",
    "plt.grid(True)\n",
    "plt.gca().invert_yaxis()  # Invert y-axis to match the aircraft's seating orientation\n",
    "plt.show()"
   ]
  }
 ],
 "metadata": {
  "kernelspec": {
   "display_name": "base",
   "language": "python",
   "name": "python3"
  },
  "language_info": {
   "codemirror_mode": {
    "name": "ipython",
    "version": 3
   },
   "file_extension": ".py",
   "mimetype": "text/x-python",
   "name": "python",
   "nbconvert_exporter": "python",
   "pygments_lexer": "ipython3",
   "version": "3.11.7"
  }
 },
 "nbformat": 4,
 "nbformat_minor": 2
}
