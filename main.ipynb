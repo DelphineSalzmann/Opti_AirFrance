{
 "cells": [
  {
   "cell_type": "markdown",
   "metadata": {},
   "source": [
    "## Import libraries"
   ]
  },
  {
   "cell_type": "code",
   "execution_count": 1,
   "metadata": {},
   "outputs": [],
   "source": [
    "import numpy as np\n",
    "import pandas as pd\n",
    "import matplotlib.pyplot as plt\n",
    "from gurobipy import *\n",
    "from collections import defaultdict\n",
    "import csv\n",
    "from datetime import datetime\n",
    "import os\n",
    "import random\n",
    "import time\n"
   ]
  },
  {
   "cell_type": "markdown",
   "metadata": {},
   "source": [
    "## Read and preprocess data\n"
   ]
  },
  {
   "cell_type": "code",
   "execution_count": 2,
   "metadata": {},
   "outputs": [
    {
     "name": "stdout",
     "output_type": "stream",
     "text": [
      "{1: (0, 1, 0, 60), 2: (1, 0, 0, 90), 3: (1, 0, 0, 0), 4: (0, 1, 0, 0), 5: (0, 1, 0, 0), 6: (1, 0, 0, 0), 7: (1, 1, 0, 0), 8: (0, 1, 0, 0), 9: (0, 1, 0, 0), 10: (1, 0, 0, 0), 11: (0, 1, 0, 0), 12: (0, 1, 0, 0), 13: (1, 0, 0, 80), 14: (1, 1, 0, 60), 15: (1, 1, 0, 100), 16: (0, 1, 0, 0), 17: (0, 1, 0, 120), 18: (2, 2, 0, 545), 19: (0, 1, 0, 0), 20: (1, 1, 0, 0), 21: (0, 1, 0, 0), 22: (0, 1, 0, 0), 23: (1, 0, 0, 65), 24: (1, 0, 0, 55), 25: (0, 1, 0, 0), 26: (1, 0, 0, 0), 27: (1, 0, 0, 0), 28: (0, 1, 0, 0), 29: (1, 1, 0, 0), 30: (1, 0, 0, 0), 31: (1, 0, 0, 65), 32: (0, 1, 0, 50), 33: (1, 0, 0, 90), 34: (0, 1, 0, 95), 35: (1, 1, 0, 75), 36: (1, 1, 0, 50), 37: (0, 1, 0, 210), 38: (0, 1, 0, 0), 39: (1, 1, 0, 210), 40: (0, 1, 0, 0), 41: (1, 0, 0, 0), 42: (0, 1, 0, 140), 43: (0, 1, 0, 0), 44: (1, 1, 0, 70), 45: (1, 0, 0, 95), 46: (1, 0, 0, 0), 47: (1, 2, 0, 0), 51: (0, 1, 0, 0), 52: (1, 0, 0, 100), 53: (0, 1, 0, 100), 54: (0, 1, 0, 530), 55: (0, 1, 0, 530), 56: (1, 1, 0, 0), 57: (0, 1, 0, 0), 58: (1, 1, 0, 50), 59: (0, 1, 0, 45), 60: (0, 1, 0, 90), 61: (0, 1, 0, 0), 62: (1, 0, 0, 0), 63: (1, 0, 0, 0), 64: (1, 0, 0, 0), 65: (0, 1, 0, 120), 66: (1, 1, 0, 80), 67: (1, 0, 0, 0), 68: (1, 0, 0, 0), 69: (1, 0, 0, 0), 70: (1, 0, 0, 0), 71: (0, 1, 0, 0), 72: (1, 0, 0, 0), 73: (1, 0, 0, 0), 74: (1, 0, 0, 90), 75: (0, 1, 0, 80), 76: (1, 0, 0, 90), 77: (1, 0, 0, 0), 78: (0, 1, 0, 95), 79: (0, 1, 0, 0), 80: (1, 0, 0, 0), 81: (1, 0, 0, 55), 82: (0, 1, 0, 0), 83: (0, 1, 0, 80), 84: (0, 1, 0, 0), 85: (1, 1, 0, 0), 86: (1, 1, 0, 120), 87: (0, 1, 0, 120), 88: (0, 1, 0, 0), 89: (1, 0, 0, 135), 90: (1, 1, 0, 90), 91: (1, 0, 0, 100), 92: (0, 1, 0, 0), 93: (1, 0, 0, 0), 94: (0, 1, 0, 0), 95: (1, 0, 0, 70), 96: (0, 2, 0, 140), 97: (1, 0, 0, 0), 98: (1, 0, 0, 160)}\n"
     ]
    }
   ],
   "source": [
    "def load_data(file_path):\n",
    "    data_dict = dict()\n",
    "\n",
    "    with open(file_path) as file:\n",
    "        reader = csv.DictReader(file)\n",
    "        for row in reader:\n",
    "            if row['Numéro du groupe'] != '':\n",
    "                heures, minutes, _ = map(int, row['TransitTime'].split(':')) \n",
    "                total_minutes = heures * 60 + minutes\n",
    "                data_dict[int(float(row['Numéro du groupe']))] = (\n",
    "                    int(float(row['Femmes'])),\n",
    "                    int(float(row['Hommes'])),\n",
    "                    int(float(row['WCHR'])),\n",
    "                    total_minutes\n",
    "                )\n",
    "\n",
    "    return data_dict\n",
    "\n",
    "# Load data for each file\n",
    "\n",
    "file_names = [\"DataSeating 2024.csv\",\"22Oct.csv\",\"23Oct.csv\",\"24Oct.csv\",\"30Oct.csv\", \"5Nov.csv\", \"7Nov.csv\"]\n",
    "data_directory = 'data'\n",
    "# for eachy dictionary : dict[Numéro du groupe : (Femmes, Hommes, WCHR, TransitTime)]\n",
    "Oct21, Oct22,Oct23, Oct24, Oct30, Nov5, Nov7= [load_data(os.path.join(data_directory, file)) for file in file_names]\n",
    "print (Oct22)"
   ]
  },
  {
   "cell_type": "markdown",
   "metadata": {},
   "source": [
    "Transforming data to access each passenger's Id\n"
   ]
  },
  {
   "cell_type": "code",
   "execution_count": 3,
   "metadata": {},
   "outputs": [
    {
     "name": "stdout",
     "output_type": "stream",
     "text": [
      "{1: {'gender': 'Femmes', 'group': 1, 'weight': 70, 'connection_time': 0}, 2: {'gender': 'Hommes', 'group': 1, 'weight': 85, 'connection_time': 0}, 3: {'gender': 'Hommes', 'group': 1, 'weight': 85, 'connection_time': 0}, 4: {'gender': 'Hommes', 'group': 2, 'weight': 85, 'connection_time': 60}, 5: {'gender': 'Femmes', 'group': 3, 'weight': 70, 'connection_time': 165}, 6: {'gender': 'Hommes', 'group': 3, 'weight': 85, 'connection_time': 165}, 7: {'gender': 'Femmes', 'group': 4, 'weight': 70, 'connection_time': 0}, 8: {'gender': 'Hommes', 'group': 4, 'weight': 85, 'connection_time': 0}, 9: {'gender': 'WCHR', 'group': 4, 'weight': 100, 'connection_time': 0}, 10: {'gender': 'Femmes', 'group': 5, 'weight': 70, 'connection_time': 0}, 11: {'gender': 'Femmes', 'group': 5, 'weight': 70, 'connection_time': 0}, 12: {'gender': 'Femmes', 'group': 5, 'weight': 70, 'connection_time': 0}, 13: {'gender': 'Femmes', 'group': 6, 'weight': 70, 'connection_time': 0}, 14: {'gender': 'Hommes', 'group': 6, 'weight': 85, 'connection_time': 0}, 15: {'gender': 'Femmes', 'group': 7, 'weight': 70, 'connection_time': 85}, 16: {'gender': 'Hommes', 'group': 7, 'weight': 85, 'connection_time': 85}, 17: {'gender': 'Hommes', 'group': 8, 'weight': 85, 'connection_time': 0}, 18: {'gender': 'Femmes', 'group': 9, 'weight': 70, 'connection_time': 60}, 19: {'gender': 'Femmes', 'group': 9, 'weight': 70, 'connection_time': 60}, 20: {'gender': 'Hommes', 'group': 9, 'weight': 85, 'connection_time': 60}, 21: {'gender': 'Hommes', 'group': 9, 'weight': 85, 'connection_time': 60}, 22: {'gender': 'Femmes', 'group': 10, 'weight': 70, 'connection_time': 0}, 23: {'gender': 'Femmes', 'group': 11, 'weight': 70, 'connection_time': 0}, 24: {'gender': 'Hommes', 'group': 12, 'weight': 85, 'connection_time': 0}, 25: {'gender': 'Hommes', 'group': 12, 'weight': 85, 'connection_time': 0}, 26: {'gender': 'Hommes', 'group': 13, 'weight': 85, 'connection_time': 0}, 27: {'gender': 'Hommes', 'group': 14, 'weight': 85, 'connection_time': 0}, 28: {'gender': 'Hommes', 'group': 14, 'weight': 85, 'connection_time': 0}, 29: {'gender': 'Hommes', 'group': 14, 'weight': 85, 'connection_time': 0}, 30: {'gender': 'Femmes', 'group': 15, 'weight': 70, 'connection_time': 0}, 31: {'gender': 'Femmes', 'group': 15, 'weight': 70, 'connection_time': 0}, 32: {'gender': 'Femmes', 'group': 16, 'weight': 70, 'connection_time': 60}, 33: {'gender': 'Femmes', 'group': 17, 'weight': 70, 'connection_time': 0}, 34: {'gender': 'Femmes', 'group': 18, 'weight': 70, 'connection_time': 0}, 35: {'gender': 'Hommes', 'group': 18, 'weight': 85, 'connection_time': 0}, 36: {'gender': 'Hommes', 'group': 19, 'weight': 85, 'connection_time': 0}, 37: {'gender': 'Femmes', 'group': 20, 'weight': 70, 'connection_time': 0}, 38: {'gender': 'Hommes', 'group': 20, 'weight': 85, 'connection_time': 0}, 39: {'gender': 'Hommes', 'group': 21, 'weight': 85, 'connection_time': 0}, 40: {'gender': 'Hommes', 'group': 22, 'weight': 85, 'connection_time': 0}, 41: {'gender': 'Femmes', 'group': 23, 'weight': 70, 'connection_time': 0}, 42: {'gender': 'Femmes', 'group': 23, 'weight': 70, 'connection_time': 0}, 43: {'gender': 'Hommes', 'group': 23, 'weight': 85, 'connection_time': 0}, 44: {'gender': 'Femmes', 'group': 24, 'weight': 70, 'connection_time': 0}, 45: {'gender': 'Hommes', 'group': 24, 'weight': 85, 'connection_time': 0}, 46: {'gender': 'Femmes', 'group': 26, 'weight': 70, 'connection_time': 0}, 47: {'gender': 'Femmes', 'group': 26, 'weight': 70, 'connection_time': 0}, 48: {'gender': 'Hommes', 'group': 27, 'weight': 85, 'connection_time': 0}, 49: {'gender': 'Hommes', 'group': 28, 'weight': 85, 'connection_time': 0}, 50: {'gender': 'Hommes', 'group': 29, 'weight': 85, 'connection_time': 85}, 51: {'gender': 'Femmes', 'group': 30, 'weight': 70, 'connection_time': 85}, 52: {'gender': 'Hommes', 'group': 30, 'weight': 85, 'connection_time': 85}, 53: {'gender': 'Femmes', 'group': 31, 'weight': 70, 'connection_time': 0}, 54: {'gender': 'Femmes', 'group': 31, 'weight': 70, 'connection_time': 0}, 55: {'gender': 'Hommes', 'group': 31, 'weight': 85, 'connection_time': 0}, 56: {'gender': 'Hommes', 'group': 31, 'weight': 85, 'connection_time': 0}, 57: {'gender': 'Hommes', 'group': 32, 'weight': 85, 'connection_time': 0}, 58: {'gender': 'Hommes', 'group': 32, 'weight': 85, 'connection_time': 0}, 59: {'gender': 'Hommes', 'group': 32, 'weight': 85, 'connection_time': 0}, 60: {'gender': 'Hommes', 'group': 32, 'weight': 85, 'connection_time': 0}, 61: {'gender': 'Hommes', 'group': 32, 'weight': 85, 'connection_time': 0}, 62: {'gender': 'Hommes', 'group': 33, 'weight': 85, 'connection_time': 0}, 63: {'gender': 'Hommes', 'group': 33, 'weight': 85, 'connection_time': 0}, 64: {'gender': 'Hommes', 'group': 33, 'weight': 85, 'connection_time': 0}, 65: {'gender': 'Hommes', 'group': 33, 'weight': 85, 'connection_time': 0}, 66: {'gender': 'Femmes', 'group': 34, 'weight': 70, 'connection_time': 85}, 67: {'gender': 'Hommes', 'group': 34, 'weight': 85, 'connection_time': 85}, 68: {'gender': 'Femmes', 'group': 35, 'weight': 70, 'connection_time': 0}, 69: {'gender': 'Hommes', 'group': 35, 'weight': 85, 'connection_time': 0}, 70: {'gender': 'Femmes', 'group': 36, 'weight': 70, 'connection_time': 60}, 71: {'gender': 'Femmes', 'group': 36, 'weight': 70, 'connection_time': 60}, 72: {'gender': 'Hommes', 'group': 37, 'weight': 85, 'connection_time': 0}, 73: {'gender': 'Hommes', 'group': 38, 'weight': 85, 'connection_time': 0}, 74: {'gender': 'Femmes', 'group': 39, 'weight': 70, 'connection_time': 0}, 75: {'gender': 'WCHR', 'group': 39, 'weight': 100, 'connection_time': 0}, 76: {'gender': 'Femmes', 'group': 40, 'weight': 70, 'connection_time': 0}, 77: {'gender': 'WCHR', 'group': 40, 'weight': 100, 'connection_time': 0}, 78: {'gender': 'Hommes', 'group': 41, 'weight': 85, 'connection_time': 0}, 79: {'gender': 'Hommes', 'group': 42, 'weight': 85, 'connection_time': 165}, 80: {'gender': 'Femmes', 'group': 43, 'weight': 70, 'connection_time': 0}, 81: {'gender': 'Femmes', 'group': 43, 'weight': 70, 'connection_time': 0}, 82: {'gender': 'Femmes', 'group': 43, 'weight': 70, 'connection_time': 0}, 83: {'gender': 'Femmes', 'group': 43, 'weight': 70, 'connection_time': 0}, 84: {'gender': 'Femmes', 'group': 43, 'weight': 70, 'connection_time': 0}, 85: {'gender': 'Femmes', 'group': 44, 'weight': 70, 'connection_time': 85}, 86: {'gender': 'Femmes', 'group': 44, 'weight': 70, 'connection_time': 85}, 87: {'gender': 'Hommes', 'group': 45, 'weight': 85, 'connection_time': 85}, 88: {'gender': 'Femmes', 'group': 46, 'weight': 70, 'connection_time': 0}, 89: {'gender': 'Hommes', 'group': 46, 'weight': 85, 'connection_time': 0}, 90: {'gender': 'Hommes', 'group': 46, 'weight': 85, 'connection_time': 0}, 91: {'gender': 'Femmes', 'group': 47, 'weight': 70, 'connection_time': 0}, 92: {'gender': 'Femmes', 'group': 48, 'weight': 70, 'connection_time': 0}, 93: {'gender': 'WCHR', 'group': 49, 'weight': 100, 'connection_time': 0}, 94: {'gender': 'Femmes', 'group': 50, 'weight': 70, 'connection_time': 0}, 95: {'gender': 'Hommes', 'group': 51, 'weight': 85, 'connection_time': 0}, 96: {'gender': 'Femmes', 'group': 52, 'weight': 70, 'connection_time': 0}, 97: {'gender': 'Femmes', 'group': 53, 'weight': 70, 'connection_time': 0}}\n"
     ]
    }
   ],
   "source": [
    "def create_passengers_dict(data):\n",
    "    passengers_dict = {}\n",
    "    j = 1\n",
    "\n",
    "    for group_num, group_data in data.items():\n",
    "        weights = {'Femmes': 70, 'Hommes': 85, 'WCHR': 100}  # Weight per passenger\n",
    "\n",
    "        # Extracting data\n",
    "        femmes, hommes, wchr, total_minutes = group_data\n",
    "\n",
    "        # Enumerating passengers\n",
    "        for _ in range(femmes + hommes + wchr):\n",
    "            if femmes > 0:\n",
    "                weight = weights['Femmes']\n",
    "                passengers_dict[j] = {'gender': 'Femmes', 'group': group_num, 'weight': weight,\n",
    "                                      'connection_time': total_minutes}\n",
    "                femmes -= 1\n",
    "            elif hommes > 0:\n",
    "                weight = weights['Hommes']\n",
    "                passengers_dict[j] = {'gender': 'Hommes', 'group': group_num, 'weight': weight,\n",
    "                                      'connection_time': total_minutes}\n",
    "                hommes -= 1\n",
    "            else:\n",
    "                weight = weights['WCHR']\n",
    "                passengers_dict[j] = {'gender': 'WCHR', 'group': group_num, 'weight': weight,\n",
    "                                      'connection_time': total_minutes}\n",
    "                wchr -= 1\n",
    "            j += 1\n",
    "\n",
    "    return passengers_dict\n",
    "\n",
    "Passengers_Oct21 = create_passengers_dict(Oct21)\n",
    "Passengers_Oct22 = create_passengers_dict(Oct22)\n",
    "Passengers_Oct23 = create_passengers_dict(Oct23)\n",
    "Passengers_Oct24 = create_passengers_dict(Oct24)\n",
    "Passengers_Oct30 = create_passengers_dict(Oct30)\n",
    "Passengers_Nov5 = create_passengers_dict(Nov5)\n",
    "Passengers_Nov7 = create_passengers_dict(Nov7)\n",
    "\n",
    "# Example usage for Nov5\n",
    "print(Passengers_Nov5)"
   ]
  },
  {
   "cell_type": "markdown",
   "metadata": {},
   "source": [
    "# Static model"
   ]
  },
  {
   "cell_type": "code",
   "execution_count": 4,
   "metadata": {},
   "outputs": [],
   "source": [
    "# Function to create optimization model and variables\n",
    "\n",
    "ranks = 29  # number of rows in the aircraft\n",
    "ns = 7 * ranks  # number of seats\n",
    "\n",
    "def create_model_and_variables(passengers_dict):\n",
    "    n = len(passengers_dict)  # number of passengers\n",
    "\n",
    "    m = Model('statique')  # Model initialization\n",
    "\n",
    "    # Adding variables\n",
    "    S = {(i, j): m.addVar(vtype=GRB.BINARY, name=f'j{i}') for i in range(1, n + 1) for j in range(1, ns + 1)}\n",
    "\n",
    "    # Adding constraints\n",
    "    # Max. 1 seat per passenger\n",
    "    for j in range(1, ns + 1):\n",
    "        m.addConstr(sum(S[(i, j)] for i in range(1, n + 1)) <= 1, name=\"PassengerMax\")\n",
    "\n",
    "    # Each passenger has one and only one seat\n",
    "    for i in range(1, n + 1):\n",
    "        m.addConstr(sum(S[(i, j)] for j in range(1, ns + 1)) == 1, name=\"SeatMax\")\n",
    "\n",
    "    # The central aisle is left free\n",
    "    for i in range(1, n + 1):\n",
    "        for j in range(1, ns + 1):\n",
    "            if j % 7 == 4:\n",
    "                m.addConstr(S[(i, j)] == 0)\n",
    "\n",
    "    # Baricenter\n",
    "    x_g = LinExpr()\n",
    "    y_g = LinExpr()\n",
    "\n",
    "    total_weight = quicksum(passengers_dict[i]['weight'] for i in range(1, n + 1)).getValue()\n",
    "\n",
    "    for i in range(1, n + 1):\n",
    "        j_k = 1\n",
    "\n",
    "        for j in range(1, ns + 1):\n",
    "            weight_ij = passengers_dict[i]['weight'] / total_weight\n",
    "\n",
    "            if j % 7 == 0:\n",
    "                x_g += (7 * S[i, j] * weight_ij)\n",
    "                y_g += (j_k * S[i, j] * weight_ij)\n",
    "                j_k += 1\n",
    "            else:\n",
    "                x_g += ((j % 7) * S[i, j] * weight_ij)\n",
    "                y_g += (((j // 7) + 1) * S[i, j] * weight_ij)\n",
    "\n",
    "    m.addConstr(x_g >= 3)\n",
    "    m.addConstr(x_g <= 5)\n",
    "    m.addConstr(y_g >= 13)\n",
    "    m.addConstr(y_g <= 17)\n",
    "\n",
    "    # Disabled passengers occupy 4 spaces on the central aisle\n",
    "    for passenger in passengers_dict:\n",
    "        if passengers_dict[passenger]['gender']=='WCHR':\n",
    "            #Seats are shortened by row (from 7 to 7)\n",
    "            for j in range(1, ns+1-8, 7):             \n",
    "            \n",
    "                x1, x2, x3, x4, x5, x6, x7 = j,j+1,j+2,j+3,j+4,j+5,j+6\n",
    "                \n",
    "                #A seat is fixed in rows 3 or 5.\n",
    "                m.addConstr(S[(passenger, x1)] + S[(passenger, x3)] +  S[(passenger, x5)] + S[(passenger, x7)] ==0 )   \n",
    "                \n",
    "                #The seat overlooking the alley is closed off\n",
    "                m.addConstr(S[(passenger, x6)]+sum(S[(i, x6-1)] for i in passengers_dict) <= 1) \n",
    "                #We close the 2 seats behind\n",
    "                m.addConstr(S[(passenger, x6)]+sum(S[(i, x6+7)] for i in passengers_dict) <= 1) \n",
    "                m.addConstr(S[(passenger, x6)]+sum(S[(i, x6+6)] for i in passengers_dict) <= 1)\n",
    "                #The seat overlooking the alley is closed off\n",
    "                m.addConstr(S[(passenger, x2)]+sum(S[(i, x2+1)] for i in passengers_dict) <= 1) \n",
    "                #We close the 2 seats behind\n",
    "                m.addConstr(S[(passenger, x2)]+sum(S[(i, x2+7)] for i in passengers_dict) <= 1) \n",
    "                m.addConstr(S[(passenger, x2)]+sum(S[(i, x2+8)] for i in passengers_dict) <= 1)\n",
    "            #Disabled passengers cannot be in the last row   \n",
    "            m.addConstr(sum(S[(passenger, k)] for k in range (ns-6, ns+1)) == 0)  \n",
    "\n",
    "    return m, S"
   ]
  },
  {
   "cell_type": "code",
   "execution_count": 5,
   "metadata": {},
   "outputs": [],
   "source": [
    "#Choice of the dictionnary\n",
    "date=Oct21\n",
    "Passengers=create_passengers_dict(date)\n",
    "n=len(Passengers)"
   ]
  },
  {
   "cell_type": "code",
   "execution_count": 6,
   "metadata": {},
   "outputs": [
    {
     "name": "stdout",
     "output_type": "stream",
     "text": [
      "Set parameter Username\n",
      "Academic license - for non-commercial use only - expires 2025-02-04\n"
     ]
    }
   ],
   "source": [
    "# Create models and variables for each date\n",
    "\n",
    "m, S = create_model_and_variables(Passengers)\n"
   ]
  },
  {
   "cell_type": "markdown",
   "metadata": {},
   "source": [
    "Objective functions"
   ]
  },
  {
   "cell_type": "code",
   "execution_count": 7,
   "metadata": {},
   "outputs": [],
   "source": [
    "# Transit passengers are seated at the front of the aircraft\n",
    "def obj_transit(S, passengers_dict):\n",
    "    T = {}\n",
    "\n",
    "    for passenger in passengers_dict:\n",
    "        if passengers_dict[passenger]['connection_time'] > 0:  # transit passenger\n",
    "            T[passenger] = passengers_dict[passenger]['connection_time']\n",
    "\n",
    "    P = list(T.keys())  # returns a list of transit passenger identifiers\n",
    "\n",
    "    f = 0\n",
    "    for k in range(len(P)):\n",
    "        for j in range(1, ns + 1):\n",
    "            q = (j - 1) // 7\n",
    "            f += S[(P[k], j)] * (1 / T[P[k]]) * q\n",
    "\n",
    "    return f\n"
   ]
  },
  {
   "cell_type": "code",
   "execution_count": 8,
   "metadata": {},
   "outputs": [
    {
     "name": "stdout",
     "output_type": "stream",
     "text": [
      "[(1, 1), (5, 8)]\n"
     ]
    }
   ],
   "source": [
    "def seat_coordinates(seats):  #seats is a list\n",
    "    coordinates = []\n",
    "    for j in range(len(seats)):\n",
    "        if (seats[j] % 7 == 0):\n",
    "            x = 7\n",
    "            y = (seats[j] // 7) \n",
    "        else:\n",
    "            x = seats[j] % 7\n",
    "            y = (seats[j] // 7) +1 \n",
    "        coordinates.append((x, y))\n",
    "    return coordinates\n",
    "\n",
    "print (seat_coordinates([1, 54]))"
   ]
  },
  {
   "cell_type": "code",
   "execution_count": 9,
   "metadata": {},
   "outputs": [],
   "source": [
    "alpha=0.3\n",
    "\n",
    "def obj_dist(Passengers, alpha, S):\n",
    "\n",
    "    obj = LinExpr()\n",
    "    X={}\n",
    "    Y={}\n",
    "    coord = seat_coordinates([j for j in range(1, ns+1)])\n",
    "    for i in range(1, n + 1):\n",
    "        X[i]=m.addVar(vtype=GRB.INTEGER)\n",
    "        Y[i]=m.addVar(vtype=GRB.INTEGER)\n",
    "\n",
    "        for k in range(i + 1, n + 1):  \n",
    "            if  i!=k and Passengers[i]['group'] == Passengers[k]['group']:  #Si passager i et passager k sont dans le même groupe\n",
    "\n",
    "                xi, yi = 0, 0\n",
    "                xk, yk = 0, 0\n",
    "\n",
    "                for j in range (len(coord)):                                      #On parcourt les sièges\n",
    "                    xi, yi = xi + S[(i,j+1)]*coord[j][0], yi + S[(i,j+1)]*coord[j][1]\n",
    "                    xk, yk =  xk + S[(k,j+1)]*coord[j][0], yk + S[(k,j+1)]*coord[j][1]\n",
    "                \n",
    "                m.addConstr(X[i]>=xi - xk)\n",
    "                m.addConstr(X[i]>= -xi + xk)\n",
    "                m.addConstr(Y[i]>=yi - yk)\n",
    "                m.addConstr(Y[i]>= -yi + yk)\n",
    "                dist_x = X[i] \n",
    "                dist_y = Y[i]\n",
    "                obj += alpha*dist_x + (1-alpha)*dist_y  \n",
    "                \n",
    "    return obj\n",
    "\n"
   ]
  },
  {
   "cell_type": "code",
   "execution_count": 10,
   "metadata": {},
   "outputs": [],
   "source": [
    "\n",
    "m.setObjective(obj_transit(S, Passengers) + obj_dist(Passengers, alpha, S) , GRB.MINIMIZE)"
   ]
  },
  {
   "cell_type": "code",
   "execution_count": 11,
   "metadata": {},
   "outputs": [
    {
     "data": {
      "text/plain": [
       "<gurobi.Model MIP instance statique: 4925 constrs, 30955 vars, Parameter changes: Username=(user-defined), OutputFlag=0>"
      ]
     },
     "metadata": {},
     "output_type": "display_data"
    }
   ],
   "source": [
    "# Choice of minimalist display settings\n",
    "m.params.outputflag = 0 # mute mode\n",
    "m.update() # Model update\n",
    "display(m) # Text mode display of PL\n"
   ]
  },
  {
   "cell_type": "code",
   "execution_count": 12,
   "metadata": {},
   "outputs": [
    {
     "name": "stdout",
     "output_type": "stream",
     "text": [
      "\n",
      "Seats on the plane are as follows: [(1, 31), (2, 126), (3, 188), (4, 162), (5, 83), (6, 84), (7, 202), (8, 79), (9, 34), (10, 33), (11, 80), (12, 136), (13, 97), (14, 96), (15, 24), (16, 148), (17, 168), (18, 167), (19, 98), (20, 47), (21, 1), (22, 2), (23, 70), (24, 180), (25, 178), (26, 182), (27, 181), (28, 17), (29, 19), (30, 16), (31, 15), (32, 113), (33, 114), (34, 20), (35, 6), (36, 5), (37, 170), (38, 171), (39, 40), (40, 197), (41, 149), (42, 150), (43, 87), (44, 94), (45, 78), (46, 44), (47, 45), (48, 169), (49, 103), (50, 49), (51, 48), (52, 27), (53, 26), (54, 122), (55, 72), (56, 85), (57, 110), (58, 111), (59, 3), (60, 187), (61, 112), (62, 120), (63, 199), (64, 128), (65, 127), (66, 38), (67, 35), (68, 22), (69, 203), (70, 164), (71, 196), (72, 195), (73, 7), (74, 10), (75, 152), (76, 175), (77, 174), (78, 141), (79, 142), (80, 50), (81, 51), (82, 184), (83, 30), (84, 29), (85, 57), (86, 153), (87, 154), (88, 124), (89, 69), (90, 68), (91, 76), (92, 118), (93, 119), (94, 117), (95, 82), (96, 191), (97, 177), (98, 176), (99, 173), (100, 108), (101, 64), (102, 65), (103, 189), (104, 91), (105, 23), (106, 43), (107, 56), (108, 9), (109, 8), (110, 89), (111, 125), (112, 58), (113, 71), (114, 62), (115, 59), (116, 63), (117, 61), (118, 28), (119, 12), (120, 13), (121, 183), (122, 66), (123, 140), (124, 14), (125, 135), (126, 134), (127, 190), (128, 198), (129, 36), (130, 37), (131, 73), (132, 105), (133, 133), (134, 86), (135, 121), (136, 194), (137, 52), (138, 41), (139, 42), (140, 106), (141, 107), (142, 75), (143, 77), (144, 90), (145, 100), (146, 99), (147, 93), (148, 92), (149, 55), (150, 54), (151, 21)]\n"
     ]
    }
   ],
   "source": [
    "#Resolution\n",
    "m.Params.timeLimit = 120\n",
    "m.optimize()\n",
    "# Solution display \n",
    "print()\n",
    "print(\"Seats on the plane are as follows:\", [(i, j) for i in range(1, len(Passengers) + 1) for j in range(1, ns + 1) if S[(i, j)].x])\n",
    "\n"
   ]
  },
  {
   "cell_type": "markdown",
   "metadata": {},
   "source": [
    "Creation of a control dictionnary (dictionnaire témoin) of the results of the dynamic model. It will simplify our code for the dynamic model."
   ]
  },
  {
   "cell_type": "code",
   "execution_count": 13,
   "metadata": {},
   "outputs": [],
   "source": [
    "def valeurs_var(S) :\n",
    "    val = {}\n",
    "    for i in Passengers :\n",
    "        for j in range(1,ns+1) :\n",
    "            if S[(i,j)].x :\n",
    "                val[(i,j)] = 1\n",
    "            else :\n",
    "                val[(i,j)] = 0\n",
    "    return(val)"
   ]
  },
  {
   "cell_type": "code",
   "execution_count": 14,
   "metadata": {},
   "outputs": [],
   "source": [
    "temoin_S = valeurs_var(S)"
   ]
  },
  {
   "cell_type": "markdown",
   "metadata": {},
   "source": [
    "Visualization of the seats"
   ]
  },
  {
   "cell_type": "code",
   "execution_count": 15,
   "metadata": {},
   "outputs": [
    {
     "data": {
      "image/png": "[encoded data removed]",
      "text/plain": [
       "<Figure size 1000x1000 with 1 Axes>"
      ]
     },
     "metadata": {},
     "output_type": "display_data"
    }
   ],
   "source": [
    "# Creating a variable called seats containing only the j coordinates\n",
    "seats = [j for i in range(1, n + 1) for j in range(1, ns + 1) if S[(i, j)].x]\n",
    "seat_coords = seat_coordinates(seats)\n",
    "\n",
    "\n",
    "# Display the Baricenter\n",
    "\n",
    "def calculate_center_of_mass(seat_coords, Passengers):\n",
    "    x_g = LinExpr()\n",
    "    y_g = LinExpr()\n",
    "    total_weight = quicksum(Passengers[i]['weight'] for i in range(1, n + 1)).getValue()\n",
    "\n",
    "    for i in range(1, n + 1):\n",
    "        j_k = 1\n",
    "\n",
    "        for j in range(1, ns + 1):\n",
    "            weight_ij = Passengers[i]['weight'] / total_weight\n",
    "\n",
    "            if (j % 7 == 0):\n",
    "                x_g += (7 * S[i, j] * weight_ij)\n",
    "                y_g += (j_k * S[i, j] * weight_ij)\n",
    "                j_k += 1\n",
    "            else:\n",
    "                x_g += ((j % 7) * S[i, j] * weight_ij)\n",
    "                y_g += (((j // 7) + 1) * S[i, j] * weight_ij)\n",
    "\n",
    "    return x_g, y_g\n",
    "\n",
    "\n",
    "x_g, y_g = calculate_center_of_mass(seat_coords, Passengers)\n",
    "\n",
    "\n",
    "\n",
    "# Dictionary to count the frequency of each group\n",
    "group_counts = defaultdict(int)\n",
    "\n",
    "# Counting the frequency of each group\n",
    "for passenger in Passengers.values():\n",
    "    group_counts[passenger['group']] += 1\n",
    "# Sort the groups by the number of passengers in each group in descending order\n",
    "sorted_groups = sorted(group_counts.items(), key=lambda x: x[1], reverse=True)\n",
    "\n",
    "# Print the groups in ascending order with the number of passengers in each group\n",
    "#print(\"Groups in ascending order with the number of passengers in each group:\")\n",
    "#for group, count in sorted_groups:\n",
    "#    print(f\"Group {group}: {count} passengers\")\n",
    "\n",
    "# Define shapes for each gender\n",
    "shapes = {\n",
    "    'Femmes': 'o',   # Circule\n",
    "    'Hommes': 's',   # Square\n",
    "    'WCHR': '^'      # Triangule\n",
    "}\n",
    "\n",
    "# Define colors for the groups with 3 passangers\n",
    "colors = {\n",
    "    11: 'red',\n",
    "    5: 'green',\n",
    "    67: 'blue',\n",
    "    24: 'orange',\n",
    "    17: 'purple',\n",
    "    46: 'gray',\n",
    "    3: 'yellow',\n",
    "    59: 'cyan',\n",
    "    23: 'peru',\n",
    "    76:'palegreen',\n",
    "    52: 'pink',\n",
    "    19:'deeppink',\n",
    "    36:'skyblue'\n",
    "}\n",
    "\n",
    "plt.figure(figsize=(10, 10))\n",
    "for idx, coord in enumerate(seat_coords):\n",
    "    group = Passengers[idx + 1]['group']\n",
    "    gender = Passengers[idx + 1]['gender']\n",
    "    color = colors.get(group, 'black')  # Get color for the group, default to black if not in colors dictionary\n",
    "    shape = shapes.get(gender, 'o')      # Get shape for the gender, default to circle if not in shapes dictionary\n",
    "    plt.scatter(coord[0], coord[1], color=color, marker=shape,  s=100)  # Use marker parameter to set the shape\n",
    "    \n",
    "# Add labels for each gender\n",
    "for gender, shape in shapes.items():\n",
    "    plt.scatter([], [], color='black', marker=shape, label=gender)  # Create invisible scatter plot to add label\n",
    "\n",
    "# Plotting the center of mass\n",
    "plt.scatter(x_g.getValue(), y_g.getValue(), color='red', marker='o', s=150, label='Center of mass')  # Larger red point for center of mass\n",
    "\n",
    "plt.xlabel('Col')\n",
    "plt.ylabel('Row')\n",
    "plt.title('Siege')\n",
    "plt.grid(True)\n",
    "plt.gca().invert_yaxis()\n",
    "plt.legend()  # Show legend with gender labels\n",
    "plt.show()"
   ]
  },
  {
   "cell_type": "markdown",
   "metadata": {},
   "source": [
    "Evaluation de la satisfaction client"
   ]
  },
  {
   "cell_type": "markdown",
   "metadata": {},
   "source": [
    "Première métrique qui évalue la satisfaction des passagers pris un par un.\n",
    "Donc même si le groupe n'est pas bien groupé, si le passager est assis à côté d'au moins un des membres de son groupe, il est satisfait."
   ]
  },
  {
   "cell_type": "code",
   "execution_count": 16,
   "metadata": {},
   "outputs": [
    {
     "name": "stdout",
     "output_type": "stream",
     "text": [
      "{1: 0, 2: 0, 3: 0, 4: 0, 5: 1, 6: 1, 7: 1, 8: 1, 9: 1, 10: 1, 11: 1, 12: 1, 13: 1, 14: 1, 15: 1, 16: 1, 17: 1, 18: 1, 19: 1, 20: 1, 21: 1, 22: 1, 23: 1, 24: 1, 25: 1, 26: 1, 27: 1, 28: 1, 29: 1, 30: 1, 31: 1, 32: 1, 33: 1, 34: 1, 35: 1, 36: 1, 37: 1, 38: 1, 39: 1, 40: 1, 41: 1, 42: 1, 43: 1, 44: 1, 45: 1, 46: 1, 47: 1, 48: 1, 49: 1, 50: 1, 51: 1, 52: 1, 53: 1, 54: 1, 55: 1, 56: 1, 57: 1, 58: 1, 59: 1, 60: 1, 61: 1, 62: 1, 63: 1, 64: 1, 65: 1, 66: 1, 67: 1, 68: 1, 69: 1, 70: 1, 71: 1, 72: 1, 73: 1, 74: 1, 75: 1, 76: 1, 77: 1, 78: 1, 79: 1, 80: 1, 81: 1, 82: 1, 83: 1, 84: 1, 85: 1, 86: 1, 87: 1, 88: 1, 89: 1, 90: 1, 91: 1, 92: 1, 93: 1, 94: 1, 95: 1, 96: 1, 97: 1, 98: 1, 99: 1, 100: 1, 101: 1, 102: 1, 103: 1, 104: 1, 105: 1, 106: 1, 107: 1, 108: 1, 109: 1, 110: 1, 111: 1, 112: 1, 113: 1, 114: 1, 115: 1, 116: 1, 117: 1, 118: 1, 119: 1, 120: 1, 121: 1, 122: 1, 123: 1, 124: 1, 125: 1, 126: 1, 127: 1, 128: 1, 129: 1, 130: 1, 131: 1, 132: 1, 133: 1, 134: 1, 135: 1, 136: 1, 137: 1, 138: 1, 139: 1, 140: 1, 141: 1, 142: 1, 143: 1, 144: 1, 145: 1, 146: 1, 147: 1, 148: 1, 149: 1, 150: 1, 151: 1}\n",
      "{1: 1, 2: 1, 3: 1, 4: 1, 5: 1, 6: 1, 7: 1, 8: 1, 9: 1, 10: 1, 11: 1, 12: 1, 13: 1, 14: 1, 15: 1, 16: 1, 17: 1, 18: 1, 19: 1, 20: 1, 21: 1, 22: 1, 23: 1, 24: 1, 25: 1, 26: 1, 27: 1, 28: 1, 29: 1, 30: 1, 31: 1, 32: 1, 33: 1, 34: 1, 35: 1, 36: 1, 37: 1, 38: 1, 39: 0.5, 40: 1, 41: 1, 42: 1, 43: 1, 44: 1, 45: 1, 46: 1, 47: 1, 48: 1, 49: 1, 50: 0.5, 51: 0.5, 52: 1, 53: 1, 54: 1, 55: 1, 56: 1, 57: 1, 58: 1, 59: 1, 60: 1, 61: 1, 62: 1, 63: 1, 64: 1, 65: 1, 66: 0.5, 67: 1, 68: 1, 69: 1, 70: 1, 71: 1, 72: 1, 73: 1, 74: 1, 75: 1, 76: 1, 77: 1, 78: 1, 79: 1, 80: 1, 81: 1, 82: 1, 83: 1, 84: 1, 85: 1, 86: 1, 87: 1, 88: 1, 89: 1, 90: 1, 91: 1, 92: 1, 93: 1, 94: 1, 95: 1, 96: 1, 97: 1, 98: 1, 99: 1, 100: 1, 101: 1, 102: 1, 103: 1, 104: 1, 105: 1, 106: 1, 107: 1, 108: 1, 109: 1, 110: 1, 111: 1, 112: 1, 113: 1, 114: 1, 115: 1, 116: 1, 117: 1, 118: 1, 119: 1, 120: 1, 121: 1, 122: 1, 123: 1, 124: 1, 125: 1, 126: 1, 127: 1, 128: 1, 129: 0.5, 130: 0.5, 131: 1, 132: 1, 133: 1, 134: 1, 135: 1, 136: 1, 137: 1, 138: 0.5, 139: 0.5, 140: 1, 141: 1, 142: 1, 143: 1, 144: 1, 145: 1, 146: 1, 147: 1, 148: 1, 149: 1, 150: 1, 151: 1}\n",
      "La satisfaction moyenne des clients est de  97.35099337748345 %\n"
     ]
    }
   ],
   "source": [
    "#Première métrique de la satisfaction client (chaque passager pris individuellement)\n",
    "def metrique_groupe_passager():\n",
    "    sat={}\n",
    "    s=0\n",
    "    for i in Passengers:\n",
    "        sat[i]=0\n",
    "        for k in Passengers :\n",
    "            if k !=i and Passengers[i]['group'] == Passengers[k]['group']:\n",
    "                for j in range (1, ns+1):\n",
    "                    if S[(i,j)].x:\n",
    "                        xi, yi = seat_coordinates([j])[0]\n",
    "                    if S[(k,j)].x:\n",
    "                        xk, yk = seat_coordinates([j])[0]\n",
    "                if yi == yk and min([xi, xk]) == max([xi, xk])-1:\n",
    "                    s = 1\n",
    "                elif xi == xk and min([yi, yk]) == max([yi, yk])-1:\n",
    "                    s = 1/2\n",
    "                elif yi == yk and min([xi, xk]) == 3 and max([xi, xk]) == 5:\n",
    "                    s = 1/2\n",
    "            if sat[i] != 1:\n",
    "                sat[i] = s\n",
    "    \n",
    "    return sat\n",
    "\n",
    "print ( metrique_groupe_passager()) \n",
    "\n",
    "def metrique_transit_passager():\n",
    "    sat= {}\n",
    "\n",
    "    for i in Passengers:\n",
    "        #On ne considère que les passagers dont le temps de correspondance est inférieur à 1h30\n",
    "        if Passengers[i]['connection_time'] > 0 and Passengers[i]['connection_time'] <= 90: \n",
    "            for j in range (1, ns+1):\n",
    "                \n",
    "                if S[(i,j)].x:\n",
    "                    x, y = seat_coordinates([j])[0]\n",
    "                    if y <=5:\n",
    "                        sat[i] = 1\n",
    "                    elif y <= 7:\n",
    "                        sat[i] = 0.5\n",
    "                    else:\n",
    "                        sat[i] =0\n",
    "        else :\n",
    "            sat[i]=1\n",
    "                \n",
    "    return sat\n",
    "print (metrique_transit_passager()) \n",
    "\n",
    "def metrique_globale_passager():\n",
    "\n",
    "    sat={}\n",
    "    sat1=metrique_transit_passager()\n",
    "    sat2=metrique_groupe_passager()\n",
    "    satisfaction=0\n",
    "     \n",
    "\n",
    "    for i in Passengers:\n",
    "        sat[i]=(sat1[i]+sat2[i])/2\n",
    "        satisfaction +=sat[i]\n",
    "    satisfaction = satisfaction/len(Passengers)\n",
    "\n",
    "    return satisfaction, sat\n",
    "\n",
    "satisfaction, sat= metrique_globale_passager()\n",
    "\n",
    "print (\"La satisfaction moyenne des clients est de \",satisfaction*100, \"%\" )"
   ]
  },
  {
   "cell_type": "markdown",
   "metadata": {},
   "source": [
    "Deuxième métrique : la satisfaction est évaluée à l'échelle du groupe et de manière strice, c'est à dire que certaines configurations sont jugées satisfaisantes, les autres ne l'étant pas."
   ]
  },
  {
   "cell_type": "code",
   "execution_count": 17,
   "metadata": {},
   "outputs": [],
   "source": [
    "#renvoie une liste contenant les indices des passagers dans le groupe de i\n",
    "def groupe(i, Passengers):\n",
    "    G=[]\n",
    "    for k in range(1, n+1):\n",
    "        if Passengers[i]['group'] == Passengers[k]['group']:\n",
    "            G+=[k]\n",
    "    return G\n"
   ]
  },
  {
   "cell_type": "code",
   "execution_count": 18,
   "metadata": {},
   "outputs": [],
   "source": [
    "#renvoie un dictionnaire dont les groupes sont les clefs et les passagers du groupe les valeurs\n",
    "def group_dict(Passengers):\n",
    "\n",
    "    dic={}\n",
    "    for i in Passengers:\n",
    "        groupi=groupe(i, Passengers)\n",
    "        k=Passengers[i]['group']\n",
    "        if k not in dic:\n",
    "            dic[k]=groupi\n",
    "    return dic\n",
    "\n",
    "group_dico=group_dict(Passengers)\n",
    "  "
   ]
  },
  {
   "cell_type": "code",
   "execution_count": 19,
   "metadata": {},
   "outputs": [],
   "source": [
    "def metrique_groupe_stricte(Passengers,S):\n",
    "    sat={}\n",
    "    \n",
    "    group=group_dict(Passengers)\n",
    "\n",
    "    for g in group:\n",
    "        \n",
    "        seats = [j for i in group[g] for j in range(1, ns + 1) if S[(i, j)]== 1]\n",
    "        group_coord=seat_coordinates(seats)\n",
    "\n",
    "        X=[]\n",
    "        Y=[]\n",
    "        for i in range (len(group[g])):\n",
    "            X += [group_coord [i][0]]\n",
    "            Y += [group_coord [i][1]]\n",
    "            X.sort()\n",
    "            Y.sort()\n",
    "\n",
    "        if len(group[g]) == 1:\n",
    "            sat[g] = 1\n",
    "            \n",
    "\n",
    "        #Groupe de 2 passagers : ils doivent être côte à côte. Satisfaction intermédiaire si séparés par allée centrale\n",
    "        elif len(group[g]) == 2:\n",
    "            if Y[0] == Y[1]:\n",
    "                if X[1] == X[0]+1:          #X est triée par odre croissant\n",
    "                    sat[g] = 1\n",
    "                elif (3 in X and 5 in X):\n",
    "                    sat[g] = 1/2\n",
    "                else : \n",
    "                    sat[g] = 0\n",
    "\n",
    "            else : \n",
    "                sat[g] = 0\n",
    "\n",
    "        #Groupe de 3 : aligné sur le même rang. Satisfaction max si côtes à côtes, intermédiaire si séparés par allée centrale, nulle sinon\n",
    "        elif len(group[g]) == 3:\n",
    "            if Y[0] == Y[1] and Y[0] == Y[2]:\n",
    "                if X[1] == X[0]+1 and X[2] == X[1]+1:\n",
    "                    sat[g] = 1\n",
    "\n",
    "                elif (X[1] == X[0]+1 or X[2] == X[1]+1) and(3 in X and 5 in X):\n",
    "                    sat[g] = 1/2\n",
    "                else : \n",
    "                    sat[g] = 0\n",
    "            else : \n",
    "                sat[g] = 0\n",
    "\n",
    "        #Groupe de 4 à 6 personnes\n",
    "        elif len(group[g]) <=6 :\n",
    "            if all(y == Y[0] for y in Y):   #Si sur même rangée\n",
    "                \n",
    "                if X[len(group[g])-1]-X[0] == len(group[g]): #Si côtes à côtes (l'allée centrale séparera focément le groupe donc prise en compte)\n",
    "                    sat[g]=1\n",
    "                else:\n",
    "                    sat[g]=0\n",
    "            \n",
    "            elif Y[1]==Y[0]+1:    #le groupe occupe 2 rangées l'une derrière l'autre\n",
    "                if all(y <= 3 for y in Y) or all(y >= 5 for y in Y):   #Si les sièges sont du même côté de l'avion\n",
    "                    sat[g]=1/2\n",
    "                else:\n",
    "                    sat[g]=0\n",
    "            else :\n",
    "                sat[g]=0   \n",
    "                \n",
    "        else:\n",
    "            l=len(group[g])\n",
    "            n_r = (l//7) + 1\n",
    "            n_p = (l%7) + 1\n",
    "\n",
    "            if Y[len[Y]-1]-Y[0]+1 == n_r :\n",
    "                sat[g]=1\n",
    "\n",
    "            #elif \n",
    "            \n",
    "            else :\n",
    "                sat[g]=0\n",
    "        \n",
    "    return sat        \n",
    "            \n",
    "#print (metrique_groupe_stricte(Passengers,temoin_S))"
   ]
  },
  {
   "cell_type": "code",
   "execution_count": 20,
   "metadata": {},
   "outputs": [],
   "source": [
    "#Retourne une note sur 1 par passager concernant l'objectif de transit\n",
    "def metrique_transit_stricte(Passengers, S):\n",
    "\n",
    "    sat= {}\n",
    "    \n",
    "\n",
    "    for i in Passengers:\n",
    "        #On ne considère que les passagers dont le temps de correspondance est inférieur à 1h30\n",
    "        if Passengers[i]['connection_time'] > 0 and Passengers[i]['connection_time'] <= 90: \n",
    "            for j in range (1, ns+1):\n",
    "                \n",
    "                if S[(i,j)] == 1:\n",
    "                    x, y = seat_coordinates([j])[0]\n",
    "                    if y <=5:\n",
    "                        sat[i] = 1\n",
    "                    elif y <= 7:\n",
    "                        sat[i] = 1/2\n",
    "                    elif y <= 10:\n",
    "                        sat[i] = 1/3\n",
    "                    else:\n",
    "                        sat[i] =0\n",
    "        else :\n",
    "            sat[i]=1\n",
    "                \n",
    "    return sat\n",
    "\n"
   ]
  },
  {
   "cell_type": "code",
   "execution_count": 21,
   "metadata": {},
   "outputs": [],
   "source": [
    "def metrique_globale_stricte(Passengers, S):\n",
    "    \n",
    "    sat={}\n",
    "    moyenne=0\n",
    "    sat_groupe=0\n",
    "    sat_transit=0\n",
    "    #Pour fusionner les notes des passagers au regard des deux fonctions objectif, on transforme les notes par groupe pour la fonction groupe en note par passager\n",
    "    sat1={}\n",
    "    s=metrique_groupe_stricte (Passengers, S)\n",
    "    \n",
    "    group_dico=group_dict(Passengers)\n",
    "    for g in group_dico:\n",
    "        sat_groupe += s[g]\n",
    "        passagers = group_dico[g]\n",
    "        for i in passagers:\n",
    "            sat1[i]=s[g]\n",
    "\n",
    "    sat2=metrique_transit_stricte(Passengers, S)\n",
    "\n",
    "    for i in Passengers:\n",
    "        sat[i]=(sat1[i] + sat2[i])/2\n",
    "        moyenne += sat[i]\n",
    "        sat_transit += sat2[i]\n",
    "        \n",
    "\n",
    "    moyenne = moyenne / len(Passengers)\n",
    "    sat_groupe = sat_groupe / len(s)\n",
    "    sat_transit =sat_transit / len(Passengers)\n",
    "\n",
    "    #print (list(sat.values()))\n",
    "    #m=min(list(sat.values()))\n",
    "    #M=max(list(sat.values()))\n",
    "\n",
    "    return moyenne, sat_transit, sat_groupe\n",
    "\n",
    "    \n",
    "    "
   ]
  },
  {
   "cell_type": "code",
   "execution_count": 22,
   "metadata": {},
   "outputs": [
    {
     "name": "stdout",
     "output_type": "stream",
     "text": [
      "La satisfaction moyenne des passagers est de  98.67549668874173 %\n",
      "La satisfaction moyenne des passagers en transit est de  97.35099337748345 %\n",
      "La satisfaction moyenne des groupes est de  100.0 %\n"
     ]
    }
   ],
   "source": [
    "moyenne, s_transit, s_groupe = metrique_globale_stricte(Passengers, temoin_S)\n",
    "\n",
    "# print (\"Le pire niveau de satisfaction est de \", m*100, \"%\")\n",
    "# print (\"Le meilleur niveau de satisfaction est de \", M*100, \"%\")\n",
    "print (\"La satisfaction moyenne des passagers est de \", moyenne*100, \"%\")\n",
    "print (\"La satisfaction moyenne des passagers en transit est de \", s_transit*100,'%')\n",
    "print (\"La satisfaction moyenne des groupes est de \", s_groupe*100,'%')\n"
   ]
  },
  {
   "cell_type": "markdown",
   "metadata": {},
   "source": [
    "Troisième métrique : \"bounding box\" for the boxplot visualization"
   ]
  },
  {
   "cell_type": "code",
   "execution_count": 23,
   "metadata": {},
   "outputs": [],
   "source": [
    "def ponderation(x, y):\n",
    "    beta = 0.95\n",
    "    den = (1 - beta) * x + beta * y + 1\n",
    "    res = 1 / den\n",
    "    return res"
   ]
  },
  {
   "cell_type": "code",
   "execution_count": 24,
   "metadata": {},
   "outputs": [],
   "source": [
    "def group_statistics_retan(passengers, seat_coords):\n",
    "    \"\"\"\n",
    "    Calculate group statistics based on the bounding box.\n",
    "\n",
    "    Args:\n",
    "        passengers (dict): Dictionary of passengers.\n",
    "        seat_coords (list): List of seat coordinates.\n",
    "\n",
    "    Returns:\n",
    "        dict: A dictionary containing group statistics.\n",
    "        \n",
    "    \"\"\"\n",
    "    group_dico = group_dict(passengers)  # Get the dictionary of groups\n",
    "    result = {}  # Dictionary to store the results\n",
    "\n",
    "    for group, passengers_in_group in group_dico.items():\n",
    "        group_scores = {}  # Resetting group_scores for each group\n",
    "        group_coords = [seat_coords[idx - 1] for idx in passengers_in_group]\n",
    "\n",
    "        min_x = min(coord[0] for coord in group_coords)\n",
    "        max_x = max(coord[0] for coord in group_coords)\n",
    "\n",
    "        min_y = min(coord[1] for coord in group_coords)\n",
    "        max_y = max(coord[1] for coord in group_coords)\n",
    "\n",
    "        y_distance = max_y - min_y\n",
    "        x_distance = max_x - min_x\n",
    "\n",
    "        # Check if passengers are seated next to each other horizontally\n",
    "        if x_distance == len(passengers_in_group) and y_distance == 0:\n",
    "            satisfaction_scores = 1  # All passengers are seated next to each other horizontally\n",
    "\n",
    "        elif 4 <= len(passengers_in_group) <= 6:\n",
    "            if x_distance == len(passengers_in_group) + 1:\n",
    "                satisfaction_scores = 1\n",
    "            else:\n",
    "                satisfaction_scores = ponderation(x_distance, y_distance)\n",
    "                \n",
    "        else:\n",
    "            satisfaction_scores = ponderation(x_distance, y_distance)\n",
    "\n",
    "        for passenger in passengers_in_group:\n",
    "            group_scores[passenger] = satisfaction_scores\n",
    "\n",
    "        # Add group information to the result dictionary\n",
    "        result[group] = {\n",
    "            \"Quantity\": len(passengers_in_group),\n",
    "            \"Satisfaction Score\": satisfaction_scores\n",
    "        }\n",
    "\n",
    "    return result\n",
    "\n",
    "# Example usage:\n",
    "group_stats_retan = group_statistics_retan(Passengers, seat_coords)\n",
    "\n",
    "\n"
   ]
  },
  {
   "cell_type": "code",
   "execution_count": 25,
   "metadata": {},
   "outputs": [],
   "source": [
    "def analyze_group_statistics(group_data):\n",
    "\n",
    "    \"\"\"Analyzes group statistics based on the provided data.\"\"\"\n",
    "    \n",
    "    quantity_count = {}  # Dictionary to count the number of groups with each quantity\n",
    "    satisfaction_sum = {}  # Dictionary to sum the satisfaction scores for each quantity\n",
    "    satisfaction_count = {}  # Dictionary to count the number of groups for each quantity\n",
    "    max_satisfaction = {}  # Dictionary to store the maximum satisfaction score for each quantity\n",
    "    min_satisfaction = {}  # Dictionary to store the minimum satisfaction score for each quantity\n",
    "\n",
    "    for group, stats in group_data.items():\n",
    "        quantity = stats['Quantity']\n",
    "        satisfaction_score = stats['Satisfaction Score']\n",
    "\n",
    "        # Update quantity count\n",
    "        if quantity in quantity_count:\n",
    "            quantity_count[quantity] += 1\n",
    "        else:\n",
    "            quantity_count[quantity] = 1\n",
    "\n",
    "        # Update satisfaction sum and count\n",
    "        if quantity in satisfaction_sum:\n",
    "            satisfaction_sum[quantity] += satisfaction_score\n",
    "            satisfaction_count[quantity] += 1\n",
    "        else:\n",
    "            satisfaction_sum[quantity] = satisfaction_score\n",
    "            satisfaction_count[quantity] = 1\n",
    "\n",
    "        # Update max and min satisfaction scores\n",
    "        if quantity in max_satisfaction:\n",
    "            max_satisfaction[quantity] = max(max_satisfaction[quantity], satisfaction_score)\n",
    "            min_satisfaction[quantity] = min(min_satisfaction[quantity], satisfaction_score)\n",
    "        else:\n",
    "            max_satisfaction[quantity] = satisfaction_score\n",
    "            min_satisfaction[quantity] = satisfaction_score\n",
    "\n",
    "    # Calculate average satisfaction for each quantity\n",
    "    average_satisfaction = {quantity: satisfaction_sum[quantity] / satisfaction_count[quantity] for quantity in satisfaction_sum}\n",
    "\n",
    "    return quantity_count, average_satisfaction, max_satisfaction, min_satisfaction"
   ]
  },
  {
   "cell_type": "code",
   "execution_count": 26,
   "metadata": {},
   "outputs": [],
   "source": [
    "# Example usage:\n",
    "group_data_retan = group_stats_retan\n",
    "\n",
    "\n",
    "quantity_count_r, average_satisfaction_r, max_satisfaction_r, min_satisfaction_r = analyze_group_statistics(group_data_retan)\n",
    "\n"
   ]
  },
  {
   "cell_type": "code",
   "execution_count": 27,
   "metadata": {},
   "outputs": [],
   "source": [
    "def calculate_group_data(average_satisfaction, max_satisfaction, min_satisfaction):\n",
    "    group_data = {}\n",
    "\n",
    "    for quantity in set(average_satisfaction.keys()).union(max_satisfaction.keys(), min_satisfaction.keys()):\n",
    "        group_data[quantity] = [\n",
    "            average_satisfaction.get(quantity, 0),\n",
    "            max_satisfaction.get(quantity, 0),\n",
    "            min_satisfaction.get(quantity, 0)\n",
    "        ]\n",
    "\n",
    "    return group_data\n",
    "\n",
    "group_data_retan = calculate_group_data(average_satisfaction_r, max_satisfaction_r, min_satisfaction_r)\n"
   ]
  },
  {
   "cell_type": "code",
   "execution_count": 28,
   "metadata": {},
   "outputs": [
    {
     "data": {
      "image/png": "[encoded data removed]",
      "text/plain": [
       "<Figure size 640x480 with 1 Axes>"
      ]
     },
     "metadata": {},
     "output_type": "display_data"
    }
   ],
   "source": [
    "def satisfaction_clusters(group_data):\n",
    "    \"\"\"\n",
    "    Divide the satisfaction scores into clusters based on quartiles.\n",
    "\n",
    "    Args:\n",
    "        group_data (dict): Dictionary containing the satisfaction data for each group.\n",
    "\n",
    "    Returns:\n",
    "        tuple: A tuple containing three values corresponding to the satisfaction clusters.\n",
    "    \"\"\"\n",
    "    # Extract satisfaction scores\n",
    "    scores = [entry['Satisfaction Score'] for entry in group_data.values()]\n",
    "\n",
    "    # Calculate quartiles\n",
    "    q1, q2, q3 = np.percentile(scores, [25, 50, 75])\n",
    "\n",
    "    # Divide the data into clusters based on quartiles\n",
    "    cluster_1 = [score for score in scores if score >= q3]\n",
    "    cluster_2 = [score for score in scores if q1 <= score <= q3]\n",
    "    cluster_3 = [score for score in scores if score < q1]\n",
    "\n",
    "    return len(cluster_1), len(cluster_2), len(cluster_3)\n",
    "\n",
    "def plot_satisfaction_clusters(group_data):\n",
    "    \"\"\"\n",
    "    Plot a pie chart with satisfaction clusters.\n",
    "\n",
    "    Args:\n",
    "        group_data (dict): Dictionary containing the satisfaction data for each group.\n",
    "    \"\"\"\n",
    "    # Calculate satisfaction clusters\n",
    "    cluster_1, cluster_2, cluster_3 = satisfaction_clusters(group_data)\n",
    "\n",
    "    # Labels and data for the pie chart\n",
    "    labels = ['Score 1', 'Score 0.5', 'Score 0']\n",
    "    sizes = [cluster_1, cluster_2, cluster_3]\n",
    "    colors = ['green', 'orange', 'red']\n",
    "\n",
    "    # Create the pie chart\n",
    "    plt.pie(sizes, labels=labels, colors=colors, autopct='%1.1f%%', startangle=90)\n",
    "    plt.axis('equal')  # Ensure the pie chart is circular\n",
    "    plt.title('Satisfaction Clusters')\n",
    "    plt.show()\n",
    "\n",
    "\n",
    "plot_satisfaction_clusters(group_stats_retan)\n"
   ]
  },
  {
   "cell_type": "code",
   "execution_count": 29,
   "metadata": {},
   "outputs": [
    {
     "data": {
      "image/png": "[encoded data removed]",
      "text/plain": [
       "<Figure size 2000x1200 with 4 Axes>"
      ]
     },
     "metadata": {},
     "output_type": "display_data"
    }
   ],
   "source": [
    "import matplotlib.pyplot as plt\n",
    "import numpy as np\n",
    "\n",
    "def update_visualizations(quantity_count, group_data):\n",
    "    \"\"\"\n",
    "    Update boxplot, bar chart, and pie chart visualizations based on group statistics.\n",
    "\n",
    "    Args:\n",
    "        quantity_count (dict): Dictionary containing the count of groups with each quantity.\n",
    "        group_data (dict): Dictionary containing the satisfaction data for each group.\n",
    "    \"\"\"\n",
    "    # Sorting the quantity_count dictionary by keys\n",
    "    sorted_quantity_count = sorted(quantity_count.items())\n",
    "\n",
    "    # Extracting data from dictionaries\n",
    "    group_labels = [quantity for quantity, _ in sorted_quantity_count]  # Extracting only the first value\n",
    "    sorted_group_data = {quantity: group_data[quantity] for quantity, _ in sorted_quantity_count}\n",
    "\n",
    "    boxplot_data = [sorted_group_data[quantity] for quantity in group_labels]\n",
    "\n",
    "    group_sizes = list(quantity_count.values())\n",
    "\n",
    "    # Creating a figure and axes for the boxplot, bar chart, and pie chart\n",
    "    fig, ((ax1, ax2), (ax3, ax4)) = plt.subplots(2, 2, figsize=(20, 12))\n",
    "\n",
    "    # Creating the boxplot\n",
    "    boxplot = ax1.boxplot(boxplot_data, labels=group_labels)\n",
    "\n",
    "    # Adding labels to the axes\n",
    "    ax1.set_ylabel('Satisfaction Score')\n",
    "    ax1.set_xlabel('Group size')\n",
    "    ax1.set_title('Satisfaction Scores in Different Groups')\n",
    "    ax1.grid(True)\n",
    "\n",
    "    #Pie chart\n",
    "    #plot_satisfaction_clusters(group_stats_retan)\n",
    "\n",
    "    # Bar chart for group sizes\n",
    "    x = np.arange(len(group_labels))  # the label locations\n",
    "    width = 0.5  # the width of the bars\n",
    "    rects1 = ax3.bar(x, group_sizes, width, label='Group Sizes', align='center', color='blue')\n",
    "    ax3.set_xticks(x)\n",
    "    ax3.set_xticklabels(group_labels)  # Update to use group quantities directly\n",
    "    ax3.set_ylabel('Size of the groups')\n",
    "    ax3.set_title('Distribution of Group Sizes')\n",
    "    ax3.set_xlabel('Number of passengers')  # Update x-axis label\n",
    "\n",
    "    # Creating the pie chart\n",
    "    def my_autopct(pct):\n",
    "        absolute = int(np.round(pct / 100.0 * np.sum(group_sizes)))\n",
    "        return f\"{pct:.1f}%\\n({absolute:d})\"\n",
    "\n",
    "    pie_wedges, _, autotexts = ax4.pie(group_sizes, labels=group_labels, autopct=my_autopct, startangle=90)\n",
    "    ax4.set_title('Distribution of Group Sizes')\n",
    "\n",
    "    \n",
    "    for autotext in autotexts:\n",
    "        autotext.set_color('white')  \n",
    "        autotext.set_fontsize(10)  \n",
    "\n",
    "\n",
    "    # Displaying the plots\n",
    "    plt.tight_layout()\n",
    "    plt.show()\n",
    "\n",
    "# Example retan:\n",
    "update_visualizations(quantity_count_r, group_data_retan)\n"
   ]
  },
  {
   "cell_type": "markdown",
   "metadata": {},
   "source": [
    "Groupe stricte for waterfall visualization"
   ]
  },
  {
   "cell_type": "code",
   "execution_count": 30,
   "metadata": {},
   "outputs": [],
   "source": [
    "def metrique_groupe_stricte_new(Passengers):\n",
    "    sat = {}\n",
    "    group = group_dict(Passengers)\n",
    "\n",
    "    for g in group:\n",
    "        seats = [j for i in group[g] for j in range(1, ns + 1) if S[(i, j)].x]\n",
    "        group_coord = seat_coordinates(seats)\n",
    "\n",
    "        X = [coord[0] for coord in group_coord]\n",
    "        Y = [coord[1] for coord in group_coord]\n",
    "\n",
    "        X.sort()\n",
    "        Y.sort()\n",
    "\n",
    "        if len(group[g]) == 1:\n",
    "            sat[g] = {\"Quantity\": 1, \"Satisfaction Score\": 1}\n",
    "\n",
    "        elif len(group[g]) == 2:\n",
    "            if Y[0] == Y[1] and X[1] == X[0] + 1:\n",
    "                sat[g] = {\"Quantity\": 2, \"Satisfaction Score\": 1}\n",
    "            elif 3 in X and 5 in X:\n",
    "                sat[g] = {\"Quantity\": 2, \"Satisfaction Score\": 0.5}\n",
    "            else:\n",
    "                sat[g] = {\"Quantity\": 2, \"Satisfaction Score\": 0}\n",
    "\n",
    "        elif len(group[g]) == 3:\n",
    "            if Y[0] == Y[1] == Y[2] and X[1] == X[0] + 1 and X[2] == X[1] + 1:\n",
    "                sat[g] = {\"Quantity\": 3, \"Satisfaction Score\": 1}\n",
    "            elif (Y[0] == Y[1] == Y[2]) and ((X[1] == X[0] + 1) or (X[2] == X[1] + 1)) and (3 in X and 5 in X):\n",
    "                sat[g] = {\"Quantity\": 3, \"Satisfaction Score\": 0.5}\n",
    "            else:\n",
    "                sat[g] = {\"Quantity\": 3, \"Satisfaction Score\": 0}\n",
    "\n",
    "        elif 4 <= len(group[g]) <= 6:\n",
    "            if all(y == Y[0] for y in Y) and (X[len(group[g]) - 1] - X[0] == len(group[g])):\n",
    "                sat[g] = {\"Quantity\": len(group[g]), \"Satisfaction Score\": 1}\n",
    "            elif (Y[1] == Y[0] + 1) and (all(y <= 3 for y in Y) or all(y >= 5 for y in Y)):\n",
    "                sat[g] = {\"Quantity\": len(group[g]), \"Satisfaction Score\": 0.5}\n",
    "            else:\n",
    "                sat[g] = {\"Quantity\": len(group[g]), \"Satisfaction Score\": 0}\n",
    "\n",
    "        else:\n",
    "            l = len(group[g])\n",
    "            n_r = (l // 7) + 1\n",
    "            n_p = (l % 7) + 1\n",
    "\n",
    "            if (Y[len(Y) - 1] - Y[0] + 1) == n_r:\n",
    "                sat[g] = {\"Quantity\": l, \"Satisfaction Score\": 1}\n",
    "            else:\n",
    "                sat[g] = {\"Quantity\": l, \"Satisfaction Score\": 0}\n",
    "\n",
    "    return sat\n",
    "\n",
    "\n",
    "group_stats_strict = metrique_groupe_stricte_new(Passengers)\n",
    "\n"
   ]
  },
  {
   "cell_type": "code",
   "execution_count": 31,
   "metadata": {},
   "outputs": [],
   "source": [
    "def count_group_scores_by_quantity(group_stats):\n",
    "    scores_by_quantity = {}\n",
    "\n",
    "    for group_data in group_stats.values():\n",
    "        quantity = group_data[\"Quantity\"]\n",
    "        satisfaction_score = group_data[\"Satisfaction Score\"]\n",
    "\n",
    "        if quantity not in scores_by_quantity:\n",
    "            scores_by_quantity[quantity] = {\"0\": 0, \"0.5\": 0, \"1\": 0}\n",
    "\n",
    "        if satisfaction_score == 0:\n",
    "            scores_by_quantity[quantity][\"0\"] += 1\n",
    "        elif satisfaction_score == 0.5:\n",
    "            scores_by_quantity[quantity][\"0.5\"] += 1\n",
    "        elif satisfaction_score == 1:\n",
    "            scores_by_quantity[quantity][\"1\"] += 1\n",
    "\n",
    "    # Sort the dictionary by quantity of passengers in ascending order\n",
    "    scores_by_quantity = dict(sorted(scores_by_quantity.items()))\n",
    "\n",
    "    return scores_by_quantity\n",
    "\n",
    "scores_by_quantity = count_group_scores_by_quantity(group_stats_strict)\n",
    "\n"
   ]
  },
  {
   "cell_type": "code",
   "execution_count": 32,
   "metadata": {},
   "outputs": [
    {
     "data": {
      "image/png": "[encoded data removed]",
      "text/plain": [
       "<Figure size 1800x1200 with 4 Axes>"
      ]
     },
     "metadata": {},
     "output_type": "display_data"
    }
   ],
   "source": [
    "import numpy as np\n",
    "import matplotlib.pyplot as plt\n",
    "\n",
    "def plot_waterfall_with_side_charts(scores_by_quantity):\n",
    "    # Extracting data for the waterfall chart\n",
    "    group_sizes = [sum(score.values()) for score in scores_by_quantity.values()]\n",
    "    group_labels = list(scores_by_quantity.keys())  # Update to use group quantities directly\n",
    "    zero_scores = [score[\"0\"] for score in scores_by_quantity.values()]\n",
    "    half_scores = [score[\"0.5\"] for score in scores_by_quantity.values()]\n",
    "    one_scores = [score[\"1\"] for score in scores_by_quantity.values()]\n",
    "\n",
    "    # Plotting the waterfall chart\n",
    "    fig, ((ax1, ax2), (ax3, ax4)) = plt.subplots(2, 2, figsize=(18, 12))\n",
    "    \n",
    "    # Waterfall chart\n",
    "    ax1.bar(group_labels, zero_scores, label='Score 0', color='red')\n",
    "    ax1.bar(group_labels, half_scores, bottom=zero_scores, label='Score 0.5', color='orange')\n",
    "    ax1.bar(group_labels, one_scores, bottom=np.array(zero_scores) + np.array(half_scores), label='Score 1', color='green')\n",
    "    ax1.set_ylabel('Number of groups')\n",
    "    ax1.set_title('Waterfall Chart by Group Size')\n",
    "    ax1.legend()\n",
    "    ax1.grid(True)\n",
    "\n",
    "\n",
    "    # Pie chart for score distribution\n",
    "    labels = ['Score 0', 'Score 0.5', 'Score 1']\n",
    "    scores_sum = np.array(zero_scores) + np.array(half_scores) + np.array(one_scores)\n",
    "\n",
    "\n",
    "    ax2.pie([sum(zero_scores), sum(half_scores), sum(one_scores)], labels=labels, autopct='%1.1f%%', startangle=90)\n",
    "    ax2.axis('equal')\n",
    "    ax2.set_title('Score Distribution')\n",
    "\n",
    "    # Bar chart for group sizes\n",
    "    x = np.arange(len(group_labels))  # the label locations\n",
    "    width = 0.5  # the width of the bars\n",
    "    rects1 = ax3.bar(x, group_sizes, width, label='Group Sizes', align='center')\n",
    "    ax3.grid(True)\n",
    "    ax3.set_xticks(x)\n",
    "    ax3.set_xticklabels(group_labels)  # Update to use group quantities directly\n",
    "    ax3.set_ylabel('Number of the groups')\n",
    "    ax3.set_title('Distribution of Group Sizes')\n",
    "    ax3.set_xlabel('Number of passengers')  # Update x-axis label\n",
    "\n",
    "    # Creating the pie chart\n",
    "    def my_autopct(pct):\n",
    "        absolute = int(np.round(pct / 100.0 * np.sum(group_sizes)))\n",
    "        return f\"{pct:.1f}%\\n({absolute:d})\"\n",
    "\n",
    "    pie_wedges, _, autotexts = ax4.pie(group_sizes, labels=group_labels, autopct=my_autopct, startangle=90)\n",
    "    ax4.set_title('Distribution of Group Sizes')\n",
    "\n",
    "    # Formatting text\n",
    "    for autotext in autotexts:\n",
    "        autotext.set_color('white')\n",
    "        autotext.set_fontsize(10)\n",
    "\n",
    "    # Displaying the plots\n",
    "    plt.tight_layout()\n",
    "    plt.show()\n",
    "\n",
    "# Example usage:\n",
    "plot_waterfall_with_side_charts(scores_by_quantity)\n"
   ]
  },
  {
   "cell_type": "markdown",
   "metadata": {},
   "source": [
    "# Dynamic model"
   ]
  },
  {
   "cell_type": "markdown",
   "metadata": {},
   "source": [
    "Generation of a random order of registration"
   ]
  },
  {
   "cell_type": "code",
   "execution_count": 33,
   "metadata": {},
   "outputs": [
    {
     "name": "stdout",
     "output_type": "stream",
     "text": [
      "[84, 85, 11, 39, 40, 69, 44, 98, 103, 16, 106, 45, 71, 86, 12, 64, 76, 80, 42, 52, 34, 100, 79, 55, 41, 22, 33, 65, 104, 99, 24, 56, 87, 50, 30, 105, 27, 20, 2, 51, 101, 63, 60, 17, 67, 53, 107, 110, 26, 5, 90, 32, 70, 29, 77, 111, 3, 57, 31, 81, 48, 91, 68, 88, 82, 93, 4, 92, 108, 15, 28, 8, 43, 61, 89, 83, 46, 109, 10, 62, 66, 78, 54, 37, 49, 6, 18, 74, 75, 73, 13, 1, 58, 102, 19, 21, 14, 47, 23, 38, 95, 94, 7, 36, 72, 25, 96, 35, 97, 59, 9]\n"
     ]
    }
   ],
   "source": [
    "def Random_order():\n",
    "\n",
    "    Clefs = list(group_dico.keys())\n",
    "    Order = random.sample(Clefs, k=len(Clefs))\n",
    "\n",
    "    return Order\n",
    "\n",
    "print(Random_order())"
   ]
  },
  {
   "cell_type": "markdown",
   "metadata": {},
   "source": [
    "Modeling 1 : Proposition of seats for the group by only considering groups of the same size"
   ]
  },
  {
   "cell_type": "code",
   "execution_count": 34,
   "metadata": {},
   "outputs": [],
   "source": [
    "def possible_choice1 (n_group):\n",
    "\n",
    "    Choices=[]\n",
    "    groups_dict =group_dict(Passengers)   #on récupère le dictionnaire {group: [passagers]}\n",
    "    group = groups_dict[n_group]           #liste des passagers du groupe n°n_group\n",
    "\n",
    "    for g in groups_dict:\n",
    "        if len(groups_dict[g]) == len(group):   #On récupère la position des sièges pour des groupes de même taille\n",
    "            C=[]\n",
    "            for i in groups_dict[g]:\n",
    "                for j in range (1, ns+1):\n",
    "                    if temoin_S[(i,j)]:\n",
    "                        C += [j]\n",
    "            if C != []:\n",
    "                Choices+=[C]\n",
    "\n",
    "    return Choices"
   ]
  },
  {
   "cell_type": "markdown",
   "metadata": {},
   "source": [
    "Modeling 2 : Proposition of seats for the group by considering all combinations of sizes"
   ]
  },
  {
   "cell_type": "markdown",
   "metadata": {},
   "source": [
    "First we consider a function that returns the possibilities for a group considering the seats of groups of same size"
   ]
  },
  {
   "cell_type": "code",
   "execution_count": 35,
   "metadata": {},
   "outputs": [],
   "source": [
    "def possible_choice_same_size (group_size, S_dyn):\n",
    "\n",
    "    Choices=[]\n",
    "    for g in group_dico:\n",
    "        if len(group_dico[g]) == group_size and date[g][2] == 0:   #On récupère la position des sièges pour des groupes de même taille sans WCHR\n",
    "            C=[]\n",
    "            for i in group_dico[g]:\n",
    "                for j in range (1, ns+1):\n",
    "                    if S_dyn[(i,j)]:\n",
    "                        C += [j]\n",
    "            if C != []:\n",
    "                Choices+=[C]\n",
    "\n",
    "    return Choices"
   ]
  },
  {
   "cell_type": "markdown",
   "metadata": {},
   "source": [
    "Then we add combinations of seats by concatening the results of the previous function for groups such that the sum of their size is equal to the size of the group we consider. We filter the combinations by allowing only concatenations of seats on the same row.\n",
    "We obtain a list with all the interesting possibilities."
   ]
  },
  {
   "cell_type": "code",
   "execution_count": 36,
   "metadata": {},
   "outputs": [],
   "source": [
    "def possible_choice (size, S_dyn):\n",
    "\n",
    "    Choices = possible_choice_same_size(size, S_dyn)\n",
    "    for k in range (1, size//2 +1):\n",
    "        \n",
    "        choices1 = possible_choice_same_size(size-k, S_dyn)\n",
    "        choices2 = possible_choice_same_size(k, S_dyn)\n",
    "        choices1.sort()\n",
    "        choices2.sort()\n",
    "        \n",
    "        for choice in choices1:\n",
    "            \n",
    "            coord=seat_coordinates(choice)\n",
    "            X1=[]\n",
    "            Y1=[]\n",
    "            for i in range (len(coord)):\n",
    "                X1 += [coord [i][0]]\n",
    "                Y1 += [coord [i][1]]\n",
    "            X1.sort()\n",
    "            Y1.sort()\n",
    "            for places in choices2:\n",
    "                coord2=seat_coordinates(places)\n",
    "                X2=[]\n",
    "                Y2=[]\n",
    "                for i in range (len(coord2)):\n",
    "                    X2 += [coord2 [i][0]]\n",
    "                    Y2 += [coord2 [i][1]]\n",
    "                X2.sort()\n",
    "                Y2.sort()\n",
    "\n",
    "                if all(y1==Y1[0] for y1 in Y1) and all(y2 == Y2[0] for y2 in Y2) and Y1[0] == Y2[0]:\n",
    "                    if all(place not in choice for place in places):\n",
    "                        C = choice + places\n",
    "                        Choices += [C]\n",
    "\n",
    "    return Choices"
   ]
  },
  {
   "cell_type": "markdown",
   "metadata": {},
   "source": [
    "We supress from the propositions the seats already chosen by previous groups"
   ]
  },
  {
   "cell_type": "code",
   "execution_count": 37,
   "metadata": {},
   "outputs": [],
   "source": [
    "def group_choices_available(choices, Choice_dict):\n",
    "    choices_copy=choices.copy()\n",
    "    for choice in choices:\n",
    "        for taken in Choice_dict.values():\n",
    "            for place in choice :\n",
    "                if place in taken and choice in choices_copy:\n",
    "                    choices_copy.remove(choice)\n",
    "            \n",
    "    return choices_copy"
   ]
  },
  {
   "cell_type": "markdown",
   "metadata": {},
   "source": [
    "We supress from the propositions the seats in the front rows if the group is not in transit"
   ]
  },
  {
   "cell_type": "code",
   "execution_count": 38,
   "metadata": {},
   "outputs": [],
   "source": [
    "def transit_filter (n_group, Choices):\n",
    "    \n",
    "    Choices_copy=Choices.copy()\n",
    "    group = group_dico[n_group]           #liste des passagers du groupe n°n_group\n",
    "    group_time=Passengers[group[0]]['connection_time']   #temps de transit du group n_group\n",
    "\n",
    "    #Si groupe en transit, on lui propose toutes les places\n",
    "    if group_time > 0 and group_time <= 120 :\n",
    "        return Choices\n",
    "    \n",
    "    #Sinon, on supprime des propositions les places situées dans les 7 premiers rangs\n",
    "    else : \n",
    "        for choice in Choices:\n",
    "            coord=seat_coordinates(choice)\n",
    "            X=[]\n",
    "            Y=[]\n",
    "            for i in range (len(coord)):\n",
    "                X += [coord [i][0]]\n",
    "                Y += [coord [i][1]]\n",
    "            if all(y<=7 for y in Y) and len(Choices_copy) > 1:\n",
    "                Choices_copy.remove(choice)\n",
    "\n",
    "    return Choices_copy\n"
   ]
  },
  {
   "cell_type": "markdown",
   "metadata": {},
   "source": [
    "We supress from the propositions the seats which don't respect the barycenter constraint"
   ]
  },
  {
   "cell_type": "code",
   "execution_count": 39,
   "metadata": {},
   "outputs": [],
   "source": [
    "\n",
    "def barycenter_filter(group, choices, S_dyn):   #group est le numéro du groupe, choice est une liste de listes de sièges\n",
    "\n",
    "    group_passengers = group_dico[group]   #liste des passagers du groupe\n",
    "    for choice in choices :\n",
    "        S_bar = S_dyn.copy()              #On initialise le dictionaire des attributions avec les attributions courantes\n",
    "\n",
    "        #Random attribution of the seats to the passengers\n",
    "        random_attribution = [i for i in range(len(group_passengers))]\n",
    "        random_attribution = random.sample(random_attribution, k=len(random_attribution))   #Liste mélangée des indices des passagers\n",
    "        for k in random_attribution :\n",
    "            i = group_passengers[random_attribution[k]]\n",
    "            j = choice[k]\n",
    "\n",
    "           \n",
    "            for p in Passengers :\n",
    "                if S_bar[(p,j)] == 1 :\n",
    "                    exchanged_passenger = p              #On trouve le passager avec lequel on a échangé les places\n",
    "                    for s in range (1, ns+1):\n",
    "                        if S_bar[(i,s)] == 1:             #On trouve l'ancien siège occupé par i\n",
    "                            old_seat = s\n",
    "            \n",
    "            #On intervertit les passagers\n",
    "            S_bar[(i,j)] = 1\n",
    "            S_bar[(i,old_seat)] = 0\n",
    "            S_bar[(exchanged_passenger,j)] = 0\n",
    "            S_bar[(exchanged_passenger,old_seat)] = 1   #important de terminer par une attribution égale à 1 dans le cas où i=p et j=s\n",
    "\n",
    "        if len(group_passengers) != 1 or Passengers[group_passengers[0]]['gender'] != Passengers[exchanged_passenger]['gender']:\n",
    "            #On calcule le centre de masse correspondant à ce choix\n",
    "            x_g = 0\n",
    "            y_g = 0\n",
    "            total_weight = sum(Passengers[i]['weight'] for i in range(1, n + 1))\n",
    "            for i in range(1, n + 1):\n",
    "                j_k = 1\n",
    "                weight_ij = Passengers[i]['weight'] / total_weight\n",
    "\n",
    "                for j in range(1, ns + 1):\n",
    "                    if (j % 7 == 0):\n",
    "                        x_g += (7 * S_bar[i, j] * weight_ij)\n",
    "                        y_g += (j_k * S_bar[i, j] * weight_ij)\n",
    "                        j_k += 1\n",
    "                    else:\n",
    "                        x_g += ((j % 7) * S_bar[i, j] * weight_ij)\n",
    "                        y_g += (((j // 7) + 1) * S_bar[i, j] * weight_ij)\n",
    "\n",
    "            if x_g < 3 or x_g > 5 or y_g < 13 or y_g > 17 :   #Si contrainte de barycentre non respectée, on supprime la possibilité de la liste des choix\n",
    "                if len(choices) !=1:\n",
    "                    choices.remove(choice)\n",
    "\n",
    "    return choices\n"
   ]
  },
  {
   "cell_type": "markdown",
   "metadata": {},
   "source": [
    "We give each proposition a score based on the satisfaction criteria used in the static model"
   ]
  },
  {
   "cell_type": "code",
   "execution_count": 40,
   "metadata": {},
   "outputs": [],
   "source": [
    "def assign_values(group, choices):\n",
    "    choices_with_values = []\n",
    "    for choice in choices:\n",
    "        score =0 \n",
    "\n",
    "        #Coordonnées des sièges\n",
    "        coord = seat_coordinates(choice)\n",
    "        X=[]\n",
    "        Y=[]\n",
    "        for i in range (len(coord)):\n",
    "            X += [coord [i][0]]\n",
    "            Y += [coord [i][1]]\n",
    "            X.sort()\n",
    "            Y.sort()\n",
    "\n",
    "        #Group in transit\n",
    "        if date[group][3] > 0 and date[group][3] <= 120 : \n",
    "            if all(y <=6 for y in Y):\n",
    "                score +=0.7\n",
    "            else :\n",
    "                score += 0\n",
    "        else :\n",
    "            score += 0.7\n",
    "        \n",
    "        #Groups together\n",
    "\n",
    "        #Group of 1, the satisfaction is higher when next to the window or the central aisle\n",
    "        if len(choice) == 1:\n",
    "            if X[0] != 2 or X[0] != 6:\n",
    "                score = random.random()/2\n",
    "            else :\n",
    "                score +=0\n",
    "\n",
    "        \n",
    "        #Group of 2 or 3\n",
    "        elif  len(choice) == 2 or len(choice) == 3:\n",
    "            if all(y == Y[0] for y in Y):   #Sur la même rangée\n",
    "                if X[len(X)-1]-X[0] + 1 == len(choice): #Si côtes à côtes (non sépérés par l'allée centrale)         #X est triée par odre croissant\n",
    "                    score += 1/2\n",
    "                elif (3 in X and 5 in X):\n",
    "                    score += 1/4\n",
    "                else : \n",
    "                    score += 0\n",
    "\n",
    "            else : \n",
    "                score += 0\n",
    "\n",
    "        #Groups of 4 to 6 passengers\n",
    "        elif  len(choice) > 3 and len(choice) <= 6:\n",
    "            if all(y == Y[0] for y in Y):   #Si sur même rangée\n",
    "                \n",
    "                if X[len(X)-1]-X[0] == len(X): #Si côtes à côtes (l'allée centrale séparera focément le groupe donc prise en compte)\n",
    "                    score +=1\n",
    "                else:\n",
    "                    score +=0\n",
    "            \n",
    "            elif Y[len(Y)-1]==Y[0]+1:    #le groupe occupe 2 rangées l'une derrière l'autre\n",
    "                if all(y <= 3 for y in Y) or all(y >= 5 for y in Y):   #Si les sièges sont du même côté de l'avion\n",
    "                    score +=1/2\n",
    "                else:\n",
    "                    score +=0\n",
    "            else :\n",
    "                score+=0   \n",
    "                \n",
    "        else :\n",
    "            l=len(choice)\n",
    "            n_r = (l//7) + 1\n",
    "            n_p = (l%7) + 1\n",
    "\n",
    "            if Y[len[Y]-1]-Y[0]+1 == n_r :\n",
    "                score += 0.5\n",
    "            else :\n",
    "                score +=0\n",
    "\n",
    "        choices_with_values.append((choice, score)) \n",
    "    return choices_with_values"
   ]
  },
  {
   "cell_type": "markdown",
   "metadata": {},
   "source": [
    "The group will choose the proposition with the highest score"
   ]
  },
  {
   "cell_type": "code",
   "execution_count": 41,
   "metadata": {},
   "outputs": [],
   "source": [
    "def group_choice(choices_with_values):\n",
    "\n",
    "    sorted_choices = sorted(choices_with_values, key=lambda x: x[1], reverse=True)\n",
    "    group_choices = [choice[0] for choice in sorted_choices]\n",
    "    group_choice = group_choices[0]\n",
    "    \n",
    "    return group_choice\n"
   ]
  },
  {
   "cell_type": "markdown",
   "metadata": {},
   "source": [
    "Case of groups with WCHR passengers"
   ]
  },
  {
   "cell_type": "code",
   "execution_count": 42,
   "metadata": {},
   "outputs": [],
   "source": [
    "def choice_wchr(group, S_dyn, Choices_dict): #group number and dynamic dictionnary of allocations\n",
    "\n",
    "    #Initialization of the list of choices \n",
    "    Choices = []\n",
    "    #Characteristics of the group\n",
    "    size = len(group_dico[group])\n",
    "    nb_wchr = date[group][2]\n",
    "\n",
    "    for g in group_dico:\n",
    "        nb_wchr_g=date[g][2]\n",
    "        passengers_g = group_dico[g]\n",
    "        size_g = len(passengers_g)\n",
    "        C=[]\n",
    "        #If g gets WCHR passengers\n",
    "        if nb_wchr_g != 0:\n",
    "            #If same number of WCHR passengers\n",
    "            if nb_wchr == nb_wchr_g :\n",
    "                #if same size of group\n",
    "                if size == size_g:\n",
    "                    for j in range (1, ns+1):\n",
    "                        for i in passengers_g : \n",
    "                            if S_dyn[(i,j)] == 1:\n",
    "                                C+=[j]\n",
    "\n",
    "        if C != [] and C not in Choices_dict.values():        \n",
    "            Choices +=[C]\n",
    "                # else:\n",
    "                #     difference = abs(size-size_g)\n",
    "                #     choices=possible_choice_same_size(difference)\n",
    "    return Choices\n"
   ]
  },
  {
   "cell_type": "code",
   "execution_count": 43,
   "metadata": {},
   "outputs": [],
   "source": [
    "def dyn_model_wchr(group, S_dyn, Choices_dict, satis_choice_dict, order):\n",
    "\n",
    "    possibilities = choice_wchr(group, S_dyn, Choices_dict)\n",
    "    k = random.randint (0, len(possibilities)-1)\n",
    "    choice = possibilities[k]\n",
    "    Choices_dict[group]=choice\n",
    "    satis_choice_dict[order.index(group)]= {'group_len':len(group_dico[group]),'number_choices':len(possibilities), 'wchr?':1, \"group\":group} \n",
    "    \n",
    "    for i in group_dico[group]:\n",
    "        for j in range (1, ns+1):\n",
    "            if S_dyn[(i,j)] == 1:\n",
    "                ancient_seat = j\n",
    "    \n",
    "        i_gets_seat=False\n",
    "        k=0    \n",
    "        while not i_gets_seat:\n",
    "            seat = choice[k]\n",
    "            for p in Passengers:\n",
    "                if S_dyn[(p,seat)] == 1: \n",
    "                    if (Passengers[i]['gender'] == \"WCHR\" and Passengers[p]['gender'] == \"WCHR\") or (Passengers[i]['gender'] != \"WCHR\" and Passengers[p]['gender'] != \"WCHR\") :\n",
    "                        i_gets_seat =True\n",
    "                        exchanged_passenger = p\n",
    "                        choice.remove(seat)\n",
    "    \n",
    "            k+=1\n",
    "                     \n",
    "        S_dyn[(i, ancient_seat)]=0\n",
    "        S_dyn[(i, seat)]= 1 \n",
    "        S_dyn[(exchanged_passenger, seat)]= 0\n",
    "        S_dyn[(exchanged_passenger, ancient_seat)]=1\n",
    "        \n",
    "    return S_dyn, satis_choice_dict, Choices_dict"
   ]
  },
  {
   "cell_type": "markdown",
   "metadata": {},
   "source": [
    "We run the dynamic model for every group"
   ]
  },
  {
   "cell_type": "code",
   "execution_count": 44,
   "metadata": {},
   "outputs": [],
   "source": [
    "\n",
    "def dynamic_model(temoin_S, Choices_dict):\n",
    "\n",
    "    S_dyn=temoin_S.copy()    #On initialise le dictionnaire des attributions du modèle dynamique avec celui du modèle statique.\n",
    "    satis_choice_dict = {}\n",
    "    order = Random_order()\n",
    "\n",
    "    for group in order:\n",
    "        \n",
    "        #Case with WCHR passenger\n",
    "        if date[group][2] > 0 and group not in Choices_dict:\n",
    "            S_dyn, satis_choice_dict, Choices_dict = dyn_model_wchr(group, S_dyn, Choices_dict, satis_choice_dict, order)\n",
    "\n",
    "        #Case without WCHR passenger\n",
    "        if date[group][2] == 0 and group not in Choices_dict:\n",
    "            size=len(group_dico[group])\n",
    "            choices = possible_choice (size, S_dyn)\n",
    "            choix_moins=group_choices_available(choices, Choices_dict)\n",
    "            choix_transit = transit_filter(group, choix_moins)\n",
    "            choix_bar=barycenter_filter(group, choix_transit, S_dyn)\n",
    "            choix_tries=assign_values(group, choix_bar)\n",
    "            choice = group_choice(choix_tries)\n",
    "\n",
    "            Choices_dict[group]=choice    #On ajoute le choix du groupe au dict des choix\n",
    "\n",
    "            group_passengers = group_dico[group]    #Liste des passagers du groupe group\n",
    "\n",
    "            #on relève le nombre de choix possibles pour le groupe, sa taille et son ordre de passage\n",
    "            satis_choice_dict[order.index(group)]= {'group_len':len(group_passengers),'number_choices':len(choix_bar), 'wchr?':0, 'group':group}    \n",
    "\n",
    "            #We get the ancient seats of the group, ordered \n",
    "            Ancient_seats =[]\n",
    "            for passenger in group_passengers:\n",
    "                for s in range (1, ns+1):\n",
    "                    if S_dyn[(passenger, s)] == 1:\n",
    "                        Ancient_seats += [s]\n",
    "            Ancient_seats.sort()      #Trier cette liste revient à attribuer de manière aléatoire les places\n",
    "\n",
    "            k=0\n",
    "            for seat in choice:   #Par construction, l'ordre des places dans choice conserve l'ordre des groupes\n",
    "                s = Ancient_seats[k]       #On récupère les sièges d'Ancient_seats dans l'ordre\n",
    "                for p in Passengers :\n",
    "                    if S_dyn[(p,seat)] == 1 :\n",
    "                        exchanged_passenger = p\n",
    "                        for passenger in group_passengers:\n",
    "                            if S_dyn[(passenger, s)] == 1:\n",
    "                                new_passenger = passenger\n",
    "                S_dyn[(exchanged_passenger, seat)] = 0\n",
    "                S_dyn[(new_passenger, s)] = 0\n",
    "                S_dyn[(exchanged_passenger, s)] = 1\n",
    "                S_dyn[(new_passenger, seat)] = 1   #important de terminer par une attribution égale à 1 dans le cas où new_passenger=exchanged_passenger \n",
    "\n",
    "                k+=1\n",
    "\n",
    "    return S_dyn, satis_choice_dict"
   ]
  },
  {
   "cell_type": "code",
   "execution_count": 45,
   "metadata": {},
   "outputs": [],
   "source": [
    "Choices_dict ={}\n",
    "S_dyn, satis_dict = dynamic_model(temoin_S, Choices_dict)"
   ]
  },
  {
   "cell_type": "markdown",
   "metadata": {},
   "source": [
    "Vizualisation of the dynamic allocation"
   ]
  },
  {
   "cell_type": "code",
   "execution_count": 46,
   "metadata": {},
   "outputs": [
    {
     "data": {
      "image/png": "[encoded data removed]",
      "text/plain": [
       "<Figure size 1000x1000 with 1 Axes>"
      ]
     },
     "metadata": {},
     "output_type": "display_data"
    }
   ],
   "source": [
    "# Creating a variable called seats containing only the j coordinates\n",
    "seats = [j for i in range(1, n + 1) for j in range(1, ns + 1) if S_dyn[(i, j)]]\n",
    "seat_coords = seat_coordinates(seats)\n",
    "\n",
    "\n",
    "# Display the Baricenter\n",
    "\n",
    "def calculate_center_of_mass(seat_coords, Passengers):\n",
    "    x_g = 0\n",
    "    y_g = 0\n",
    "    total_weight = sum(Passengers[i]['weight'] for i in range(1, n + 1))\n",
    "\n",
    "    for i in range(1, n + 1):\n",
    "        j_k = 1\n",
    "\n",
    "        for j in range(1, ns + 1):\n",
    "            weight_ij = Passengers[i]['weight'] / total_weight\n",
    "\n",
    "            if (j % 7 == 0):\n",
    "                x_g += (7 * S_dyn[i, j] * weight_ij)\n",
    "                y_g += (j_k * S_dyn[i, j] * weight_ij)\n",
    "                j_k += 1\n",
    "            else:\n",
    "                x_g += ((j % 7) * S_dyn[i, j] * weight_ij)\n",
    "                y_g += (((j // 7) + 1) * S_dyn[i, j] * weight_ij)\n",
    "\n",
    "    return x_g, y_g\n",
    "\n",
    "x_g, y_g = calculate_center_of_mass(seat_coords, Passengers)\n",
    "\n",
    "\n",
    "\n",
    "# Dictionary to count the frequency of each group\n",
    "group_counts = defaultdict(int)\n",
    "\n",
    "# Counting the frequency of each group\n",
    "for passenger in Passengers.values():\n",
    "    group_counts[passenger['group']] += 1\n",
    "# Sort the groups by the number of passengers in each group in descending order\n",
    "sorted_groups = sorted(group_counts.items(), key=lambda x: x[1], reverse=True)\n",
    "\n",
    "# Print the groups in ascending order with the number of passengers in each group\n",
    "#print(\"Groups in ascending order with the number of passengers in each group:\")\n",
    "#for group, count in sorted_groups:\n",
    "#    print(f\"Group {group}: {count} passengers\")\n",
    "\n",
    "# Define shapes for each gender\n",
    "shapes = {\n",
    "    'Femmes': 'o',   # Circule\n",
    "    'Hommes': 's',   # Square\n",
    "    'WCHR': '^'      # Triangule\n",
    "}\n",
    "\n",
    "# Define colors for the groups with 3 passangers\n",
    "colors = {\n",
    "    11: 'red',\n",
    "    5: 'green',\n",
    "    67: 'blue',\n",
    "    24: 'orange',\n",
    "    17: 'purple',\n",
    "    46: 'gray',\n",
    "    3: 'yellow',\n",
    "    59: 'cyan',\n",
    "    23: 'peru',\n",
    "    76:'palegreen',\n",
    "    52: 'pink',\n",
    "    19:'deeppink',\n",
    "    36:'skyblue'\n",
    "}\n",
    "\n",
    "plt.figure(figsize=(10, 10))\n",
    "for idx, coord in enumerate(seat_coords):\n",
    "    group = Passengers[idx + 1]['group']\n",
    "    gender = Passengers[idx + 1]['gender']\n",
    "    color = colors.get(group, 'black')  # Get color for the group, default to black if not in colors dictionary\n",
    "    shape = shapes.get(gender, 'o')      # Get shape for the gender, default to circle if not in shapes dictionary\n",
    "    plt.scatter(coord[0], coord[1], color=color, marker=shape,  s=100)  # Use marker parameter to set the shape\n",
    "    \n",
    "# Add labels for each gender\n",
    "for gender, shape in shapes.items():\n",
    "    plt.scatter([], [], color='black', marker=shape, label=gender)  # Create invisible scatter plot to add label\n",
    "\n",
    "# Plotting the center of mass\n",
    "plt.scatter(x_g, y_g, color='red', marker='o', s=150, label='Center of mass')  # Larger red point for center of mass\n",
    "\n",
    "plt.xlabel('Col')\n",
    "plt.ylabel('Row')\n",
    "plt.title('Siege')\n",
    "plt.grid(True)\n",
    "plt.gca().invert_yaxis()\n",
    "plt.legend()  # Show legend with gender labels\n",
    "plt.show()"
   ]
  },
  {
   "cell_type": "markdown",
   "metadata": {},
   "source": [
    "## Satisfaction evaluation for the dynamic model"
   ]
  },
  {
   "cell_type": "code",
   "execution_count": 47,
   "metadata": {},
   "outputs": [
    {
     "name": "stdout",
     "output_type": "stream",
     "text": [
      "[[0, 60], [1, 59], [3, 58], [4, 73], [5, 56], [7, 55], [12, 70], [13, 53], [15, 68], [17, 67], [18, 66], [21, 65], [23, 64], [24, 48], [25, 47], [28, 46], [30, 60], [32, 44], [33, 58], [35, 57], [36, 56], [39, 41], [40, 54], [41, 39], [42, 38], [45, 37], [46, 36], [47, 35], [48, 34], [50, 33], [51, 46], [53, 45], [54, 30], [55, 29], [58, 42], [61, 34], [62, 40], [63, 32], [64, 31], [65, 30], [67, 31], [68, 35], [69, 29], [70, 28], [71, 27], [72, 31], [73, 30], [74, 29], [75, 23], [76, 22], [77, 26], [78, 20], [79, 24], [80, 23], [81, 18], [82, 17], [83, 16], [84, 15], [86, 14], [88, 13], [89, 12], [90, 11], [91, 10], [92, 13], [93, 12], [94, 11], [96, 8], [99, 7], [100, 6], [101, 5], [102, 4], [103, 5], [105, 2], [106, 1], [107, 1], [109, 1]]\n"
     ]
    }
   ],
   "source": [
    "print ([[ordre, satis_dict[ordre]['number_choices']] for ordre in satis_dict if satis_dict[ordre]['group_len'] == 1])"
   ]
  },
  {
   "cell_type": "code",
   "execution_count": 48,
   "metadata": {},
   "outputs": [
    {
     "data": {
      "image/png": "[encoded data removed]",
      "text/plain": [
       "<Figure size 640x480 with 1 Axes>"
      ]
     },
     "metadata": {},
     "output_type": "display_data"
    }
   ],
   "source": [
    "def choices_number (l):\n",
    "\n",
    "    O =[]\n",
    "    N=[]\n",
    "    dynamic_argument = l\n",
    "\n",
    "    for ordre in satis_dict :\n",
    "        if satis_dict[ordre]['group_len'] == l and (date[satis_dict[ordre]['group']][3] == 0 or date[satis_dict[ordre]['group']][3] > 120 ):\n",
    "            O+=[ordre]\n",
    "            nb_choices = satis_dict[ordre]['number_choices']\n",
    "            N+=[nb_choices]\n",
    "\n",
    "    \n",
    "    plt.plot(O, N)\n",
    "    plt.title(f'Choices depending on the order of registration for groups of 1')\n",
    "    plt.show()\n",
    "\n",
    "\n",
    "choices_number(1)\n",
    "\n",
    "    "
   ]
  },
  {
   "cell_type": "code",
   "execution_count": 49,
   "metadata": {},
   "outputs": [
    {
     "name": "stdout",
     "output_type": "stream",
     "text": [
      "La satisfaction moyenne des passagers est de  93.10154525386312 %\n",
      "La satisfaction moyenne des passagers en transit est de  90.17660044150112 %\n",
      "La satisfaction moyenne des groupes est de  97.2972972972973 %\n"
     ]
    }
   ],
   "source": [
    "moyenne, s_transit, s_groupe = metrique_globale_stricte(Passengers, S_dyn)\n",
    "\n",
    "# print (\"Le pire niveau de satisfaction est de \", m*100, \"%\")\n",
    "# print (\"Le meilleur niveau de satisfaction est de \", M*100, \"%\")\n",
    "print (\"La satisfaction moyenne des passagers est de \", moyenne*100, \"%\")\n",
    "print (\"La satisfaction moyenne des passagers en transit est de \", s_transit*100,'%')\n",
    "print (\"La satisfaction moyenne des groupes est de \", s_groupe*100,'%')"
   ]
  },
  {
   "cell_type": "markdown",
   "metadata": {},
   "source": [
    "## Seats chosen in advance"
   ]
  },
  {
   "cell_type": "markdown",
   "metadata": {},
   "source": [
    "Some passengers choose their seat in advance"
   ]
  },
  {
   "cell_type": "code",
   "execution_count": 50,
   "metadata": {},
   "outputs": [],
   "source": [
    "passengers_choices_empty={}\n",
    "passengers_choices_test={1: 22, 2:23, 3:24, 4:26, 5: 89, 6:43 , 7:44 ,8:178, 9:180, 10:181, 11:182, 12:141, 17: 148, 21: 3, 22:2, 23:1, 24:9, 25:10, 27:169 , 28:77 ,36:19, 37:20, 38:21, 48:6, 49:7, 52: 12, 53:13, 54:35, 58:78, 59:79, 60:80, 67:66, 68:143, 69:49, 70:63, 80:117, 81:118, 82:119, 83:101, 84:194, 89:15, 90:16, 91:17, 92:168, 93:167, 100:97, 101:98, 102:199, 103: 108, 104: 5, 105:133, 108:50, 109:30, 110:31, 111:36, 112:42, 113: 40}\n",
    "#26:59, 27:64, 28:78, 29:43,30:44,\n",
    "passengers_choices_12pourcent = {1: 22, 2:23, 3:24, 4:26, 5: 89, 8:178, 9:180, 10:181, 11:182, 36:75,37:76,38:77, 6:49, 7:48}\n",
    "passengers_choices_quart = {1: 22, 2:23, 3:24, 4:26, 5: 89,8:178, 9:180, 10:181, 11:182, 12:141, 17: 148, 21: 3, 22:2, 23:1, 24:9, 25:10, 36:75, 37:76, 38:77, 67:66, 68:143, 69:49,70:63, 92:168, 93:167, 102:199, 103: 108, 104: 5, 105:133}\n",
    "passengers_choices_tiers={1: 22, 2:23, 3:24, 4:26, 5: 89,8:178, 9:180, 10:181, 11:182, 12:141, 17: 148, 21: 3, 22:2, 23:1, 24:9, 25:10, 36:19, 37:20, 38:21, 48:6, 49:7, 67:66, 68:143, 69:49, 70:63, 80:117, 81:118, 82:119, 83:101, 84:194, 92:168, 93:167, 100:97, 101:98, 102:199, 103: 108, 104: 5, 105:133, 108:50}\n",
    "passengers_choices_demi= {1: 22, 2:23, 3:24, 4:26, 5: 89, 6:43 , 7:44 ,8:178, 9:180, 10:181, 11:182, 12:141, 17: 148, 21: 3, 22:2, 23:1, 24:9, 25:10, 27:169 , 28:77 ,36:19, 37:20, 38:21, 48:6, 49:7, 52: 12, 53:13, 54:35, 58:78, 59:79, 60:80, 67:66, 68:143, 69:49, 70:63, 80:117, 81:118, 82:119, 83:101, 84:194, 89:15, 90:16, 91:17, 92:168, 93:167, 100:97, 101:98, 102:199, 103: 108, 104: 5, 105:133, 108:50, 109:30, 110:31, 111:36, 112:42, 113: 40}"
   ]
  },
  {
   "cell_type": "code",
   "execution_count": 51,
   "metadata": {},
   "outputs": [],
   "source": [
    "passengers_choices = passengers_choices_empty"
   ]
  },
  {
   "cell_type": "markdown",
   "metadata": {},
   "source": [
    "We run our static and dynamic model with these new constraints"
   ]
  },
  {
   "cell_type": "code",
   "execution_count": 52,
   "metadata": {},
   "outputs": [],
   "source": [
    "n=len(Passengers)\n",
    "m, A = create_model_and_variables(Passengers)\n",
    "\n",
    "for i in passengers_choices:\n",
    "    m.addConstr(A[(i,passengers_choices[i])] == 1)\n",
    "\n",
    "m.setObjective(obj_transit(A, Passengers) + obj_dist(Passengers, alpha, A) , GRB.MINIMIZE)\n",
    "\n"
   ]
  },
  {
   "cell_type": "code",
   "execution_count": 53,
   "metadata": {},
   "outputs": [
    {
     "data": {
      "text/plain": [
       "<gurobi.Model MIP instance statique: 4925 constrs, 30955 vars, Parameter changes: Username=(user-defined), OutputFlag=0>"
      ]
     },
     "metadata": {},
     "output_type": "display_data"
    }
   ],
   "source": [
    "# Choice of minimalist display settings\n",
    "m.params.outputflag = 0 # mute mode\n",
    "m.update() # Model update\n",
    "display(m) # Text mode display of PL\n"
   ]
  },
  {
   "cell_type": "code",
   "execution_count": 54,
   "metadata": {},
   "outputs": [
    {
     "name": "stdout",
     "output_type": "stream",
     "text": [
      "\n",
      "Seats on the plane are as follows: [(1, 31), (2, 126), (3, 188), (4, 162), (5, 83), (6, 84), (7, 202), (8, 79), (9, 34), (10, 33), (11, 80), (12, 136), (13, 97), (14, 96), (15, 24), (16, 148), (17, 168), (18, 167), (19, 98), (20, 47), (21, 1), (22, 2), (23, 70), (24, 180), (25, 178), (26, 182), (27, 181), (28, 17), (29, 19), (30, 16), (31, 15), (32, 113), (33, 114), (34, 20), (35, 6), (36, 5), (37, 170), (38, 171), (39, 40), (40, 197), (41, 149), (42, 150), (43, 87), (44, 94), (45, 78), (46, 44), (47, 45), (48, 169), (49, 103), (50, 49), (51, 48), (52, 27), (53, 26), (54, 122), (55, 72), (56, 85), (57, 110), (58, 111), (59, 3), (60, 187), (61, 112), (62, 120), (63, 199), (64, 128), (65, 127), (66, 38), (67, 35), (68, 22), (69, 203), (70, 164), (71, 196), (72, 195), (73, 7), (74, 10), (75, 152), (76, 175), (77, 174), (78, 141), (79, 142), (80, 50), (81, 51), (82, 184), (83, 30), (84, 29), (85, 57), (86, 153), (87, 154), (88, 124), (89, 69), (90, 68), (91, 76), (92, 118), (93, 119), (94, 117), (95, 82), (96, 191), (97, 177), (98, 176), (99, 173), (100, 108), (101, 64), (102, 65), (103, 189), (104, 91), (105, 23), (106, 43), (107, 56), (108, 9), (109, 8), (110, 89), (111, 125), (112, 58), (113, 71), (114, 62), (115, 59), (116, 63), (117, 61), (118, 28), (119, 12), (120, 13), (121, 183), (122, 66), (123, 140), (124, 14), (125, 135), (126, 134), (127, 190), (128, 198), (129, 36), (130, 37), (131, 73), (132, 105), (133, 133), (134, 86), (135, 121), (136, 194), (137, 52), (138, 41), (139, 42), (140, 106), (141, 107), (142, 75), (143, 77), (144, 90), (145, 100), (146, 99), (147, 93), (148, 92), (149, 55), (150, 54), (151, 21)]\n"
     ]
    }
   ],
   "source": [
    "#On fixe la limite de temps à 60s car pour 120s des passagers se voient attribuer plusieurs sièges, malgré la contrainte d'unicité...\n",
    "m.Params.timeLimit = 120\n",
    "m.optimize()\n",
    "# Solution display \n",
    "print()\n",
    "print(\"Seats on the plane are as follows:\", [(i, j) for i in range(1, len(Passengers) + 1) for j in range(1, ns + 1) if A[(i, j)].x])"
   ]
  },
  {
   "cell_type": "code",
   "execution_count": 55,
   "metadata": {},
   "outputs": [
    {
     "name": "stdout",
     "output_type": "stream",
     "text": [
      "[(1, 31), (2, 126), (3, 188), (4, 162), (5, 83), (6, 84), (7, 202), (8, 79), (9, 34), (10, 33), (11, 80), (12, 136), (13, 97), (14, 96), (15, 24), (16, 148), (17, 168), (18, 167), (19, 98), (20, 47), (21, 1), (22, 2), (23, 70), (24, 180), (25, 178), (26, 182), (27, 181), (28, 17), (29, 19), (30, 16), (31, 15), (32, 113), (33, 114), (34, 20), (35, 6), (36, 5), (37, 170), (38, 171), (39, 40), (40, 197), (41, 149), (42, 150), (43, 87), (44, 94), (45, 78), (46, 44), (47, 45), (48, 169), (49, 103), (50, 49), (51, 48), (52, 27), (53, 26), (54, 122), (55, 72), (56, 85), (57, 110), (58, 111), (59, 3), (60, 187), (61, 112), (62, 120), (63, 199), (64, 128), (65, 127), (66, 38), (67, 35), (68, 22), (69, 203), (70, 164), (71, 196), (72, 195), (73, 7), (74, 10), (75, 152), (76, 175), (77, 174), (78, 141), (79, 142), (80, 50), (81, 51), (82, 184), (83, 30), (84, 29), (85, 57), (86, 153), (87, 154), (88, 124), (89, 69), (90, 68), (91, 76), (92, 118), (93, 119), (94, 117), (95, 82), (96, 191), (97, 177), (98, 176), (99, 173), (100, 108), (101, 64), (102, 65), (103, 189), (104, 91), (105, 23), (106, 43), (107, 56), (108, 9), (109, 8), (110, 89), (111, 125), (112, 58), (113, 71), (114, 62), (115, 59), (116, 63), (117, 61), (118, 28), (119, 12), (120, 13), (121, 183), (122, 66), (123, 140), (124, 14), (125, 135), (126, 134), (127, 190), (128, 198), (129, 36), (130, 37), (131, 73), (132, 105), (133, 133), (134, 86), (135, 121), (136, 194), (137, 52), (138, 41), (139, 42), (140, 106), (141, 107), (142, 75), (143, 77), (144, 90), (145, 100), (146, 99), (147, 93), (148, 92), (149, 55), (150, 54), (151, 21)]\n"
     ]
    }
   ],
   "source": [
    "temoin_A=valeurs_var(A)\n",
    "print([(i, j) for i in range(1, len(Passengers) + 1) for j in range(1, ns + 1) if temoin_A[(i, j)] == 1])"
   ]
  },
  {
   "cell_type": "code",
   "execution_count": 56,
   "metadata": {},
   "outputs": [],
   "source": [
    "Choices_dict = {}\n",
    "for g in group_dico:\n",
    "    passengers=group_dico[g]\n",
    "    L=[]\n",
    "    for passenger in passengers:\n",
    "        if passenger in passengers_choices:\n",
    "            L+=[passengers_choices[passenger]]\n",
    "    if L != []:\n",
    "        Choices_dict[g] = L\n",
    "            "
   ]
  },
  {
   "cell_type": "code",
   "execution_count": 57,
   "metadata": {},
   "outputs": [
    {
     "name": "stdout",
     "output_type": "stream",
     "text": [
      "Seats on the plane are as follows: [(1, 10), (2, 75), (3, 63), (4, 194), (5, 99), (6, 100), (7, 78), (8, 190), (9, 12), (10, 13), (11, 108), (12, 52), (13, 174), (14, 175), (15, 169), (16, 80), (17, 106), (18, 107), (19, 183), (20, 56), (21, 36), (22, 37), (23, 3), (24, 180), (25, 178), (26, 182), (27, 181), (28, 19), (29, 17), (30, 15), (31, 16), (32, 176), (33, 177), (34, 187), (35, 38), (36, 40), (37, 97), (38, 96), (39, 21), (40, 57), (41, 168), (42, 167), (43, 77), (44, 121), (45, 65), (46, 8), (47, 9), (48, 69), (49, 133), (50, 2), (51, 1), (52, 110), (53, 111), (54, 91), (55, 58), (56, 87), (57, 27), (58, 26), (59, 148), (60, 94), (61, 79), (62, 122), (63, 55), (64, 114), (65, 113), (66, 72), (67, 197), (68, 62), (69, 64), (70, 184), (71, 128), (72, 127), (73, 90), (74, 136), (75, 59), (76, 93), (77, 92), (78, 134), (79, 135), (80, 149), (81, 150), (82, 126), (83, 5), (84, 6), (85, 70), (86, 49), (87, 48), (88, 152), (89, 35), (90, 31), (91, 125), (92, 119), (93, 118), (94, 117), (95, 199), (96, 89), (97, 171), (98, 170), (99, 76), (100, 191), (101, 29), (102, 30), (103, 162), (104, 164), (105, 188), (106, 124), (107, 203), (108, 42), (109, 41), (110, 173), (111, 103), (112, 189), (113, 66), (114, 44), (115, 198), (116, 86), (117, 71), (118, 85), (119, 153), (120, 154), (121, 82), (122, 20), (123, 61), (124, 112), (125, 196), (126, 195), (127, 68), (128, 45), (129, 24), (130, 28), (131, 105), (132, 140), (133, 120), (134, 54), (135, 47), (136, 7), (137, 43), (138, 34), (139, 33), (140, 50), (141, 51), (142, 202), (143, 98), (144, 14), (145, 84), (146, 83), (147, 142), (148, 141), (149, 23), (150, 22), (151, 73)]\n"
     ]
    }
   ],
   "source": [
    "A_dyn, satis_dict_A = dynamic_model(temoin_A, Choices_dict)\n",
    "print(\"Seats on the plane are as follows:\", [(i, j) for i in range(1, len(Passengers) + 1) for j in range(1, ns + 1) if A_dyn[(i, j)]])"
   ]
  },
  {
   "cell_type": "markdown",
   "metadata": {},
   "source": [
    "Satisfaction à l'issue du modèle statique"
   ]
  },
  {
   "cell_type": "code",
   "execution_count": 58,
   "metadata": {},
   "outputs": [
    {
     "name": "stdout",
     "output_type": "stream",
     "text": [
      "La satisfaction moyenne des passagers est de  98.67549668874173 %\n",
      "La satisfaction moyenne des passagers en transit est de  97.35099337748345 %\n",
      "La satisfaction moyenne des groupes est de  100.0 %\n"
     ]
    }
   ],
   "source": [
    "moyenne, s_transit, s_groupe = metrique_globale_stricte(Passengers, temoin_A)\n",
    "\n",
    "# print (\"Le pire niveau de satisfaction est de \", m*100, \"%\")\n",
    "# print (\"Le meilleur niveau de satisfaction est de \", M*100, \"%\")\n",
    "print (\"La satisfaction moyenne des passagers est de \", moyenne*100, \"%\")\n",
    "print (\"La satisfaction moyenne des passagers en transit est de \", s_transit*100,'%')\n",
    "print (\"La satisfaction moyenne des groupes est de \", s_groupe*100,'%')"
   ]
  },
  {
   "cell_type": "markdown",
   "metadata": {},
   "source": [
    "Satisfaction à l'issue du modèle dynamique"
   ]
  },
  {
   "cell_type": "code",
   "execution_count": 59,
   "metadata": {},
   "outputs": [
    {
     "name": "stdout",
     "output_type": "stream",
     "text": [
      "La satisfaction moyenne des passagers est de  92.16335540838851 %\n",
      "La satisfaction moyenne des passagers en transit est de  87.63796909492274 %\n",
      "La satisfaction moyenne des groupes est de  97.74774774774775 %\n"
     ]
    }
   ],
   "source": [
    "moyenne, s_transit, s_groupe = metrique_globale_stricte(Passengers, A_dyn)\n",
    "\n",
    "# print (\"Le pire niveau de satisfaction est de \", m*100, \"%\")\n",
    "# print (\"Le meilleur niveau de satisfaction est de \", M*100, \"%\")\n",
    "print (\"La satisfaction moyenne des passagers est de \", moyenne*100, \"%\")\n",
    "print (\"La satisfaction moyenne des passagers en transit est de \", s_transit*100,'%')\n",
    "print (\"La satisfaction moyenne des groupes est de \", s_groupe*100,'%')"
   ]
  },
  {
   "cell_type": "markdown",
   "metadata": {},
   "source": [
    "Comparaison avec la satisfaction du modèle statique sans réservation avant enregistrement"
   ]
  },
  {
   "cell_type": "code",
   "execution_count": 60,
   "metadata": {},
   "outputs": [
    {
     "name": "stdout",
     "output_type": "stream",
     "text": [
      "La satisfaction moyenne des passagers est de  98.67549668874173 %\n",
      "La satisfaction moyenne des passagers en transit est de  97.35099337748345 %\n",
      "La satisfaction moyenne des groupes est de  100.0 %\n"
     ]
    }
   ],
   "source": [
    "moyenne, s_transit, s_groupe = metrique_globale_stricte(Passengers, temoin_S)\n",
    "\n",
    "# print (\"Le pire niveau de satisfaction est de \", m*100, \"%\")\n",
    "# print (\"Le meilleur niveau de satisfaction est de \", M*100, \"%\")\n",
    "print (\"La satisfaction moyenne des passagers est de \", moyenne*100, \"%\")\n",
    "print (\"La satisfaction moyenne des passagers en transit est de \", s_transit*100,'%')\n",
    "print (\"La satisfaction moyenne des groupes est de \", s_groupe*100,'%')"
   ]
  },
  {
   "cell_type": "markdown",
   "metadata": {},
   "source": [
    "Comparaison avec la satisfaction du modèle dynamique sans réservation avant enregistrement"
   ]
  },
  {
   "cell_type": "code",
   "execution_count": 61,
   "metadata": {},
   "outputs": [
    {
     "name": "stdout",
     "output_type": "stream",
     "text": [
      "La satisfaction moyenne des passagers est de  93.10154525386312 %\n",
      "La satisfaction moyenne des passagers en transit est de  90.17660044150112 %\n",
      "La satisfaction moyenne des groupes est de  97.2972972972973 %\n"
     ]
    }
   ],
   "source": [
    "moyenne, s_transit, s_groupe = metrique_globale_stricte(Passengers, S_dyn)\n",
    "\n",
    "# print (\"Le pire niveau de satisfaction est de \", m*100, \"%\")\n",
    "# print (\"Le meilleur niveau de satisfaction est de \", M*100, \"%\")\n",
    "print (\"La satisfaction moyenne des passagers est de \", moyenne*100, \"%\")\n",
    "print (\"La satisfaction moyenne des passagers en transit est de \", s_transit*100,'%')\n",
    "print (\"La satisfaction moyenne des groupes est de \", s_groupe*100,'%')"
   ]
  }
 ],
 "metadata": {
  "kernelspec": {
   "display_name": "base",
   "language": "python",
   "name": "python3"
  },
  "language_info": {
   "codemirror_mode": {
    "name": "ipython",
    "version": 3
   },
   "file_extension": ".py",
   "mimetype": "text/x-python",
   "name": "python",
   "nbconvert_exporter": "python",
   "pygments_lexer": "ipython3",
   "version": "3.11.5"
  }
 },
 "nbformat": 4,
 "nbformat_minor": 2
}
