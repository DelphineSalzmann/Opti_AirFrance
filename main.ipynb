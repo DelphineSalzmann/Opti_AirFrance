{
 "cells": [
  {
   "cell_type": "markdown",
   "metadata": {},
   "source": [
    "## Import libraries"
   ]
  },
  {
   "cell_type": "code",
<<<<<<< HEAD
   "execution_count": 1,
=======
   "execution_count": 240,
>>>>>>> delphine
   "metadata": {},
   "outputs": [],
   "source": [
    "import numpy as np\n",
    "import pandas as pd\n",
    "import matplotlib.pyplot as plt\n",
    "from gurobipy import *\n",
    "from collections import defaultdict\n",
    "import csv\n",
    "from datetime import datetime\n",
    "import os\n",
    "import random\n"
   ]
  },
  {
   "cell_type": "markdown",
   "metadata": {},
   "source": [
    "## Read and preprocess data\n"
   ]
  },
  {
   "cell_type": "code",
<<<<<<< HEAD
   "execution_count": 2,
=======
   "execution_count": 241,
>>>>>>> delphine
   "metadata": {},
   "outputs": [],
   "source": [
    "def load_data(file_path):\n",
    "    data_dict = dict()\n",
    "\n",
    "    with open(file_path) as file:\n",
    "        reader = csv.DictReader(file)\n",
    "        for row in reader:\n",
    "            if row['Numéro du groupe'] != '':\n",
    "                heures, minutes, _ = map(int, row['TransitTime'].split(':')) \n",
    "                total_minutes = heures * 60 + minutes\n",
    "                data_dict[int(float(row['Numéro du groupe']))] = (\n",
    "                    int(float(row['Femmes'])),\n",
    "                    int(float(row['Hommes'])),\n",
    "                    int(float(row['WCHR'])),\n",
    "                    total_minutes\n",
    "                )\n",
    "\n",
    "    return data_dict\n",
    "\n",
    "# Load data for each file\n",
    "\n",
    "file_names = [\"DataSeating 2024.csv\",\"22Oct.csv\",\"23Oct.csv\",\"24Oct.csv\",\"30Oct.csv\", \"5Nov.csv\", \"7Nov.csv\"]\n",
    "data_directory = 'data'\n",
    "# for eachy dictionary : dict[Numéro du groupe : (Femmes, Hommes, WCHR, TransitTime)]\n",
    "Oct21, Oct22,Oct23, Oct24, Oct30, Nov5, Nov7= [load_data(os.path.join(data_directory, file)) for file in file_names]"
   ]
  },
  {
   "cell_type": "markdown",
   "metadata": {},
   "source": [
    "Transforming data to access each passenger's Id\n"
   ]
  },
  {
   "cell_type": "code",
<<<<<<< HEAD
   "execution_count": 3,
=======
   "execution_count": 242,
>>>>>>> delphine
   "metadata": {},
   "outputs": [
    {
     "name": "stdout",
     "output_type": "stream",
     "text": [
      "{1: {'gender': 'Femmes', 'group': 1, 'weight': 70, 'connection_time': 0}, 2: {'gender': 'Hommes', 'group': 1, 'weight': 85, 'connection_time': 0}, 3: {'gender': 'Hommes', 'group': 1, 'weight': 85, 'connection_time': 0}, 4: {'gender': 'Hommes', 'group': 2, 'weight': 85, 'connection_time': 60}, 5: {'gender': 'Femmes', 'group': 3, 'weight': 70, 'connection_time': 165}, 6: {'gender': 'Hommes', 'group': 3, 'weight': 85, 'connection_time': 165}, 7: {'gender': 'Femmes', 'group': 4, 'weight': 70, 'connection_time': 0}, 8: {'gender': 'Hommes', 'group': 4, 'weight': 85, 'connection_time': 0}, 9: {'gender': 'WCHR', 'group': 4, 'weight': 10000, 'connection_time': 0}, 10: {'gender': 'Femmes', 'group': 5, 'weight': 70, 'connection_time': 0}, 11: {'gender': 'Femmes', 'group': 5, 'weight': 70, 'connection_time': 0}, 12: {'gender': 'Femmes', 'group': 5, 'weight': 70, 'connection_time': 0}, 13: {'gender': 'Femmes', 'group': 6, 'weight': 70, 'connection_time': 0}, 14: {'gender': 'Hommes', 'group': 6, 'weight': 85, 'connection_time': 0}, 15: {'gender': 'Femmes', 'group': 7, 'weight': 70, 'connection_time': 85}, 16: {'gender': 'Hommes', 'group': 7, 'weight': 85, 'connection_time': 85}, 17: {'gender': 'Hommes', 'group': 8, 'weight': 85, 'connection_time': 0}, 18: {'gender': 'Femmes', 'group': 9, 'weight': 70, 'connection_time': 60}, 19: {'gender': 'Femmes', 'group': 9, 'weight': 70, 'connection_time': 60}, 20: {'gender': 'Hommes', 'group': 9, 'weight': 85, 'connection_time': 60}, 21: {'gender': 'Hommes', 'group': 9, 'weight': 85, 'connection_time': 60}, 22: {'gender': 'Femmes', 'group': 10, 'weight': 70, 'connection_time': 0}, 23: {'gender': 'Femmes', 'group': 11, 'weight': 70, 'connection_time': 0}, 24: {'gender': 'Hommes', 'group': 12, 'weight': 85, 'connection_time': 0}, 25: {'gender': 'Hommes', 'group': 12, 'weight': 85, 'connection_time': 0}, 26: {'gender': 'Hommes', 'group': 13, 'weight': 85, 'connection_time': 0}, 27: {'gender': 'Hommes', 'group': 14, 'weight': 85, 'connection_time': 0}, 28: {'gender': 'Hommes', 'group': 14, 'weight': 85, 'connection_time': 0}, 29: {'gender': 'Hommes', 'group': 14, 'weight': 85, 'connection_time': 0}, 30: {'gender': 'Femmes', 'group': 15, 'weight': 70, 'connection_time': 0}, 31: {'gender': 'Femmes', 'group': 15, 'weight': 70, 'connection_time': 0}, 32: {'gender': 'Femmes', 'group': 16, 'weight': 70, 'connection_time': 60}, 33: {'gender': 'Femmes', 'group': 17, 'weight': 70, 'connection_time': 0}, 34: {'gender': 'Femmes', 'group': 18, 'weight': 70, 'connection_time': 0}, 35: {'gender': 'Hommes', 'group': 18, 'weight': 85, 'connection_time': 0}, 36: {'gender': 'Hommes', 'group': 19, 'weight': 85, 'connection_time': 0}, 37: {'gender': 'Femmes', 'group': 20, 'weight': 70, 'connection_time': 0}, 38: {'gender': 'Hommes', 'group': 20, 'weight': 85, 'connection_time': 0}, 39: {'gender': 'Hommes', 'group': 21, 'weight': 85, 'connection_time': 0}, 40: {'gender': 'Hommes', 'group': 22, 'weight': 85, 'connection_time': 0}, 41: {'gender': 'Femmes', 'group': 23, 'weight': 70, 'connection_time': 0}, 42: {'gender': 'Femmes', 'group': 23, 'weight': 70, 'connection_time': 0}, 43: {'gender': 'Hommes', 'group': 23, 'weight': 85, 'connection_time': 0}, 44: {'gender': 'Femmes', 'group': 24, 'weight': 70, 'connection_time': 0}, 45: {'gender': 'Hommes', 'group': 24, 'weight': 85, 'connection_time': 0}, 46: {'gender': 'Femmes', 'group': 26, 'weight': 70, 'connection_time': 0}, 47: {'gender': 'Femmes', 'group': 26, 'weight': 70, 'connection_time': 0}, 48: {'gender': 'Hommes', 'group': 27, 'weight': 85, 'connection_time': 0}, 49: {'gender': 'Hommes', 'group': 28, 'weight': 85, 'connection_time': 0}, 50: {'gender': 'Hommes', 'group': 29, 'weight': 85, 'connection_time': 85}, 51: {'gender': 'Femmes', 'group': 30, 'weight': 70, 'connection_time': 85}, 52: {'gender': 'Hommes', 'group': 30, 'weight': 85, 'connection_time': 85}, 53: {'gender': 'Femmes', 'group': 31, 'weight': 70, 'connection_time': 0}, 54: {'gender': 'Femmes', 'group': 31, 'weight': 70, 'connection_time': 0}, 55: {'gender': 'Hommes', 'group': 31, 'weight': 85, 'connection_time': 0}, 56: {'gender': 'Hommes', 'group': 31, 'weight': 85, 'connection_time': 0}, 57: {'gender': 'Hommes', 'group': 32, 'weight': 85, 'connection_time': 0}, 58: {'gender': 'Hommes', 'group': 32, 'weight': 85, 'connection_time': 0}, 59: {'gender': 'Hommes', 'group': 32, 'weight': 85, 'connection_time': 0}, 60: {'gender': 'Hommes', 'group': 32, 'weight': 85, 'connection_time': 0}, 61: {'gender': 'Hommes', 'group': 32, 'weight': 85, 'connection_time': 0}, 62: {'gender': 'Hommes', 'group': 33, 'weight': 85, 'connection_time': 0}, 63: {'gender': 'Hommes', 'group': 33, 'weight': 85, 'connection_time': 0}, 64: {'gender': 'Hommes', 'group': 33, 'weight': 85, 'connection_time': 0}, 65: {'gender': 'Hommes', 'group': 33, 'weight': 85, 'connection_time': 0}, 66: {'gender': 'Femmes', 'group': 34, 'weight': 70, 'connection_time': 85}, 67: {'gender': 'Hommes', 'group': 34, 'weight': 85, 'connection_time': 85}, 68: {'gender': 'Femmes', 'group': 35, 'weight': 70, 'connection_time': 0}, 69: {'gender': 'Hommes', 'group': 35, 'weight': 85, 'connection_time': 0}, 70: {'gender': 'Femmes', 'group': 36, 'weight': 70, 'connection_time': 60}, 71: {'gender': 'Femmes', 'group': 36, 'weight': 70, 'connection_time': 60}, 72: {'gender': 'Hommes', 'group': 37, 'weight': 85, 'connection_time': 0}, 73: {'gender': 'Hommes', 'group': 38, 'weight': 85, 'connection_time': 0}, 74: {'gender': 'Femmes', 'group': 39, 'weight': 70, 'connection_time': 0}, 75: {'gender': 'WCHR', 'group': 39, 'weight': 10000, 'connection_time': 0}, 76: {'gender': 'Femmes', 'group': 40, 'weight': 70, 'connection_time': 0}, 77: {'gender': 'WCHR', 'group': 40, 'weight': 10000, 'connection_time': 0}, 78: {'gender': 'Hommes', 'group': 41, 'weight': 85, 'connection_time': 0}, 79: {'gender': 'Hommes', 'group': 42, 'weight': 85, 'connection_time': 165}, 80: {'gender': 'Femmes', 'group': 43, 'weight': 70, 'connection_time': 0}, 81: {'gender': 'Femmes', 'group': 43, 'weight': 70, 'connection_time': 0}, 82: {'gender': 'Femmes', 'group': 43, 'weight': 70, 'connection_time': 0}, 83: {'gender': 'Femmes', 'group': 43, 'weight': 70, 'connection_time': 0}, 84: {'gender': 'Femmes', 'group': 43, 'weight': 70, 'connection_time': 0}, 85: {'gender': 'Femmes', 'group': 44, 'weight': 70, 'connection_time': 85}, 86: {'gender': 'Femmes', 'group': 44, 'weight': 70, 'connection_time': 85}, 87: {'gender': 'Hommes', 'group': 45, 'weight': 85, 'connection_time': 85}, 88: {'gender': 'Femmes', 'group': 46, 'weight': 70, 'connection_time': 0}, 89: {'gender': 'Hommes', 'group': 46, 'weight': 85, 'connection_time': 0}, 90: {'gender': 'Hommes', 'group': 46, 'weight': 85, 'connection_time': 0}, 91: {'gender': 'Femmes', 'group': 47, 'weight': 70, 'connection_time': 0}, 92: {'gender': 'Femmes', 'group': 48, 'weight': 70, 'connection_time': 0}, 93: {'gender': 'WCHR', 'group': 49, 'weight': 10000, 'connection_time': 0}, 94: {'gender': 'Femmes', 'group': 50, 'weight': 70, 'connection_time': 0}, 95: {'gender': 'Hommes', 'group': 51, 'weight': 85, 'connection_time': 0}, 96: {'gender': 'Femmes', 'group': 52, 'weight': 70, 'connection_time': 0}, 97: {'gender': 'Femmes', 'group': 53, 'weight': 70, 'connection_time': 0}}\n"
     ]
    }
   ],
   "source": [
    "def create_passengers_dict(data):\n",
    "    passengers_dict = {}\n",
    "    j = 1\n",
    "\n",
    "    for group_num, group_data in data.items():\n",
    "        weights = {'Femmes': 70, 'Hommes': 85, 'WCHR': 10000}  # Weight per passenger\n",
    "\n",
    "        # Extracting data\n",
    "        femmes, hommes, wchr, total_minutes = group_data\n",
    "\n",
    "        # Enumerating passengers\n",
    "        for _ in range(femmes + hommes + wchr):\n",
    "            if femmes > 0:\n",
    "                weight = weights['Femmes']\n",
    "                passengers_dict[j] = {'gender': 'Femmes', 'group': group_num, 'weight': weight,\n",
    "                                      'connection_time': total_minutes}\n",
    "                femmes -= 1\n",
    "            elif hommes > 0:\n",
    "                weight = weights['Hommes']\n",
    "                passengers_dict[j] = {'gender': 'Hommes', 'group': group_num, 'weight': weight,\n",
    "                                      'connection_time': total_minutes}\n",
    "                hommes -= 1\n",
    "            else:\n",
    "                weight = weights['WCHR']\n",
    "                passengers_dict[j] = {'gender': 'WCHR', 'group': group_num, 'weight': weight,\n",
    "                                      'connection_time': total_minutes}\n",
    "                wchr -= 1\n",
    "            j += 1\n",
    "\n",
    "    return passengers_dict\n",
    "\n",
    "Passengers_Oct21 = create_passengers_dict(Oct21)\n",
    "Passengers_Oct22 = create_passengers_dict(Oct22)\n",
    "Passengers_Oct23 = create_passengers_dict(Oct23)\n",
    "Passengers_Oct24 = create_passengers_dict(Oct24)\n",
    "Passengers_Oct30 = create_passengers_dict(Oct30)\n",
    "Passengers_Nov5 = create_passengers_dict(Nov5)\n",
    "Passengers_Nov7 = create_passengers_dict(Nov7)\n",
    "\n",
    "# Example usage for Nov5\n",
    "print(Passengers_Nov5)"
   ]
  },
  {
   "cell_type": "markdown",
   "metadata": {},
   "source": [
    "# Static model"
   ]
  },
  {
   "cell_type": "code",
<<<<<<< HEAD
   "execution_count": 4,
=======
   "execution_count": 243,
>>>>>>> delphine
   "metadata": {},
   "outputs": [],
   "source": [
    "# Function to create optimization model and variables\n",
    "\n",
    "ranks = 29  # number of rows in the aircraft\n",
    "ns = 7 * ranks  # number of seats\n",
    "\n",
    "def create_model_and_variables(passengers_dict):\n",
    "    n = len(passengers_dict)  # number of passengers\n",
    "\n",
    "    m = Model('statique')  # Model initialization\n",
    "\n",
    "    # Adding variables\n",
    "    S = {(i, j): m.addVar(vtype=GRB.BINARY, name=f'j{i}') for i in range(1, n + 1) for j in range(1, ns + 1)}\n",
    "\n",
    "    # Adding constraints\n",
    "    # Max. 1 seat per passenger\n",
    "    for j in range(1, ns + 1):\n",
    "        m.addConstr(quicksum(S[(i, j)] for i in range(1, n + 1)) <= 1, name=\"PassengerMax\")\n",
    "\n",
    "    # Each passenger has one and only one seat\n",
    "    for i in range(1, n + 1):\n",
    "        m.addConstr(quicksum(S[(i, j)] for j in range(1, ns + 1)) == 1, name=\"SeatMax\")\n",
    "\n",
    "    # The central aisle is left free\n",
    "    for i in range(1, n + 1):\n",
    "        for j in range(1, ns + 1):\n",
    "            if j % 7 == 4:\n",
    "                m.addConstr(S[(i, j)] == 0)\n",
    "\n",
    "    # Baricenter\n",
    "    x_g = LinExpr()\n",
    "    y_g = LinExpr()\n",
    "\n",
    "    total_weight = quicksum(passengers_dict[i]['weight'] for i in range(1, n + 1)).getValue()\n",
    "\n",
    "    for i in range(1, n + 1):\n",
    "        j_k = 1\n",
    "\n",
    "        for j in range(1, ns + 1):\n",
    "            weight_ij = passengers_dict[i]['weight'] / total_weight\n",
    "\n",
    "            if j % 7 == 0:\n",
    "                x_g += (7 * S[i, j] * weight_ij)\n",
    "                y_g += (j_k * S[i, j] * weight_ij)\n",
    "                j_k += 1\n",
    "            else:\n",
    "                x_g += ((j % 7) * S[i, j] * weight_ij)\n",
    "                y_g += (((j // 7) + 1) * S[i, j] * weight_ij)\n",
    "\n",
    "    m.addConstr(x_g >= 3)\n",
    "    m.addConstr(x_g <= 5)\n",
    "    m.addConstr(y_g >= 13)\n",
    "    m.addConstr(y_g <= 17)\n",
    "\n",
    "    # Disabled passengers occupy 4 spaces on the central aisle\n",
    "    for passenger in passengers_dict:\n",
    "        if passengers_dict[passenger]['gender']=='WCHR':\n",
    "            #Seats are shortened by row (from 7 to 7)\n",
    "            for j in range(1, ns+1-8, 7):             \n",
    "            \n",
    "                x1, x2, x3, x4, x5, x6, x7 = j,j+1,j+2,j+3,j+4,j+5,j+6\n",
    "                \n",
    "                #A seat is fixed in rows 3 or 5.\n",
    "                m.addConstr(S[(passenger, x1)] + S[(passenger, x2)] +  S[(passenger, x6)] + S[(passenger, x7)] ==0 )   \n",
    "                \n",
    "                #The seat overlooking the alley is closed off\n",
    "                m.addConstr(S[(passenger, x3)]+sum(S[(i, x3-1)] for i in passengers_dict) <= 1) \n",
    "                #We close the 2 seats behind\n",
    "                m.addConstr(S[(passenger, x3)]+sum(S[(i, x3+7)] for i in passengers_dict) <= 1) \n",
    "                m.addConstr(S[(passenger, x3)]+sum(S[(i, x3+6)] for i in passengers_dict) <= 1)\n",
    "                #The seat overlooking the alley is closed off\n",
    "                m.addConstr(S[(passenger, x5)]+sum(S[(i, x5+1)] for i in passengers_dict) <= 1) \n",
    "                #We close the 2 seats behind\n",
    "                m.addConstr(S[(passenger, x5)]+sum(S[(i, x5+7)] for i in passengers_dict) <= 1) \n",
    "                m.addConstr(S[(passenger, x5)]+sum(S[(i, x5+8)] for i in passengers_dict) <= 1)\n",
    "            #Disabled passengers cannot be in the last row   \n",
    "            m.addConstr(sum(S[(passenger, k)] for k in range (ns-6, ns+1)) == 0)  \n",
    "\n",
    "    return m, S"
   ]
  },
  {
   "cell_type": "code",
<<<<<<< HEAD
   "execution_count": 5,
=======
   "execution_count": 244,
>>>>>>> delphine
   "metadata": {},
   "outputs": [],
   "source": [
    "#Choice of the dictionnary\n",
    "\n",
<<<<<<< HEAD
    "Passengers=Passengers_Oct24"
=======
    "Passengers=Passengers_Nov5"
>>>>>>> delphine
   ]
  },
  {
   "cell_type": "code",
<<<<<<< HEAD
   "execution_count": 6,
=======
   "execution_count": 245,
>>>>>>> delphine
   "metadata": {},
   "outputs": [
    {
     "name": "stdout",
     "output_type": "stream",
     "text": [
      "Set parameter Username\n",
      "Academic license - for non-commercial use only - expires 2025-03-06\n"
     ]
    }
   ],
   "source": [
    "# Create models and variables for each date\n",
    "n=len(Passengers)\n",
    "m, S = create_model_and_variables(Passengers)\n"
   ]
  },
  {
   "cell_type": "markdown",
   "metadata": {},
   "source": [
    "Objective functions"
   ]
  },
  {
   "cell_type": "code",
<<<<<<< HEAD
   "execution_count": 7,
=======
   "execution_count": 246,
>>>>>>> delphine
   "metadata": {},
   "outputs": [],
   "source": [
    "# Transit passengers are seated at the front of the aircraft\n",
    "def obj_transit(S, passengers_dict):\n",
    "    T = {}\n",
    "\n",
    "    for passenger in passengers_dict:\n",
    "        if passengers_dict[passenger]['connection_time'] > 0:  # transit passenger\n",
    "            T[passenger] = passengers_dict[passenger]['connection_time']\n",
    "\n",
    "    P = list(T.keys())  # returns a list of transit passenger identifiers\n",
    "\n",
    "    f = 0\n",
    "    for k in range(len(P)):\n",
    "        for j in range(1, ns + 1):\n",
    "            q = (j - 1) // 7\n",
    "            f += S[(P[k], j)] * (1 / T[P[k]]) * q\n",
    "\n",
    "    return f\n"
   ]
  },
  {
   "cell_type": "code",
<<<<<<< HEAD
   "execution_count": 8,
=======
   "execution_count": 271,
>>>>>>> delphine
   "metadata": {},
   "outputs": [
    {
     "name": "stdout",
     "output_type": "stream",
     "text": [
      "[(1, 1), (5, 8)]\n"
     ]
    }
   ],
   "source": [
    "def seat_coordinates(seats):  #seats is a list\n",
    "    coordinates = []\n",
    "    for j in range(len(seats)):\n",
    "        if (seats[j] % 7 == 0):\n",
    "            x = 7\n",
    "            y = (seats[j] // 7) \n",
    "        else:\n",
    "            x = seats[j] % 7\n",
    "            y = (seats[j] // 7) +1 \n",
    "        coordinates.append((x, y))\n",
    "    return coordinates\n",
    "\n",
    "print (seat_coordinates([1, 54]))"
   ]
  },
  {
   "cell_type": "code",
<<<<<<< HEAD
   "execution_count": 9,
=======
   "execution_count": 248,
>>>>>>> delphine
   "metadata": {},
   "outputs": [],
   "source": [
    "alpha=0.3\n",
    "\n",
    "def obj_dist(Passengers, alpha):\n",
    "\n",
    "    obj = LinExpr()\n",
    "    X={}\n",
    "    Y={}\n",
    "    coord = seat_coordinates([j for j in range(1, ns+1)])\n",
    "    for i in range(1, n + 1):\n",
    "        X[i]=m.addVar(vtype=GRB.INTEGER)\n",
    "        Y[i]=m.addVar(vtype=GRB.INTEGER)\n",
    "\n",
    "        for k in range(i + 1, n + 1):  \n",
    "            if  i!=k and Passengers[i]['group'] == Passengers[k]['group']:  #Si passager i et passager k sont dans le même groupe\n",
    "\n",
    "                xi, yi = 0, 0\n",
    "                xk, yk = 0, 0\n",
    "\n",
    "                for j in range (len(coord)):                                      #On parcourt les sièges\n",
    "                    xi, yi = xi + S[(i,j+1)]*coord[j][0], yi + S[(i,j+1)]*coord[j][1]\n",
    "                    xk, yk =  xk + S[(k,j+1)]*coord[j][0], yk + S[(k,j+1)]*coord[j][1]\n",
    "                \n",
    "                m.addConstr(X[i]>=xi - xk)\n",
    "                m.addConstr(X[i]>= -xi + xk)\n",
    "                m.addConstr(Y[i]>=yi - yk)\n",
    "                m.addConstr(Y[i]>= -yi + yk)\n",
    "                dist_x = X[i] \n",
    "                dist_y = Y[i]\n",
    "                obj += alpha*dist_x + (1-alpha)*dist_y  \n",
    "                \n",
    "    return obj\n",
    "\n"
   ]
  },
  {
   "cell_type": "code",
<<<<<<< HEAD
   "execution_count": 10,
=======
   "execution_count": 249,
>>>>>>> delphine
   "metadata": {},
   "outputs": [],
   "source": [
    "\n",
    "m.setObjective(obj_transit(S, Passengers) + obj_dist(Passengers, alpha) , GRB.MINIMIZE)"
   ]
  },
  {
   "cell_type": "code",
<<<<<<< HEAD
   "execution_count": 11,
=======
   "execution_count": 250,
>>>>>>> delphine
   "metadata": {},
   "outputs": [
    {
     "data": {
      "text/plain": [
<<<<<<< HEAD
       "<gurobi.Model MIP instance statique: 6163 constrs, 33620 vars, Parameter changes: Username=(user-defined), OutputFlag=0>"
=======
       "<gurobi.Model MIP instance statique: 4193 constrs, 19885 vars, Parameter changes: Username=(user-defined), OutputFlag=0>"
>>>>>>> delphine
      ]
     },
     "metadata": {},
     "output_type": "display_data"
    }
   ],
   "source": [
    "# Choice of minimalist display settings\n",
    "m.params.outputflag = 0 # mute mode\n",
    "m.update() # Model update\n",
    "display(m) # Text mode display of PL\n",
    "\n"
   ]
  },
  {
   "cell_type": "code",
<<<<<<< HEAD
   "execution_count": 12,
=======
   "execution_count": 251,
>>>>>>> delphine
   "metadata": {},
   "outputs": [
    {
     "name": "stdout",
     "output_type": "stream",
     "text": [
      "\n",
<<<<<<< HEAD
      "Seats on the plane are as follows: [(1, 13), (2, 27), (3, 20), (4, 19), (5, 21), (6, 15), (7, 22), (8, 10), (9, 8), (10, 162), (11, 169), (12, 163), (13, 155), (14, 195), (15, 56), (16, 55), (17, 61), (18, 63), (19, 62), (20, 82), (21, 103), (22, 184), (23, 177), (24, 40), (25, 37), (26, 41), (27, 49), (28, 34), (29, 42), (30, 43), (31, 30), (32, 38), (33, 36), (34, 44), (35, 29), (36, 31), (37, 33), (38, 26), (39, 9), (40, 12), (41, 14), (42, 45), (43, 164), (44, 145), (45, 152), (46, 104), (47, 28), (48, 122), (49, 23), (50, 24), (51, 140), (52, 80), (53, 73), (54, 83), (55, 90), (56, 108), (57, 96), (58, 202), (59, 97), (60, 113), (61, 120), (62, 143), (63, 54), (64, 196), (65, 71), (66, 72), (67, 7), (68, 75), (69, 47), (70, 48), (71, 16), (72, 154), (73, 192), (74, 139), (75, 110), (76, 84), (77, 124), (78, 125), (79, 160), (80, 166), (81, 121), (82, 89), (83, 35), (84, 135), (85, 161), (86, 117), (87, 65), (88, 64), (89, 66), (90, 168), (91, 150), (92, 127), (93, 112), (94, 126), (95, 91), (96, 119), (97, 190), (98, 138), (99, 114), (100, 76), (101, 203), (102, 69), (103, 70), (104, 98), (105, 141), (106, 142), (107, 188), (108, 187), (109, 147), (110, 134), (111, 52), (112, 131), (113, 189), (114, 146), (115, 183), (116, 167), (117, 136), (118, 185), (119, 129), (120, 128), (121, 17), (122, 58), (123, 51), (124, 59), (125, 57), (126, 92), (127, 94), (128, 85), (129, 99), (130, 87), (131, 101), (132, 106), (133, 93), (134, 86), (135, 100), (136, 79), (137, 78), (138, 50), (139, 191), (140, 198), (141, 199), (142, 197), (143, 77), (144, 118), (145, 171), (146, 173), (147, 181), (148, 180), (149, 174), (150, 178), (151, 175), (152, 182), (153, 170), (154, 201), (155, 68), (156, 176), (157, 5), (158, 6), (159, 2), (160, 1), (161, 3), (162, 153), (163, 156), (164, 157)]\n"
=======
      "Seats on the plane are as follows: [(1, 100), (2, 99), (3, 101), (4, 12), (5, 23), (6, 22), (7, 40), (8, 33), (9, 47), (10, 79), (11, 78), (12, 80), (13, 104), (14, 105), (15, 16), (16, 17), (17, 36), (18, 3), (19, 5), (20, 1), (21, 2), (22, 77), (23, 56), (24, 191), (25, 192), (26, 68), (27, 135), (28, 136), (29, 134), (30, 112), (31, 111), (32, 8), (33, 63), (34, 29), (35, 30), (36, 182), (37, 121), (38, 122), (39, 85), (40, 118), (41, 132), (42, 133), (43, 131), (44, 65), (45, 66), (46, 154), (47, 153), (48, 98), (49, 203), (50, 15), (51, 13), (52, 14), (53, 97), (54, 90), (55, 89), (56, 91), (57, 142), (58, 143), (59, 150), (60, 148), (61, 149), (62, 184), (63, 177), (64, 176), (65, 178), (66, 20), (67, 21), (68, 126), (69, 125), (70, 7), (71, 6), (72, 49), (73, 162), (74, 106), (75, 108), (76, 38), (77, 45), (78, 59), (79, 28), (80, 166), (81, 167), (82, 174), (83, 175), (84, 173), (85, 10), (86, 9), (87, 19), (88, 188), (89, 189), (90, 187), (91, 202), (92, 27), (93, 157), (94, 152), (95, 86), (96, 76), (97, 113)]\n"
>>>>>>> delphine
     ]
    }
   ],
   "source": [
    "#Resolution\n",
    "m.Params.timeLimit = 120\n",
    "m.optimize()\n",
    "# Solution display \n",
    "print()\n",
    "print(\"Seats on the plane are as follows:\", [(i, j) for i in range(1, len(Passengers) + 1) for j in range(1, ns + 1) if S[(i, j)].x])\n",
    "\n"
   ]
  },
  {
   "cell_type": "markdown",
   "metadata": {},
   "source": [
    "Visualization of the seats"
   ]
  },
  {
   "cell_type": "code",
<<<<<<< HEAD
   "execution_count": 13,
=======
   "execution_count": 270,
>>>>>>> delphine
   "metadata": {},
   "outputs": [
    {
     "data": {
<<<<<<< HEAD
      "image/png": "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",
=======
      "image/png": "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",
>>>>>>> delphine
      "text/plain": [
       "<Figure size 1000x1000 with 1 Axes>"
      ]
     },
     "metadata": {},
     "output_type": "display_data"
    }
   ],
   "source": [
    "# Creating a variable called seats containing only the j coordinates\n",
    "seats = [j for i in range(1, n + 1) for j in range(1, ns + 1) if S[(i, j)].x]\n",
    "seat_coords = seat_coordinates(seats)\n",
    "\n",
    "\n",
    "# Display the Baricenter\n",
    "\n",
    "def calculate_center_of_mass(seat_coords, Passengers):\n",
    "    x_g = LinExpr()\n",
    "    y_g = LinExpr()\n",
    "    total_weight = quicksum(Passengers[i]['weight'] for i in range(1, n + 1)).getValue()\n",
    "\n",
    "    for i in range(1, n + 1):\n",
    "        j_k = 1\n",
    "\n",
    "        for j in range(1, ns + 1):\n",
    "            weight_ij = Passengers[i]['weight'] / total_weight\n",
    "\n",
    "            if (j % 7 == 0):\n",
    "                x_g += (7 * S[i, j] * weight_ij)\n",
    "                y_g += (j_k * S[i, j] * weight_ij)\n",
    "                j_k += 1\n",
    "            else:\n",
    "                x_g += ((j % 7) * S[i, j] * weight_ij)\n",
    "                y_g += (((j // 7) + 1) * S[i, j] * weight_ij)\n",
    "\n",
    "    return x_g, y_g\n",
    "\n",
    "\n",
    "x_g, y_g = calculate_center_of_mass(seat_coords, Passengers)\n",
    "\n",
    "\n",
    "\n",
    "# Dictionary to count the frequency of each group\n",
    "group_counts = defaultdict(int)\n",
    "\n",
    "# Counting the frequency of each group\n",
    "for passenger in Passengers.values():\n",
    "    group_counts[passenger['group']] += 1\n",
    "# Sort the groups by the number of passengers in each group in descending order\n",
    "sorted_groups = sorted(group_counts.items(), key=lambda x: x[1], reverse=True)\n",
    "\n",
    "# Print the groups in ascending order with the number of passengers in each group\n",
    "#print(\"Groups in ascending order with the number of passengers in each group:\")\n",
    "#for group, count in sorted_groups:\n",
    "#    print(f\"Group {group}: {count} passengers\")\n",
    "\n",
    "# Define shapes for each gender\n",
    "shapes = {\n",
    "    'Femmes': 'o',   # Circule\n",
    "    'Hommes': 's',   # Square\n",
    "    'WCHR': '^'      # Triangule\n",
    "}\n",
    "\n",
    "# Define colors for the groups with 3 passangers\n",
    "colors = {\n",
<<<<<<< HEAD
    "    72: 'red',\n",
    "    109: 'green',\n",
    "    67: 'blue',\n",
    "    14: 'orange',\n",
    "    23: 'purple',\n",
    "    46: 'gray',\n",
    "    3: 'yellow',\n",
    "    47: 'cyan',\n",
    "    17: 'peru',\n",
    "    76:'palegreen',\n",
    "    112: 'pink',\n",
    "    117:'deeppink',\n",
    "    3:'skyblue'\n",
=======
    "    1: 'red',\n",
    "    5: 'green',\n",
    "    67: 'blue',\n",
    "    24: 'orange',\n",
    "    30: 'purple',\n",
    "    46: 'gray',\n",
    "    3: 'yellow',\n",
    "    14: 'cyan',\n",
    "    23: 'peru',\n",
    "    76:'palegreen',\n",
    "    32: 'pink',\n",
    "    31:'deeppink',\n",
    "    36:'skyblue'\n",
>>>>>>> delphine
    "}\n",
    "\n",
    "plt.figure(figsize=(10, 10))\n",
    "for idx, coord in enumerate(seat_coords):\n",
    "    group = Passengers[idx + 1]['group']\n",
    "    gender = Passengers[idx + 1]['gender']\n",
    "    color = colors.get(group, 'black')  # Get color for the group, default to black if not in colors dictionary\n",
    "    shape = shapes.get(gender, 'o')      # Get shape for the gender, default to circle if not in shapes dictionary\n",
    "    plt.scatter(coord[0], coord[1], color=color, marker=shape,  s=100)  # Use marker parameter to set the shape\n",
    "    \n",
    "# Add labels for each gender\n",
    "for gender, shape in shapes.items():\n",
    "    plt.scatter([], [], color='black', marker=shape, label=gender)  # Create invisible scatter plot to add label\n",
    "\n",
    "# Plotting the center of mass\n",
    "plt.scatter(x_g.getValue(), y_g.getValue(), color='red', marker='o', s=150, label='Center of mass')  # Larger red point for center of mass\n",
    "\n",
    "plt.xlabel('Col')\n",
    "plt.ylabel('Row')\n",
    "plt.title('Siege')\n",
    "plt.grid(True)\n",
    "plt.gca().invert_yaxis()\n",
    "plt.legend()  # Show legend with gender labels\n",
    "plt.show()"
   ]
  },
  {
   "cell_type": "markdown",
   "metadata": {},
   "source": [
    "Evaluation de la satisfaction client"
   ]
  },
  {
   "cell_type": "markdown",
   "metadata": {},
   "source": [
    "Première métrique qui évalue la satisfaction des passagers pris un par un.\n",
    "Donc même si le groupe n'est pas bien groupé, si le passager est assis à côté d'au moins un des membres de son groupe, il est satisfait."
   ]
  },
  {
   "cell_type": "code",
<<<<<<< HEAD
   "execution_count": 14,
=======
   "execution_count": 253,
>>>>>>> delphine
   "metadata": {},
   "outputs": [
    {
     "name": "stdout",
     "output_type": "stream",
     "text": [
<<<<<<< HEAD
      "{1: 0.5, 2: 0.5, 3: 1, 4: 1, 5: 1, 6: 1, 7: 0.5, 8: 0.5, 9: 0.5, 10: 1, 11: 0.5, 12: 1, 13: 1, 14: 0.5, 15: 1, 16: 1, 17: 1, 18: 1, 19: 1, 20: 1, 21: 1, 22: 1, 23: 0.5, 24: 1, 25: 1, 26: 1, 27: 1, 28: 1, 29: 1, 30: 1, 31: 1, 32: 1, 33: 1, 34: 1, 35: 1, 36: 1, 37: 1, 38: 0.5, 39: 0.5, 40: 0.5, 41: 0.5, 42: 0.5, 43: 0.5, 44: 0.5, 45: 0.5, 46: 0.5, 47: 0.5, 48: 0.5, 49: 1, 50: 1, 51: 1, 52: 1, 53: 1, 54: 1, 55: 0.5, 56: 0.5, 57: 0.5, 58: 0.5, 59: 0.5, 60: 0.5, 61: 0.5, 62: 0.5, 63: 0.5, 64: 0.5, 65: 1, 66: 1, 67: 1, 68: 1, 69: 1, 70: 1, 71: 1, 72: 1, 73: 1, 74: 1, 75: 1, 76: 1, 77: 1, 78: 1, 79: 1, 80: 1, 81: 1, 82: 1, 83: 1, 84: 1, 85: 1, 86: 1, 87: 1, 88: 1, 89: 1, 90: 1, 91: 1, 92: 1, 93: 1, 94: 0.5, 95: 0.5, 96: 0.5, 97: 0.5, 98: 0.5, 99: 0.5, 100: 0.5, 101: 0.5, 102: 1, 103: 1, 104: 1, 105: 1, 106: 1, 107: 1, 108: 1, 109: 1, 110: 1, 111: 1, 112: 1, 113: 1, 114: 1, 115: 1, 116: 1, 117: 1, 118: 1, 119: 1, 120: 1, 121: 1, 122: 1, 123: 1, 124: 1, 125: 1, 126: 1, 127: 1, 128: 1, 129: 1, 130: 1, 131: 1, 132: 1, 133: 1, 134: 1, 135: 1, 136: 1, 137: 1, 138: 1, 139: 1, 140: 1, 141: 1, 142: 1, 143: 1, 144: 1, 145: 1, 146: 1, 147: 1, 148: 1, 149: 1, 150: 1, 151: 1, 152: 1, 153: 0.5, 154: 0.5, 155: 0.5, 156: 0.5, 157: 1, 158: 1, 159: 1, 160: 1, 161: 1, 162: 1, 163: 1, 164: 1}\n",
      "{1: 1, 2: 1, 3: 1, 4: 1, 5: 1, 6: 1, 7: 1, 8: 1, 9: 1, 10: 1, 11: 1, 12: 1, 13: 1, 14: 1, 15: 1, 16: 1, 17: 1, 18: 1, 19: 1, 20: 1, 21: 1, 22: 1, 23: 1, 24: 0.5, 25: 0.5, 26: 0.5, 27: 0.5, 28: 1, 29: 0.5, 30: 0.5, 31: 1, 32: 0.5, 33: 0.5, 34: 0.5, 35: 1, 36: 1, 37: 1, 38: 1, 39: 1, 40: 1, 41: 1, 42: 1, 43: 1, 44: 1, 45: 1, 46: 1, 47: 1, 48: 1, 49: 1, 50: 1, 51: 1, 52: 1, 53: 1, 54: 1, 55: 1, 56: 1, 57: 1, 58: 1, 59: 1, 60: 1, 61: 1, 62: 1, 63: 1, 64: 1, 65: 1, 66: 1, 67: 1, 68: 1, 69: 1, 70: 1, 71: 1, 72: 1, 73: 1, 74: 1, 75: 1, 76: 1, 77: 1, 78: 1, 79: 1, 80: 1, 81: 1, 82: 1, 83: 1, 84: 1, 85: 1, 86: 1, 87: 1, 88: 1, 89: 1, 90: 1, 91: 1, 92: 1, 93: 1, 94: 1, 95: 1, 96: 1, 97: 1, 98: 1, 99: 1, 100: 1, 101: 1, 102: 1, 103: 1, 104: 1, 105: 1, 106: 1, 107: 1, 108: 1, 109: 1, 110: 1, 111: 1, 112: 1, 113: 1, 114: 1, 115: 1, 116: 1, 117: 1, 118: 1, 119: 1, 120: 1, 121: 1, 122: 1, 123: 1, 124: 1, 125: 1, 126: 1, 127: 1, 128: 1, 129: 1, 130: 1, 131: 1, 132: 1, 133: 1, 134: 1, 135: 1, 136: 1, 137: 1, 138: 1, 139: 1, 140: 1, 141: 1, 142: 1, 143: 1, 144: 1, 145: 1, 146: 1, 147: 1, 148: 1, 149: 1, 150: 1, 151: 1, 152: 1, 153: 1, 154: 1, 155: 1, 156: 1, 157: 1, 158: 1, 159: 1, 160: 1, 161: 1, 162: 1, 163: 1, 164: 1}\n",
      "La satisfaction moyenne des clients est de  92.3780487804878 %\n"
=======
      "{1: 1, 2: 1, 3: 1, 4: 1, 5: 1, 6: 1, 7: 1, 8: 0.5, 9: 0.5, 10: 1, 11: 1, 12: 1, 13: 1, 14: 1, 15: 1, 16: 1, 17: 1, 18: 1, 19: 1, 20: 1, 21: 1, 22: 1, 23: 1, 24: 1, 25: 1, 26: 1, 27: 1, 28: 1, 29: 1, 30: 1, 31: 1, 32: 1, 33: 1, 34: 1, 35: 1, 36: 1, 37: 1, 38: 1, 39: 1, 40: 1, 41: 1, 42: 1, 43: 1, 44: 1, 45: 1, 46: 1, 47: 1, 48: 1, 49: 1, 50: 1, 51: 1, 52: 1, 53: 1, 54: 1, 55: 1, 56: 1, 57: 1, 58: 1, 59: 1, 60: 1, 61: 1, 62: 1, 63: 1, 64: 1, 65: 1, 66: 1, 67: 1, 68: 1, 69: 1, 70: 1, 71: 1, 72: 1, 73: 1, 74: 1, 75: 1, 76: 1, 77: 0.5, 78: 0.5, 79: 0.5, 80: 1, 81: 1, 82: 1, 83: 1, 84: 1, 85: 1, 86: 1, 87: 1, 88: 1, 89: 1, 90: 1, 91: 1, 92: 1, 93: 1, 94: 1, 95: 1, 96: 1, 97: 1}\n",
      "{1: 1, 2: 1, 3: 1, 4: 1, 5: 1, 6: 1, 7: 1, 8: 1, 9: 1, 10: 1, 11: 1, 12: 1, 13: 1, 14: 1, 15: 1, 16: 1, 17: 1, 18: 1, 19: 1, 20: 1, 21: 1, 22: 1, 23: 1, 24: 1, 25: 1, 26: 1, 27: 1, 28: 1, 29: 1, 30: 1, 31: 1, 32: 1, 33: 1, 34: 1, 35: 1, 36: 1, 37: 1, 38: 1, 39: 1, 40: 1, 41: 1, 42: 1, 43: 1, 44: 1, 45: 1, 46: 1, 47: 1, 48: 1, 49: 1, 50: 1, 51: 1, 52: 1, 53: 1, 54: 1, 55: 1, 56: 1, 57: 1, 58: 1, 59: 1, 60: 1, 61: 1, 62: 1, 63: 1, 64: 1, 65: 1, 66: 1, 67: 1, 68: 1, 69: 1, 70: 1, 71: 1, 72: 1, 73: 1, 74: 1, 75: 1, 76: 1, 77: 1, 78: 1, 79: 1, 80: 1, 81: 1, 82: 1, 83: 1, 84: 1, 85: 1, 86: 1, 87: 1, 88: 1, 89: 1, 90: 1, 91: 1, 92: 1, 93: 1, 94: 1, 95: 1, 96: 1, 97: 1}\n",
      "La satisfaction moyenne des clients est de  98.71134020618557 %\n"
>>>>>>> delphine
     ]
    }
   ],
   "source": [
    "#Première métrique de la satisfaction client (chaque passager pris individuellement)\n",
    "def metrique_groupe_passager():\n",
    "    sat={}\n",
    "    s=0\n",
    "    for i in Passengers:\n",
    "        sat[i]=0\n",
    "        for k in Passengers :\n",
    "            if k !=i and Passengers[i]['group'] == Passengers[k]['group']:\n",
    "                for j in range (1, ns+1):\n",
    "                    if S[(i,j)].x:\n",
    "                        xi, yi = seat_coordinates([j])[0]\n",
    "                    if S[(k,j)].x:\n",
    "                        xk, yk = seat_coordinates([j])[0]\n",
    "                if yi == yk and min([xi, xk]) == max([xi, xk])-1:\n",
    "                    s = 1\n",
    "                elif xi == xk and min([yi, yk]) == max([yi, yk])-1:\n",
    "                    s = 1/2\n",
    "                elif yi == yk and min([xi, xk]) == 3 and max([xi, xk]) == 5:\n",
    "                    s = 1/2\n",
    "            if sat[i] != 1:\n",
    "                sat[i] = s\n",
    "    \n",
    "    return sat\n",
    "\n",
    "print ( metrique_groupe_passager()) \n",
    "\n",
    "def metrique_transit_passager():\n",
    "    sat= {}\n",
    "\n",
    "    for i in Passengers:\n",
    "        #On ne considère que les passagers dont le temps de correspondance est inférieur à 1h30\n",
    "        if Passengers[i]['connection_time'] > 0 and Passengers[i]['connection_time'] <= 90: \n",
    "            for j in range (1, ns+1):\n",
    "                \n",
    "                if S[(i,j)].x:\n",
    "                    x, y = seat_coordinates([j])[0]\n",
    "                    if y <=5:\n",
    "                        sat[i] = 1\n",
    "                    elif y <= 7:\n",
    "                        sat[i] = 0.5\n",
    "                    else:\n",
    "                        sat[i] =0\n",
    "        else :\n",
    "            sat[i]=1\n",
    "                \n",
    "    return sat\n",
    "print (metrique_transit_passager()) \n",
    "\n",
    "def metrique_globale_passager():\n",
    "\n",
    "    sat={}\n",
    "    sat1=metrique_transit_passager()\n",
    "    sat2=metrique_groupe_passager()\n",
    "    satisfaction=0\n",
    "     \n",
    "\n",
    "    for i in Passengers:\n",
    "        sat[i]=(sat1[i]+sat2[i])/2\n",
    "        satisfaction +=sat[i]\n",
    "    satisfaction = satisfaction/len(Passengers)\n",
    "\n",
    "    return satisfaction, sat\n",
    "\n",
    "satisfaction, sat= metrique_globale_passager()\n",
    "\n",
    "print (\"La satisfaction moyenne des clients est de \",satisfaction*100, \"%\" )"
   ]
  },
  {
   "cell_type": "markdown",
   "metadata": {},
   "source": [
    "Deuxième métrique : la satisfaction est évaluée à l'échelle du groupe et de manière strice, c'est à dire que certaines configurations sont jugées satisfaisantes, les autres ne l'étant pas."
   ]
  },
  {
   "cell_type": "code",
<<<<<<< HEAD
   "execution_count": 15,
=======
   "execution_count": 254,
>>>>>>> delphine
   "metadata": {},
   "outputs": [],
   "source": [
    "#renvoie une liste contenant les indices des passagers dans le groupe de i\n",
    "def groupe(i, Passengers):\n",
    "    G=[]\n",
    "    for k in range(1, n+1):\n",
    "        if Passengers[i]['group'] == Passengers[k]['group']:\n",
    "            G+=[k]\n",
    "    return G\n"
   ]
  },
  {
   "cell_type": "code",
<<<<<<< HEAD
   "execution_count": 16,
=======
   "execution_count": 255,
>>>>>>> delphine
   "metadata": {},
   "outputs": [],
   "source": [
    "#renvoie un dictionnaire dont les groupes sont les clefs et les passagers du groupe les valeurs\n",
    "def group_dict(Passengers):\n",
    "\n",
    "    dic={}\n",
    "    for i in Passengers:\n",
    "        groupi=groupe(i, Passengers)\n",
    "        k=Passengers[i]['group']\n",
    "        if k not in dic:\n",
    "            dic[k]=groupi\n",
    "    return dic\n",
    "\n",
    "group_dico=group_dict(Passengers)\n",
    "  "
   ]
  },
  {
   "cell_type": "code",
<<<<<<< HEAD
   "execution_count": 17,
=======
   "execution_count": 256,
>>>>>>> delphine
   "metadata": {},
   "outputs": [],
   "source": [
    "def metrique_groupe_stricte (Passengers):\n",
    "    sat={}\n",
    "    \n",
    "    group=group_dict(Passengers)\n",
    "\n",
    "    for g in group:\n",
    "        seats = [j for i in group[g] for j in range(1, ns + 1) if S[(i, j)].x]\n",
    "        group_coord=seat_coordinates(seats)\n",
    "\n",
    "        X=[]\n",
    "        Y=[]\n",
    "        for i in range (len(group[g])):\n",
    "            X += [group_coord [i][0]]\n",
    "            Y += [group_coord [i][1]]\n",
    "            X.sort()\n",
    "            Y.sort()\n",
    "\n",
    "        if len(group[g]) == 1:\n",
    "            sat[g] = 1\n",
    "\n",
    "        #Groupe de 2 passagers : ils doivent être côte à côte. Satisfaction intermédiaire si séparés par allée centrale\n",
    "        if len(group[g]) == 2:\n",
    "            if Y[0] == Y[1]:\n",
    "                if X[1] == X[0]+1:\n",
    "                    sat[g] = 1\n",
    "                elif (3 in X and 5 in X):\n",
    "                    sat[g] = 1/2\n",
    "                else : \n",
    "                    sat[g] = 0\n",
    "\n",
    "            else : \n",
    "                sat[g] = 0\n",
    "\n",
    "        #Groupe de 3 : aligné sur le même rang. Satisfaction max si côtes à côtes, intermédiaire si séparés par allée centrale, nulle sinon\n",
    "        elif len(group[g]) == 3:\n",
    "            if Y[0] == Y[1] and Y[0] == Y[2]:\n",
    "                if X[1] == X[0]+1 and X[2] == X[1]+1:\n",
    "                    sat[g] = 1\n",
    "\n",
    "                elif (X[1] == X[0]+1 or X[2] == X[1]+1) and(3 in X and 5 in X):\n",
    "                    sat[g] = 1/2\n",
    "                else : \n",
    "                    sat[g] = 0\n",
    "            else : \n",
    "                sat[g] = 0\n",
    "\n",
    "        #Groupe de 4 à 6 personnes\n",
    "        elif len(group[g]) <=6 :\n",
    "            if all(y == Y[0] for y in Y):\n",
    "                \n",
    "                if X[len(group[g])-1]-X[0] == len(group):\n",
    "                    sat[g]=1\n",
    "                else:\n",
    "                    sat[g]=1\n",
    "            \n",
    "            elif Y[1]==Y[0]+1:\n",
    "                if (3 in X and 5 not in X) or (5 in X and 3 not in X):\n",
    "                    sat[g]=1/2\n",
    "                else:\n",
    "                    sat[g]=0\n",
    "            else :\n",
    "                sat[g]=0   \n",
    "                \n",
    "        else:\n",
    "            sat[g]=1\n",
    "\n",
    "\n",
    "    return sat        \n",
    "            "
   ]
  },
  {
   "cell_type": "code",
<<<<<<< HEAD
   "execution_count": 18,
=======
   "execution_count": 257,
>>>>>>> delphine
   "metadata": {},
   "outputs": [],
   "source": [
    "#Retourne une note sur 1 par passager concernant l'objectif de transit\n",
    "def metrique_transit_stricte(Passengers):\n",
    "\n",
    "    sat= {}\n",
    "    \n",
    "\n",
    "    for i in Passengers:\n",
    "        #On ne considère que les passagers dont le temps de correspondance est inférieur à 1h30\n",
    "        if Passengers[i]['connection_time'] > 0 and Passengers[i]['connection_time'] <= 90: \n",
    "            for j in range (1, ns+1):\n",
    "                \n",
    "                if S[(i,j)].x:\n",
    "                    x, y = seat_coordinates([j])[0]\n",
    "                    if y <=5:\n",
    "                        sat[i] = 1\n",
    "                    elif y <= 7:\n",
    "                        sat[i] = 1/2\n",
    "                    elif y <= 10:\n",
    "                        sat[i] = 1/3\n",
    "                    else:\n",
    "                        sat[i] =0\n",
    "        else :\n",
    "            sat[i]=1\n",
    "                \n",
    "    return sat\n",
    "\n"
   ]
  },
  {
   "cell_type": "code",
<<<<<<< HEAD
   "execution_count": 19,
=======
   "execution_count": 258,
>>>>>>> delphine
   "metadata": {},
   "outputs": [],
   "source": [
    "def metrique_globale_stricte(Passengers):\n",
    "    sat={}\n",
    "    moyenne=0\n",
    "    sat_groupe=0\n",
    "    sat_transit=0\n",
    "    #Pour fusionner les notes des passagers au regard des deux fonctions objectif, on transforme les notes par groupe pour la fonction groupe en note par passager\n",
    "    sat1={}\n",
    "    s=metrique_groupe_stricte (Passengers)\n",
    "    group_dico=group_dict(Passengers)\n",
    "    for g in group_dico:\n",
    "        sat_groupe += s[g]\n",
    "        passagers = group_dico[g]\n",
    "        for i in passagers:\n",
    "            sat1[i]=s[g]\n",
    "\n",
    "    sat2=metrique_transit_stricte(Passengers)\n",
    "\n",
    "    for i in Passengers:\n",
    "        sat[i]=(sat1[i] + sat2[i])/2\n",
    "        moyenne += sat[i]\n",
    "        sat_transit += sat2[i]\n",
    "        \n",
    "\n",
    "    moyenne = moyenne / len(Passengers)\n",
    "    sat_groupe = sat_groupe / len(s)\n",
    "    sat_transit =sat_transit / len(Passengers)\n",
    "    # print (list(sat.values()))\n",
    "    # m=min(list(sat.values()))\n",
    "    # M=max(list(sat.values()))\n",
    "    return moyenne, sat_transit, sat_groupe\n",
    "\n",
    "    \n",
    "    "
   ]
  },
  {
   "cell_type": "code",
<<<<<<< HEAD
   "execution_count": 20,
=======
   "execution_count": 259,
>>>>>>> delphine
   "metadata": {},
   "outputs": [
    {
     "name": "stdout",
     "output_type": "stream",
     "text": [
<<<<<<< HEAD
      "La satisfaction moyenne des passagers est de  88.71951219512195 %\n",
      "La satisfaction moyenne des passagers en transit est de  0.9725609756097561\n",
      "La satisfaction moyenne des groupes est de  0.8846153846153846\n"
=======
      "La satisfaction moyenne des passagers est de  87.11340206185567 %\n",
      "La satisfaction moyenne des passagers en transit est de  1.0\n",
      "La satisfaction moyenne des groupes est de  0.8653846153846154\n"
>>>>>>> delphine
     ]
    }
   ],
   "source": [
    "\n",
    "\n",
    "moyenne, s_transit, s_groupe = metrique_globale_stricte(Passengers)\n",
    "\n",
    "# print (\"Le pire niveau de satisfaction est de \", m*100, \"%\")\n",
    "# print (\"Le meilleur niveau de satisfaction est de \", M*100, \"%\")\n",
    "print (\"La satisfaction moyenne des passagers est de \", moyenne*100, \"%\")\n",
    "print (\"La satisfaction moyenne des passagers en transit est de \", s_transit)\n",
    "print (\"La satisfaction moyenne des groupes est de \", s_groupe)\n",
    "\n"
   ]
  },
  {
   "cell_type": "markdown",
   "metadata": {},
   "source": [
    "Troisième métrique : \"bounding box\""
   ]
  },
  {
   "cell_type": "code",
<<<<<<< HEAD
   "execution_count": 21,
=======
   "execution_count": 260,
>>>>>>> delphine
   "metadata": {},
   "outputs": [
    {
     "data": {
      "text/plain": [
<<<<<<< HEAD
       "(0.6596201584138491,\n",
       " {1: 0.3333333333333333,\n",
       "  2: 0.3333333333333333,\n",
       "  3: 0.3333333333333333,\n",
       "  4: 0.3333333333333333,\n",
       "  5: 0.3333333333333333,\n",
       "  6: 0.7692307692307692,\n",
       "  7: 0.7692307692307692,\n",
       "  8: 1,\n",
       "  9: 1,\n",
       "  10: 0.4347826086956522,\n",
       "  11: 0.4347826086956522,\n",
       "  12: 0.4347826086956522,\n",
       "  13: 0.4347826086956522,\n",
       "  14: 1.0,\n",
       "  15: 0.37037037037037035,\n",
       "  16: 0.37037037037037035,\n",
       "  17: 0.37037037037037035,\n",
       "  18: 0.37037037037037035,\n",
       "  19: 0.37037037037037035,\n",
       "  20: 1.0,\n",
       "  21: 1.0,\n",
       "  22: 0.7692307692307692,\n",
       "  23: 0.7692307692307692,\n",
       "  24: 0.17241379310344832,\n",
       "  25: 0.17241379310344832,\n",
       "  26: 0.17241379310344832,\n",
       "  27: 0.17241379310344832,\n",
       "  28: 0.17241379310344832,\n",
       "  29: 0.17241379310344832,\n",
       "  30: 0.17241379310344832,\n",
       "  31: 0.17241379310344832,\n",
       "  32: 0.17241379310344832,\n",
       "  33: 0.17241379310344832,\n",
       "  34: 0.17241379310344832,\n",
       "  35: 0.17241379310344832,\n",
       "  36: 0.17241379310344832,\n",
       "  37: 0.17241379310344832,\n",
       "  38: 1.0,\n",
       "  39: 0.2222222222222222,\n",
       "  40: 0.2222222222222222,\n",
       "  41: 0.2222222222222222,\n",
       "  42: 1.0,\n",
       "  43: 1.0,\n",
       "  44: 1.0,\n",
       "  45: 1.0,\n",
       "  46: 1.0,\n",
       "  47: 1.0,\n",
       "  48: 1.0,\n",
       "  49: 0.5882352941176471,\n",
       "  50: 0.5882352941176471,\n",
       "  51: 1.0,\n",
       "  52: 1.0,\n",
       "  53: 1.0,\n",
       "  54: 0.7692307692307692,\n",
       "  55: 0.7692307692307692,\n",
       "  56: 1.0,\n",
       "  57: 1.0,\n",
       "  58: 1.0,\n",
       "  59: 1.0,\n",
       "  60: 0.7692307692307692,\n",
       "  61: 0.7692307692307692,\n",
       "  62: 1.0,\n",
       "  63: 1.0,\n",
       "  64: 1.0,\n",
       "  65: 0.5882352941176471,\n",
       "  66: 0.5882352941176471,\n",
       "  67: 1.0,\n",
       "  68: 1.0,\n",
       "  69: 0.5882352941176471,\n",
       "  70: 0.5882352941176471,\n",
       "  71: 1.0,\n",
       "  72: 1.0,\n",
       "  73: 1.0,\n",
       "  74: 1.0,\n",
       "  75: 1.0,\n",
       "  76: 1.0,\n",
       "  77: 0.5882352941176471,\n",
       "  78: 0.5882352941176471,\n",
       "  79: 1.0,\n",
       "  80: 1.0,\n",
       "  81: 1.0,\n",
       "  82: 1.0,\n",
       "  83: 1.0,\n",
       "  84: 1.0,\n",
       "  85: 1.0,\n",
       "  86: 1.0,\n",
       "  87: 0.4166666666666667,\n",
       "  88: 0.4166666666666667,\n",
       "  89: 0.4166666666666667,\n",
       "  90: 1.0,\n",
       "  91: 1.0,\n",
       "  92: 1.0,\n",
       "  93: 0.4,\n",
       "  94: 0.4,\n",
       "  95: 0.4,\n",
       "  96: 0.4,\n",
       "  97: 1.0,\n",
       "  98: 1.0,\n",
       "  99: 1.0,\n",
       "  100: 1.0,\n",
       "  101: 1.0,\n",
       "  102: 0.5882352941176471,\n",
       "  103: 0.5882352941176471,\n",
       "  104: 1.0,\n",
       "  105: 0.5882352941176471,\n",
       "  106: 0.5882352941176471,\n",
       "  107: 0.5882352941176471,\n",
       "  108: 0.5882352941176471,\n",
       "  109: 1.0,\n",
       "  110: 1.0,\n",
       "  111: 1.0,\n",
       "  112: 1.0,\n",
       "  113: 1.0,\n",
       "  114: 1.0,\n",
       "  115: 1.0,\n",
       "  116: 1.0,\n",
       "  117: 1.0,\n",
       "  118: 1.0,\n",
       "  119: 0.5882352941176471,\n",
       "  120: 0.5882352941176471,\n",
       "  121: 1.0,\n",
       "  122: 0.37037037037037035,\n",
       "  123: 0.37037037037037035,\n",
       "  124: 0.37037037037037035,\n",
       "  125: 0.37037037037037035,\n",
       "  126: 0.2777777777777778,\n",
       "  127: 0.2777777777777778,\n",
       "  128: 0.2777777777777778,\n",
       "  129: 0.2777777777777778,\n",
       "  130: 0.2777777777777778,\n",
       "  131: 0.2777777777777778,\n",
       "  132: 0.2777777777777778,\n",
       "  133: 0.2777777777777778,\n",
       "  134: 0.2777777777777778,\n",
       "  135: 0.2777777777777778,\n",
       "  136: 0.2777777777777778,\n",
       "  137: 0.2777777777777778,\n",
       "  138: 1.0,\n",
       "  139: 0.37037037037037035,\n",
       "  140: 0.37037037037037035,\n",
       "  141: 0.37037037037037035,\n",
       "  142: 0.37037037037037035,\n",
       "  143: 1.0,\n",
       "  144: 1.0,\n",
       "  145: 0.24390243902439027,\n",
       "  146: 0.24390243902439027,\n",
       "  147: 0.24390243902439027,\n",
       "  148: 0.24390243902439027,\n",
       "  149: 0.24390243902439027,\n",
       "  150: 0.24390243902439027,\n",
       "  151: 0.24390243902439027,\n",
       "  152: 0.24390243902439027,\n",
       "  153: 1.0,\n",
       "  154: 1.0,\n",
       "  155: 1.0,\n",
       "  156: 1.0,\n",
       "  157: 1,\n",
       "  158: 1,\n",
       "  159: 1,\n",
       "  160: 1,\n",
       "  161: 1,\n",
       "  162: 1.0,\n",
       "  163: 0.5882352941176471,\n",
       "  164: 0.5882352941176471})"
      ]
     },
     "execution_count": 21,
=======
       "(0.6577393447466223,\n",
       " {1: 0.4166666666666667,\n",
       "  2: 0.4166666666666667,\n",
       "  3: 0.4166666666666667,\n",
       "  4: 1.0,\n",
       "  5: 0.5882352941176471,\n",
       "  6: 0.5882352941176471,\n",
       "  7: 0.625,\n",
       "  8: 0.625,\n",
       "  9: 0.625,\n",
       "  10: 0.4166666666666667,\n",
       "  11: 0.4166666666666667,\n",
       "  12: 0.4166666666666667,\n",
       "  13: 0.5882352941176471,\n",
       "  14: 0.5882352941176471,\n",
       "  15: 0.5882352941176471,\n",
       "  16: 0.5882352941176471,\n",
       "  17: 1.0,\n",
       "  18: 1,\n",
       "  19: 1,\n",
       "  20: 1,\n",
       "  21: 1,\n",
       "  22: 1.0,\n",
       "  23: 1.0,\n",
       "  24: 0.5882352941176471,\n",
       "  25: 0.5882352941176471,\n",
       "  26: 1.0,\n",
       "  27: 0.4166666666666667,\n",
       "  28: 0.4166666666666667,\n",
       "  29: 0.4166666666666667,\n",
       "  30: 0.5882352941176471,\n",
       "  31: 0.5882352941176471,\n",
       "  32: 1.0,\n",
       "  33: 1.0,\n",
       "  34: 0.5882352941176471,\n",
       "  35: 0.5882352941176471,\n",
       "  36: 1.0,\n",
       "  37: 0.5882352941176471,\n",
       "  38: 0.5882352941176471,\n",
       "  39: 1.0,\n",
       "  40: 1.0,\n",
       "  41: 0.4166666666666667,\n",
       "  42: 0.4166666666666667,\n",
       "  43: 0.4166666666666667,\n",
       "  44: 0.5882352941176471,\n",
       "  45: 0.5882352941176471,\n",
       "  46: 0.5882352941176471,\n",
       "  47: 0.5882352941176471,\n",
       "  48: 1.0,\n",
       "  49: 1.0,\n",
       "  50: 1.0,\n",
       "  51: 0.5882352941176471,\n",
       "  52: 0.5882352941176471,\n",
       "  53: 0.37037037037037035,\n",
       "  54: 0.37037037037037035,\n",
       "  55: 0.37037037037037035,\n",
       "  56: 0.37037037037037035,\n",
       "  57: 0.37037037037037035,\n",
       "  58: 0.37037037037037035,\n",
       "  59: 0.37037037037037035,\n",
       "  60: 0.37037037037037035,\n",
       "  61: 0.37037037037037035,\n",
       "  62: 0.37037037037037035,\n",
       "  63: 0.37037037037037035,\n",
       "  64: 0.37037037037037035,\n",
       "  65: 0.37037037037037035,\n",
       "  66: 0.5882352941176471,\n",
       "  67: 0.5882352941176471,\n",
       "  68: 0.5882352941176471,\n",
       "  69: 0.5882352941176471,\n",
       "  70: 0.5882352941176471,\n",
       "  71: 0.5882352941176471,\n",
       "  72: 1.0,\n",
       "  73: 1.0,\n",
       "  74: 1,\n",
       "  75: 1,\n",
       "  76: 0.7692307692307692,\n",
       "  77: 0.7692307692307692,\n",
       "  78: 1.0,\n",
       "  79: 1.0,\n",
       "  80: 0.37037037037037035,\n",
       "  81: 0.37037037037037035,\n",
       "  82: 0.37037037037037035,\n",
       "  83: 0.37037037037037035,\n",
       "  84: 0.37037037037037035,\n",
       "  85: 0.5882352941176471,\n",
       "  86: 0.5882352941176471,\n",
       "  87: 1.0,\n",
       "  88: 0.4166666666666667,\n",
       "  89: 0.4166666666666667,\n",
       "  90: 0.4166666666666667,\n",
       "  91: 1.0,\n",
       "  92: 1.0,\n",
       "  93: 1.0,\n",
       "  94: 1.0,\n",
       "  95: 1.0,\n",
       "  96: 1.0,\n",
       "  97: 1.0})"
      ]
     },
     "execution_count": 260,
>>>>>>> delphine
     "metadata": {},
     "output_type": "execute_result"
    }
   ],
   "source": [
    "def ponderation(x,y):\n",
    "\n",
    "    beta= 0.3\n",
    "    den = (1-beta)*x + beta*y + 1\n",
    "   \n",
    "    res = (1/den)*1\n",
    "\n",
    "    return res\n",
    "\n",
    "\n",
    "def metrique_retangule(passengers):\n",
    "    satisfaction_scores = 0 \n",
    "    group_scores = {}  \n",
    "\n",
    "    for i in passengers:\n",
    "        group = groupe(i, passengers)\n",
    "        group_coords = [seat_coords[idx - 1] for idx in group]  \n",
    "\n",
    "\n",
    "        min_x = min(coord[0] for coord in group_coords)\n",
    "        max_x = max(coord[0] for coord in group_coords)\n",
    "\n",
    "\n",
    "        min_y = min(coord[1] for coord in group_coords)\n",
    "        max_y = max(coord[1] for coord in group_coords)\n",
    "       \n",
    "        y_distance = max_y - min_y\n",
    "        x_distance = max_x - min_x\n",
    "\n",
    "        if x_distance == len(group)  and y_distance == 0:\n",
    "            group_scores[i] = 1\n",
    "            satisfaction_scores += 1\n",
    "        else:\n",
    "            score = ponderation(x_distance, y_distance)\n",
    "            group_scores[i] = score\n",
    "            satisfaction_scores += score\n",
    "\n",
    "    return satisfaction_scores/len(Passengers), group_scores\n",
    "\n",
    "\n",
    "metrique_retangule(Passengers)"
   ]
  },
  {
   "cell_type": "markdown",
   "metadata": {},
   "source": [
    "# Dynamic model"
   ]
  },
  {
   "cell_type": "markdown",
   "metadata": {},
   "source": [
    "Generation of a random order of registration"
   ]
  },
  {
   "cell_type": "code",
<<<<<<< HEAD
   "execution_count": 22,
=======
   "execution_count": 261,
>>>>>>> delphine
   "metadata": {},
   "outputs": [
    {
     "name": "stdout",
     "output_type": "stream",
     "text": [
<<<<<<< HEAD
      "[76, 12, 56, 54, 52, 1, 13, 69, 23, 36, 41, 18, 5, 74, 83, 7, 91, 50, 20, 57, 53, 85, 8, 45, 11, 16, 9, 35, 86, 51, 34, 27, 65, 89, 84, 37, 38, 55, 61, 26, 47, 80, 78, 29, 68, 3, 21, 66, 71, 17, 6, 62, 63, 40, 49, 67, 43, 58, 10, 24, 46, 64, 4, 32, 25, 87, 81, 42, 22, 82, 19, 14, 15, 2, 70, 48, 44, 39, 31, 75, 73, 28, 33, 77, 60, 79, 88, 90, 72, 30, 59]\n"
=======
      "[39, 30, 47, 19, 24, 17, 13, 42, 18, 50, 11, 49, 35, 2, 36, 21, 40, 51, 20, 31, 15, 16, 26, 41, 10, 5, 37, 23, 22, 4, 32, 29, 27, 6, 52, 14, 48, 1, 12, 28, 34, 38, 8, 33, 7, 45, 9, 43, 46, 3, 53, 44]\n"
>>>>>>> delphine
     ]
    }
   ],
   "source": [
    "def Random_order():\n",
    "\n",
    "    Clefs = list(group_dico.keys())\n",
    "    Order = random.sample(Clefs, k=len(Clefs))\n",
    "\n",
    "    return Order\n",
    "\n",
    "print(Random_order())"
   ]
  },
  {
   "cell_type": "markdown",
   "metadata": {},
   "source": [
    "Proposition of seats for the group"
   ]
  },
  {
   "cell_type": "code",
<<<<<<< HEAD
   "execution_count": 51,
   "metadata": {},
   "outputs": [
    {
     "name": "stdout",
     "output_type": "stream",
     "text": [
      "[([13, 27, 20, 19, 21], 0.4445203140249844), ([56, 55, 61, 63, 62], 0.6750041260029217), ([5, 6, 2, 1, 3], 0.6688602517539662)]\n"
     ]
    }
   ],
=======
   "execution_count": 273,
   "metadata": {},
   "outputs": [],
>>>>>>> delphine
   "source": [
    "def possible_choice (n_group):\n",
    "\n",
    "    Choices=[]\n",
    "    groups_dict =group_dict(Passengers)   #on récupère le dictionnaire {group: [passagers]}\n",
    "    group = groups_dict[n_group]           #liste des passagers du groupe n°n_group\n",
    "    group_time=Passengers[group[0]]['connection_time']\n",
    "\n",
    "\n",
    "    for g in groups_dict:\n",
    "        if len(groups_dict[g]) == len(group):   #On récupère la position des sièges pour des groupes de même taille\n",
    "            C=[]\n",
    "            for i in groups_dict[g]:\n",
    "                time = Passengers[i]['connection_time']\n",
    "                #Si le groupe n_group n'est pas en transit, on ne lui propose pas les places des premiers rangs\n",
    "                if (time == 0 or time > 120) and (group_time ==0 or group_time > 120):    \n",
    "                    for j in range (1, ns+1):\n",
    "                        if S[(i,j)].x:\n",
    "                            C += [j]\n",
    "                elif (time > 0 and time <= 120) and (group_time > 0 and group_time <= 120):    \n",
    "                    for j in range (1, ns+1):\n",
    "                        if S[(i,j)].x:\n",
    "                            C += [j]\n",
    "                elif (time == 0 or time > 120) and (group_time > 0 and group_time <= 120):    \n",
    "                    for j in range (1, ns+1):\n",
    "                        if S[(i,j)].x:\n",
    "                            C += [j]\n",
    "\n",
    "            Choices+=[C]\n",
    "    \n",
    "    return Choices\n",
    "\n",
    "#Il faudra dans une prochaine fonction garder en mémoire les sièges déjà choisis et les supprimer des propositions --> par ex dict avec groupes et sièges choisis par groupe\n",
<<<<<<< HEAD
    "choices = possible_choice(1)\n",
    "#print(choices)\n",
    "\n",
    "\n",
    "\n",
    "def assign_random_values(choices):\n",
    "    choices_with_values = []\n",
    "\n",
    "    for choice in choices:\n",
    "        choices_with_values.append((choice, random.random())) \n",
    "    \n",
    "    return choices_with_values\n",
    "\n",
    "choices_with_values = assign_random_values(choices)\n",
    "print(choices_with_values)\n"
=======
    "#possible_choice (19)"
>>>>>>> delphine
   ]
  },
  {
   "cell_type": "code",
<<<<<<< HEAD
   "execution_count": 52,
   "metadata": {},
   "outputs": [
    {
     "name": "stdout",
     "output_type": "stream",
     "text": [
      "[[56, 55, 61, 63, 62], [5, 6, 2, 1, 3], [13, 27, 20, 19, 21]]\n"
     ]
    }
   ],
   "source": [
    "def group_choices(choices_with_values):\n",
    "\n",
    "    sorted_choices = sorted(choices_with_values, key=lambda x: x[1], reverse=True)\n",
    "    group_choices = [choice[0] for choice in sorted_choices]\n",
    "    \n",
    "    return group_choices\n",
    "\n",
    "\n",
    "group_choices_sorted = group_choices(choices_with_values)\n",
    "print(group_choices_sorted)\n"
   ]
  },
  {
   "cell_type": "code",
   "execution_count": 50,
   "metadata": {},
   "outputs": [
    {
     "data": {
      "image/png": "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",
      "text/plain": [
       "<Figure size 1000x500 with 2 Axes>"
      ]
     },
     "metadata": {},
     "output_type": "display_data"
    }
   ],
   "source": [
    "import matplotlib.pyplot as plt\n",
    "import numpy as np\n",
    "\n",
    "# Customer satisfaction data for the two groups\n",
    "satisfaction_group_4 = [0.8, 0.7, 0.6, 0.65, 0.75] \n",
    "satisfaction_group_3 = [0.9, 0.85, 0.82]            \n",
    "\n",
    "# Creating a figure and axes for the boxplot and pie chart\n",
    "fig, (ax1, ax2) = plt.subplots(1, 2, figsize=(10, 5))\n",
    "\n",
    "# Data for the boxplot\n",
    "data = [satisfaction_group_4, satisfaction_group_3]\n",
    "\n",
    "# Creating the boxplot\n",
    "boxplot = ax1.boxplot(data)\n",
    "\n",
    "# Adding labels to the axes\n",
    "ax1.set_xticklabels(['Group with 4', 'Group with 3'])\n",
    "ax1.set_ylabel('Customer Satisfaction')\n",
    "ax1.set_title('Customer Satisfaction in Different Groups')\n",
    "ax1.grid(True)\n",
    "\n",
    "# Data for the pie chart\n",
    "group_sizes = [len(satisfaction_group_4), len(satisfaction_group_3)]\n",
    "group_labels = ['Group with 4', 'Group with 3']\n",
    "\n",
    "# Creating the pie chart\n",
    "ax2.pie(group_sizes, labels=group_labels, autopct='%1.1f%%', startangle=90)\n",
    "ax2.set_title('Proportion of Groups')\n",
    "\n",
    "# Equal aspect ratio ensures that pie is drawn as a circle\n",
    "ax2.axis('equal')\n",
    "\n",
    "# Displaying the plots\n",
    "plt.tight_layout()\n",
    "plt.show()\n"
   ]
  },
  {
   "cell_type": "code",
   "execution_count": 24,
=======
   "execution_count": 263,
>>>>>>> delphine
   "metadata": {},
   "outputs": [],
   "source": [
    "def dynamic_model(m):\n",
    "    order = Random_order()\n",
    "    for group in order:\n",
    "        possible_seats=possible_choice(group)\n",
<<<<<<< HEAD
    "        choice=group_choice()\n",
=======
    "        choice = group_choice()\n",
>>>>>>> delphine
    "        \n"
   ]
  }
 ],
 "metadata": {
  "kernelspec": {
   "display_name": "base",
   "language": "python",
   "name": "python3"
  },
  "language_info": {
   "codemirror_mode": {
    "name": "ipython",
    "version": 3
   },
   "file_extension": ".py",
   "mimetype": "text/x-python",
   "name": "python",
   "nbconvert_exporter": "python",
   "pygments_lexer": "ipython3",
   "version": "3.11.5"
  }
 },
 "nbformat": 4,
 "nbformat_minor": 2
}
