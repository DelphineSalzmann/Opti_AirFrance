{
 "cells": [
  {
   "cell_type": "markdown",
   "metadata": {},
   "source": [
    "## Import libraries"
   ]
  },
  {
   "cell_type": "code",
   "execution_count": 2,
   "metadata": {},
   "outputs": [],
   "source": [
    "import numpy as np\n",
    "import pandas as pd\n",
    "import matplotlib.pyplot as plt\n",
    "from gurobipy import *\n",
    "from collections import defaultdict\n",
    "import csv\n",
    "from datetime import datetime\n",
    "import os\n"
   ]
  },
  {
   "cell_type": "markdown",
   "metadata": {},
   "source": [
    "## Define Functions"
   ]
  },
  {
   "cell_type": "markdown",
   "metadata": {},
   "source": [
    "Read and preprocess data"
   ]
  },
  {
   "cell_type": "code",
   "execution_count": 3,
   "metadata": {},
   "outputs": [],
   "source": [
    "def load_data(file_path):\n",
    "    data_dict = dict()\n",
    "\n",
    "    with open(file_path) as file:\n",
    "        reader = csv.DictReader(file)\n",
    "        for row in reader:\n",
    "            if row['Numéro du groupe'] != '':\n",
    "                heures, minutes, _ = map(int, row['TransitTime'].split(':')) \n",
    "                total_minutes = heures * 60 + minutes\n",
    "                data_dict[int(float(row['Numéro du groupe']))] = (\n",
    "                    int(float(row['Femmes'])),\n",
    "                    int(float(row['Hommes'])),\n",
    "                    int(float(row['WCHR'])),\n",
    "                    total_minutes\n",
    "                )\n",
    "\n",
    "    return data_dict"
   ]
  },
  {
   "cell_type": "markdown",
   "metadata": {},
   "source": [
    "Transforming data to access each passenger's Id"
   ]
  },
  {
   "cell_type": "code",
   "execution_count": 4,
   "metadata": {},
   "outputs": [],
   "source": [
    "def create_passengers_dict(data):\n",
    "    passengers_dict = {}\n",
    "    j = 1\n",
    "\n",
    "    for group_num, group_data in data.items():\n",
    "        weights = {'Femmes': 70, 'Hommes': 85, 'WCHR': 10000}  # Weight per passenger\n",
    "\n",
    "        # Extracting data\n",
    "        femmes, hommes, wchr, total_minutes = group_data\n",
    "\n",
    "        # Enumerating passengers\n",
    "        for _ in range(femmes + hommes + wchr):\n",
    "            if femmes > 0:\n",
    "                weight = weights['Femmes']\n",
    "                passengers_dict[j] = {'gender': 'Femmes', 'group': group_num, 'weight': weight,\n",
    "                                      'connection_time': total_minutes}\n",
    "                femmes -= 1\n",
    "            elif hommes > 0:\n",
    "                weight = weights['Hommes']\n",
    "                passengers_dict[j] = {'gender': 'Hommes', 'group': group_num, 'weight': weight,\n",
    "                                      'connection_time': total_minutes}\n",
    "                hommes -= 1\n",
    "            else:\n",
    "                weight = weights['WCHR']\n",
    "                passengers_dict[j] = {'gender': 'WCHR', 'group': group_num, 'weight': weight,\n",
    "                                      'connection_time': total_minutes}\n",
    "                wchr -= 1\n",
    "            j += 1\n",
    "\n",
    "    return passengers_dict"
   ]
  },
  {
   "cell_type": "markdown",
   "metadata": {},
   "source": [
    "Create optimization model and variables"
   ]
  },
  {
   "cell_type": "code",
   "execution_count": 5,
   "metadata": {},
   "outputs": [],
   "source": [
    "\n",
    "def create_model_and_variables(passengers_dict, ns, selected_date):\n",
    "    n = len(passengers_dict)  # number of passengers\n",
    "\n",
    "    m = Model('statique')  # Model initialization\n",
    "\n",
    "    # Adding variables\n",
    "    S = {(i, j): m.addVar(vtype=GRB.BINARY, name=f'j{i}') for i in range(1, n + 1) for j in range(1, ns + 1)}\n",
    "\n",
    "    # Adding constraints\n",
    "    # Max. 1 seat per passenger\n",
    "    for j in range(1, ns + 1):\n",
    "        m.addConstr(quicksum(S[(i, j)] for i in range(1, n + 1)) <= 1, name=\"PassengerMax\")\n",
    "\n",
    "    # Each passenger has one and only one seat\n",
    "    for i in range(1, n + 1):\n",
    "        m.addConstr(quicksum(S[(i, j)] for j in range(1, ns + 1)) == 1, name=\"SeatMax\")\n",
    "\n",
    "    # The central aisle is left free\n",
    "    for i in range(1, n + 1):\n",
    "        for j in range(1, ns + 1):\n",
    "            if j % 7 == 4:\n",
    "                m.addConstr(S[(i, j)] == 0)\n",
    "\n",
    "    # Baricenter\n",
    "    x_g = LinExpr()\n",
    "    y_g = LinExpr()\n",
    "\n",
    "    total_weight = quicksum(passengers_dict[i]['weight'] for i in range(1, n + 1)).getValue()\n",
    "\n",
    "    for i in range(1, n + 1):\n",
    "        j_k = 1\n",
    "\n",
    "        for j in range(1, ns + 1):\n",
    "            weight_ij = passengers_dict[i]['weight'] / total_weight\n",
    "\n",
    "            if j % 7 == 0:\n",
    "                x_g += (7 * S[i, j] * weight_ij)\n",
    "                y_g += (j_k * S[i, j] * weight_ij)\n",
    "                j_k += 1\n",
    "            else:\n",
    "                x_g += ((j % 7) * S[i, j] * weight_ij)\n",
    "                y_g += (((j // 7) + 1) * S[i, j] * weight_ij)\n",
    "\n",
    "    m.addConstr(x_g >= 3)\n",
    "    m.addConstr(x_g <= 5)\n",
    "    \n",
    "    if selected_date == \"Nov7\":\n",
    "        # Additional constraints for Nov7\n",
    "        m.addConstr(y_g >= 16)\n",
    "        m.addConstr(y_g <= 20)\n",
    "    else:\n",
    "        m.addConstr(y_g >= 13)\n",
    "        m.addConstr(y_g <= 17)\n",
    "\n",
    "    # Disabled passengers occupy 4 spaces on the central aisle\n",
    "    for passenger in passengers_dict:\n",
    "        if passengers_dict[passenger]['gender']=='WCHR':\n",
    "            #Seats are shortened by row (from 7 to 7)\n",
    "            for j in range(1, ns+1-8, 7):        \n",
    "            \n",
    "                x1, x2, x3, x4, x5, x6, x7 = j,j+1,j+2,j+3,j+4,j+5,j+6\n",
    "                \n",
    "                #A seat is fixed in rows 3 or 5.\n",
    "                m.addConstr(S[(passenger, x1)] + S[(passenger, x2)] +  S[(passenger, x6)] + S[(passenger, x7)] ==0 )   \n",
    "                \n",
    "                #The seat overlooking the alley is closed off\n",
    "                m.addConstr(S[(passenger, x3)]+sum(S[(i, x3-1)] for i in passengers_dict) <= 1) \n",
    "                #We close the 2 seats behind\n",
    "                m.addConstr(S[(passenger, x3)]+sum(S[(i, x3+7)] for i in passengers_dict) <= 1) \n",
    "                m.addConstr(S[(passenger, x3)]+sum(S[(i, x3+6)] for i in passengers_dict) <= 1)\n",
    "                #The seat overlooking the alley is closed off\n",
    "                m.addConstr(S[(passenger, x5)]+sum(S[(i, x5+1)] for i in passengers_dict) <= 1) \n",
    "                #We close the 2 seats behind\n",
    "                m.addConstr(S[(passenger, x5)]+sum(S[(i, x5+7)] for i in passengers_dict) <= 1) \n",
    "                m.addConstr(S[(passenger, x5)]+sum(S[(i, x5+8)] for i in passengers_dict) <= 1)\n",
    "            #Disabled passengers cannot be in the last row   \n",
    "            m.addConstr(sum(S[(passenger, k)] for k in range (ns-6, ns+1)) == 0)  \n",
    "\n",
    "    return m, S"
   ]
  },
  {
<<<<<<< HEAD
   "cell_type": "code",
   "execution_count": 6,
=======
   "cell_type": "markdown",
>>>>>>> e2f8681b38b981c31b522cc5af7517a3d7be09fc
   "metadata": {},
   "source": [
<<<<<<< HEAD
    "#Choice of the dictionnary\n",
    "\n",
    "Passengers=Passengers_Oct30"
   ]
  },
  {
   "cell_type": "code",
   "execution_count": 7,
   "metadata": {},
   "outputs": [
    {
     "name": "stdout",
     "output_type": "stream",
     "text": [
      "Set parameter Username\n",
      "Academic license - for non-commercial use only - expires 2025-02-04\n"
     ]
    }
   ],
   "source": [
    "# Create models and variables for each date\n",
    "n=len(Passengers)\n",
    "m, S = create_model_and_variables(Passengers)\n"
=======
    "### Objective functions"
>>>>>>> e2f8681b38b981c31b522cc5af7517a3d7be09fc
   ]
  },
  {
   "cell_type": "markdown",
   "metadata": {},
   "source": [
    "Transit passengers are seated at the front of the aircraft"
   ]
  },
  {
   "cell_type": "code",
<<<<<<< HEAD
   "execution_count": 8,
=======
   "execution_count": 5,
>>>>>>> e2f8681b38b981c31b522cc5af7517a3d7be09fc
   "metadata": {},
   "outputs": [],
   "source": [
    "def obj_transit(S, passengers_dict, ns):\n",
    "    T = {}\n",
    "\n",
    "    for passenger in passengers_dict:\n",
    "        if passengers_dict[passenger]['connection_time'] > 0:  # transit passenger\n",
    "            T[passenger] = passengers_dict[passenger]['connection_time']\n",
    "\n",
    "    P = list(T.keys())  # returns a list of transit passenger identifiers\n",
    "\n",
    "    f = 0\n",
    "    for k in range(len(P)):\n",
    "        for j in range(1, ns + 1):\n",
    "            q = (j - 1) // 7\n",
    "            f += S[(P[k], j)] * (1 / T[P[k]]) * q\n",
    "\n",
    "    return f"
   ]
  },
  {
   "cell_type": "markdown",
   "metadata": {},
   "source": [
    "Creates coordinates for the seats"
   ]
  },
  {
   "cell_type": "code",
<<<<<<< HEAD
   "execution_count": 9,
=======
   "execution_count": 6,
>>>>>>> e2f8681b38b981c31b522cc5af7517a3d7be09fc
   "metadata": {},
   "outputs": [],
   "source": [
    "def seat_coordinates(seats):\n",
    "    coordinates = []\n",
    "    for j in range(len(seats)):\n",
    "        if (seats[j] % 7 == 0):\n",
    "            x = 7\n",
    "            y = (seats[j] // 7) \n",
    "        else:\n",
    "            x = seats[j] % 7\n",
    "            y = (seats[j] // 7) +1 \n",
    "        coordinates.append((x, y))\n",
    "    return coordinates"
   ]
  },
  {
   "cell_type": "markdown",
   "metadata": {},
   "source": [
    "Allocate passengers to the same group"
   ]
  },
  {
   "cell_type": "code",
<<<<<<< HEAD
   "execution_count": 10,
=======
   "execution_count": 7,
>>>>>>> e2f8681b38b981c31b522cc5af7517a3d7be09fc
   "metadata": {},
   "outputs": [],
   "source": [
    "def obj_dist(m, S, Passengers, alpha, ns):\n",
    "\n",
    "    obj = LinExpr()\n",
    "    X={}\n",
    "    Y={}\n",
    "    coord = seat_coordinates([j for j in range(1, ns+1)])\n",
    "    for i in range(1, len(Passengers) + 1):\n",
    "        X[i]=m.addVar(vtype=GRB.INTEGER)\n",
    "        Y[i]=m.addVar(vtype=GRB.INTEGER)\n",
    "\n",
    "        for k in range(i + 1, len(Passengers) + 1):  \n",
    "            #If passenger i and passenger k are in the same group\n",
    "            if  i!=k and Passengers[i]['group'] == Passengers[k]['group']:  \n",
    "\n",
    "                xi, yi = 0, 0\n",
    "                xk, yk = 0, 0\n",
    "\n",
    "                for j in range (len(coord)):                                      \n",
    "                    xi, yi = xi + S[(i,j+1)]*coord[j][0], yi + S[(i,j+1)]*coord[j][1]\n",
    "                    xk, yk =  xk + S[(k,j+1)]*coord[j][0], yk + S[(k,j+1)]*coord[j][1]\n",
    "                \n",
    "                m.addConstr(X[i]>=xi - xk)\n",
    "                m.addConstr(X[i]>= -xi + xk)\n",
    "                m.addConstr(Y[i]>=yi - yk)\n",
    "                m.addConstr(Y[i]>= -yi + yk)\n",
    "                dist_x = X[i] \n",
    "                dist_y = Y[i]\n",
    "                obj += alpha*dist_x + (1-alpha)*dist_y  \n",
    "                \n",
    "    return obj"
   ]
  },
  {
   "cell_type": "markdown",
   "metadata": {},
   "source": [
    "### Visualization functions"
   ]
  },
  {
   "cell_type": "markdown",
   "metadata": {},
   "source": [
    "Display the Baricenter"
   ]
  },
  {
   "cell_type": "code",
<<<<<<< HEAD
   "execution_count": 11,
=======
   "execution_count": 8,
>>>>>>> e2f8681b38b981c31b522cc5af7517a3d7be09fc
   "metadata": {},
   "outputs": [],
   "source": [
    "def calculate_center_of_mass(S, passengers_dict, ns):\n",
    "    x_g = LinExpr()\n",
    "    y_g = LinExpr()\n",
    "    total_weight = quicksum(passengers_dict[i]['weight'] for i in range(1, len(passengers_dict) + 1)).getValue()\n",
    "\n",
    "    for i in range(1, len(passengers_dict) + 1):\n",
    "        j_k = 1\n",
    "\n",
    "        for j in range(1, ns + 1):\n",
    "            weight_ij = passengers_dict[i]['weight'] / total_weight\n",
    "\n",
    "            if (j % 7 == 0):\n",
    "                x_g += (7 * S[i, j] * weight_ij)\n",
    "                y_g += (j_k * S[i, j] * weight_ij)\n",
    "                j_k += 1\n",
    "            else:\n",
    "                x_g += ((j % 7) * S[i, j] * weight_ij)\n",
    "                y_g += (((j // 7) + 1) * S[i, j] * weight_ij)\n",
    "\n",
    "    return x_g, y_g"
   ]
  },
  {
   "cell_type": "markdown",
   "metadata": {},
   "source": [
    "Plot the results"
   ]
  },
  {
   "cell_type": "code",
<<<<<<< HEAD
   "execution_count": 12,
   "metadata": {},
   "outputs": [
    {
     "data": {
      "text/plain": [
       "<gurobi.Model MIP instance statique: 5248 constrs, 23575 vars, Parameter changes: Username=(user-defined), OutputFlag=0>"
      ]
     },
     "metadata": {},
     "output_type": "display_data"
    }
   ],
=======
   "execution_count": 9,
   "metadata": {},
   "outputs": [],
>>>>>>> e2f8681b38b981c31b522cc5af7517a3d7be09fc
   "source": [
    "def plot_seating(passengers_dict, seat_coords, x_g, y_g):\n",
    "    # Counting the frequency of each group\n",
    "    group_counts = defaultdict(int)\n",
    "\n",
    "    for passenger in passengers_dict.values():\n",
    "        group_counts[passenger['group']] += 1\n",
    "\n",
    "    # Sort the groups by the number of passengers in each group in descending order\n",
    "    sorted_groups = sorted(group_counts.items(), key=lambda x: x[1], reverse=True)\n",
    "\n",
    "    # Define shapes for each gender\n",
    "    shapes = {\n",
    "        'Femmes': 'o',   # Circle\n",
    "        'Hommes': 's',     # Square\n",
    "        'WCHR': '^'     # Triangle\n",
    "    }\n",
    "\n",
    "    # Define colors for the groups with 3 passangers\n",
    "    colors = {\n",
    "        23: 'red',\n",
    "        9: 'green',\n",
    "        29: 'blue',\n",
    "        30: 'darkorange',\n",
    "        36: 'purple',\n",
    "        44: 'gray',\n",
    "        7: 'cyan',\n",
    "        3 : 'springgreen',\n",
    "        16: 'yellow',\n",
    "        42: 'saddlebrown',\n",
    "        46: 'deeppink'\n",
    "    }\n",
    "\n",
    "    plt.figure(figsize=(10, 10))\n",
    "    for idx, coord in enumerate(seat_coords):\n",
    "        group = passengers_dict[idx + 1]['group']\n",
    "        gender = passengers_dict[idx + 1]['gender']\n",
    "        color = colors.get(group, 'black')  # Get color for the group, default to black if not in colors dictionary\n",
    "        shape = shapes.get(gender, 'o')      # Get shape for the gender, default to circle if not in shapes dictionary\n",
    "        plt.scatter(coord[0], coord[1], color=color, marker=shape)  # Use marker parameter to set the shape\n",
    "\n",
    "    # Add labels for each gender\n",
    "    for gender, shape in shapes.items():\n",
    "        plt.scatter([], [], color='black', marker=shape, label=gender)  # Create invisible scatter plot to add label\n",
    "\n",
    "    # Plotting the center of mass\n",
    "    plt.scatter(x_g.getValue(), y_g.getValue(), color='red', marker='o', label=\"center of mass\", s=150)  # Larger red point for center of mass\n",
    "\n",
    "    plt.xlabel('Col')\n",
    "    plt.ylabel('Row')\n",
    "    plt.title('Seat')\n",
    "    plt.grid(True)\n",
    "    plt.gca().invert_yaxis()\n",
    "    plt.legend()\n",
    "    plt.show()"
   ]
  },
  {
   "cell_type": "markdown",
   "metadata": {},
   "source": [
    "### Evaluation functions"
   ]
  },
  {
   "cell_type": "markdown",
   "metadata": {},
   "source": [
    "Returns a list containing the indices of the passengers in i's group"
   ]
  },
  {
   "cell_type": "code",
   "execution_count": 10,
   "metadata": {},
   "outputs": [],
   "source": [
    "#renvoie une liste contenant les indices des passagers dans le groupe de i\n",
    "def groupe(i, Passengers):\n",
    "    G=[]\n",
    "    for k in range(1, n+1):\n",
    "        if Passengers[i]['group'] == Passengers[k]['group']:\n",
    "            G+=[k]\n",
    "        return G"
   ]
  },
  {
   "cell_type": "code",
   "execution_count": 13,
   "metadata": {},
   "outputs": [
    {
     "name": "stdout",
     "output_type": "stream",
     "text": [
<<<<<<< HEAD
      "\n",
      "Seats on the plane are as follows: [(1, 104), (2, 111), (3, 112), (4, 110), (5, 170), (6, 29), (7, 31), (8, 135), (9, 129), (10, 127), (11, 128), (12, 26), (13, 142), (14, 141), (15, 64), (16, 66), (17, 194), (18, 183), (19, 117), (20, 115), (21, 12), (22, 10), (23, 9), (24, 13), (25, 14), (26, 150), (27, 139), (28, 196), (29, 79), (30, 80), (31, 40), (32, 187), (33, 185), (34, 54), (35, 55), (36, 160), (37, 159), (38, 161), (39, 195), (40, 17), (41, 182), (42, 28), (43, 20), (44, 19), (45, 169), (46, 171), (47, 70), (48, 167), (49, 166), (50, 120), (51, 3), (52, 82), (53, 83), (54, 134), (55, 154), (56, 36), (57, 107), (58, 23), (59, 22), (60, 24), (61, 16), (62, 15), (63, 147), (64, 52), (65, 43), (66, 57), (67, 58), (68, 62), (69, 143), (70, 189), (71, 6), (72, 7), (73, 5), (74, 202), (75, 87), (76, 89), (77, 33), (78, 197), (79, 77), (80, 100), (81, 101), (82, 99), (83, 155), (84, 8), (85, 2), (86, 146), (87, 84), (88, 136), (89, 48), (90, 49), (91, 47), (92, 35), (93, 34), (94, 201), (95, 174), (96, 203), (97, 98), (98, 188), (99, 176), (100, 132), (101, 133), (102, 152), (103, 173), (104, 1), (105, 131), (106, 181), (107, 180), (108, 190), (109, 199), (110, 198), (111, 44), (112, 148), (113, 27), (114, 61), (115, 21)]\n"
=======
      "{1: [1, 2, 3], 2: [4], 3: [5, 6], 4: [7, 8, 9], 5: [10, 11, 12], 6: [13, 14], 7: [15, 16], 8: [17], 9: [18, 19, 20, 21], 10: [22], 11: [23], 12: [24, 25], 13: [26], 14: [27, 28, 29], 15: [30, 31], 16: [32], 17: [33], 18: [34, 35], 19: [36], 20: [37, 38], 21: [39], 22: [40], 23: [41, 42, 43], 24: [44, 45], 26: [46, 47], 27: [48], 28: [49], 29: [50], 30: [51, 52], 31: [53, 54, 55, 56], 32: [57, 58, 59, 60, 61], 33: [62, 63, 64, 65], 34: [66, 67], 35: [68, 69], 36: [70, 71], 37: [72], 38: [73], 39: [74, 75], 40: [76, 77], 41: [78], 42: [79], 43: [80, 81, 82, 83, 84], 44: [85, 86], 45: [87], 46: [88, 89, 90], 47: [91], 48: [92], 49: [93], 50: [94], 51: [95], 52: [96], 53: [97]}\n"
>>>>>>> e2f8681b38b981c31b522cc5af7517a3d7be09fc
     ]
    }
   ],
   "source": [
<<<<<<< HEAD
    "#Resolution\n",
    "m.Params.timeLimit = 120\n",
    "m.optimize()\n",
    "# Solution display \n",
    "print()\n",
    "print(\"Seats on the plane are as follows:\", [(i, j) for i in range(1, len(Passengers) + 1) for j in range(1, ns + 1) if S[(i, j)].x])\n",
    "\n"
=======
    "#renvoie un dictionnaire dont les groupes sont les clefs et les passagers du groupe les valeurs\n",
    "def group_dict(Passengers):\n",
    "\n",
    "    dic={}\n",
    "    for i in Passengers:\n",
    "        groupi=groupe(i, Passengers)\n",
    "        k=Passengers[i]['group']\n",
    "        if k not in dic:\n",
    "            dic[k]=groupi\n",
    "    return dic\n",
    "\n",
    "#print (group_dict(globals()[passengers_variable_name]))"
>>>>>>> e2f8681b38b981c31b522cc5af7517a3d7be09fc
   ]
  },
  {
   "cell_type": "markdown",
   "metadata": {},
   "source": [
    "Ponderation"
   ]
  },
  {
   "cell_type": "code",
<<<<<<< HEAD
   "execution_count": 14,
=======
   "execution_count": 11,
   "metadata": {},
   "outputs": [],
   "source": [
    "def ponderation(x,y):\n",
    "\n",
    "    beta= 0.3\n",
    "    den = (1-beta)*x + beta*y + 1\n",
    "   \n",
    "    res = (1/den)*5\n",
    "\n",
    "    return res"
   ]
  },
  {
   "cell_type": "markdown",
   "metadata": {},
   "source": [
    "## Read data\n"
   ]
  },
  {
   "cell_type": "code",
   "execution_count": 12,
   "metadata": {},
   "outputs": [],
   "source": [
    "# Load data for each file\n",
    "\n",
    "file_names = [\"DataSeating 2024.csv\",\"22Oct.csv\",\"23Oct.csv\",\"24Oct.csv\",\"30Oct.csv\", \"5Nov.csv\", \"7Nov.csv\"]\n",
    "data_directory = 'data'\n",
    "# for eachy dictionary : dict[Numéro du groupe : (Femmes, Hommes, WCHR, TransitTime)]\n",
    "Oct21, Oct22,Oct23, Oct24, Oct30, Nov5, Nov7= [load_data(os.path.join(data_directory, file)) for file in file_names]"
   ]
  },
  {
   "cell_type": "markdown",
   "metadata": {},
   "source": [
    "# Static model"
   ]
  },
  {
   "cell_type": "markdown",
   "metadata": {},
   "source": [
    "Parameters"
   ]
  },
  {
   "cell_type": "code",
   "execution_count": 13,
   "metadata": {},
   "outputs": [],
   "source": [
    "ranks = 29  # number of rows in the aircraft\n",
    "number_of_seats = 7 * ranks \n",
    " \n",
    "# We need a bigger aircraft for Nov7:\n",
    "ranks_Nov7 = 35  # number of rows in the aircraft\n",
    "number_of_seats_Nov7 = 7 * ranks_Nov7 \n",
    "\n",
    "alpha=0.3"
   ]
  },
  {
   "cell_type": "markdown",
   "metadata": {},
   "source": [
    "User input for date selection - Select the data you want to analyze!"
   ]
  },
  {
   "cell_type": "code",
   "execution_count": 14,
   "metadata": {},
   "outputs": [
    {
     "name": "stdout",
     "output_type": "stream",
     "text": [
      "Analyzing data for Nov5\n",
      "{1: {'gender': 'Femmes', 'group': 1, 'weight': 70, 'connection_time': 0}, 2: {'gender': 'Hommes', 'group': 1, 'weight': 85, 'connection_time': 0}, 3: {'gender': 'Hommes', 'group': 1, 'weight': 85, 'connection_time': 0}, 4: {'gender': 'Hommes', 'group': 2, 'weight': 85, 'connection_time': 60}, 5: {'gender': 'Femmes', 'group': 3, 'weight': 70, 'connection_time': 165}, 6: {'gender': 'Hommes', 'group': 3, 'weight': 85, 'connection_time': 165}, 7: {'gender': 'Femmes', 'group': 4, 'weight': 70, 'connection_time': 0}, 8: {'gender': 'Hommes', 'group': 4, 'weight': 85, 'connection_time': 0}, 9: {'gender': 'WCHR', 'group': 4, 'weight': 10000, 'connection_time': 0}, 10: {'gender': 'Femmes', 'group': 5, 'weight': 70, 'connection_time': 0}, 11: {'gender': 'Femmes', 'group': 5, 'weight': 70, 'connection_time': 0}, 12: {'gender': 'Femmes', 'group': 5, 'weight': 70, 'connection_time': 0}, 13: {'gender': 'Femmes', 'group': 6, 'weight': 70, 'connection_time': 0}, 14: {'gender': 'Hommes', 'group': 6, 'weight': 85, 'connection_time': 0}, 15: {'gender': 'Femmes', 'group': 7, 'weight': 70, 'connection_time': 85}, 16: {'gender': 'Hommes', 'group': 7, 'weight': 85, 'connection_time': 85}, 17: {'gender': 'Hommes', 'group': 8, 'weight': 85, 'connection_time': 0}, 18: {'gender': 'Femmes', 'group': 9, 'weight': 70, 'connection_time': 60}, 19: {'gender': 'Femmes', 'group': 9, 'weight': 70, 'connection_time': 60}, 20: {'gender': 'Hommes', 'group': 9, 'weight': 85, 'connection_time': 60}, 21: {'gender': 'Hommes', 'group': 9, 'weight': 85, 'connection_time': 60}, 22: {'gender': 'Femmes', 'group': 10, 'weight': 70, 'connection_time': 0}, 23: {'gender': 'Femmes', 'group': 11, 'weight': 70, 'connection_time': 0}, 24: {'gender': 'Hommes', 'group': 12, 'weight': 85, 'connection_time': 0}, 25: {'gender': 'Hommes', 'group': 12, 'weight': 85, 'connection_time': 0}, 26: {'gender': 'Hommes', 'group': 13, 'weight': 85, 'connection_time': 0}, 27: {'gender': 'Hommes', 'group': 14, 'weight': 85, 'connection_time': 0}, 28: {'gender': 'Hommes', 'group': 14, 'weight': 85, 'connection_time': 0}, 29: {'gender': 'Hommes', 'group': 14, 'weight': 85, 'connection_time': 0}, 30: {'gender': 'Femmes', 'group': 15, 'weight': 70, 'connection_time': 0}, 31: {'gender': 'Femmes', 'group': 15, 'weight': 70, 'connection_time': 0}, 32: {'gender': 'Femmes', 'group': 16, 'weight': 70, 'connection_time': 60}, 33: {'gender': 'Femmes', 'group': 17, 'weight': 70, 'connection_time': 0}, 34: {'gender': 'Femmes', 'group': 18, 'weight': 70, 'connection_time': 0}, 35: {'gender': 'Hommes', 'group': 18, 'weight': 85, 'connection_time': 0}, 36: {'gender': 'Hommes', 'group': 19, 'weight': 85, 'connection_time': 0}, 37: {'gender': 'Femmes', 'group': 20, 'weight': 70, 'connection_time': 0}, 38: {'gender': 'Hommes', 'group': 20, 'weight': 85, 'connection_time': 0}, 39: {'gender': 'Hommes', 'group': 21, 'weight': 85, 'connection_time': 0}, 40: {'gender': 'Hommes', 'group': 22, 'weight': 85, 'connection_time': 0}, 41: {'gender': 'Femmes', 'group': 23, 'weight': 70, 'connection_time': 0}, 42: {'gender': 'Femmes', 'group': 23, 'weight': 70, 'connection_time': 0}, 43: {'gender': 'Hommes', 'group': 23, 'weight': 85, 'connection_time': 0}, 44: {'gender': 'Femmes', 'group': 24, 'weight': 70, 'connection_time': 0}, 45: {'gender': 'Hommes', 'group': 24, 'weight': 85, 'connection_time': 0}, 46: {'gender': 'Femmes', 'group': 26, 'weight': 70, 'connection_time': 0}, 47: {'gender': 'Femmes', 'group': 26, 'weight': 70, 'connection_time': 0}, 48: {'gender': 'Hommes', 'group': 27, 'weight': 85, 'connection_time': 0}, 49: {'gender': 'Hommes', 'group': 28, 'weight': 85, 'connection_time': 0}, 50: {'gender': 'Hommes', 'group': 29, 'weight': 85, 'connection_time': 85}, 51: {'gender': 'Femmes', 'group': 30, 'weight': 70, 'connection_time': 85}, 52: {'gender': 'Hommes', 'group': 30, 'weight': 85, 'connection_time': 85}, 53: {'gender': 'Femmes', 'group': 31, 'weight': 70, 'connection_time': 0}, 54: {'gender': 'Femmes', 'group': 31, 'weight': 70, 'connection_time': 0}, 55: {'gender': 'Hommes', 'group': 31, 'weight': 85, 'connection_time': 0}, 56: {'gender': 'Hommes', 'group': 31, 'weight': 85, 'connection_time': 0}, 57: {'gender': 'Hommes', 'group': 32, 'weight': 85, 'connection_time': 0}, 58: {'gender': 'Hommes', 'group': 32, 'weight': 85, 'connection_time': 0}, 59: {'gender': 'Hommes', 'group': 32, 'weight': 85, 'connection_time': 0}, 60: {'gender': 'Hommes', 'group': 32, 'weight': 85, 'connection_time': 0}, 61: {'gender': 'Hommes', 'group': 32, 'weight': 85, 'connection_time': 0}, 62: {'gender': 'Hommes', 'group': 33, 'weight': 85, 'connection_time': 0}, 63: {'gender': 'Hommes', 'group': 33, 'weight': 85, 'connection_time': 0}, 64: {'gender': 'Hommes', 'group': 33, 'weight': 85, 'connection_time': 0}, 65: {'gender': 'Hommes', 'group': 33, 'weight': 85, 'connection_time': 0}, 66: {'gender': 'Femmes', 'group': 34, 'weight': 70, 'connection_time': 85}, 67: {'gender': 'Hommes', 'group': 34, 'weight': 85, 'connection_time': 85}, 68: {'gender': 'Femmes', 'group': 35, 'weight': 70, 'connection_time': 0}, 69: {'gender': 'Hommes', 'group': 35, 'weight': 85, 'connection_time': 0}, 70: {'gender': 'Femmes', 'group': 36, 'weight': 70, 'connection_time': 60}, 71: {'gender': 'Femmes', 'group': 36, 'weight': 70, 'connection_time': 60}, 72: {'gender': 'Hommes', 'group': 37, 'weight': 85, 'connection_time': 0}, 73: {'gender': 'Hommes', 'group': 38, 'weight': 85, 'connection_time': 0}, 74: {'gender': 'Femmes', 'group': 39, 'weight': 70, 'connection_time': 0}, 75: {'gender': 'WCHR', 'group': 39, 'weight': 10000, 'connection_time': 0}, 76: {'gender': 'Femmes', 'group': 40, 'weight': 70, 'connection_time': 0}, 77: {'gender': 'WCHR', 'group': 40, 'weight': 10000, 'connection_time': 0}, 78: {'gender': 'Hommes', 'group': 41, 'weight': 85, 'connection_time': 0}, 79: {'gender': 'Hommes', 'group': 42, 'weight': 85, 'connection_time': 165}, 80: {'gender': 'Femmes', 'group': 43, 'weight': 70, 'connection_time': 0}, 81: {'gender': 'Femmes', 'group': 43, 'weight': 70, 'connection_time': 0}, 82: {'gender': 'Femmes', 'group': 43, 'weight': 70, 'connection_time': 0}, 83: {'gender': 'Femmes', 'group': 43, 'weight': 70, 'connection_time': 0}, 84: {'gender': 'Femmes', 'group': 43, 'weight': 70, 'connection_time': 0}, 85: {'gender': 'Femmes', 'group': 44, 'weight': 70, 'connection_time': 85}, 86: {'gender': 'Femmes', 'group': 44, 'weight': 70, 'connection_time': 85}, 87: {'gender': 'Hommes', 'group': 45, 'weight': 85, 'connection_time': 85}, 88: {'gender': 'Femmes', 'group': 46, 'weight': 70, 'connection_time': 0}, 89: {'gender': 'Hommes', 'group': 46, 'weight': 85, 'connection_time': 0}, 90: {'gender': 'Hommes', 'group': 46, 'weight': 85, 'connection_time': 0}, 91: {'gender': 'Femmes', 'group': 47, 'weight': 70, 'connection_time': 0}, 92: {'gender': 'Femmes', 'group': 48, 'weight': 70, 'connection_time': 0}, 93: {'gender': 'WCHR', 'group': 49, 'weight': 10000, 'connection_time': 0}, 94: {'gender': 'Femmes', 'group': 50, 'weight': 70, 'connection_time': 0}, 95: {'gender': 'Hommes', 'group': 51, 'weight': 85, 'connection_time': 0}, 96: {'gender': 'Femmes', 'group': 52, 'weight': 70, 'connection_time': 0}, 97: {'gender': 'Femmes', 'group': 53, 'weight': 70, 'connection_time': 0}}\n"
     ]
    }
   ],
   "source": [
    "# User input for date selection\n",
    "selected_date = input(\"Which date do you want to analyze? Please enter one of the following options: Oct21, Oct22, Oct23, Oct24, Oct30, Nov5, Nov7: \")\n",
    "\n",
    "# Check if the entered date is valid\n",
    "if selected_date in [\"Oct21\", \"Oct22\", \"Oct23\", \"Oct24\", \"Oct30\", \"Nov5\", \"Nov7\"]:\n",
    "    # Construct the variable name dynamically\n",
    "    passengers_variable_name = f\"Passengers_{selected_date}\"\n",
    "\n",
    "    # Create a dictionary for the selected date and assign it to the variable dynamically\n",
    "    globals()[passengers_variable_name] = create_passengers_dict(globals()[selected_date])\n",
    "\n",
    "    print(f\"Analyzing data for {selected_date}\")\n",
    "    print(globals()[passengers_variable_name])\n",
    "    \n",
    "else:\n",
    "    print(\"Invalid date entered. Please enter one of the specified options.\")"
   ]
  },
  {
   "cell_type": "markdown",
   "metadata": {},
   "source": [
    "Construct the model"
   ]
  },
  {
   "cell_type": "code",
   "execution_count": 15,
   "metadata": {},
   "outputs": [
    {
     "name": "stdout",
     "output_type": "stream",
     "text": [
      "Set parameter Username\n",
      "Academic license - for non-commercial use only - expires 2025-03-06\n"
     ]
    },
    {
     "data": {
      "text/plain": [
       "<gurobi.Model MIP instance statique: 4193 constrs, 19885 vars, Parameter changes: Username=(user-defined), OutputFlag=0>"
      ]
     },
     "metadata": {},
     "output_type": "display_data"
    }
   ],
   "source": [
    "# Create models and variables for the selected date\n",
    "if selected_date == \"Nov7\":\n",
    "    m_selected, S_selected = create_model_and_variables(globals()[passengers_variable_name], number_of_seats_Nov7,selected_date)\n",
    "else:\n",
    "    m_selected, S_selected = create_model_and_variables(globals()[passengers_variable_name], number_of_seats,selected_date)\n",
    "\n",
    "# Construct the model variable names \n",
    "model_variable_name_m = f\"m_{selected_date}\"\n",
    "model_variable_name_S = f\"S_{selected_date}\"\n",
    "\n",
    "# Assign the models to the variables \n",
    "globals()[model_variable_name_m] = m_selected\n",
    "globals()[model_variable_name_S] = S_selected\n",
    "    \n",
    "# Set objectives for the models\n",
    "if selected_date == \"Nov7\":\n",
    "    m_selected.setObjective(obj_transit(S_selected, globals()[passengers_variable_name], number_of_seats_Nov7) + obj_dist(m_selected, S_selected, globals()[passengers_variable_name], alpha, number_of_seats_Nov7), GRB.MINIMIZE)\n",
    "else:\n",
    "    m_selected.setObjective(obj_transit(S_selected, globals()[passengers_variable_name], number_of_seats) + obj_dist(m_selected, S_selected, globals()[passengers_variable_name], alpha, number_of_seats), GRB.MINIMIZE)\n",
    "        \n",
    "# Set display options\n",
    "globals()[model_variable_name_m].params.outputflag = 0  # mute mode\n",
    "globals()[model_variable_name_m].update()\n",
    "\n",
    "# Display the model in text mode\n",
    "display(globals()[model_variable_name_m])\n",
    "    \n",
    "# Set time limit\n",
    "globals()[model_variable_name_m].Params.timeLimit = 120.0"
   ]
  },
  {
   "cell_type": "markdown",
   "metadata": {},
   "source": [
    "Resolution"
   ]
  },
  {
   "cell_type": "code",
   "execution_count": 16,
   "metadata": {},
   "outputs": [
    {
     "name": "stdout",
     "output_type": "stream",
     "text": [
      "\n",
      "Seats on the plane for Nov5 are as follows: [(1, 100), (2, 99), (3, 101), (4, 12), (5, 23), (6, 22), (7, 40), (8, 33), (9, 47), (10, 79), (11, 78), (12, 80), (13, 104), (14, 105), (15, 16), (16, 17), (18, 3), (19, 5), (20, 1), (21, 2), (22, 77), (23, 56), (24, 191), (25, 192), (26, 68), (27, 135), (28, 136), (29, 134), (30, 112), (31, 111), (32, 8), (33, 120), (34, 29), (35, 30), (36, 182), (37, 121), (38, 122), (39, 41), (40, 75), (41, 132), (42, 133), (43, 131), (44, 65), (45, 66), (46, 154), (47, 153), (48, 197), (49, 201), (50, 15), (51, 13), (52, 14), (53, 97), (54, 90), (55, 89), (56, 91), (57, 142), (58, 143), (59, 150), (60, 148), (61, 149), (62, 184), (63, 177), (64, 176), (65, 178), (66, 20), (67, 21), (68, 126), (69, 125), (70, 7), (71, 6), (72, 92), (73, 162), (74, 106), (75, 108), (76, 43), (77, 45), (78, 59), (79, 28), (80, 146), (81, 145), (82, 139), (83, 138), (84, 140), (85, 10), (86, 9), (87, 19), (88, 188), (89, 189), (90, 187), (91, 83), (92, 194), (93, 164), (94, 36), (95, 86), (96, 76), (97, 159)]\n"
     ]
    }
   ],
   "source": [
    "# Optimize the model\n",
    "globals()[model_variable_name_m].optimize()\n",
    "\n",
    "# Solution display\n",
    "print()\n",
    "print(f\"Seats on the plane for {selected_date} are as follows:\", [(i, j) for i in range(1, len(globals()[f'Passengers_{selected_date}']) + 1) for j in range(1, number_of_seats if selected_date != 'Nov7' else number_of_seats_Nov7 + 1) if globals()[model_variable_name_S][(i, j)].x])"
   ]
  },
  {
   "cell_type": "markdown",
   "metadata": {},
   "source": [
    "Visualization"
   ]
  },
  {
   "cell_type": "code",
   "execution_count": 17,
   "metadata": {},
   "outputs": [],
   "source": [
    "seats_variable_name = f\"seats_{selected_date}\"\n",
    "seat_coords_variable_name = f\"seat_coords_{selected_date}\"\n",
    "\n",
    "# Create lists of occupied seats\n",
    "globals()[seats_variable_name] = [j for i in range(1, len(globals()[f'Passengers_{selected_date}']) + 1) for j in range(1, number_of_seats if selected_date != 'Nov7' else number_of_seats_Nov7 + 1) if globals()[model_variable_name_S][(i, j)].x]\n",
    "\n",
    "# Calculate seat coordinates\n",
    "globals()[seat_coords_variable_name] = seat_coordinates(globals()[seats_variable_name])"
   ]
  },
  {
   "cell_type": "code",
   "execution_count": 18,
   "metadata": {},
   "outputs": [],
   "source": [
    "# Calculate center of mass\n",
    "\n",
    "x_g_variable_name = f\"x_g_{selected_date}\"\n",
    "y_g_variable_name = f\"y_g_{selected_date}\"\n",
    "globals()[x_g_variable_name], globals()[y_g_variable_name] = calculate_center_of_mass(globals()[model_variable_name_S],globals()[f\"Passengers_{selected_date}\"], number_of_seats if selected_date != 'Nov7' else number_of_seats_Nov7)"
   ]
  },
  {
   "cell_type": "code",
   "execution_count": 19,
>>>>>>> e2f8681b38b981c31b522cc5af7517a3d7be09fc
   "metadata": {},
   "outputs": [
    {
     "data": {
<<<<<<< HEAD
      "image/png": "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",
=======
      "image/png": "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",
>>>>>>> e2f8681b38b981c31b522cc5af7517a3d7be09fc
      "text/plain": [
       "<Figure size 1000x1000 with 1 Axes>"
      ]
     },
     "metadata": {},
     "output_type": "display_data"
    }
   ],
   "source": [
    "plot_seating(globals()[passengers_variable_name], globals()[seat_coords_variable_name], globals()[x_g_variable_name], globals()[y_g_variable_name])"
   ]
  },
  {
   "cell_type": "markdown",
   "metadata": {},
   "source": [
    "Evaluation"
   ]
  },
  {
   "cell_type": "markdown",
   "metadata": {},
   "source": [
    "Première métrique qui évalue la satisfaction des passagers pris un par un.\n",
    "Donc même si le groupe n'est pas bien groupé, si le passager est assis à côté d'au moins un des membres de son groupe, il est satisfait."
   ]
  },
  {
   "cell_type": "code",
<<<<<<< HEAD
   "execution_count": 15,
   "metadata": {},
   "outputs": [
    {
     "name": "stdout",
     "output_type": "stream",
     "text": [
      "{1: 0.5, 2: 1, 3: 1, 4: 1, 5: 1, 6: 1, 7: 1, 8: 1, 9: 1, 10: 1, 11: 1, 12: 1, 13: 1, 14: 1, 15: 1, 16: 1, 17: 1, 18: 1, 19: 1, 20: 0.5, 21: 1, 22: 1, 23: 1, 24: 1, 25: 1, 26: 1, 27: 1, 28: 1, 29: 1, 30: 1, 31: 1, 32: 1, 33: 0.5, 34: 1, 35: 1, 36: 1, 37: 1, 38: 1, 39: 1, 40: 1, 41: 1, 42: 1, 43: 1, 44: 1, 45: 1, 46: 1, 47: 1, 48: 1, 49: 1, 50: 1, 51: 1, 52: 1, 53: 1, 54: 1, 55: 1, 56: 1, 57: 1, 58: 1, 59: 1, 60: 1, 61: 1, 62: 1, 63: 1, 64: 1, 65: 1, 66: 1, 67: 1, 68: 1, 69: 1, 70: 1, 71: 1, 72: 1, 73: 1, 74: 1, 75: 1, 76: 0.5, 77: 0.5, 78: 0.5, 79: 0.5, 80: 1, 81: 1, 82: 1, 83: 1, 84: 1, 85: 1, 86: 1, 87: 1, 88: 1, 89: 1, 90: 1, 91: 1, 92: 1, 93: 1, 94: 1, 95: 1, 96: 1, 97: 1, 98: 1, 99: 1, 100: 1, 101: 1, 102: 1, 103: 1, 104: 1, 105: 1, 106: 1, 107: 1, 108: 1, 109: 1, 110: 1, 111: 1, 112: 1, 113: 1, 114: 1, 115: 1}\n",
      "{1: 1, 2: 1, 3: 1, 4: 1, 5: 1, 6: 1, 7: 1, 8: 1, 9: 1, 10: 1, 11: 1, 12: 1, 13: 1, 14: 1, 15: 1, 16: 1, 17: 1, 18: 1, 19: 1, 20: 1, 21: 1, 22: 1, 23: 1, 24: 1, 25: 1, 26: 1, 27: 1, 28: 1, 29: 1, 30: 1, 31: 1, 32: 1, 33: 1, 34: 1, 35: 1, 36: 1, 37: 1, 38: 1, 39: 1, 40: 1, 41: 1, 42: 1, 43: 1, 44: 1, 45: 1, 46: 1, 47: 1, 48: 1, 49: 1, 50: 1, 51: 1, 52: 1, 53: 1, 54: 1, 55: 1, 56: 1, 57: 1, 58: 1, 59: 1, 60: 1, 61: 1, 62: 1, 63: 1, 64: 1, 65: 1, 66: 1, 67: 1, 68: 1, 69: 1, 70: 1, 71: 1, 72: 1, 73: 1, 74: 1, 75: 1, 76: 1, 77: 1, 78: 1, 79: 1, 80: 1, 81: 1, 82: 1, 83: 1, 84: 1, 85: 1, 86: 1, 87: 1, 88: 1, 89: 1, 90: 1, 91: 1, 92: 1, 93: 1, 94: 1, 95: 1, 96: 1, 97: 1, 98: 1, 99: 1, 100: 1, 101: 1, 102: 1, 103: 1, 104: 1, 105: 1, 106: 1, 107: 1, 108: 1, 109: 1, 110: 1, 111: 1, 112: 1, 113: 1, 114: 1, 115: 1}\n",
      "La satisfaction moyenne des clients est de  98.47826086956522 %\n"
     ]
    }
   ],
   "source": [
    "#Première métrique de la satisfaction client (chaque passager pris individuellement)\n",
    "def metrique_groupe_passager():\n",
    "    sat={}\n",
    "    s=0\n",
    "    for i in Passengers:\n",
    "        sat[i]=0\n",
    "        for k in Passengers :\n",
    "            if k !=i and Passengers[i]['group'] == Passengers[k]['group']:\n",
    "                for j in range (1, ns+1):\n",
    "                    if S[(i,j)].x:\n",
    "                        xi, yi = seat_coordinates([j])[0]\n",
    "                    if S[(k,j)].x:\n",
    "                        xk, yk = seat_coordinates([j])[0]\n",
    "                if yi == yk and min([xi, xk]) == max([xi, xk])-1:\n",
    "                    s = 1\n",
    "                elif xi == xk and min([yi, yk]) == max([yi, yk])-1:\n",
    "                    s = 1/2\n",
    "                elif yi == yk and min([xi, xk]) == 3 and max([xi, xk]) == 5:\n",
    "                    s = 1/2\n",
    "            if sat[i] != 1:\n",
    "                sat[i] = s\n",
    "    \n",
    "    return sat\n",
    "\n",
    "print ( metrique_groupe_passager()) \n",
    "\n",
    "def metrique_transit_passager():\n",
    "    sat= {}\n",
    "\n",
    "    for i in Passengers:\n",
    "        #On ne considère que les passagers dont le temps de correspondance est inférieur à 1h30\n",
    "        if Passengers[i]['connection_time'] > 0 and Passengers[i]['connection_time'] <= 90: \n",
    "            for j in range (1, ns+1):\n",
    "                \n",
    "                if S[(i,j)].x:\n",
    "                    x, y = seat_coordinates([j])[0]\n",
    "                    if y <=5:\n",
    "                        sat[i] = 1\n",
    "                    elif y <= 7:\n",
    "                        sat[i] = 0.5\n",
    "                    else:\n",
    "                        sat[i] =0\n",
    "        else :\n",
    "            sat[i]=1\n",
    "                \n",
    "    return sat\n",
    "print (metrique_transit_passager()) \n",
    "\n",
    "def metrique_globale_passager():\n",
    "\n",
    "    sat={}\n",
    "    sat1=metrique_transit_passager()\n",
    "    sat2=metrique_groupe_passager()\n",
    "    satisfaction=0\n",
    "     \n",
    "\n",
    "    for i in Passengers:\n",
    "        sat[i]=(sat1[i]+sat2[i])/2\n",
    "        satisfaction +=sat[i]\n",
    "    satisfaction = satisfaction/len(Passengers)\n",
    "\n",
    "    return satisfaction, sat\n",
    "\n",
    "satisfaction, sat= metrique_globale_passager()\n",
    "\n",
    "print (\"La satisfaction moyenne des clients est de \",satisfaction*100, \"%\" )"
   ]
  },
  {
   "cell_type": "markdown",
   "metadata": {},
   "source": [
    "Deuxième métrique : la satisfaction est évaluée à l'échelle du groupe et de manière strice, c'est à dire que certaines configurations sont jugées satisfaisantes, les autres ne l'étant pas."
   ]
  },
  {
   "cell_type": "code",
   "execution_count": 16,
=======
   "execution_count": 20,
>>>>>>> e2f8681b38b981c31b522cc5af7517a3d7be09fc
   "metadata": {},
   "outputs": [
    {
     "name": "stdout",
     "output_type": "stream",
     "text": [
      "[1, 2, 3]\n"
     ]
    }
   ],
   "source": [
<<<<<<< HEAD
    "#renvoie une liste contenant les indices des passagers dans le groupe de i\n",
    "def groupe(i, Passengers):\n",
    "    G=[]\n",
    "    for k in range(1, n+1):\n",
    "        if Passengers[i]['group'] == Passengers[k]['group']:\n",
    "            G+=[k]\n",
    "    return G\n"
=======
    "print (groupe(1,globals()[passengers_variable_name]))"
   ]
  },
  {
   "cell_type": "code",
   "execution_count": 44,
   "metadata": {},
   "outputs": [
    {
     "ename": "IndexError",
     "evalue": "list index out of range",
     "output_type": "error",
     "traceback": [
      "\u001b[1;31m---------------------------------------------------------------------------\u001b[0m",
      "\u001b[1;31mIndexError\u001b[0m                                Traceback (most recent call last)",
      "Cell \u001b[1;32mIn[44], line 30\u001b[0m\n\u001b[0;32m     25\u001b[0m             satisfaction_scores \u001b[38;5;241m+\u001b[39m\u001b[38;5;241m=\u001b[39m score\n\u001b[0;32m     27\u001b[0m     \u001b[38;5;28;01mreturn\u001b[39;00m satisfaction_scores, group_scores\n\u001b[1;32m---> 30\u001b[0m metrique_retangule(\u001b[38;5;28mglobals\u001b[39m()[passengers_variable_name])\n",
      "Cell \u001b[1;32mIn[44], line 7\u001b[0m, in \u001b[0;36mmetrique_retangule\u001b[1;34m(passengers)\u001b[0m\n\u001b[0;32m      5\u001b[0m \u001b[38;5;28;01mfor\u001b[39;00m i \u001b[38;5;129;01min\u001b[39;00m passengers:\n\u001b[0;32m      6\u001b[0m     group \u001b[38;5;241m=\u001b[39m groupe(i, passengers)\n\u001b[1;32m----> 7\u001b[0m     group_coords \u001b[38;5;241m=\u001b[39m [\u001b[38;5;28mglobals\u001b[39m()[seat_coords_variable_name][idx \u001b[38;5;241m-\u001b[39m \u001b[38;5;241m1\u001b[39m] \u001b[38;5;28;01mfor\u001b[39;00m idx \u001b[38;5;129;01min\u001b[39;00m group]\n\u001b[0;32m      9\u001b[0m     min_x \u001b[38;5;241m=\u001b[39m \u001b[38;5;28mmin\u001b[39m(coord[\u001b[38;5;241m0\u001b[39m] \u001b[38;5;28;01mfor\u001b[39;00m coord \u001b[38;5;129;01min\u001b[39;00m group_coords)\n\u001b[0;32m     10\u001b[0m     max_x \u001b[38;5;241m=\u001b[39m \u001b[38;5;28mmax\u001b[39m(coord[\u001b[38;5;241m0\u001b[39m] \u001b[38;5;28;01mfor\u001b[39;00m coord \u001b[38;5;129;01min\u001b[39;00m group_coords)\n",
      "Cell \u001b[1;32mIn[44], line 7\u001b[0m, in \u001b[0;36m<listcomp>\u001b[1;34m(.0)\u001b[0m\n\u001b[0;32m      5\u001b[0m \u001b[38;5;28;01mfor\u001b[39;00m i \u001b[38;5;129;01min\u001b[39;00m passengers:\n\u001b[0;32m      6\u001b[0m     group \u001b[38;5;241m=\u001b[39m groupe(i, passengers)\n\u001b[1;32m----> 7\u001b[0m     group_coords \u001b[38;5;241m=\u001b[39m [\u001b[38;5;28mglobals\u001b[39m()[seat_coords_variable_name][idx \u001b[38;5;241m-\u001b[39m \u001b[38;5;241m1\u001b[39m] \u001b[38;5;28;01mfor\u001b[39;00m idx \u001b[38;5;129;01min\u001b[39;00m group]\n\u001b[0;32m      9\u001b[0m     min_x \u001b[38;5;241m=\u001b[39m \u001b[38;5;28mmin\u001b[39m(coord[\u001b[38;5;241m0\u001b[39m] \u001b[38;5;28;01mfor\u001b[39;00m coord \u001b[38;5;129;01min\u001b[39;00m group_coords)\n\u001b[0;32m     10\u001b[0m     max_x \u001b[38;5;241m=\u001b[39m \u001b[38;5;28mmax\u001b[39m(coord[\u001b[38;5;241m0\u001b[39m] \u001b[38;5;28;01mfor\u001b[39;00m coord \u001b[38;5;129;01min\u001b[39;00m group_coords)\n",
      "\u001b[1;31mIndexError\u001b[0m: list index out of range"
     ]
    }
   ],
   "source": [
    "def metrique_retangule(passengers):\n",
    "    satisfaction_scores = 0 \n",
    "    group_scores = {}  \n",
    "\n",
    "    for i in passengers:\n",
    "        group = groupe(i, passengers)\n",
    "        group_coords = [globals()[seat_coords_variable_name][idx - 1] for idx in group]\n",
    "\n",
    "        min_x = min(coord[0] for coord in group_coords)\n",
    "        max_x = max(coord[0] for coord in group_coords)\n",
    "\n",
    "\n",
    "        min_y = min(coord[1] for coord in group_coords)\n",
    "        max_y = max(coord[1] for coord in group_coords)\n",
    "       \n",
    "        y_distance = max_y - min_y\n",
    "        x_distance = max_x - min_x\n",
    "\n",
    "        if x_distance == len(group)  and y_distance == 0:\n",
    "            #group_scores[i] = 5\n",
    "            satisfaction_scores += 5 \n",
    "        else:\n",
    "            score = ponderation(x_distance, y_distance)\n",
    "            #group_scores[i] = score\n",
    "            satisfaction_scores += score\n",
    "\n",
    "    return satisfaction_scores, group_scores\n",
    "\n",
    "\n",
    "metrique_retangule(globals()[passengers_variable_name])"
>>>>>>> e2f8681b38b981c31b522cc5af7517a3d7be09fc
   ]
  },
  {
   "cell_type": "code",
<<<<<<< HEAD
   "execution_count": 17,
   "metadata": {},
   "outputs": [
    {
     "name": "stdout",
     "output_type": "stream",
     "text": [
      "{1: [1, 2, 3, 4], 2: [5], 3: [6, 7], 4: [8, 9, 10, 11], 5: [12], 6: [13, 14], 7: [15, 16], 8: [17], 9: [18], 10: [19, 20], 11: [21, 22, 23, 24, 25], 12: [26], 13: [27], 14: [28], 15: [29, 30], 16: [31], 17: [32, 33], 18: [34, 35], 19: [36, 37, 38], 20: [39], 21: [40], 22: [41], 23: [42], 24: [43, 44], 25: [45], 26: [46], 27: [47], 28: [48, 49], 29: [50], 30: [51], 31: [52, 53], 32: [54], 33: [55], 34: [56], 35: [57], 36: [58, 59, 60], 37: [61, 62], 38: [63], 39: [64], 40: [65], 41: [66], 42: [67], 43: [68], 44: [69], 45: [70], 46: [71, 72, 73], 47: [74], 48: [75, 76], 49: [77], 50: [78], 51: [79], 52: [80, 81, 82], 53: [83], 54: [84], 55: [85], 56: [86], 57: [87], 58: [88], 59: [89, 90, 91], 60: [92, 93], 61: [94], 62: [95], 63: [96], 64: [97], 65: [98], 66: [99], 67: [100, 101], 68: [102], 69: [103], 70: [104], 71: [105], 72: [106, 107], 73: [108], 74: [109, 110], 75: [111], 76: [112], 77: [113], 78: [114], 79: [115]}\n"
     ]
    }
   ],
   "source": [
    "#renvoie un dictionnaire dont les groupes sont les clefs et les passagers du groupe les valeurs\n",
    "def group_dict(Passengers):\n",
    "\n",
    "    dic={}\n",
    "    for i in Passengers:\n",
    "        groupi=groupe(i, Passengers)\n",
    "        k=Passengers[i]['group']\n",
    "        if k not in dic:\n",
    "            dic[k]=groupi\n",
    "    return dic\n",
    "\n",
    "print (group_dict(Passengers))\n",
    "  "
   ]
  },
  {
   "cell_type": "code",
   "execution_count": 18,
   "metadata": {},
   "outputs": [],
   "source": [
    "def metrique_groupe_stricte (Passengers):\n",
    "    sat={}\n",
    "    \n",
    "    group=group_dict(Passengers)\n",
    "\n",
    "    for g in group:\n",
    "        seats = [j for i in group[g] for j in range(1, ns + 1) if S[(i, j)].x]\n",
    "        group_coord=seat_coordinates(seats)\n",
    "\n",
    "        X=[]\n",
    "        Y=[]\n",
    "        for i in range (len(group[g])):\n",
    "            X += [group_coord [i][0]]\n",
    "            Y += [group_coord [i][1]]\n",
    "            X.sort()\n",
    "            Y.sort()\n",
    "\n",
    "        if len(group[g]) == 1:\n",
    "            sat[g] = 1\n",
    "\n",
=======
   "execution_count": 41,
   "metadata": {},
   "outputs": [],
   "source": [
    "def metrique_retangule_2(passengers):\n",
    "    satisfaction_scores = 0 \n",
    "\n",
    "    for i in passengers:\n",
    "        group = groupe(i, passengers)\n",
    "        group_coords = [globals()[seat_coords_variable_name][idx - 1] for idx in group]  \n",
    "\n",
    "        \n",
    "        min_x = min(coord[0] for coord in group_coords)\n",
    "        max_x = max(coord[0] for coord in group_coords)\n",
    "\n",
    "\n",
    "        min_y = min(coord[1] for coord in group_coords)\n",
    "        max_y = max(coord[1] for coord in group_coords)\n",
    "\n",
    "        \n",
    "        x_distance = max_x - min_x\n",
    "        y_distance = max_y - min_y\n",
    "\n",
    "        if(x_distance == len(group) and y_distance == 0):\n",
    "                satisfaction_scores += 5 \n",
    "        else:\n",
    "            satisfaction_scores += ponderation(x_distance, y_distance)\n",
    "\n",
    "        return satisfaction_scores\n"
   ]
  },
  {
   "cell_type": "code",
   "execution_count": 42,
   "metadata": {},
   "outputs": [
    {
     "data": {
      "text/plain": [
       "2.0833333333333335"
      ]
     },
     "execution_count": 42,
     "metadata": {},
     "output_type": "execute_result"
    }
   ],
   "source": [
    "metrique_retangule_2(globals()[passengers_variable_name])"
   ]
  },
  {
   "cell_type": "code",
   "execution_count": 63,
   "metadata": {},
   "outputs": [],
   "source": [
    "def metrique_groupe_stricte(S, Passengers, ns):\n",
    "    sat={}\n",
    "    \n",
    "    group=group_dict(Passengers)\n",
    " \n",
    "    for g in group:\n",
    "        seats = [j for i in group[g] for j in range(1, ns + 1) if S[(i, j)].x]\n",
    "        group_coord=seat_coordinates(seats)\n",
    "\n",
    "        X=[]\n",
    "        Y=[]\n",
    "        for i in range (len(group[g])):\n",
    "            X += [group_coord [i][0]]\n",
    "            Y += [group_coord [i][1]]\n",
    "            X.sort()\n",
    "            Y.sort()\n",
    "\n",
    "        if len(group[g]) == 1:\n",
    "            sat[g] = 1\n",
    "\n",
>>>>>>> e2f8681b38b981c31b522cc5af7517a3d7be09fc
    "        #Groupe de 2 passagers : ils doivent être côte à côte. Satisfaction intermédiaire si séparés par allée centrale\n",
    "        if len(group[g]) == 2:\n",
    "            if Y[0] == Y[1]:\n",
    "                if X[1] == X[0]+1:\n",
    "                    sat[g] = 1\n",
    "                elif (3 in X and 5 in X):\n",
    "                    sat[g] = 1/2\n",
    "                else : \n",
    "                    sat[g] = 0\n",
    "\n",
    "            else : \n",
    "                sat[g] = 0\n",
    "\n",
    "        #Groupe de 3 : aligné sur le même rang. Satisfaction max si côtes à côtes, intermédiaire si séparés par allée centrale, nulle sinon\n",
    "        elif len(group[g]) == 3:\n",
    "            if Y[0] == Y[1] and Y[0] == Y[2]:\n",
    "                if X[1] == X[0]+1 and X[2] == X[1]+1:\n",
    "                    sat[g] = 1\n",
    "\n",
    "                elif (X[1] == X[0]+1 or X[2] == X[1]+1) and(3 in X and 5 in X):\n",
    "                    sat[g] = 1/2\n",
    "                else : \n",
    "                    sat[g] = 0\n",
    "            else : \n",
    "                sat[g] = 0\n",
    "\n",
    "        #Groupe de 4 à 6 personnes\n",
    "        elif len(group[g]) <=6 :\n",
    "            if all(y == Y[0] for y in Y):\n",
    "                \n",
    "                if X[len(group[g])-1]-X[0] == len(group):\n",
    "                    sat[g]=1\n",
    "                else:\n",
    "                    sat[g]=1\n",
    "            \n",
    "            elif Y[1]==Y[0]+1:\n",
    "                if (3 in X and 5 not in X) or (5 in X and 3 not in X):\n",
    "                    sat[g]=1/2\n",
    "                else:\n",
    "                    sat[g]=0\n",
    "            else :\n",
    "                sat[g]=0   \n",
    "                \n",
    "        else:\n",
    "            sat[g]=1\n",
    "\n",
<<<<<<< HEAD
    "\n",
    "    return sat        \n",
    "            "
=======
    "    return sat"
>>>>>>> e2f8681b38b981c31b522cc5af7517a3d7be09fc
   ]
  },
  {
   "cell_type": "code",
<<<<<<< HEAD
   "execution_count": 19,
=======
   "execution_count": 64,
>>>>>>> e2f8681b38b981c31b522cc5af7517a3d7be09fc
   "metadata": {},
   "outputs": [],
   "source": [
    "#Retourne une note sur 1 par passager concernant l'objectif de transit\n",
<<<<<<< HEAD
    "def metrique_transit_stricte(Passengers):\n",
    "\n",
    "    sat= {}\n",
    "    \n",
=======
    "def metrique_transit_stricte(S, Passengers, ns):\n",
>>>>>>> e2f8681b38b981c31b522cc5af7517a3d7be09fc
    "\n",
    "    sat= {}\n",
    "    \n",
    "    ns = 29*7 \n",
    "    \n",
    "    for i in Passengers:\n",
    "        #On ne considère que les passagers dont le temps de correspondance est inférieur à 1h30\n",
    "        if Passengers[i]['connection_time'] > 0 and Passengers[i]['connection_time'] <= 90: \n",
    "            for j in range (1, ns+1):\n",
    "                \n",
    "                if S[(i,j)].x:\n",
    "                    x, y = seat_coordinates([j])[0]\n",
    "                    if y <=5:\n",
    "                        sat[i] = 1\n",
    "                    elif y <= 7:\n",
    "                        sat[i] = 1/2\n",
    "                    elif y <= 10:\n",
    "                        sat[i] = 1/3\n",
    "                    else:\n",
    "                        sat[i] =0\n",
    "        else :\n",
    "            sat[i]=1\n",
<<<<<<< HEAD
    "                \n",
    "    return sat\n",
    "\n"
=======
    "            \n",
    "    return  sat"
>>>>>>> e2f8681b38b981c31b522cc5af7517a3d7be09fc
   ]
  },
  {
   "cell_type": "code",
<<<<<<< HEAD
   "execution_count": 20,
   "metadata": {},
   "outputs": [],
   "source": [
    "def metrique_globale_stricte(Passengers):\n",
=======
   "execution_count": 73,
   "metadata": {},
   "outputs": [],
   "source": [
    "def metrique_globale_stricte(S, Passengers, ns):\n",
>>>>>>> e2f8681b38b981c31b522cc5af7517a3d7be09fc
    "    sat={}\n",
    "    moyenne=0\n",
    "    sat_groupe=0\n",
    "    sat_transit=0\n",
    "    #Pour fusionner les notes des passagers au regard des deux fonctions objectif, on transforme les notes par groupe pour la fonction groupe en note par passager\n",
    "    sat1={}\n",
<<<<<<< HEAD
    "    s=metrique_groupe_stricte (Passengers)\n",
=======
    "    s=metrique_groupe_stricte (S, Passengers, ns)\n",
>>>>>>> e2f8681b38b981c31b522cc5af7517a3d7be09fc
    "    group_dico=group_dict(Passengers)\n",
    "    for g in group_dico:\n",
    "        sat_groupe += s[g]\n",
    "        passagers = group_dico[g]\n",
    "        for i in passagers:\n",
    "            sat1[i]=s[g]\n",
    "\n",
<<<<<<< HEAD
    "    sat2=metrique_transit_stricte(Passengers)\n",
=======
    "    sat2=metrique_transit_stricte(S, Passengers, ns)\n",
>>>>>>> e2f8681b38b981c31b522cc5af7517a3d7be09fc
    "\n",
    "    for i in Passengers:\n",
    "        sat[i]=(sat1[i] + sat2[i])/2\n",
    "        moyenne += sat[i]\n",
    "        sat_transit += sat2[i]\n",
    "        \n",
    "\n",
    "    moyenne = moyenne / len(Passengers)\n",
    "    sat_groupe = sat_groupe / len(s)\n",
    "    sat_transit =sat_transit / len(Passengers)\n",
    "    # print (list(sat.values()))\n",
    "    # m=min(list(sat.values()))\n",
    "    # M=max(list(sat.values()))\n",
<<<<<<< HEAD
    "    return moyenne, sat_transit, sat_groupe\n",
    "\n",
    "    \n",
    "    "
=======
    "    return moyenne, sat_transit, sat_groupe"
>>>>>>> e2f8681b38b981c31b522cc5af7517a3d7be09fc
   ]
  },
  {
   "cell_type": "code",
<<<<<<< HEAD
   "execution_count": 21,
=======
   "execution_count": 76,
>>>>>>> e2f8681b38b981c31b522cc5af7517a3d7be09fc
   "metadata": {},
   "outputs": [
    {
     "name": "stdout",
     "output_type": "stream",
     "text": [
<<<<<<< HEAD
      "La satisfaction moyenne des passagers est de  94.34782608695652 %\n",
      "La satisfaction moyenne des passagers en transit est de  1.0\n",
      "La satisfaction moyenne des groupes est de  0.9367088607594937\n"
=======
      "La satisfaction moyenne des passagers est de  87.11340206185567 %\n",
      "La satisfaction moyenne des passagers en transit est de  1.0\n",
      "La satisfaction moyenne des groupes est de  0.8653846153846154\n"
>>>>>>> e2f8681b38b981c31b522cc5af7517a3d7be09fc
     ]
    }
   ],
   "source": [
<<<<<<< HEAD
    "\n",
    "\n",
    "moyenne, s_transit, s_groupe = metrique_globale_stricte(Passengers)\n",
=======
    "moyenne, s_transit, s_groupe = metrique_globale_stricte(globals()[model_variable_name_S], globals()[passengers_variable_name], number_of_seats if selected_date != 'Nov7' else number_of_seats_Nov7)\n",
>>>>>>> e2f8681b38b981c31b522cc5af7517a3d7be09fc
    "\n",
    "# print (\"Le pire niveau de satisfaction est de \", m*100, \"%\")\n",
    "# print (\"Le meilleur niveau de satisfaction est de \", M*100, \"%\")\n",
    "print (\"La satisfaction moyenne des passagers est de \", moyenne*100, \"%\")\n",
    "print (\"La satisfaction moyenne des passagers en transit est de \", s_transit)\n",
<<<<<<< HEAD
    "print (\"La satisfaction moyenne des groupes est de \", s_groupe)\n",
    "\n"
   ]
  },
  {
   "cell_type": "markdown",
   "metadata": {},
   "source": [
    "Troisième métrique : \"bounding box\""
   ]
  },
  {
   "cell_type": "code",
   "execution_count": 25,
   "metadata": {},
   "outputs": [
    {
     "data": {
      "text/plain": [
       "(4.006701714502225,\n",
       " {1: 1.8518518518518516,\n",
       "  2: 1.8518518518518516,\n",
       "  3: 1.8518518518518516,\n",
       "  4: 1.8518518518518516,\n",
       "  5: 5.0,\n",
       "  6: 5,\n",
       "  7: 5,\n",
       "  8: 1.8518518518518516,\n",
       "  9: 1.8518518518518516,\n",
       "  10: 1.8518518518518516,\n",
       "  11: 1.8518518518518516,\n",
       "  12: 5.0,\n",
       "  13: 2.9411764705882355,\n",
       "  14: 2.9411764705882355,\n",
       "  15: 5,\n",
       "  16: 5,\n",
       "  17: 5.0,\n",
       "  18: 5.0,\n",
       "  19: 5,\n",
       "  20: 5,\n",
       "  21: 5,\n",
       "  22: 5,\n",
       "  23: 5,\n",
       "  24: 5,\n",
       "  25: 5,\n",
       "  26: 5.0,\n",
       "  27: 5.0,\n",
       "  28: 5.0,\n",
       "  29: 2.9411764705882355,\n",
       "  30: 2.9411764705882355,\n",
       "  31: 5.0,\n",
       "  32: 5,\n",
       "  33: 5,\n",
       "  34: 2.9411764705882355,\n",
       "  35: 2.9411764705882355,\n",
       "  36: 2.0833333333333335,\n",
       "  37: 2.0833333333333335,\n",
       "  38: 2.0833333333333335,\n",
       "  39: 5.0,\n",
       "  40: 5.0,\n",
       "  41: 5.0,\n",
       "  42: 5.0,\n",
       "  43: 2.9411764705882355,\n",
       "  44: 2.9411764705882355,\n",
       "  45: 5.0,\n",
       "  46: 5.0,\n",
       "  47: 5.0,\n",
       "  48: 2.9411764705882355,\n",
       "  49: 2.9411764705882355,\n",
       "  50: 5.0,\n",
       "  51: 5.0,\n",
       "  52: 2.9411764705882355,\n",
       "  53: 2.9411764705882355,\n",
       "  54: 5.0,\n",
       "  55: 5.0,\n",
       "  56: 5.0,\n",
       "  57: 5.0,\n",
       "  58: 2.0833333333333335,\n",
       "  59: 2.0833333333333335,\n",
       "  60: 2.0833333333333335,\n",
       "  61: 2.9411764705882355,\n",
       "  62: 2.9411764705882355,\n",
       "  63: 5.0,\n",
       "  64: 5.0,\n",
       "  65: 5.0,\n",
       "  66: 5.0,\n",
       "  67: 5.0,\n",
       "  68: 5.0,\n",
       "  69: 5.0,\n",
       "  70: 5.0,\n",
       "  71: 2.0833333333333335,\n",
       "  72: 2.0833333333333335,\n",
       "  73: 2.0833333333333335,\n",
       "  74: 5.0,\n",
       "  75: 5,\n",
       "  76: 5,\n",
       "  77: 5.0,\n",
       "  78: 5.0,\n",
       "  79: 5.0,\n",
       "  80: 2.0833333333333335,\n",
       "  81: 2.0833333333333335,\n",
       "  82: 2.0833333333333335,\n",
       "  83: 5.0,\n",
       "  84: 5.0,\n",
       "  85: 5.0,\n",
       "  86: 5.0,\n",
       "  87: 5.0,\n",
       "  88: 5.0,\n",
       "  89: 2.0833333333333335,\n",
       "  90: 2.0833333333333335,\n",
       "  91: 2.0833333333333335,\n",
       "  92: 2.9411764705882355,\n",
       "  93: 2.9411764705882355,\n",
       "  94: 5.0,\n",
       "  95: 5.0,\n",
       "  96: 5.0,\n",
       "  97: 5.0,\n",
       "  98: 5.0,\n",
       "  99: 5.0,\n",
       "  100: 2.9411764705882355,\n",
       "  101: 2.9411764705882355,\n",
       "  102: 5.0,\n",
       "  103: 5.0,\n",
       "  104: 5.0,\n",
       "  105: 5.0,\n",
       "  106: 2.9411764705882355,\n",
       "  107: 2.9411764705882355,\n",
       "  108: 5.0,\n",
       "  109: 2.9411764705882355,\n",
       "  110: 2.9411764705882355,\n",
       "  111: 5.0,\n",
       "  112: 5.0,\n",
       "  113: 5.0,\n",
       "  114: 5.0,\n",
       "  115: 5.0})"
      ]
     },
     "execution_count": 25,
     "metadata": {},
     "output_type": "execute_result"
    }
   ],
   "source": [
    "def ponderation(x,y):\n",
    "\n",
    "    beta= 0.3\n",
    "    den = (1-beta)*x + beta*y + 1\n",
    "   \n",
    "    res = (1/den)*5\n",
    "\n",
    "    return res\n",
    "\n",
    "\n",
    "def metrique_retangule(passengers):\n",
    "    satisfaction_scores = 0 \n",
    "    group_scores = {}  \n",
    "\n",
    "    for i in passengers:\n",
    "        group = groupe(i, passengers)\n",
    "        group_coords = [seat_coords[idx - 1] for idx in group]  \n",
    "\n",
    "\n",
    "        min_x = min(coord[0] for coord in group_coords)\n",
    "        max_x = max(coord[0] for coord in group_coords)\n",
    "\n",
    "\n",
    "        min_y = min(coord[1] for coord in group_coords)\n",
    "        max_y = max(coord[1] for coord in group_coords)\n",
    "       \n",
    "        y_distance = max_y - min_y\n",
    "        x_distance = max_x - min_x\n",
    "\n",
    "        if x_distance == len(group)  and y_distance == 0:\n",
    "            group_scores[i] = 5\n",
    "            satisfaction_scores += 5 \n",
    "        else:\n",
    "            score = ponderation(x_distance, y_distance)\n",
    "            group_scores[i] = score\n",
    "            satisfaction_scores += score\n",
    "\n",
    "    return satisfaction_scores/len(Passengers), group_scores\n",
    "\n",
    "\n",
    "metrique_retangule(Passengers)"
=======
    "print (\"La satisfaction moyenne des groupes est de \",s_groupe)"
>>>>>>> e2f8681b38b981c31b522cc5af7517a3d7be09fc
   ]
  }
 ],
 "metadata": {
  "kernelspec": {
   "display_name": "base",
   "language": "python",
   "name": "python3"
  },
  "language_info": {
   "codemirror_mode": {
    "name": "ipython",
    "version": 3
   },
   "file_extension": ".py",
   "mimetype": "text/x-python",
   "name": "python",
   "nbconvert_exporter": "python",
   "pygments_lexer": "ipython3",
   "version": "3.11.5"
  }
 },
 "nbformat": 4,
 "nbformat_minor": 2
}
