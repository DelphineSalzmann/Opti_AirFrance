{
 "cells": [
  {
   "cell_type": "markdown",
   "metadata": {},
   "source": [
    "## Import libraries"
   ]
  },
  {
   "cell_type": "code",
   "execution_count": 240,
   "metadata": {},
   "outputs": [],
   "source": [
    "import numpy as np\n",
    "import pandas as pd\n",
    "import matplotlib.pyplot as plt\n",
    "from gurobipy import *\n",
    "from collections import defaultdict\n",
    "import csv\n",
    "from datetime import datetime\n",
    "import os\n",
    "import random\n"
   ]
  },
  {
   "cell_type": "markdown",
   "metadata": {},
   "source": [
    "## Read and preprocess data\n"
   ]
  },
  {
   "cell_type": "code",
   "execution_count": 241,
   "metadata": {},
   "outputs": [],
   "source": [
    "def load_data(file_path):\n",
    "    data_dict = dict()\n",
    "\n",
    "    with open(file_path) as file:\n",
    "        reader = csv.DictReader(file)\n",
    "        for row in reader:\n",
    "            if row['Numéro du groupe'] != '':\n",
    "                heures, minutes, _ = map(int, row['TransitTime'].split(':')) \n",
    "                total_minutes = heures * 60 + minutes\n",
    "                data_dict[int(float(row['Numéro du groupe']))] = (\n",
    "                    int(float(row['Femmes'])),\n",
    "                    int(float(row['Hommes'])),\n",
    "                    int(float(row['WCHR'])),\n",
    "                    total_minutes\n",
    "                )\n",
    "\n",
    "    return data_dict\n",
    "\n",
    "# Load data for each file\n",
    "\n",
    "file_names = [\"DataSeating 2024.csv\",\"22Oct.csv\",\"23Oct.csv\",\"24Oct.csv\",\"30Oct.csv\", \"5Nov.csv\", \"7Nov.csv\"]\n",
    "data_directory = 'data'\n",
    "# for eachy dictionary : dict[Numéro du groupe : (Femmes, Hommes, WCHR, TransitTime)]\n",
    "Oct21, Oct22,Oct23, Oct24, Oct30, Nov5, Nov7= [load_data(os.path.join(data_directory, file)) for file in file_names]"
   ]
  },
  {
   "cell_type": "markdown",
   "metadata": {},
   "source": [
    "Transforming data to access each passenger's Id\n"
   ]
  },
  {
   "cell_type": "code",
   "execution_count": 242,
   "metadata": {},
   "outputs": [
    {
     "name": "stdout",
     "output_type": "stream",
     "text": [
      "{1: {'gender': 'Femmes', 'group': 1, 'weight': 70, 'connection_time': 0}, 2: {'gender': 'Hommes', 'group': 1, 'weight': 85, 'connection_time': 0}, 3: {'gender': 'Hommes', 'group': 1, 'weight': 85, 'connection_time': 0}, 4: {'gender': 'Hommes', 'group': 2, 'weight': 85, 'connection_time': 60}, 5: {'gender': 'Femmes', 'group': 3, 'weight': 70, 'connection_time': 165}, 6: {'gender': 'Hommes', 'group': 3, 'weight': 85, 'connection_time': 165}, 7: {'gender': 'Femmes', 'group': 4, 'weight': 70, 'connection_time': 0}, 8: {'gender': 'Hommes', 'group': 4, 'weight': 85, 'connection_time': 0}, 9: {'gender': 'WCHR', 'group': 4, 'weight': 10000, 'connection_time': 0}, 10: {'gender': 'Femmes', 'group': 5, 'weight': 70, 'connection_time': 0}, 11: {'gender': 'Femmes', 'group': 5, 'weight': 70, 'connection_time': 0}, 12: {'gender': 'Femmes', 'group': 5, 'weight': 70, 'connection_time': 0}, 13: {'gender': 'Femmes', 'group': 6, 'weight': 70, 'connection_time': 0}, 14: {'gender': 'Hommes', 'group': 6, 'weight': 85, 'connection_time': 0}, 15: {'gender': 'Femmes', 'group': 7, 'weight': 70, 'connection_time': 85}, 16: {'gender': 'Hommes', 'group': 7, 'weight': 85, 'connection_time': 85}, 17: {'gender': 'Hommes', 'group': 8, 'weight': 85, 'connection_time': 0}, 18: {'gender': 'Femmes', 'group': 9, 'weight': 70, 'connection_time': 60}, 19: {'gender': 'Femmes', 'group': 9, 'weight': 70, 'connection_time': 60}, 20: {'gender': 'Hommes', 'group': 9, 'weight': 85, 'connection_time': 60}, 21: {'gender': 'Hommes', 'group': 9, 'weight': 85, 'connection_time': 60}, 22: {'gender': 'Femmes', 'group': 10, 'weight': 70, 'connection_time': 0}, 23: {'gender': 'Femmes', 'group': 11, 'weight': 70, 'connection_time': 0}, 24: {'gender': 'Hommes', 'group': 12, 'weight': 85, 'connection_time': 0}, 25: {'gender': 'Hommes', 'group': 12, 'weight': 85, 'connection_time': 0}, 26: {'gender': 'Hommes', 'group': 13, 'weight': 85, 'connection_time': 0}, 27: {'gender': 'Hommes', 'group': 14, 'weight': 85, 'connection_time': 0}, 28: {'gender': 'Hommes', 'group': 14, 'weight': 85, 'connection_time': 0}, 29: {'gender': 'Hommes', 'group': 14, 'weight': 85, 'connection_time': 0}, 30: {'gender': 'Femmes', 'group': 15, 'weight': 70, 'connection_time': 0}, 31: {'gender': 'Femmes', 'group': 15, 'weight': 70, 'connection_time': 0}, 32: {'gender': 'Femmes', 'group': 16, 'weight': 70, 'connection_time': 60}, 33: {'gender': 'Femmes', 'group': 17, 'weight': 70, 'connection_time': 0}, 34: {'gender': 'Femmes', 'group': 18, 'weight': 70, 'connection_time': 0}, 35: {'gender': 'Hommes', 'group': 18, 'weight': 85, 'connection_time': 0}, 36: {'gender': 'Hommes', 'group': 19, 'weight': 85, 'connection_time': 0}, 37: {'gender': 'Femmes', 'group': 20, 'weight': 70, 'connection_time': 0}, 38: {'gender': 'Hommes', 'group': 20, 'weight': 85, 'connection_time': 0}, 39: {'gender': 'Hommes', 'group': 21, 'weight': 85, 'connection_time': 0}, 40: {'gender': 'Hommes', 'group': 22, 'weight': 85, 'connection_time': 0}, 41: {'gender': 'Femmes', 'group': 23, 'weight': 70, 'connection_time': 0}, 42: {'gender': 'Femmes', 'group': 23, 'weight': 70, 'connection_time': 0}, 43: {'gender': 'Hommes', 'group': 23, 'weight': 85, 'connection_time': 0}, 44: {'gender': 'Femmes', 'group': 24, 'weight': 70, 'connection_time': 0}, 45: {'gender': 'Hommes', 'group': 24, 'weight': 85, 'connection_time': 0}, 46: {'gender': 'Femmes', 'group': 26, 'weight': 70, 'connection_time': 0}, 47: {'gender': 'Femmes', 'group': 26, 'weight': 70, 'connection_time': 0}, 48: {'gender': 'Hommes', 'group': 27, 'weight': 85, 'connection_time': 0}, 49: {'gender': 'Hommes', 'group': 28, 'weight': 85, 'connection_time': 0}, 50: {'gender': 'Hommes', 'group': 29, 'weight': 85, 'connection_time': 85}, 51: {'gender': 'Femmes', 'group': 30, 'weight': 70, 'connection_time': 85}, 52: {'gender': 'Hommes', 'group': 30, 'weight': 85, 'connection_time': 85}, 53: {'gender': 'Femmes', 'group': 31, 'weight': 70, 'connection_time': 0}, 54: {'gender': 'Femmes', 'group': 31, 'weight': 70, 'connection_time': 0}, 55: {'gender': 'Hommes', 'group': 31, 'weight': 85, 'connection_time': 0}, 56: {'gender': 'Hommes', 'group': 31, 'weight': 85, 'connection_time': 0}, 57: {'gender': 'Hommes', 'group': 32, 'weight': 85, 'connection_time': 0}, 58: {'gender': 'Hommes', 'group': 32, 'weight': 85, 'connection_time': 0}, 59: {'gender': 'Hommes', 'group': 32, 'weight': 85, 'connection_time': 0}, 60: {'gender': 'Hommes', 'group': 32, 'weight': 85, 'connection_time': 0}, 61: {'gender': 'Hommes', 'group': 32, 'weight': 85, 'connection_time': 0}, 62: {'gender': 'Hommes', 'group': 33, 'weight': 85, 'connection_time': 0}, 63: {'gender': 'Hommes', 'group': 33, 'weight': 85, 'connection_time': 0}, 64: {'gender': 'Hommes', 'group': 33, 'weight': 85, 'connection_time': 0}, 65: {'gender': 'Hommes', 'group': 33, 'weight': 85, 'connection_time': 0}, 66: {'gender': 'Femmes', 'group': 34, 'weight': 70, 'connection_time': 85}, 67: {'gender': 'Hommes', 'group': 34, 'weight': 85, 'connection_time': 85}, 68: {'gender': 'Femmes', 'group': 35, 'weight': 70, 'connection_time': 0}, 69: {'gender': 'Hommes', 'group': 35, 'weight': 85, 'connection_time': 0}, 70: {'gender': 'Femmes', 'group': 36, 'weight': 70, 'connection_time': 60}, 71: {'gender': 'Femmes', 'group': 36, 'weight': 70, 'connection_time': 60}, 72: {'gender': 'Hommes', 'group': 37, 'weight': 85, 'connection_time': 0}, 73: {'gender': 'Hommes', 'group': 38, 'weight': 85, 'connection_time': 0}, 74: {'gender': 'Femmes', 'group': 39, 'weight': 70, 'connection_time': 0}, 75: {'gender': 'WCHR', 'group': 39, 'weight': 10000, 'connection_time': 0}, 76: {'gender': 'Femmes', 'group': 40, 'weight': 70, 'connection_time': 0}, 77: {'gender': 'WCHR', 'group': 40, 'weight': 10000, 'connection_time': 0}, 78: {'gender': 'Hommes', 'group': 41, 'weight': 85, 'connection_time': 0}, 79: {'gender': 'Hommes', 'group': 42, 'weight': 85, 'connection_time': 165}, 80: {'gender': 'Femmes', 'group': 43, 'weight': 70, 'connection_time': 0}, 81: {'gender': 'Femmes', 'group': 43, 'weight': 70, 'connection_time': 0}, 82: {'gender': 'Femmes', 'group': 43, 'weight': 70, 'connection_time': 0}, 83: {'gender': 'Femmes', 'group': 43, 'weight': 70, 'connection_time': 0}, 84: {'gender': 'Femmes', 'group': 43, 'weight': 70, 'connection_time': 0}, 85: {'gender': 'Femmes', 'group': 44, 'weight': 70, 'connection_time': 85}, 86: {'gender': 'Femmes', 'group': 44, 'weight': 70, 'connection_time': 85}, 87: {'gender': 'Hommes', 'group': 45, 'weight': 85, 'connection_time': 85}, 88: {'gender': 'Femmes', 'group': 46, 'weight': 70, 'connection_time': 0}, 89: {'gender': 'Hommes', 'group': 46, 'weight': 85, 'connection_time': 0}, 90: {'gender': 'Hommes', 'group': 46, 'weight': 85, 'connection_time': 0}, 91: {'gender': 'Femmes', 'group': 47, 'weight': 70, 'connection_time': 0}, 92: {'gender': 'Femmes', 'group': 48, 'weight': 70, 'connection_time': 0}, 93: {'gender': 'WCHR', 'group': 49, 'weight': 10000, 'connection_time': 0}, 94: {'gender': 'Femmes', 'group': 50, 'weight': 70, 'connection_time': 0}, 95: {'gender': 'Hommes', 'group': 51, 'weight': 85, 'connection_time': 0}, 96: {'gender': 'Femmes', 'group': 52, 'weight': 70, 'connection_time': 0}, 97: {'gender': 'Femmes', 'group': 53, 'weight': 70, 'connection_time': 0}}\n"
     ]
    }
   ],
   "source": [
    "def create_passengers_dict(data):\n",
    "    passengers_dict = {}\n",
    "    j = 1\n",
    "\n",
    "    for group_num, group_data in data.items():\n",
    "        weights = {'Femmes': 70, 'Hommes': 85, 'WCHR': 10000}  # Weight per passenger\n",
    "\n",
    "        # Extracting data\n",
    "        femmes, hommes, wchr, total_minutes = group_data\n",
    "\n",
    "        # Enumerating passengers\n",
    "        for _ in range(femmes + hommes + wchr):\n",
    "            if femmes > 0:\n",
    "                weight = weights['Femmes']\n",
    "                passengers_dict[j] = {'gender': 'Femmes', 'group': group_num, 'weight': weight,\n",
    "                                      'connection_time': total_minutes}\n",
    "                femmes -= 1\n",
    "            elif hommes > 0:\n",
    "                weight = weights['Hommes']\n",
    "                passengers_dict[j] = {'gender': 'Hommes', 'group': group_num, 'weight': weight,\n",
    "                                      'connection_time': total_minutes}\n",
    "                hommes -= 1\n",
    "            else:\n",
    "                weight = weights['WCHR']\n",
    "                passengers_dict[j] = {'gender': 'WCHR', 'group': group_num, 'weight': weight,\n",
    "                                      'connection_time': total_minutes}\n",
    "                wchr -= 1\n",
    "            j += 1\n",
    "\n",
    "    return passengers_dict\n",
    "\n",
    "Passengers_Oct21 = create_passengers_dict(Oct21)\n",
    "Passengers_Oct22 = create_passengers_dict(Oct22)\n",
    "Passengers_Oct23 = create_passengers_dict(Oct23)\n",
    "Passengers_Oct24 = create_passengers_dict(Oct24)\n",
    "Passengers_Oct30 = create_passengers_dict(Oct30)\n",
    "Passengers_Nov5 = create_passengers_dict(Nov5)\n",
    "Passengers_Nov7 = create_passengers_dict(Nov7)\n",
    "\n",
    "# Example usage for Nov5\n",
    "print(Passengers_Nov5)"
   ]
  },
  {
   "cell_type": "markdown",
   "metadata": {},
   "source": [
    "# Static model"
   ]
  },
  {
   "cell_type": "code",
   "execution_count": 243,
   "metadata": {},
   "outputs": [],
   "source": [
    "# Function to create optimization model and variables\n",
    "\n",
    "ranks = 29  # number of rows in the aircraft\n",
    "ns = 7 * ranks  # number of seats\n",
    "\n",
    "def create_model_and_variables(passengers_dict):\n",
    "    n = len(passengers_dict)  # number of passengers\n",
    "\n",
    "    m = Model('statique')  # Model initialization\n",
    "\n",
    "    # Adding variables\n",
    "    S = {(i, j): m.addVar(vtype=GRB.BINARY, name=f'j{i}') for i in range(1, n + 1) for j in range(1, ns + 1)}\n",
    "\n",
    "    # Adding constraints\n",
    "    # Max. 1 seat per passenger\n",
    "    for j in range(1, ns + 1):\n",
    "        m.addConstr(quicksum(S[(i, j)] for i in range(1, n + 1)) <= 1, name=\"PassengerMax\")\n",
    "\n",
    "    # Each passenger has one and only one seat\n",
    "    for i in range(1, n + 1):\n",
    "        m.addConstr(quicksum(S[(i, j)] for j in range(1, ns + 1)) == 1, name=\"SeatMax\")\n",
    "\n",
    "    # The central aisle is left free\n",
    "    for i in range(1, n + 1):\n",
    "        for j in range(1, ns + 1):\n",
    "            if j % 7 == 4:\n",
    "                m.addConstr(S[(i, j)] == 0)\n",
    "\n",
    "    # Baricenter\n",
    "    x_g = LinExpr()\n",
    "    y_g = LinExpr()\n",
    "\n",
    "    total_weight = quicksum(passengers_dict[i]['weight'] for i in range(1, n + 1)).getValue()\n",
    "\n",
    "    for i in range(1, n + 1):\n",
    "        j_k = 1\n",
    "\n",
    "        for j in range(1, ns + 1):\n",
    "            weight_ij = passengers_dict[i]['weight'] / total_weight\n",
    "\n",
    "            if j % 7 == 0:\n",
    "                x_g += (7 * S[i, j] * weight_ij)\n",
    "                y_g += (j_k * S[i, j] * weight_ij)\n",
    "                j_k += 1\n",
    "            else:\n",
    "                x_g += ((j % 7) * S[i, j] * weight_ij)\n",
    "                y_g += (((j // 7) + 1) * S[i, j] * weight_ij)\n",
    "\n",
    "    m.addConstr(x_g >= 3)\n",
    "    m.addConstr(x_g <= 5)\n",
    "    m.addConstr(y_g >= 13)\n",
    "    m.addConstr(y_g <= 17)\n",
    "\n",
    "    # Disabled passengers occupy 4 spaces on the central aisle\n",
    "    for passenger in passengers_dict:\n",
    "        if passengers_dict[passenger]['gender']=='WCHR':\n",
    "            #Seats are shortened by row (from 7 to 7)\n",
    "            for j in range(1, ns+1-8, 7):             \n",
    "            \n",
    "                x1, x2, x3, x4, x5, x6, x7 = j,j+1,j+2,j+3,j+4,j+5,j+6\n",
    "                \n",
    "                #A seat is fixed in rows 3 or 5.\n",
    "                m.addConstr(S[(passenger, x1)] + S[(passenger, x2)] +  S[(passenger, x6)] + S[(passenger, x7)] ==0 )   \n",
    "                \n",
    "                #The seat overlooking the alley is closed off\n",
    "                m.addConstr(S[(passenger, x3)]+sum(S[(i, x3-1)] for i in passengers_dict) <= 1) \n",
    "                #We close the 2 seats behind\n",
    "                m.addConstr(S[(passenger, x3)]+sum(S[(i, x3+7)] for i in passengers_dict) <= 1) \n",
    "                m.addConstr(S[(passenger, x3)]+sum(S[(i, x3+6)] for i in passengers_dict) <= 1)\n",
    "                #The seat overlooking the alley is closed off\n",
    "                m.addConstr(S[(passenger, x5)]+sum(S[(i, x5+1)] for i in passengers_dict) <= 1) \n",
    "                #We close the 2 seats behind\n",
    "                m.addConstr(S[(passenger, x5)]+sum(S[(i, x5+7)] for i in passengers_dict) <= 1) \n",
    "                m.addConstr(S[(passenger, x5)]+sum(S[(i, x5+8)] for i in passengers_dict) <= 1)\n",
    "            #Disabled passengers cannot be in the last row   \n",
    "            m.addConstr(sum(S[(passenger, k)] for k in range (ns-6, ns+1)) == 0)  \n",
    "\n",
    "    return m, S"
   ]
  },
  {
   "cell_type": "code",
   "execution_count": 244,
   "metadata": {},
   "outputs": [],
   "source": [
    "#Choice of the dictionnary\n",
    "\n",
    "Passengers=Passengers_Nov5"
   ]
  },
  {
   "cell_type": "code",
   "execution_count": 245,
   "metadata": {},
   "outputs": [
    {
     "name": "stdout",
     "output_type": "stream",
     "text": [
      "Set parameter Username\n",
      "Academic license - for non-commercial use only - expires 2025-03-06\n"
     ]
    }
   ],
   "source": [
    "# Create models and variables for each date\n",
    "n=len(Passengers)\n",
    "m, S = create_model_and_variables(Passengers)\n"
   ]
  },
  {
   "cell_type": "markdown",
   "metadata": {},
   "source": [
    "Objective functions"
   ]
  },
  {
   "cell_type": "code",
   "execution_count": 246,
   "metadata": {},
   "outputs": [],
   "source": [
    "# Transit passengers are seated at the front of the aircraft\n",
    "def obj_transit(S, passengers_dict):\n",
    "    T = {}\n",
    "\n",
    "    for passenger in passengers_dict:\n",
    "        if passengers_dict[passenger]['connection_time'] > 0:  # transit passenger\n",
    "            T[passenger] = passengers_dict[passenger]['connection_time']\n",
    "\n",
    "    P = list(T.keys())  # returns a list of transit passenger identifiers\n",
    "\n",
    "    f = 0\n",
    "    for k in range(len(P)):\n",
    "        for j in range(1, ns + 1):\n",
    "            q = (j - 1) // 7\n",
    "            f += S[(P[k], j)] * (1 / T[P[k]]) * q\n",
    "\n",
    "    return f\n"
   ]
  },
  {
   "cell_type": "code",
   "execution_count": 8,
   "metadata": {},
   "outputs": [
    {
     "name": "stdout",
     "output_type": "stream",
     "text": [
      "[(1, 1), (5, 8)]\n"
     ]
    }
   ],
   "source": [
    "def seat_coordinates(seats):  #seats is a list\n",
    "    coordinates = []\n",
    "    for j in range(len(seats)):\n",
    "        if (seats[j] % 7 == 0):\n",
    "            x = 7\n",
    "            y = (seats[j] // 7) \n",
    "        else:\n",
    "            x = seats[j] % 7\n",
    "            y = (seats[j] // 7) +1 \n",
    "        coordinates.append((x, y))\n",
    "    return coordinates\n",
    "\n",
    "print (seat_coordinates([1, 54]))"
   ]
  },
  {
   "cell_type": "code",
   "execution_count": 248,
   "metadata": {},
   "outputs": [],
   "source": [
    "alpha=0.3\n",
    "\n",
    "def obj_dist(Passengers, alpha):\n",
    "\n",
    "    obj = LinExpr()\n",
    "    X={}\n",
    "    Y={}\n",
    "    coord = seat_coordinates([j for j in range(1, ns+1)])\n",
    "    for i in range(1, n + 1):\n",
    "        X[i]=m.addVar(vtype=GRB.INTEGER)\n",
    "        Y[i]=m.addVar(vtype=GRB.INTEGER)\n",
    "\n",
    "        for k in range(i + 1, n + 1):  \n",
    "            if  i!=k and Passengers[i]['group'] == Passengers[k]['group']:  #Si passager i et passager k sont dans le même groupe\n",
    "\n",
    "                xi, yi = 0, 0\n",
    "                xk, yk = 0, 0\n",
    "\n",
    "                for j in range (len(coord)):                                      #On parcourt les sièges\n",
    "                    xi, yi = xi + S[(i,j+1)]*coord[j][0], yi + S[(i,j+1)]*coord[j][1]\n",
    "                    xk, yk =  xk + S[(k,j+1)]*coord[j][0], yk + S[(k,j+1)]*coord[j][1]\n",
    "                \n",
    "                m.addConstr(X[i]>=xi - xk)\n",
    "                m.addConstr(X[i]>= -xi + xk)\n",
    "                m.addConstr(Y[i]>=yi - yk)\n",
    "                m.addConstr(Y[i]>= -yi + yk)\n",
    "                dist_x = X[i] \n",
    "                dist_y = Y[i]\n",
    "                obj += alpha*dist_x + (1-alpha)*dist_y  \n",
    "                \n",
    "    return obj\n",
    "\n"
   ]
  },
  {
   "cell_type": "code",
   "execution_count": 249,
   "metadata": {},
   "outputs": [],
   "source": [
    "\n",
    "m.setObjective(obj_transit(S, Passengers) + obj_dist(Passengers, alpha) , GRB.MINIMIZE)"
   ]
  },
  {
   "cell_type": "code",
   "execution_count": 250,
   "metadata": {},
   "outputs": [
    {
     "data": {
      "text/plain": [
       "<gurobi.Model MIP instance statique: 4193 constrs, 19885 vars, Parameter changes: Username=(user-defined), OutputFlag=0>"
      ]
     },
     "metadata": {},
     "output_type": "display_data"
    }
   ],
   "source": [
    "# Choice of minimalist display settings\n",
    "m.params.outputflag = 0 # mute mode\n",
    "m.update() # Model update\n",
    "display(m) # Text mode display of PL\n",
    "\n"
   ]
  },
  {
   "cell_type": "code",
   "execution_count": 251,
   "metadata": {},
   "outputs": [
    {
     "name": "stdout",
     "output_type": "stream",
     "text": [
      "\n",
      "Seats on the plane are as follows: [(1, 100), (2, 99), (3, 101), (4, 12), (5, 23), (6, 22), (7, 40), (8, 33), (9, 47), (10, 79), (11, 78), (12, 80), (13, 104), (14, 105), (15, 16), (16, 17), (17, 36), (18, 3), (19, 5), (20, 1), (21, 2), (22, 77), (23, 56), (24, 191), (25, 192), (26, 68), (27, 135), (28, 136), (29, 134), (30, 112), (31, 111), (32, 8), (33, 63), (34, 29), (35, 30), (36, 182), (37, 121), (38, 122), (39, 85), (40, 118), (41, 132), (42, 133), (43, 131), (44, 65), (45, 66), (46, 154), (47, 153), (48, 98), (49, 203), (50, 15), (51, 13), (52, 14), (53, 97), (54, 90), (55, 89), (56, 91), (57, 142), (58, 143), (59, 150), (60, 148), (61, 149), (62, 184), (63, 177), (64, 176), (65, 178), (66, 20), (67, 21), (68, 126), (69, 125), (70, 7), (71, 6), (72, 49), (73, 162), (74, 106), (75, 108), (76, 38), (77, 45), (78, 59), (79, 28), (80, 166), (81, 167), (82, 174), (83, 175), (84, 173), (85, 10), (86, 9), (87, 19), (88, 188), (89, 189), (90, 187), (91, 202), (92, 27), (93, 157), (94, 152), (95, 86), (96, 76), (97, 113)]\n"
     ]
    }
   ],
   "source": [
    "#Resolution\n",
    "m.Params.timeLimit = 120\n",
    "m.optimize()\n",
    "# Solution display \n",
    "print()\n",
    "print(\"Seats on the plane are as follows:\", [(i, j) for i in range(1, len(Passengers) + 1) for j in range(1, ns + 1) if S[(i, j)].x])\n",
    "\n"
   ]
  },
  {
   "cell_type": "markdown",
   "metadata": {},
   "source": [
    "Visualization of the seats"
   ]
  },
  {
   "cell_type": "code",
   "execution_count": 270,
   "metadata": {},
   "outputs": [
    {
     "data": {
      "image/png": "[encoded data removed]",
      "text/plain": [
       "<Figure size 1000x1000 with 1 Axes>"
      ]
     },
     "metadata": {},
     "output_type": "display_data"
    }
   ],
   "source": [
    "# Creating a variable called seats containing only the j coordinates\n",
    "seats = [j for i in range(1, n + 1) for j in range(1, ns + 1) if S[(i, j)].x]\n",
    "seat_coords = seat_coordinates(seats)\n",
    "\n",
    "\n",
    "# Display the Baricenter\n",
    "\n",
    "def calculate_center_of_mass(seat_coords, Passengers):\n",
    "    x_g = LinExpr()\n",
    "    y_g = LinExpr()\n",
    "    total_weight = quicksum(Passengers[i]['weight'] for i in range(1, n + 1)).getValue()\n",
    "\n",
    "    for i in range(1, n + 1):\n",
    "        j_k = 1\n",
    "\n",
    "        for j in range(1, ns + 1):\n",
    "            weight_ij = Passengers[i]['weight'] / total_weight\n",
    "\n",
    "            if (j % 7 == 0):\n",
    "                x_g += (7 * S[i, j] * weight_ij)\n",
    "                y_g += (j_k * S[i, j] * weight_ij)\n",
    "                j_k += 1\n",
    "            else:\n",
    "                x_g += ((j % 7) * S[i, j] * weight_ij)\n",
    "                y_g += (((j // 7) + 1) * S[i, j] * weight_ij)\n",
    "\n",
    "    return x_g, y_g\n",
    "\n",
    "\n",
    "x_g, y_g = calculate_center_of_mass(seat_coords, Passengers)\n",
    "\n",
    "\n",
    "\n",
    "# Dictionary to count the frequency of each group\n",
    "group_counts = defaultdict(int)\n",
    "\n",
    "# Counting the frequency of each group\n",
    "for passenger in Passengers.values():\n",
    "    group_counts[passenger['group']] += 1\n",
    "# Sort the groups by the number of passengers in each group in descending order\n",
    "sorted_groups = sorted(group_counts.items(), key=lambda x: x[1], reverse=True)\n",
    "\n",
    "# Print the groups in ascending order with the number of passengers in each group\n",
    "#print(\"Groups in ascending order with the number of passengers in each group:\")\n",
    "#for group, count in sorted_groups:\n",
    "#    print(f\"Group {group}: {count} passengers\")\n",
    "\n",
    "# Define shapes for each gender\n",
    "shapes = {\n",
    "    'Femmes': 'o',   # Circule\n",
    "    'Hommes': 's',   # Square\n",
    "    'WCHR': '^'      # Triangule\n",
    "}\n",
    "\n",
    "# Define colors for the groups with 3 passangers\n",
    "colors = {\n",
    "    1: 'red',\n",
    "    5: 'green',\n",
    "    67: 'blue',\n",
    "    24: 'orange',\n",
    "    30: 'purple',\n",
    "    46: 'gray',\n",
    "    3: 'yellow',\n",
    "    14: 'cyan',\n",
    "    23: 'peru',\n",
    "    76:'palegreen',\n",
    "    32: 'pink',\n",
    "    31:'deeppink',\n",
    "    36:'skyblue'\n",
    "}\n",
    "\n",
    "plt.figure(figsize=(10, 10))\n",
    "for idx, coord in enumerate(seat_coords):\n",
    "    group = Passengers[idx + 1]['group']\n",
    "    gender = Passengers[idx + 1]['gender']\n",
    "    color = colors.get(group, 'black')  # Get color for the group, default to black if not in colors dictionary\n",
    "    shape = shapes.get(gender, 'o')      # Get shape for the gender, default to circle if not in shapes dictionary\n",
    "    plt.scatter(coord[0], coord[1], color=color, marker=shape,  s=100)  # Use marker parameter to set the shape\n",
    "    \n",
    "# Add labels for each gender\n",
    "for gender, shape in shapes.items():\n",
    "    plt.scatter([], [], color='black', marker=shape, label=gender)  # Create invisible scatter plot to add label\n",
    "\n",
    "# Plotting the center of mass\n",
    "plt.scatter(x_g.getValue(), y_g.getValue(), color='red', marker='o', s=150, label='Center of mass')  # Larger red point for center of mass\n",
    "\n",
    "plt.xlabel('Col')\n",
    "plt.ylabel('Row')\n",
    "plt.title('Siege')\n",
    "plt.grid(True)\n",
    "plt.gca().invert_yaxis()\n",
    "plt.legend()  # Show legend with gender labels\n",
    "plt.show()"
   ]
  },
  {
   "cell_type": "markdown",
   "metadata": {},
   "source": [
    "Evaluation de la satisfaction client"
   ]
  },
  {
   "cell_type": "markdown",
   "metadata": {},
   "source": [
    "Première métrique qui évalue la satisfaction des passagers pris un par un.\n",
    "Donc même si le groupe n'est pas bien groupé, si le passager est assis à côté d'au moins un des membres de son groupe, il est satisfait."
   ]
  },
  {
   "cell_type": "code",
   "execution_count": 253,
   "metadata": {},
   "outputs": [
    {
     "name": "stdout",
     "output_type": "stream",
     "text": [
      "{1: 1, 2: 1, 3: 1, 4: 1, 5: 1, 6: 1, 7: 1, 8: 0.5, 9: 0.5, 10: 1, 11: 1, 12: 1, 13: 1, 14: 1, 15: 1, 16: 1, 17: 1, 18: 1, 19: 1, 20: 1, 21: 1, 22: 1, 23: 1, 24: 1, 25: 1, 26: 1, 27: 1, 28: 1, 29: 1, 30: 1, 31: 1, 32: 1, 33: 1, 34: 1, 35: 1, 36: 1, 37: 1, 38: 1, 39: 1, 40: 1, 41: 1, 42: 1, 43: 1, 44: 1, 45: 1, 46: 1, 47: 1, 48: 1, 49: 1, 50: 1, 51: 1, 52: 1, 53: 1, 54: 1, 55: 1, 56: 1, 57: 1, 58: 1, 59: 1, 60: 1, 61: 1, 62: 1, 63: 1, 64: 1, 65: 1, 66: 1, 67: 1, 68: 1, 69: 1, 70: 1, 71: 1, 72: 1, 73: 1, 74: 1, 75: 1, 76: 1, 77: 0.5, 78: 0.5, 79: 0.5, 80: 1, 81: 1, 82: 1, 83: 1, 84: 1, 85: 1, 86: 1, 87: 1, 88: 1, 89: 1, 90: 1, 91: 1, 92: 1, 93: 1, 94: 1, 95: 1, 96: 1, 97: 1}\n",
      "{1: 1, 2: 1, 3: 1, 4: 1, 5: 1, 6: 1, 7: 1, 8: 1, 9: 1, 10: 1, 11: 1, 12: 1, 13: 1, 14: 1, 15: 1, 16: 1, 17: 1, 18: 1, 19: 1, 20: 1, 21: 1, 22: 1, 23: 1, 24: 1, 25: 1, 26: 1, 27: 1, 28: 1, 29: 1, 30: 1, 31: 1, 32: 1, 33: 1, 34: 1, 35: 1, 36: 1, 37: 1, 38: 1, 39: 1, 40: 1, 41: 1, 42: 1, 43: 1, 44: 1, 45: 1, 46: 1, 47: 1, 48: 1, 49: 1, 50: 1, 51: 1, 52: 1, 53: 1, 54: 1, 55: 1, 56: 1, 57: 1, 58: 1, 59: 1, 60: 1, 61: 1, 62: 1, 63: 1, 64: 1, 65: 1, 66: 1, 67: 1, 68: 1, 69: 1, 70: 1, 71: 1, 72: 1, 73: 1, 74: 1, 75: 1, 76: 1, 77: 1, 78: 1, 79: 1, 80: 1, 81: 1, 82: 1, 83: 1, 84: 1, 85: 1, 86: 1, 87: 1, 88: 1, 89: 1, 90: 1, 91: 1, 92: 1, 93: 1, 94: 1, 95: 1, 96: 1, 97: 1}\n",
      "La satisfaction moyenne des clients est de  98.71134020618557 %\n"
     ]
    }
   ],
   "source": [
    "#Première métrique de la satisfaction client (chaque passager pris individuellement)\n",
    "def metrique_groupe_passager():\n",
    "    sat={}\n",
    "    s=0\n",
    "    for i in Passengers:\n",
    "        sat[i]=0\n",
    "        for k in Passengers :\n",
    "            if k !=i and Passengers[i]['group'] == Passengers[k]['group']:\n",
    "                for j in range (1, ns+1):\n",
    "                    if S[(i,j)].x:\n",
    "                        xi, yi = seat_coordinates([j])[0]\n",
    "                    if S[(k,j)].x:\n",
    "                        xk, yk = seat_coordinates([j])[0]\n",
    "                if yi == yk and min([xi, xk]) == max([xi, xk])-1:\n",
    "                    s = 1\n",
    "                elif xi == xk and min([yi, yk]) == max([yi, yk])-1:\n",
    "                    s = 1/2\n",
    "                elif yi == yk and min([xi, xk]) == 3 and max([xi, xk]) == 5:\n",
    "                    s = 1/2\n",
    "            if sat[i] != 1:\n",
    "                sat[i] = s\n",
    "    \n",
    "    return sat\n",
    "\n",
    "print ( metrique_groupe_passager()) \n",
    "\n",
    "def metrique_transit_passager():\n",
    "    sat= {}\n",
    "\n",
    "    for i in Passengers:\n",
    "        #On ne considère que les passagers dont le temps de correspondance est inférieur à 1h30\n",
    "        if Passengers[i]['connection_time'] > 0 and Passengers[i]['connection_time'] <= 90: \n",
    "            for j in range (1, ns+1):\n",
    "                \n",
    "                if S[(i,j)].x:\n",
    "                    x, y = seat_coordinates([j])[0]\n",
    "                    if y <=5:\n",
    "                        sat[i] = 1\n",
    "                    elif y <= 7:\n",
    "                        sat[i] = 0.5\n",
    "                    else:\n",
    "                        sat[i] =0\n",
    "        else :\n",
    "            sat[i]=1\n",
    "                \n",
    "    return sat\n",
    "print (metrique_transit_passager()) \n",
    "\n",
    "def metrique_globale_passager():\n",
    "\n",
    "    sat={}\n",
    "    sat1=metrique_transit_passager()\n",
    "    sat2=metrique_groupe_passager()\n",
    "    satisfaction=0\n",
    "     \n",
    "\n",
    "    for i in Passengers:\n",
    "        sat[i]=(sat1[i]+sat2[i])/2\n",
    "        satisfaction +=sat[i]\n",
    "    satisfaction = satisfaction/len(Passengers)\n",
    "\n",
    "    return satisfaction, sat\n",
    "\n",
    "satisfaction, sat= metrique_globale_passager()\n",
    "\n",
    "print (\"La satisfaction moyenne des clients est de \",satisfaction*100, \"%\" )"
   ]
  },
  {
   "cell_type": "markdown",
   "metadata": {},
   "source": [
    "Deuxième métrique : la satisfaction est évaluée à l'échelle du groupe et de manière strice, c'est à dire que certaines configurations sont jugées satisfaisantes, les autres ne l'étant pas."
   ]
  },
  {
   "cell_type": "code",
   "execution_count": 254,
   "metadata": {},
   "outputs": [],
   "source": [
    "#renvoie une liste contenant les indices des passagers dans le groupe de i\n",
    "def groupe(i, Passengers):\n",
    "    G=[]\n",
    "    for k in range(1, n+1):\n",
    "        if Passengers[i]['group'] == Passengers[k]['group']:\n",
    "            G+=[k]\n",
    "    return G\n"
   ]
  },
  {
   "cell_type": "code",
   "execution_count": 255,
   "metadata": {},
   "outputs": [],
   "source": [
    "#renvoie un dictionnaire dont les groupes sont les clefs et les passagers du groupe les valeurs\n",
    "def group_dict(Passengers):\n",
    "\n",
    "    dic={}\n",
    "    for i in Passengers:\n",
    "        groupi=groupe(i, Passengers)\n",
    "        k=Passengers[i]['group']\n",
    "        if k not in dic:\n",
    "            dic[k]=groupi\n",
    "    return dic\n",
    "\n",
    "group_dico=group_dict(Passengers)\n",
    "  "
   ]
  },
  {
   "cell_type": "code",
   "execution_count": 256,
   "metadata": {},
   "outputs": [],
   "source": [
    "def metrique_groupe_stricte (Passengers):\n",
    "    sat={}\n",
    "    \n",
    "    group=group_dict(Passengers)\n",
    "\n",
    "    for g in group:\n",
    "        seats = [j for i in group[g] for j in range(1, ns + 1) if S[(i, j)].x]\n",
    "        group_coord=seat_coordinates(seats)\n",
    "\n",
    "        X=[]\n",
    "        Y=[]\n",
    "        for i in range (len(group[g])):\n",
    "            X += [group_coord [i][0]]\n",
    "            Y += [group_coord [i][1]]\n",
    "            X.sort()\n",
    "            Y.sort()\n",
    "\n",
    "        if len(group[g]) == 1:\n",
    "            sat[g] = 1\n",
    "\n",
    "        #Groupe de 2 passagers : ils doivent être côte à côte. Satisfaction intermédiaire si séparés par allée centrale\n",
    "        if len(group[g]) == 2:\n",
    "            if Y[0] == Y[1]:\n",
    "                if X[1] == X[0]+1:\n",
    "                    sat[g] = 1\n",
    "                elif (3 in X and 5 in X):\n",
    "                    sat[g] = 1/2\n",
    "                else : \n",
    "                    sat[g] = 0\n",
    "\n",
    "            else : \n",
    "                sat[g] = 0\n",
    "\n",
    "        #Groupe de 3 : aligné sur le même rang. Satisfaction max si côtes à côtes, intermédiaire si séparés par allée centrale, nulle sinon\n",
    "        elif len(group[g]) == 3:\n",
    "            if Y[0] == Y[1] and Y[0] == Y[2]:\n",
    "                if X[1] == X[0]+1 and X[2] == X[1]+1:\n",
    "                    sat[g] = 1\n",
    "\n",
    "                elif (X[1] == X[0]+1 or X[2] == X[1]+1) and(3 in X and 5 in X):\n",
    "                    sat[g] = 1/2\n",
    "                else : \n",
    "                    sat[g] = 0\n",
    "            else : \n",
    "                sat[g] = 0\n",
    "\n",
    "        #Groupe de 4 à 6 personnes\n",
    "        elif len(group[g]) <=6 :\n",
    "            if all(y == Y[0] for y in Y):\n",
    "                \n",
    "                if X[len(group[g])-1]-X[0] == len(group):\n",
    "                    sat[g]=1\n",
    "                else:\n",
    "                    sat[g]=1\n",
    "            \n",
    "            elif Y[1]==Y[0]+1:\n",
    "                if (3 in X and 5 not in X) or (5 in X and 3 not in X):\n",
    "                    sat[g]=1/2\n",
    "                else:\n",
    "                    sat[g]=0\n",
    "            else :\n",
    "                sat[g]=0   \n",
    "                \n",
    "        else:\n",
    "            sat[g]=1\n",
    "\n",
    "\n",
    "    return sat        \n",
    "            "
   ]
  },
  {
   "cell_type": "code",
   "execution_count": 257,
   "metadata": {},
   "outputs": [],
   "source": [
    "#Retourne une note sur 1 par passager concernant l'objectif de transit\n",
    "def metrique_transit_stricte(Passengers):\n",
    "\n",
    "    sat= {}\n",
    "    \n",
    "\n",
    "    for i in Passengers:\n",
    "        #On ne considère que les passagers dont le temps de correspondance est inférieur à 1h30\n",
    "        if Passengers[i]['connection_time'] > 0 and Passengers[i]['connection_time'] <= 90: \n",
    "            for j in range (1, ns+1):\n",
    "                \n",
    "                if S[(i,j)].x:\n",
    "                    x, y = seat_coordinates([j])[0]\n",
    "                    if y <=5:\n",
    "                        sat[i] = 1\n",
    "                    elif y <= 7:\n",
    "                        sat[i] = 1/2\n",
    "                    elif y <= 10:\n",
    "                        sat[i] = 1/3\n",
    "                    else:\n",
    "                        sat[i] =0\n",
    "        else :\n",
    "            sat[i]=1\n",
    "                \n",
    "    return sat\n",
    "\n"
   ]
  },
  {
   "cell_type": "code",
   "execution_count": 258,
   "metadata": {},
   "outputs": [],
   "source": [
    "def metrique_globale_stricte(Passengers):\n",
    "    sat={}\n",
    "    moyenne=0\n",
    "    sat_groupe=0\n",
    "    sat_transit=0\n",
    "    #Pour fusionner les notes des passagers au regard des deux fonctions objectif, on transforme les notes par groupe pour la fonction groupe en note par passager\n",
    "    sat1={}\n",
    "    s=metrique_groupe_stricte (Passengers)\n",
    "    group_dico=group_dict(Passengers)\n",
    "    for g in group_dico:\n",
    "        sat_groupe += s[g]\n",
    "        passagers = group_dico[g]\n",
    "        for i in passagers:\n",
    "            sat1[i]=s[g]\n",
    "\n",
    "    sat2=metrique_transit_stricte(Passengers)\n",
    "\n",
    "    for i in Passengers:\n",
    "        sat[i]=(sat1[i] + sat2[i])/2\n",
    "        moyenne += sat[i]\n",
    "        sat_transit += sat2[i]\n",
    "        \n",
    "\n",
    "    moyenne = moyenne / len(Passengers)\n",
    "    sat_groupe = sat_groupe / len(s)\n",
    "    sat_transit =sat_transit / len(Passengers)\n",
    "    # print (list(sat.values()))\n",
    "    # m=min(list(sat.values()))\n",
    "    # M=max(list(sat.values()))\n",
    "    return moyenne, sat_transit, sat_groupe\n",
    "\n",
    "    \n",
    "    "
   ]
  },
  {
   "cell_type": "code",
   "execution_count": 259,
   "metadata": {},
   "outputs": [
    {
     "name": "stdout",
     "output_type": "stream",
     "text": [
      "La satisfaction moyenne des passagers est de  87.11340206185567 %\n",
      "La satisfaction moyenne des passagers en transit est de  1.0\n",
      "La satisfaction moyenne des groupes est de  0.8653846153846154\n"
     ]
    }
   ],
   "source": [
    "\n",
    "\n",
    "moyenne, s_transit, s_groupe = metrique_globale_stricte(Passengers)\n",
    "\n",
    "# print (\"Le pire niveau de satisfaction est de \", m*100, \"%\")\n",
    "# print (\"Le meilleur niveau de satisfaction est de \", M*100, \"%\")\n",
    "print (\"La satisfaction moyenne des passagers est de \", moyenne*100, \"%\")\n",
    "print (\"La satisfaction moyenne des passagers en transit est de \", s_transit)\n",
    "print (\"La satisfaction moyenne des groupes est de \", s_groupe)\n",
    "\n"
   ]
  },
  {
   "cell_type": "markdown",
   "metadata": {},
   "source": [
    "Troisième métrique : \"bounding box\""
   ]
  },
  {
   "cell_type": "code",
   "execution_count": 260,
   "metadata": {},
   "outputs": [
    {
     "data": {
      "text/plain": [
       "(0.6577393447466223,\n",
       " {1: 0.4166666666666667,\n",
       "  2: 0.4166666666666667,\n",
       "  3: 0.4166666666666667,\n",
       "  4: 1.0,\n",
       "  5: 0.5882352941176471,\n",
       "  6: 0.5882352941176471,\n",
       "  7: 0.625,\n",
       "  8: 0.625,\n",
       "  9: 0.625,\n",
       "  10: 0.4166666666666667,\n",
       "  11: 0.4166666666666667,\n",
       "  12: 0.4166666666666667,\n",
       "  13: 0.5882352941176471,\n",
       "  14: 0.5882352941176471,\n",
       "  15: 0.5882352941176471,\n",
       "  16: 0.5882352941176471,\n",
       "  17: 1.0,\n",
       "  18: 1,\n",
       "  19: 1,\n",
       "  20: 1,\n",
       "  21: 1,\n",
       "  22: 1.0,\n",
       "  23: 1.0,\n",
       "  24: 0.5882352941176471,\n",
       "  25: 0.5882352941176471,\n",
       "  26: 1.0,\n",
       "  27: 0.4166666666666667,\n",
       "  28: 0.4166666666666667,\n",
       "  29: 0.4166666666666667,\n",
       "  30: 0.5882352941176471,\n",
       "  31: 0.5882352941176471,\n",
       "  32: 1.0,\n",
       "  33: 1.0,\n",
       "  34: 0.5882352941176471,\n",
       "  35: 0.5882352941176471,\n",
       "  36: 1.0,\n",
       "  37: 0.5882352941176471,\n",
       "  38: 0.5882352941176471,\n",
       "  39: 1.0,\n",
       "  40: 1.0,\n",
       "  41: 0.4166666666666667,\n",
       "  42: 0.4166666666666667,\n",
       "  43: 0.4166666666666667,\n",
       "  44: 0.5882352941176471,\n",
       "  45: 0.5882352941176471,\n",
       "  46: 0.5882352941176471,\n",
       "  47: 0.5882352941176471,\n",
       "  48: 1.0,\n",
       "  49: 1.0,\n",
       "  50: 1.0,\n",
       "  51: 0.5882352941176471,\n",
       "  52: 0.5882352941176471,\n",
       "  53: 0.37037037037037035,\n",
       "  54: 0.37037037037037035,\n",
       "  55: 0.37037037037037035,\n",
       "  56: 0.37037037037037035,\n",
       "  57: 0.37037037037037035,\n",
       "  58: 0.37037037037037035,\n",
       "  59: 0.37037037037037035,\n",
       "  60: 0.37037037037037035,\n",
       "  61: 0.37037037037037035,\n",
       "  62: 0.37037037037037035,\n",
       "  63: 0.37037037037037035,\n",
       "  64: 0.37037037037037035,\n",
       "  65: 0.37037037037037035,\n",
       "  66: 0.5882352941176471,\n",
       "  67: 0.5882352941176471,\n",
       "  68: 0.5882352941176471,\n",
       "  69: 0.5882352941176471,\n",
       "  70: 0.5882352941176471,\n",
       "  71: 0.5882352941176471,\n",
       "  72: 1.0,\n",
       "  73: 1.0,\n",
       "  74: 1,\n",
       "  75: 1,\n",
       "  76: 0.7692307692307692,\n",
       "  77: 0.7692307692307692,\n",
       "  78: 1.0,\n",
       "  79: 1.0,\n",
       "  80: 0.37037037037037035,\n",
       "  81: 0.37037037037037035,\n",
       "  82: 0.37037037037037035,\n",
       "  83: 0.37037037037037035,\n",
       "  84: 0.37037037037037035,\n",
       "  85: 0.5882352941176471,\n",
       "  86: 0.5882352941176471,\n",
       "  87: 1.0,\n",
       "  88: 0.4166666666666667,\n",
       "  89: 0.4166666666666667,\n",
       "  90: 0.4166666666666667,\n",
       "  91: 1.0,\n",
       "  92: 1.0,\n",
       "  93: 1.0,\n",
       "  94: 1.0,\n",
       "  95: 1.0,\n",
       "  96: 1.0,\n",
       "  97: 1.0})"
      ]
     },
     "execution_count": 260,
     "metadata": {},
     "output_type": "execute_result"
    }
   ],
   "source": [
    "def ponderation(x,y):\n",
    "\n",
    "    beta= 0.3\n",
    "    den = (1-beta)*x + beta*y + 1\n",
    "   \n",
    "    res = (1/den)*1\n",
    "\n",
    "    return res\n",
    "\n",
    "\n",
    "def metrique_retangule(passengers):\n",
    "    satisfaction_scores = 0 \n",
    "    group_scores = {}  \n",
    "\n",
    "    for i in passengers:\n",
    "        group = groupe(i, passengers)\n",
    "        group_coords = [seat_coords[idx - 1] for idx in group]  \n",
    "\n",
    "\n",
    "        min_x = min(coord[0] for coord in group_coords)\n",
    "        max_x = max(coord[0] for coord in group_coords)\n",
    "\n",
    "\n",
    "        min_y = min(coord[1] for coord in group_coords)\n",
    "        max_y = max(coord[1] for coord in group_coords)\n",
    "       \n",
    "        y_distance = max_y - min_y\n",
    "        x_distance = max_x - min_x\n",
    "\n",
    "        if x_distance == len(group)  and y_distance == 0:\n",
    "            group_scores[i] = 1\n",
    "            satisfaction_scores += 1\n",
    "        else:\n",
    "            score = ponderation(x_distance, y_distance)\n",
    "            group_scores[i] = score\n",
    "            satisfaction_scores += score\n",
    "\n",
    "    return satisfaction_scores/len(Passengers), group_scores\n",
    "\n",
    "\n",
    "metrique_retangule(Passengers)"
   ]
  },
  {
   "cell_type": "markdown",
   "metadata": {},
   "source": [
    "# Dynamic model"
   ]
  },
  {
   "cell_type": "markdown",
   "metadata": {},
   "source": [
    "Generation of a random order of registration"
   ]
  },
  {
   "cell_type": "code",
   "execution_count": 261,
   "metadata": {},
   "outputs": [
    {
     "name": "stdout",
     "output_type": "stream",
     "text": [
      "[39, 30, 47, 19, 24, 17, 13, 42, 18, 50, 11, 49, 35, 2, 36, 21, 40, 51, 20, 31, 15, 16, 26, 41, 10, 5, 37, 23, 22, 4, 32, 29, 27, 6, 52, 14, 48, 1, 12, 28, 34, 38, 8, 33, 7, 45, 9, 43, 46, 3, 53, 44]\n"
     ]
    }
   ],
   "source": [
    "def Random_order():\n",
    "\n",
    "    Clefs = list(group_dico.keys())\n",
    "    Order = random.sample(Clefs, k=len(Clefs))\n",
    "\n",
    "    return Order\n",
    "\n",
    "print(Random_order())"
   ]
  },
  {
   "cell_type": "markdown",
   "metadata": {},
   "source": [
    "Proposition of seats for the group"
   ]
  },
  {
   "cell_type": "code",
   "execution_count": 273,
   "metadata": {},
   "outputs": [],
   "source": [
    "def possible_choice (n_group):\n",
    "\n",
    "    Choices=[]\n",
    "    groups_dict =group_dict(Passengers)   #on récupère le dictionnaire {group: [passagers]}\n",
    "    group = groups_dict[n_group]           #liste des passagers du groupe n°n_group\n",
    "    group_time=Passengers[group[0]]['connection_time']\n",
    "\n",
    "\n",
    "    for g in groups_dict:\n",
    "        if len(groups_dict[g]) == len(group):   #On récupère la position des sièges pour des groupes de même taille\n",
    "            C=[]\n",
    "            for i in groups_dict[g]:\n",
    "                time = Passengers[i]['connection_time']\n",
    "                #Si le groupe n_group n'est pas en transit, on ne lui propose pas les places des premiers rangs\n",
    "                if (time == 0 or time > 120) and (group_time ==0 or group_time > 120):    \n",
    "                    for j in range (1, ns+1):\n",
    "                        if S[(i,j)].x:\n",
    "                            C += [j]\n",
    "                elif (time > 0 and time <= 120) and (group_time > 0 and group_time <= 120):    \n",
    "                    for j in range (1, ns+1):\n",
    "                        if S[(i,j)].x:\n",
    "                            C += [j]\n",
    "                elif (time == 0 or time > 120) and (group_time > 0 and group_time <= 120):    \n",
    "                    for j in range (1, ns+1):\n",
    "                        if S[(i,j)].x:\n",
    "                            C += [j]\n",
    "\n",
    "            Choices+=[C]\n",
    "    \n",
    "    return Choices\n",
    "\n",
    "#Il faudra dans une prochaine fonction garder en mémoire les sièges déjà choisis et les supprimer des propositions --> par ex dict avec groupes et sièges choisis par groupe\n",
    "choices = possible_choice(1)\n",
    "#print(choices)\n",
    "\n",
    "\n",
    "\n",
    "def assign_random_values(choices):\n",
    "    choices_with_values = []\n",
    "\n",
    "    for choice in choices:\n",
    "        choices_with_values.append((choice, random.random())) \n",
    "    \n",
    "    return choices_with_values\n",
    "\n",
    "choices_with_values = assign_random_values(choices)\n",
    "print(choices_with_values)\n"
   ]
  },
  {
   "cell_type": "code",
   "execution_count": 52,
   "metadata": {},
   "outputs": [
    {
     "name": "stdout",
     "output_type": "stream",
     "text": [
      "[[56, 55, 61, 63, 62], [5, 6, 2, 1, 3], [13, 27, 20, 19, 21]]\n"
     ]
    }
   ],
   "source": [
    "def group_choices(choices_with_values):\n",
    "\n",
    "    sorted_choices = sorted(choices_with_values, key=lambda x: x[1], reverse=True)\n",
    "    group_choices = [choice[0] for choice in sorted_choices]\n",
    "    \n",
    "    return group_choices\n",
    "\n",
    "\n",
    "group_choices_sorted = group_choices(choices_with_values)\n",
    "print(group_choices_sorted)\n"
   ]
  },
  {
   "cell_type": "code",
   "execution_count": 50,
   "metadata": {},
   "outputs": [
    {
     "data": {
      "image/png": "[encoded data removed]",
      "text/plain": [
       "<Figure size 1000x500 with 2 Axes>"
      ]
     },
     "metadata": {},
     "output_type": "display_data"
    }
   ],
   "source": [
    "import matplotlib.pyplot as plt\n",
    "import numpy as np\n",
    "\n",
    "# Customer satisfaction data for the two groups\n",
    "satisfaction_group_4 = [0.8, 0.7, 0.6, 0.65, 0.75] \n",
    "satisfaction_group_3 = [0.9, 0.85, 0.82]            \n",
    "\n",
    "# Creating a figure and axes for the boxplot and pie chart\n",
    "fig, (ax1, ax2) = plt.subplots(1, 2, figsize=(10, 5))\n",
    "\n",
    "# Data for the boxplot\n",
    "data = [satisfaction_group_4, satisfaction_group_3]\n",
    "\n",
    "# Creating the boxplot\n",
    "boxplot = ax1.boxplot(data)\n",
    "\n",
    "# Adding labels to the axes\n",
    "ax1.set_xticklabels(['Group with 4', 'Group with 3'])\n",
    "ax1.set_ylabel('Customer Satisfaction')\n",
    "ax1.set_title('Customer Satisfaction in Different Groups')\n",
    "ax1.grid(True)\n",
    "\n",
    "# Data for the pie chart\n",
    "group_sizes = [len(satisfaction_group_4), len(satisfaction_group_3)]\n",
    "group_labels = ['Group with 4', 'Group with 3']\n",
    "\n",
    "# Creating the pie chart\n",
    "ax2.pie(group_sizes, labels=group_labels, autopct='%1.1f%%', startangle=90)\n",
    "ax2.set_title('Proportion of Groups')\n",
    "\n",
    "# Equal aspect ratio ensures that pie is drawn as a circle\n",
    "ax2.axis('equal')\n",
    "\n",
    "# Displaying the plots\n",
    "plt.tight_layout()\n",
    "plt.show()\n"
   ]
  },
  {
   "cell_type": "code",
   "execution_count": 24,
   "metadata": {},
   "outputs": [],
   "source": [
    "def dynamic_model(m):\n",
    "    order = Random_order()\n",
    "    for group in order:\n",
    "        possible_seats=possible_choice(group)\n",
    "        choice=group_choice()\n",
    "        \n"
   ]
  }
 ],
 "metadata": {
  "kernelspec": {
   "display_name": "base",
   "language": "python",
   "name": "python3"
  },
  "language_info": {
   "codemirror_mode": {
    "name": "ipython",
    "version": 3
   },
   "file_extension": ".py",
   "mimetype": "text/x-python",
   "name": "python",
   "nbconvert_exporter": "python",
   "pygments_lexer": "ipython3",
   "version": "3.11.5"
  }
 },
 "nbformat": 4,
 "nbformat_minor": 2
}
