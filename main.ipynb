{
 "cells": [
  {
   "cell_type": "markdown",
   "metadata": {},
   "source": [
    "# Import libraries"
   ]
  },
  {
   "cell_type": "code",
   "execution_count": 3,
   "metadata": {},
   "outputs": [],
   "source": [
    "import numpy as np\n",
    "import pandas as pd\n",
    "import matplotlib.pyplot as plt\n",
    "from gurobipy import *"
   ]
  },
  {
   "cell_type": "markdown",
   "metadata": {},
   "source": [
    "# Read and preprocess data"
   ]
  },
  {
   "cell_type": "code",
   "execution_count": 12,
   "metadata": {},
   "outputs": [],
   "source": [
    "import csv\n",
    "from datetime import datetime\n",
    "import os\n",
    "\n",
    "def load_data(file_path):\n",
    "    data_dict = dict()\n",
    "\n",
    "    with open(file_path) as file:\n",
    "        reader = csv.DictReader(file)\n",
    "        for row in reader:\n",
    "            if row['Numéro du groupe'] != '':\n",
    "                heures, minutes, _ = map(int, row['TransitTime'].split(':'))\n",
    "                total_minutes = heures * 60 + minutes\n",
    "                data_dict[int(float(row['Numéro du groupe']))] = (\n",
    "                    int(float(row['Femmes'])),\n",
    "                    int(float(row['Hommes'])),\n",
    "                    int(float(row['WCHR'])),\n",
    "                    total_minutes\n",
    "                )\n",
    "\n",
    "    return data_dict\n",
    "\n",
    "# Specify the list of files\n",
    "file_names = [\"5Nov.csv\", \"7Nov.csv\", \"22Oct.csv\", \"24Oct.csv\", \"23Oct.csv\", \"30Oct.csv\", \"DataSeating 2024.csv\"]\n",
    "\n",
    "# Define the 'data' directory\n",
    "data_directory = 'data'\n",
    "\n",
    "# Load data for each file\n",
    "Nov5, Nov7, Oct22, Oct24, Oct23, Oct30, Date0 = [load_data(os.path.join(data_directory, file)) for file in file_names]"
   ]
  },
  {
   "cell_type": "code",
   "execution_count": 13,
   "metadata": {},
   "outputs": [
    {
     "name": "stdout",
     "output_type": "stream",
     "text": [
      "{'Passenger_1': {'gender': 'Femmes', 'group': 1, 'weight': 70, 'connection_time': 0}, 'Passenger_2': {'gender': 'Hommes', 'group': 1, 'weight': 85, 'connection_time': 0}, 'Passenger_3': {'gender': 'Hommes', 'group': 1, 'weight': 85, 'connection_time': 0}, 'Passenger_4': {'gender': 'Hommes', 'group': 2, 'weight': 85, 'connection_time': 60}, 'Passenger_5': {'gender': 'Femmes', 'group': 3, 'weight': 70, 'connection_time': 165}, 'Passenger_6': {'gender': 'Hommes', 'group': 3, 'weight': 85, 'connection_time': 165}, 'Passenger_7': {'gender': 'Femmes', 'group': 4, 'weight': 70, 'connection_time': 0}, 'Passenger_8': {'gender': 'Hommes', 'group': 4, 'weight': 85, 'connection_time': 0}, 'Passenger_9': {'gender': 'WCHR', 'group': 4, 'weight': 100, 'connection_time': 0}, 'Passenger_10': {'gender': 'Femmes', 'group': 5, 'weight': 70, 'connection_time': 0}, 'Passenger_11': {'gender': 'Femmes', 'group': 5, 'weight': 70, 'connection_time': 0}, 'Passenger_12': {'gender': 'Femmes', 'group': 5, 'weight': 70, 'connection_time': 0}, 'Passenger_13': {'gender': 'Femmes', 'group': 6, 'weight': 70, 'connection_time': 0}, 'Passenger_14': {'gender': 'Hommes', 'group': 6, 'weight': 85, 'connection_time': 0}, 'Passenger_15': {'gender': 'Femmes', 'group': 7, 'weight': 70, 'connection_time': 85}, 'Passenger_16': {'gender': 'Hommes', 'group': 7, 'weight': 85, 'connection_time': 85}, 'Passenger_17': {'gender': 'Hommes', 'group': 8, 'weight': 85, 'connection_time': 0}, 'Passenger_18': {'gender': 'Femmes', 'group': 9, 'weight': 70, 'connection_time': 60}, 'Passenger_19': {'gender': 'Femmes', 'group': 9, 'weight': 70, 'connection_time': 60}, 'Passenger_20': {'gender': 'Hommes', 'group': 9, 'weight': 85, 'connection_time': 60}, 'Passenger_21': {'gender': 'Hommes', 'group': 9, 'weight': 85, 'connection_time': 60}, 'Passenger_22': {'gender': 'Femmes', 'group': 10, 'weight': 70, 'connection_time': 0}, 'Passenger_23': {'gender': 'Femmes', 'group': 11, 'weight': 70, 'connection_time': 0}, 'Passenger_24': {'gender': 'Hommes', 'group': 12, 'weight': 85, 'connection_time': 0}, 'Passenger_25': {'gender': 'Hommes', 'group': 12, 'weight': 85, 'connection_time': 0}, 'Passenger_26': {'gender': 'Hommes', 'group': 13, 'weight': 85, 'connection_time': 0}, 'Passenger_27': {'gender': 'Hommes', 'group': 14, 'weight': 85, 'connection_time': 0}, 'Passenger_28': {'gender': 'Hommes', 'group': 14, 'weight': 85, 'connection_time': 0}, 'Passenger_29': {'gender': 'Hommes', 'group': 14, 'weight': 85, 'connection_time': 0}, 'Passenger_30': {'gender': 'Femmes', 'group': 15, 'weight': 70, 'connection_time': 0}, 'Passenger_31': {'gender': 'Femmes', 'group': 15, 'weight': 70, 'connection_time': 0}, 'Passenger_32': {'gender': 'Femmes', 'group': 16, 'weight': 70, 'connection_time': 60}, 'Passenger_33': {'gender': 'Femmes', 'group': 17, 'weight': 70, 'connection_time': 0}, 'Passenger_34': {'gender': 'Femmes', 'group': 18, 'weight': 70, 'connection_time': 0}, 'Passenger_35': {'gender': 'Hommes', 'group': 18, 'weight': 85, 'connection_time': 0}, 'Passenger_36': {'gender': 'Hommes', 'group': 19, 'weight': 85, 'connection_time': 0}, 'Passenger_37': {'gender': 'Femmes', 'group': 20, 'weight': 70, 'connection_time': 0}, 'Passenger_38': {'gender': 'Hommes', 'group': 20, 'weight': 85, 'connection_time': 0}, 'Passenger_39': {'gender': 'Hommes', 'group': 21, 'weight': 85, 'connection_time': 0}, 'Passenger_40': {'gender': 'Hommes', 'group': 22, 'weight': 85, 'connection_time': 0}, 'Passenger_41': {'gender': 'Femmes', 'group': 23, 'weight': 70, 'connection_time': 0}, 'Passenger_42': {'gender': 'Femmes', 'group': 23, 'weight': 70, 'connection_time': 0}, 'Passenger_43': {'gender': 'Hommes', 'group': 23, 'weight': 85, 'connection_time': 0}, 'Passenger_44': {'gender': 'Femmes', 'group': 24, 'weight': 70, 'connection_time': 0}, 'Passenger_45': {'gender': 'Hommes', 'group': 24, 'weight': 85, 'connection_time': 0}, 'Passenger_46': {'gender': 'Femmes', 'group': 26, 'weight': 70, 'connection_time': 0}, 'Passenger_47': {'gender': 'Femmes', 'group': 26, 'weight': 70, 'connection_time': 0}, 'Passenger_48': {'gender': 'Hommes', 'group': 27, 'weight': 85, 'connection_time': 0}, 'Passenger_49': {'gender': 'Hommes', 'group': 28, 'weight': 85, 'connection_time': 0}, 'Passenger_50': {'gender': 'Hommes', 'group': 29, 'weight': 85, 'connection_time': 85}, 'Passenger_51': {'gender': 'Femmes', 'group': 30, 'weight': 70, 'connection_time': 85}, 'Passenger_52': {'gender': 'Hommes', 'group': 30, 'weight': 85, 'connection_time': 85}, 'Passenger_53': {'gender': 'Femmes', 'group': 31, 'weight': 70, 'connection_time': 0}, 'Passenger_54': {'gender': 'Femmes', 'group': 31, 'weight': 70, 'connection_time': 0}, 'Passenger_55': {'gender': 'Hommes', 'group': 31, 'weight': 85, 'connection_time': 0}, 'Passenger_56': {'gender': 'Hommes', 'group': 31, 'weight': 85, 'connection_time': 0}, 'Passenger_57': {'gender': 'Hommes', 'group': 32, 'weight': 85, 'connection_time': 0}, 'Passenger_58': {'gender': 'Hommes', 'group': 32, 'weight': 85, 'connection_time': 0}, 'Passenger_59': {'gender': 'Hommes', 'group': 32, 'weight': 85, 'connection_time': 0}, 'Passenger_60': {'gender': 'Hommes', 'group': 32, 'weight': 85, 'connection_time': 0}, 'Passenger_61': {'gender': 'Hommes', 'group': 32, 'weight': 85, 'connection_time': 0}, 'Passenger_62': {'gender': 'Hommes', 'group': 33, 'weight': 85, 'connection_time': 0}, 'Passenger_63': {'gender': 'Hommes', 'group': 33, 'weight': 85, 'connection_time': 0}, 'Passenger_64': {'gender': 'Hommes', 'group': 33, 'weight': 85, 'connection_time': 0}, 'Passenger_65': {'gender': 'Hommes', 'group': 33, 'weight': 85, 'connection_time': 0}, 'Passenger_66': {'gender': 'Femmes', 'group': 34, 'weight': 70, 'connection_time': 85}, 'Passenger_67': {'gender': 'Hommes', 'group': 34, 'weight': 85, 'connection_time': 85}, 'Passenger_68': {'gender': 'Femmes', 'group': 35, 'weight': 70, 'connection_time': 0}, 'Passenger_69': {'gender': 'Hommes', 'group': 35, 'weight': 85, 'connection_time': 0}, 'Passenger_70': {'gender': 'Femmes', 'group': 36, 'weight': 70, 'connection_time': 60}, 'Passenger_71': {'gender': 'Femmes', 'group': 36, 'weight': 70, 'connection_time': 60}, 'Passenger_72': {'gender': 'Hommes', 'group': 37, 'weight': 85, 'connection_time': 0}, 'Passenger_73': {'gender': 'Hommes', 'group': 38, 'weight': 85, 'connection_time': 0}, 'Passenger_74': {'gender': 'Femmes', 'group': 39, 'weight': 70, 'connection_time': 0}, 'Passenger_75': {'gender': 'WCHR', 'group': 39, 'weight': 100, 'connection_time': 0}, 'Passenger_76': {'gender': 'Femmes', 'group': 40, 'weight': 70, 'connection_time': 0}, 'Passenger_77': {'gender': 'WCHR', 'group': 40, 'weight': 100, 'connection_time': 0}, 'Passenger_78': {'gender': 'Hommes', 'group': 41, 'weight': 85, 'connection_time': 0}, 'Passenger_79': {'gender': 'Hommes', 'group': 42, 'weight': 85, 'connection_time': 165}, 'Passenger_80': {'gender': 'Femmes', 'group': 43, 'weight': 70, 'connection_time': 0}, 'Passenger_81': {'gender': 'Femmes', 'group': 43, 'weight': 70, 'connection_time': 0}, 'Passenger_82': {'gender': 'Femmes', 'group': 43, 'weight': 70, 'connection_time': 0}, 'Passenger_83': {'gender': 'Femmes', 'group': 43, 'weight': 70, 'connection_time': 0}, 'Passenger_84': {'gender': 'Femmes', 'group': 43, 'weight': 70, 'connection_time': 0}, 'Passenger_85': {'gender': 'Femmes', 'group': 44, 'weight': 70, 'connection_time': 85}, 'Passenger_86': {'gender': 'Femmes', 'group': 44, 'weight': 70, 'connection_time': 85}, 'Passenger_87': {'gender': 'Hommes', 'group': 45, 'weight': 85, 'connection_time': 85}, 'Passenger_88': {'gender': 'Femmes', 'group': 46, 'weight': 70, 'connection_time': 0}, 'Passenger_89': {'gender': 'Hommes', 'group': 46, 'weight': 85, 'connection_time': 0}, 'Passenger_90': {'gender': 'Hommes', 'group': 46, 'weight': 85, 'connection_time': 0}, 'Passenger_91': {'gender': 'Femmes', 'group': 47, 'weight': 70, 'connection_time': 0}, 'Passenger_92': {'gender': 'Femmes', 'group': 48, 'weight': 70, 'connection_time': 0}, 'Passenger_93': {'gender': 'WCHR', 'group': 49, 'weight': 100, 'connection_time': 0}, 'Passenger_94': {'gender': 'Femmes', 'group': 50, 'weight': 70, 'connection_time': 0}, 'Passenger_95': {'gender': 'Hommes', 'group': 51, 'weight': 85, 'connection_time': 0}, 'Passenger_96': {'gender': 'Femmes', 'group': 52, 'weight': 70, 'connection_time': 0}, 'Passenger_97': {'gender': 'Femmes', 'group': 53, 'weight': 70, 'connection_time': 0}}\n"
     ]
    }
   ],
   "source": [
    "Passengers = {}\n",
    "j = 1\n",
    "\n",
    "for group_num, data in Nov5.items():\n",
    "    weights = {'Femmes': 70, 'Hommes': 85, 'WCHR': 100}  # Weight per passenger\n",
    "    \n",
    "    # Extracting data\n",
    "    femmes, hommes, wchr, total_minutes = data\n",
    "    \n",
    "    # Enumerating passengers\n",
    "    for _ in range(femmes + hommes + wchr):\n",
    "        if femmes > 0:\n",
    "            weight = weights['Femmes']  \n",
    "            Passengers[f'Passenger_{j}'] = {'gender': 'Femmes', 'group': group_num, 'weight': weight, 'connection_time': total_minutes}\n",
    "            femmes -= 1\n",
    "        elif hommes > 0:\n",
    "            weight = weights['Hommes']\n",
    "            Passengers[f'Passenger_{j}'] = {'gender': 'Hommes', 'group': group_num, 'weight': weight, 'connection_time': total_minutes}\n",
    "            hommes -= 1\n",
    "        else:\n",
    "            weight = weights['WCHR']\n",
    "            Passengers[f'Passenger_{j}'] = {'gender': 'WCHR', 'group': group_num, 'weight': weight, 'connection_time': total_minutes}\n",
    "            wchr -= 1\n",
    "        j += 1\n",
    "\n",
    "print(Passengers)"
   ]
  },
  {
   "cell_type": "code",
   "execution_count": 11,
   "metadata": {},
   "outputs": [
    {
     "data": {
      "text/plain": [
       "{'gender': 'Femmes', 'group': 1, 'weight': 70, 'connection_time': 0}"
      ]
     },
     "execution_count": 11,
     "metadata": {},
     "output_type": "execute_result"
    }
   ],
   "source": [
    "Passengers['Passenger_1']['weight']"
   ]
  },
  {
   "cell_type": "markdown",
   "metadata": {},
   "source": [
    "# Variables"
   ]
  },
  {
   "cell_type": "code",
   "execution_count": 2,
   "metadata": {},
   "outputs": [],
   "source": [
    "ranks = 29 #nombre de rangées dans l'avion\n",
    "n = 81 #nombre de passagers\n",
    "\n",
    "#Passengers : dictionnaire extrait du fichier excel\n",
    "#Les sièges sont comptés comme une liste et pas comme une matrice\n",
    "\n",
    "# -- Initialisation du modèle --\n",
    "# m : Model\n",
    "    \n",
    "m=Model('statique')\n",
    "\n",
    "# -- Ajout des variables  --\n",
    "# S: dict[(int : int) : Var]  \n",
    "# Sij : var. binaire qui à un passager i associe le siège j\n",
    "S = {(i,j) : m.addVar(vtype = GRB.BINARY, name = f'j{i}') for i in range(1, n+1) for j in range (1, 6*ranks+1)}\n",
    "\n",
    "''' # complete after\n",
    "def modele_statique():\n",
    "    m=Model('statique')\n",
    "    #Sij : var. binaire qui à un passager i associe le siège j\n",
    "    S = {(i,j) : m.addVar(vtype = GRB.BINARY, name = f'j{i}') for i in range(1, n+1) for j in range (1, 6*ranks+1)}\n",
    "\n",
    "    return m\n",
    "'''"
   ]
  },
  {
   "cell_type": "markdown",
   "metadata": {},
   "source": [
    "# Constraints"
   ]
  },
  {
   "cell_type": "markdown",
   "metadata": {},
   "source": [
    "**Un passager maximum par siège:** \n",
    "\n",
    "$$\\sum_{i=1}^{np} S_{ij} \\leq 1 ~~\\forall j $$"
   ]
  },
  {
   "cell_type": "markdown",
   "metadata": {},
   "source": [
    "Un siège maximum par passager\n",
    "\n",
    "$$\\sum_{j=1}^{ns} S_{ij} = 1 ~~\\forall i $$"
   ]
  },
  {
   "cell_type": "markdown",
   "metadata": {},
   "source": [
    "Barycentre dans la zone de centrage."
   ]
  },
  {
   "cell_type": "markdown",
   "metadata": {},
   "source": [
    "$$ x = \\sum_{i=1}^{np}   \\sum_{j=1}^{ns} \\dfrac{(j\\%6)S_{i,j}w_i)}{\\sum_{i=1}^{np} w_i}$$"
   ]
  },
  {
   "cell_type": "code",
   "execution_count": null,
   "metadata": {},
   "outputs": [],
   "source": [
    "x = quicksum(((i%6)*[S[(i, j)]*Passengers_weight[(i,j)] for i in range(1, np + 1) for j in range(1, ns + 1)])(quicksum([Passengers_weight[(i, j)] for i in range(1, np + 1)])))"
   ]
  }
 ],
 "metadata": {
  "kernelspec": {
   "display_name": "base",
   "language": "python",
   "name": "python3"
  },
  "language_info": {
   "codemirror_mode": {
    "name": "ipython",
    "version": 3
   },
   "file_extension": ".py",
   "mimetype": "text/x-python",
   "name": "python",
   "nbconvert_exporter": "python",
   "pygments_lexer": "ipython3",
   "version": "3.11.5"
  }
 },
 "nbformat": 4,
 "nbformat_minor": 2
}
