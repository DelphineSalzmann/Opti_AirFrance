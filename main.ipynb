{
 "cells": [
  {
   "cell_type": "markdown",
   "metadata": {},
   "source": [
    "## Import libraries"
   ]
  },
  {
   "cell_type": "code",
   "execution_count": 1,
   "metadata": {},
   "outputs": [],
   "source": [
    "import numpy as np\n",
    "import pandas as pd\n",
    "import matplotlib.pyplot as plt\n",
    "from gurobipy import *\n",
    "from collections import defaultdict\n",
    "import csv\n",
    "from datetime import datetime\n",
    "import os"
   ]
  },
  {
   "cell_type": "markdown",
   "metadata": {},
   "source": [
    "# Define Functions"
   ]
  },
  {
   "cell_type": "markdown",
   "metadata": {},
   "source": [
    "Read and preprocess data"
   ]
  },
  {
   "cell_type": "code",
   "execution_count": 2,
   "metadata": {},
   "outputs": [],
   "source": [
    "def load_data(file_path):\n",
    "    data_dict = dict()\n",
    "\n",
    "    with open(file_path) as file:\n",
    "        reader = csv.DictReader(file)\n",
    "        for row in reader:\n",
    "            if row['Numéro du groupe'] != '':\n",
    "                heures, minutes, _ = map(int, row['TransitTime'].split(':')) \n",
    "                total_minutes = heures * 60 + minutes\n",
    "                data_dict[int(float(row['Numéro du groupe']))] = (\n",
    "                    int(float(row['Femmes'])),\n",
    "                    int(float(row['Hommes'])),\n",
    "                    int(float(row['WCHR'])),\n",
    "                    total_minutes\n",
    "                )\n",
    "\n",
    "    return data_dict"
   ]
  },
  {
   "cell_type": "markdown",
   "metadata": {},
   "source": [
    "Transforming data to access each passenger's Id"
   ]
  },
  {
   "cell_type": "code",
   "execution_count": 3,
   "metadata": {},
   "outputs": [],
   "source": [
    "def create_passengers_dict(data):\n",
    "    passengers_dict = {}\n",
    "    j = 1\n",
    "\n",
    "    for group_num, group_data in data.items():\n",
    "        weights = {'Femmes': 70, 'Hommes': 85, 'WCHR': 10000}  # Weight per passenger\n",
    "\n",
    "        # Extracting data\n",
    "        femmes, hommes, wchr, total_minutes = group_data\n",
    "\n",
    "        # Enumerating passengers\n",
    "        for _ in range(femmes + hommes + wchr):\n",
    "            if femmes > 0:\n",
    "                weight = weights['Femmes']\n",
    "                passengers_dict[j] = {'gender': 'Femmes', 'group': group_num, 'weight': weight,\n",
    "                                      'connection_time': total_minutes}\n",
    "                femmes -= 1\n",
    "            elif hommes > 0:\n",
    "                weight = weights['Hommes']\n",
    "                passengers_dict[j] = {'gender': 'Hommes', 'group': group_num, 'weight': weight,\n",
    "                                      'connection_time': total_minutes}\n",
    "                hommes -= 1\n",
    "            else:\n",
    "                weight = weights['WCHR']\n",
    "                passengers_dict[j] = {'gender': 'WCHR', 'group': group_num, 'weight': weight,\n",
    "                                      'connection_time': total_minutes}\n",
    "                wchr -= 1\n",
    "            j += 1\n",
    "\n",
    "    return passengers_dict"
   ]
  },
  {
   "cell_type": "markdown",
   "metadata": {},
   "source": [
    "Create optimization model and variables"
   ]
  },
  {
   "cell_type": "code",
   "execution_count": 4,
   "metadata": {},
   "outputs": [],
   "source": [
    "\n",
    "def create_model_and_variables(passengers_dict, ns, selected_date):\n",
    "    n = len(passengers_dict)  # number of passengers\n",
    "\n",
    "    m = Model('statique')  # Model initialization\n",
    "\n",
    "    # Adding variables\n",
    "    S = {(i, j): m.addVar(vtype=GRB.BINARY, name=f'j{i}') for i in range(1, n + 1) for j in range(1, ns + 1)}\n",
    "\n",
    "    # Adding constraints\n",
    "    # Max. 1 seat per passenger\n",
    "    for j in range(1, ns + 1):\n",
    "        m.addConstr(quicksum(S[(i, j)] for i in range(1, n + 1)) <= 1, name=\"PassengerMax\")\n",
    "\n",
    "    # Each passenger has one and only one seat\n",
    "    for i in range(1, n + 1):\n",
    "        m.addConstr(quicksum(S[(i, j)] for j in range(1, ns + 1)) == 1, name=\"SeatMax\")\n",
    "\n",
    "    # The central aisle is left free\n",
    "    for i in range(1, n + 1):\n",
    "        for j in range(1, ns + 1):\n",
    "            if j % 7 == 4:\n",
    "                m.addConstr(S[(i, j)] == 0)\n",
    "\n",
    "    # Baricenter\n",
    "    x_g = LinExpr()\n",
    "    y_g = LinExpr()\n",
    "\n",
    "    total_weight = quicksum(passengers_dict[i]['weight'] for i in range(1, n + 1)).getValue()\n",
    "\n",
    "    for i in range(1, n + 1):\n",
    "        j_k = 1\n",
    "\n",
    "        for j in range(1, ns + 1):\n",
    "            weight_ij = passengers_dict[i]['weight'] / total_weight\n",
    "\n",
    "            if j % 7 == 0:\n",
    "                x_g += (7 * S[i, j] * weight_ij)\n",
    "                y_g += (j_k * S[i, j] * weight_ij)\n",
    "                j_k += 1\n",
    "            else:\n",
    "                x_g += ((j % 7) * S[i, j] * weight_ij)\n",
    "                y_g += (((j // 7) + 1) * S[i, j] * weight_ij)\n",
    "\n",
    "    m.addConstr(x_g >= 3)\n",
    "    m.addConstr(x_g <= 5)\n",
    "    \n",
    "    if selected_date == \"Nov7\":\n",
    "        # Additional constraints for Nov7\n",
    "        m.addConstr(y_g >= 16)\n",
    "        m.addConstr(y_g <= 20)\n",
    "    else:\n",
    "        m.addConstr(y_g >= 13)\n",
    "        m.addConstr(y_g <= 17)\n",
    "\n",
    "    # Disabled passengers occupy 4 spaces on the central aisle\n",
    "    for passenger in passengers_dict:\n",
    "        if passengers_dict[passenger]['gender']=='WCHR':\n",
    "            #Seats are shortened by row (from 7 to 7)\n",
    "            for j in range(1, ns+1-8, 7):        \n",
    "            \n",
    "                x1, x2, x3, x4, x5, x6, x7 = j,j+1,j+2,j+3,j+4,j+5,j+6\n",
    "                \n",
    "                #A seat is fixed in rows 3 or 5.\n",
    "                m.addConstr(S[(passenger, x1)] + S[(passenger, x2)] +  S[(passenger, x6)] + S[(passenger, x7)] ==0 )   \n",
    "                \n",
    "                #The seat overlooking the alley is closed off\n",
    "                m.addConstr(S[(passenger, x3)]+sum(S[(i, x3-1)] for i in passengers_dict) <= 1) \n",
    "                #We close the 2 seats behind\n",
    "                m.addConstr(S[(passenger, x3)]+sum(S[(i, x3+7)] for i in passengers_dict) <= 1) \n",
    "                m.addConstr(S[(passenger, x3)]+sum(S[(i, x3+6)] for i in passengers_dict) <= 1)\n",
    "                #The seat overlooking the alley is closed off\n",
    "                m.addConstr(S[(passenger, x5)]+sum(S[(i, x5+1)] for i in passengers_dict) <= 1) \n",
    "                #We close the 2 seats behind\n",
    "                m.addConstr(S[(passenger, x5)]+sum(S[(i, x5+7)] for i in passengers_dict) <= 1) \n",
    "                m.addConstr(S[(passenger, x5)]+sum(S[(i, x5+8)] for i in passengers_dict) <= 1)\n",
    "            #Disabled passengers cannot be in the last row   \n",
    "            m.addConstr(sum(S[(passenger, k)] for k in range (ns-6, ns+1)) == 0)  \n",
    "\n",
    "    return m, S"
   ]
  },
  {
   "cell_type": "markdown",
   "metadata": {},
   "source": [
    "Objective functions"
   ]
  },
  {
   "cell_type": "code",
   "execution_count": 5,
   "metadata": {},
   "outputs": [],
   "source": [
    "# Transit passengers are seated at the front of the aircraft\n",
    "def obj_transit(S, passengers_dict, ns):\n",
    "    T = {}\n",
    "\n",
    "    for passenger in passengers_dict:\n",
    "        if passengers_dict[passenger]['connection_time'] > 0:  # transit passenger\n",
    "            T[passenger] = passengers_dict[passenger]['connection_time']\n",
    "\n",
    "    P = list(T.keys())  # returns a list of transit passenger identifiers\n",
    "\n",
    "    f = 0\n",
    "    for k in range(len(P)):\n",
    "        for j in range(1, ns + 1):\n",
    "            q = (j - 1) // 7\n",
    "            f += S[(P[k], j)] * (1 / T[P[k]]) * q\n",
    "\n",
    "    return f\n"
   ]
  },
  {
   "cell_type": "code",
   "execution_count": 6,
   "metadata": {},
   "outputs": [],
   "source": [
    "#creates coordinates for the seats\n",
    "def seat_coordinates(seats):\n",
    "    coordinates = []\n",
    "    for j in range(len(seats)):\n",
    "        if (seats[j] % 7 == 0):\n",
    "            x = 7\n",
    "            y = (seats[j] // 7) \n",
    "        else:\n",
    "            x = seats[j] % 7\n",
    "            y = (seats[j] // 7) +1 \n",
    "        coordinates.append((x, y))\n",
    "    return coordinates"
   ]
  },
  {
   "cell_type": "code",
   "execution_count": 7,
   "metadata": {},
   "outputs": [],
   "source": [
    "#Function to allocate passengers to the same group\n",
    "alpha=0.3\n",
    "\n",
    "def obj_dist(m, S, Passengers, alpha, ns):\n",
    "\n",
    "    obj = LinExpr()\n",
    "    X={}\n",
    "    Y={}\n",
    "    coord = seat_coordinates([j for j in range(1, ns+1)])\n",
    "    for i in range(1, len(Passengers) + 1):\n",
    "        X[i]=m.addVar(vtype=GRB.INTEGER)\n",
    "        Y[i]=m.addVar(vtype=GRB.INTEGER)\n",
    "\n",
    "        for k in range(i + 1, len(Passengers) + 1):  \n",
    "            #If passenger i and passenger k are in the same group\n",
    "            if  i!=k and Passengers[i]['group'] == Passengers[k]['group']:  \n",
    "\n",
    "                xi, yi = 0, 0\n",
    "                xk, yk = 0, 0\n",
    "\n",
    "                for j in range (len(coord)):                                      \n",
    "                    xi, yi = xi + S[(i,j+1)]*coord[j][0], yi + S[(i,j+1)]*coord[j][1]\n",
    "                    xk, yk =  xk + S[(k,j+1)]*coord[j][0], yk + S[(k,j+1)]*coord[j][1]\n",
    "                \n",
    "                m.addConstr(X[i]>=xi - xk)\n",
    "                m.addConstr(X[i]>= -xi + xk)\n",
    "                m.addConstr(Y[i]>=yi - yk)\n",
    "                m.addConstr(Y[i]>= -yi + yk)\n",
    "                dist_x = X[i] \n",
    "                dist_y = Y[i]\n",
    "                obj += alpha*dist_x + (1-alpha)*dist_y  \n",
    "                \n",
    "    return obj\n"
   ]
  },
  {
   "cell_type": "markdown",
   "metadata": {},
   "source": [
    "Visualization functions"
   ]
  },
  {
   "cell_type": "code",
   "execution_count": 8,
   "metadata": {},
   "outputs": [],
   "source": [
    "# Display the Baricenter\n",
    "\n",
    "def calculate_center_of_mass(S, passengers_dict, ns):\n",
    "    x_g = LinExpr()\n",
    "    y_g = LinExpr()\n",
    "    total_weight = quicksum(passengers_dict[i]['weight'] for i in range(1, len(passengers_dict) + 1)).getValue()\n",
    "\n",
    "    for i in range(1, len(passengers_dict) + 1):\n",
    "        j_k = 1\n",
    "\n",
    "        for j in range(1, ns + 1):\n",
    "            weight_ij = passengers_dict[i]['weight'] / total_weight\n",
    "\n",
    "            if (j % 7 == 0):\n",
    "                x_g += (7 * S[i, j] * weight_ij)\n",
    "                y_g += (j_k * S[i, j] * weight_ij)\n",
    "                j_k += 1\n",
    "            else:\n",
    "                x_g += ((j % 7) * S[i, j] * weight_ij)\n",
    "                y_g += (((j // 7) + 1) * S[i, j] * weight_ij)\n",
    "\n",
    "    return x_g, y_g"
   ]
  },
  {
   "cell_type": "code",
   "execution_count": null,
   "metadata": {},
   "outputs": [],
   "source": []
  },
  {
   "cell_type": "code",
   "execution_count": 9,
   "metadata": {},
   "outputs": [],
   "source": [
    "def plot_seating(passengers_dict, seat_coords, x_g, y_g):\n",
    "    # Counting the frequency of each group\n",
    "    group_counts = defaultdict(int)\n",
    "\n",
    "    for passenger in passengers_dict.values():\n",
    "        group_counts[passenger['group']] += 1\n",
    "\n",
    "    # Sort the groups by the number of passengers in each group in descending order\n",
    "    sorted_groups = sorted(group_counts.items(), key=lambda x: x[1], reverse=True)\n",
    "\n",
    "    # Define shapes for each gender\n",
    "    shapes = {\n",
    "        'Femmes': 'o',   # Circle\n",
    "        'Hommes': 's',     # Square\n",
    "        'WCHR': '^'     # Triangle\n",
    "    }\n",
    "\n",
    "    # Define colors for the groups with 3 passangers\n",
    "    colors = {\n",
    "        23: 'red',\n",
    "        9: 'green',\n",
    "        29: 'blue',\n",
    "        30: 'darkorange',\n",
    "        36: 'purple',\n",
    "        44: 'gray',\n",
    "        7: 'cyan',\n",
    "        3 : 'springgreen',\n",
    "        16: 'yellow',\n",
    "        42: 'saddlebrown',\n",
    "        46: 'deeppink'\n",
    "    }\n",
    "\n",
    "    plt.figure(figsize=(10, 10))\n",
    "    for idx, coord in enumerate(seat_coords):\n",
    "        group = passengers_dict[idx + 1]['group']\n",
    "        gender = passengers_dict[idx + 1]['gender']\n",
    "        color = colors.get(group, 'black')  # Get color for the group, default to black if not in colors dictionary\n",
    "        shape = shapes.get(gender, 'o')      # Get shape for the gender, default to circle if not in shapes dictionary\n",
    "        plt.scatter(coord[0], coord[1], color=color, marker=shape)  # Use marker parameter to set the shape\n",
    "\n",
    "    # Add labels for each gender\n",
    "    for gender, shape in shapes.items():\n",
    "        plt.scatter([], [], color='black', marker=shape, label=gender)  # Create invisible scatter plot to add label\n",
    "\n",
    "    # Plotting the center of mass\n",
    "    plt.scatter(x_g.getValue(), y_g.getValue(), color='red', marker='o', label=\"center of mass\", s=150)  # Larger red point for center of mass\n",
    "\n",
    "    plt.xlabel('Col')\n",
    "    plt.ylabel('Row')\n",
    "    plt.title('Seat')\n",
    "    plt.grid(True)\n",
    "    plt.gca().invert_yaxis()\n",
    "    plt.legend()\n",
    "    plt.show()"
   ]
  },
  {
   "cell_type": "markdown",
   "metadata": {},
   "source": [
    "## Read and preprocess data\n"
   ]
  },
  {
   "cell_type": "code",
   "execution_count": 10,
   "metadata": {},
   "outputs": [],
   "source": [
    "# Load data for each file\n",
    "\n",
    "file_names = [\"DataSeating 2024.csv\",\"22Oct.csv\",\"23Oct.csv\",\"24Oct.csv\",\"30Oct.csv\", \"5Nov.csv\", \"7Nov.csv\"]\n",
    "data_directory = 'data'\n",
    "# for eachy dictionary : dict[Numéro du groupe : (Femmes, Hommes, WCHR, TransitTime)]\n",
    "Oct21, Oct22,Oct23, Oct24, Oct30, Nov5, Nov7= [load_data(os.path.join(data_directory, file)) for file in file_names]"
   ]
  },
  {
   "cell_type": "markdown",
   "metadata": {},
   "source": [
    "# Static model"
   ]
  },
  {
   "cell_type": "markdown",
   "metadata": {},
   "source": [
    "Parameters"
   ]
  },
  {
   "cell_type": "code",
   "execution_count": 11,
   "metadata": {},
   "outputs": [],
   "source": [
    "ranks = 29  # number of rows in the aircraft\n",
    "number_of_seats = 7 * ranks \n",
    " \n",
    "# We need a bigger aircraft for Nov7:\n",
    "ranks_Nov7 = 35  # number of rows in the aircraft\n",
    "number_of_seats_Nov7 = 7 * ranks_Nov7 "
   ]
  },
  {
   "cell_type": "markdown",
   "metadata": {},
   "source": [
    "User input for date selection"
   ]
  },
  {
   "cell_type": "code",
   "execution_count": 12,
   "metadata": {},
   "outputs": [
    {
     "name": "stdout",
     "output_type": "stream",
     "text": [
      "Analyzing data for Oct24\n",
      "{1: {'gender': 'Femmes', 'group': 1, 'weight': 70, 'connection_time': 70}, 2: {'gender': 'Hommes', 'group': 1, 'weight': 85, 'connection_time': 70}, 3: {'gender': 'Hommes', 'group': 1, 'weight': 85, 'connection_time': 70}, 4: {'gender': 'Hommes', 'group': 1, 'weight': 85, 'connection_time': 70}, 5: {'gender': 'Hommes', 'group': 1, 'weight': 85, 'connection_time': 70}, 6: {'gender': 'Femmes', 'group': 2, 'weight': 70, 'connection_time': 70}, 7: {'gender': 'Hommes', 'group': 2, 'weight': 85, 'connection_time': 70}, 8: {'gender': 'Femmes', 'group': 3, 'weight': 70, 'connection_time': 60}, 9: {'gender': 'Hommes', 'group': 3, 'weight': 85, 'connection_time': 60}, 10: {'gender': 'Femmes', 'group': 4, 'weight': 70, 'connection_time': 0}, 11: {'gender': 'Femmes', 'group': 4, 'weight': 70, 'connection_time': 0}, 12: {'gender': 'Hommes', 'group': 4, 'weight': 85, 'connection_time': 0}, 13: {'gender': 'Hommes', 'group': 4, 'weight': 85, 'connection_time': 0}, 14: {'gender': 'Femmes', 'group': 5, 'weight': 70, 'connection_time': 0}, 15: {'gender': 'Hommes', 'group': 6, 'weight': 85, 'connection_time': 120}, 16: {'gender': 'Hommes', 'group': 6, 'weight': 85, 'connection_time': 120}, 17: {'gender': 'Hommes', 'group': 6, 'weight': 85, 'connection_time': 120}, 18: {'gender': 'Hommes', 'group': 6, 'weight': 85, 'connection_time': 120}, 19: {'gender': 'Hommes', 'group': 6, 'weight': 85, 'connection_time': 120}, 20: {'gender': 'Hommes', 'group': 7, 'weight': 85, 'connection_time': 0}, 21: {'gender': 'Hommes', 'group': 8, 'weight': 85, 'connection_time': 0}, 22: {'gender': 'Femmes', 'group': 9, 'weight': 70, 'connection_time': 0}, 23: {'gender': 'Hommes', 'group': 9, 'weight': 85, 'connection_time': 0}, 24: {'gender': 'Femmes', 'group': 10, 'weight': 70, 'connection_time': 90}, 25: {'gender': 'Femmes', 'group': 10, 'weight': 70, 'connection_time': 90}, 26: {'gender': 'Femmes', 'group': 10, 'weight': 70, 'connection_time': 90}, 27: {'gender': 'Femmes', 'group': 10, 'weight': 70, 'connection_time': 90}, 28: {'gender': 'Hommes', 'group': 10, 'weight': 85, 'connection_time': 90}, 29: {'gender': 'Hommes', 'group': 10, 'weight': 85, 'connection_time': 90}, 30: {'gender': 'Hommes', 'group': 10, 'weight': 85, 'connection_time': 90}, 31: {'gender': 'Hommes', 'group': 10, 'weight': 85, 'connection_time': 90}, 32: {'gender': 'Hommes', 'group': 10, 'weight': 85, 'connection_time': 90}, 33: {'gender': 'Hommes', 'group': 10, 'weight': 85, 'connection_time': 90}, 34: {'gender': 'Hommes', 'group': 10, 'weight': 85, 'connection_time': 90}, 35: {'gender': 'Hommes', 'group': 10, 'weight': 85, 'connection_time': 90}, 36: {'gender': 'Hommes', 'group': 10, 'weight': 85, 'connection_time': 90}, 37: {'gender': 'Hommes', 'group': 10, 'weight': 85, 'connection_time': 90}, 38: {'gender': 'Femmes', 'group': 11, 'weight': 70, 'connection_time': 90}, 39: {'gender': 'Femmes', 'group': 12, 'weight': 70, 'connection_time': 65}, 40: {'gender': 'Hommes', 'group': 12, 'weight': 85, 'connection_time': 65}, 41: {'gender': 'Hommes', 'group': 12, 'weight': 85, 'connection_time': 65}, 42: {'gender': 'Femmes', 'group': 13, 'weight': 70, 'connection_time': 95}, 43: {'gender': 'Hommes', 'group': 14, 'weight': 85, 'connection_time': 0}, 44: {'gender': 'Hommes', 'group': 15, 'weight': 85, 'connection_time': 0}, 45: {'gender': 'Hommes', 'group': 16, 'weight': 85, 'connection_time': 0}, 46: {'gender': 'Femmes', 'group': 17, 'weight': 70, 'connection_time': 0}, 47: {'gender': 'Hommes', 'group': 18, 'weight': 85, 'connection_time': 70}, 48: {'gender': 'Femmes', 'group': 19, 'weight': 70, 'connection_time': 0}, 49: {'gender': 'Femmes', 'group': 20, 'weight': 70, 'connection_time': 80}, 50: {'gender': 'Hommes', 'group': 20, 'weight': 85, 'connection_time': 80}, 51: {'gender': 'Hommes', 'group': 21, 'weight': 85, 'connection_time': 0}, 52: {'gender': 'Hommes', 'group': 22, 'weight': 85, 'connection_time': 0}, 53: {'gender': 'Femmes', 'group': 23, 'weight': 70, 'connection_time': 445}, 54: {'gender': 'Femmes', 'group': 24, 'weight': 70, 'connection_time': 0}, 55: {'gender': 'Femmes', 'group': 24, 'weight': 70, 'connection_time': 0}, 56: {'gender': 'Femmes', 'group': 25, 'weight': 70, 'connection_time': 0}, 57: {'gender': 'Hommes', 'group': 26, 'weight': 85, 'connection_time': 0}, 58: {'gender': 'Hommes', 'group': 27, 'weight': 85, 'connection_time': 0}, 59: {'gender': 'Femmes', 'group': 28, 'weight': 70, 'connection_time': 0}, 60: {'gender': 'Femmes', 'group': 29, 'weight': 70, 'connection_time': 0}, 61: {'gender': 'Hommes', 'group': 29, 'weight': 85, 'connection_time': 0}, 62: {'gender': 'Femmes', 'group': 30, 'weight': 70, 'connection_time': 0}, 63: {'gender': 'Femmes', 'group': 31, 'weight': 70, 'connection_time': 95}, 64: {'gender': 'Femmes', 'group': 32, 'weight': 70, 'connection_time': 0}, 65: {'gender': 'Femmes', 'group': 33, 'weight': 70, 'connection_time': 210}, 66: {'gender': 'Hommes', 'group': 33, 'weight': 85, 'connection_time': 210}, 67: {'gender': 'Femmes', 'group': 34, 'weight': 70, 'connection_time': 60}, 68: {'gender': 'Femmes', 'group': 35, 'weight': 70, 'connection_time': 140}, 69: {'gender': 'Femmes', 'group': 36, 'weight': 70, 'connection_time': 120}, 70: {'gender': 'Hommes', 'group': 36, 'weight': 85, 'connection_time': 120}, 71: {'gender': 'Hommes', 'group': 37, 'weight': 85, 'connection_time': 90}, 72: {'gender': 'Hommes', 'group': 38, 'weight': 85, 'connection_time': 0}, 73: {'gender': 'Femmes', 'group': 39, 'weight': 70, 'connection_time': 0}, 74: {'gender': 'Hommes', 'group': 40, 'weight': 85, 'connection_time': 0}, 75: {'gender': 'Hommes', 'group': 41, 'weight': 85, 'connection_time': 0}, 76: {'gender': 'Hommes', 'group': 42, 'weight': 85, 'connection_time': 0}, 77: {'gender': 'Femmes', 'group': 43, 'weight': 70, 'connection_time': 0}, 78: {'gender': 'Hommes', 'group': 43, 'weight': 85, 'connection_time': 0}, 79: {'gender': 'Hommes', 'group': 44, 'weight': 85, 'connection_time': 0}, 80: {'gender': 'Femmes', 'group': 45, 'weight': 70, 'connection_time': 0}, 81: {'gender': 'Hommes', 'group': 46, 'weight': 85, 'connection_time': 0}, 82: {'gender': 'Hommes', 'group': 47, 'weight': 85, 'connection_time': 0}, 83: {'gender': 'Femmes', 'group': 48, 'weight': 70, 'connection_time': 90}, 84: {'gender': 'Hommes', 'group': 49, 'weight': 85, 'connection_time': 0}, 85: {'gender': 'Femmes', 'group': 50, 'weight': 70, 'connection_time': 0}, 86: {'gender': 'Femmes', 'group': 51, 'weight': 70, 'connection_time': 0}, 87: {'gender': 'Femmes', 'group': 52, 'weight': 70, 'connection_time': 135}, 88: {'gender': 'Femmes', 'group': 52, 'weight': 70, 'connection_time': 135}, 89: {'gender': 'Hommes', 'group': 52, 'weight': 85, 'connection_time': 135}, 90: {'gender': 'Femmes', 'group': 53, 'weight': 70, 'connection_time': 0}, 91: {'gender': 'Femmes', 'group': 54, 'weight': 70, 'connection_time': 0}, 92: {'gender': 'Hommes', 'group': 55, 'weight': 85, 'connection_time': 0}, 93: {'gender': 'Femmes', 'group': 56, 'weight': 70, 'connection_time': 0}, 94: {'gender': 'Femmes', 'group': 56, 'weight': 70, 'connection_time': 0}, 95: {'gender': 'Hommes', 'group': 56, 'weight': 85, 'connection_time': 0}, 96: {'gender': 'Hommes', 'group': 56, 'weight': 85, 'connection_time': 0}, 97: {'gender': 'Hommes', 'group': 57, 'weight': 85, 'connection_time': 0}, 98: {'gender': 'Femmes', 'group': 58, 'weight': 70, 'connection_time': 0}, 99: {'gender': 'Femmes', 'group': 59, 'weight': 70, 'connection_time': 0}, 100: {'gender': 'Hommes', 'group': 60, 'weight': 85, 'connection_time': 135}, 101: {'gender': 'Femmes', 'group': 61, 'weight': 70, 'connection_time': 0}, 102: {'gender': 'Femmes', 'group': 62, 'weight': 70, 'connection_time': 135}, 103: {'gender': 'Hommes', 'group': 62, 'weight': 85, 'connection_time': 135}, 104: {'gender': 'Hommes', 'group': 63, 'weight': 85, 'connection_time': 0}, 105: {'gender': 'Femmes', 'group': 64, 'weight': 70, 'connection_time': 0}, 106: {'gender': 'Hommes', 'group': 64, 'weight': 85, 'connection_time': 0}, 107: {'gender': 'Femmes', 'group': 65, 'weight': 70, 'connection_time': 0}, 108: {'gender': 'Hommes', 'group': 65, 'weight': 85, 'connection_time': 0}, 109: {'gender': 'Femmes', 'group': 66, 'weight': 70, 'connection_time': 0}, 110: {'gender': 'Femmes', 'group': 67, 'weight': 70, 'connection_time': 0}, 111: {'gender': 'Hommes', 'group': 68, 'weight': 85, 'connection_time': 120}, 112: {'gender': 'Hommes', 'group': 69, 'weight': 85, 'connection_time': 0}, 113: {'gender': 'Hommes', 'group': 70, 'weight': 85, 'connection_time': 0}, 114: {'gender': 'Hommes', 'group': 71, 'weight': 85, 'connection_time': 0}, 115: {'gender': 'Hommes', 'group': 72, 'weight': 85, 'connection_time': 0}, 116: {'gender': 'Femmes', 'group': 73, 'weight': 70, 'connection_time': 0}, 117: {'gender': 'Femmes', 'group': 74, 'weight': 70, 'connection_time': 0}, 118: {'gender': 'Femmes', 'group': 75, 'weight': 70, 'connection_time': 0}, 119: {'gender': 'Femmes', 'group': 76, 'weight': 70, 'connection_time': 0}, 120: {'gender': 'Hommes', 'group': 76, 'weight': 85, 'connection_time': 0}, 121: {'gender': 'Hommes', 'group': 77, 'weight': 85, 'connection_time': 70}, 122: {'gender': 'Femmes', 'group': 78, 'weight': 70, 'connection_time': 120}, 123: {'gender': 'Femmes', 'group': 78, 'weight': 70, 'connection_time': 120}, 124: {'gender': 'Femmes', 'group': 78, 'weight': 70, 'connection_time': 120}, 125: {'gender': 'Hommes', 'group': 78, 'weight': 85, 'connection_time': 120}, 126: {'gender': 'Femmes', 'group': 79, 'weight': 70, 'connection_time': 0}, 127: {'gender': 'Femmes', 'group': 79, 'weight': 70, 'connection_time': 0}, 128: {'gender': 'Femmes', 'group': 79, 'weight': 70, 'connection_time': 0}, 129: {'gender': 'Femmes', 'group': 79, 'weight': 70, 'connection_time': 0}, 130: {'gender': 'Femmes', 'group': 79, 'weight': 70, 'connection_time': 0}, 131: {'gender': 'Femmes', 'group': 79, 'weight': 70, 'connection_time': 0}, 132: {'gender': 'Femmes', 'group': 79, 'weight': 70, 'connection_time': 0}, 133: {'gender': 'Femmes', 'group': 79, 'weight': 70, 'connection_time': 0}, 134: {'gender': 'Femmes', 'group': 79, 'weight': 70, 'connection_time': 0}, 135: {'gender': 'Femmes', 'group': 79, 'weight': 70, 'connection_time': 0}, 136: {'gender': 'Femmes', 'group': 79, 'weight': 70, 'connection_time': 0}, 137: {'gender': 'Femmes', 'group': 79, 'weight': 70, 'connection_time': 0}, 138: {'gender': 'Hommes', 'group': 80, 'weight': 85, 'connection_time': 120}, 139: {'gender': 'Femmes', 'group': 81, 'weight': 70, 'connection_time': 0}, 140: {'gender': 'Femmes', 'group': 81, 'weight': 70, 'connection_time': 0}, 141: {'gender': 'Hommes', 'group': 81, 'weight': 85, 'connection_time': 0}, 142: {'gender': 'Hommes', 'group': 81, 'weight': 85, 'connection_time': 0}, 143: {'gender': 'Femmes', 'group': 82, 'weight': 70, 'connection_time': 210}, 144: {'gender': 'Femmes', 'group': 83, 'weight': 70, 'connection_time': 0}, 145: {'gender': 'Femmes', 'group': 84, 'weight': 70, 'connection_time': 0}, 146: {'gender': 'Femmes', 'group': 84, 'weight': 70, 'connection_time': 0}, 147: {'gender': 'Hommes', 'group': 84, 'weight': 85, 'connection_time': 0}, 148: {'gender': 'Hommes', 'group': 84, 'weight': 85, 'connection_time': 0}, 149: {'gender': 'Hommes', 'group': 84, 'weight': 85, 'connection_time': 0}, 150: {'gender': 'Hommes', 'group': 84, 'weight': 85, 'connection_time': 0}, 151: {'gender': 'Hommes', 'group': 84, 'weight': 85, 'connection_time': 0}, 152: {'gender': 'Hommes', 'group': 84, 'weight': 85, 'connection_time': 0}, 153: {'gender': 'Femmes', 'group': 85, 'weight': 70, 'connection_time': 0}, 154: {'gender': 'Femmes', 'group': 86, 'weight': 70, 'connection_time': 0}, 155: {'gender': 'Hommes', 'group': 87, 'weight': 85, 'connection_time': 135}, 156: {'gender': 'Femmes', 'group': 88, 'weight': 70, 'connection_time': 0}, 157: {'gender': 'Femmes', 'group': 89, 'weight': 70, 'connection_time': 45}, 158: {'gender': 'Femmes', 'group': 89, 'weight': 70, 'connection_time': 45}, 159: {'gender': 'Hommes', 'group': 89, 'weight': 85, 'connection_time': 45}, 160: {'gender': 'Hommes', 'group': 89, 'weight': 85, 'connection_time': 45}, 161: {'gender': 'Hommes', 'group': 89, 'weight': 85, 'connection_time': 45}, 162: {'gender': 'Hommes', 'group': 90, 'weight': 85, 'connection_time': 0}, 163: {'gender': 'Femmes', 'group': 91, 'weight': 70, 'connection_time': 0}, 164: {'gender': 'Femmes', 'group': 91, 'weight': 70, 'connection_time': 0}}\n"
     ]
    }
   ],
   "source": [
    "# User input for date selection\n",
    "selected_date = input(\"Which date do you want to analyze? Please enter one of the following options: Oct21, Oct22, Oct23, Oct24, Oct30, Nov5, Nov7: \")\n",
    "\n",
    "# Check if the entered date is valid\n",
    "if selected_date in [\"Oct21\", \"Oct22\", \"Oct23\", \"Oct24\", \"Oct30\", \"Nov5\", \"Nov7\"]:\n",
    "    # Construct the variable name dynamically\n",
    "    passengers_variable_name = f\"Passengers_{selected_date}\"\n",
    "\n",
    "    # Create a dictionary for the selected date and assign it to the variable dynamically\n",
    "    globals()[passengers_variable_name] = create_passengers_dict(globals()[selected_date])\n",
    "\n",
    "    print(f\"Analyzing data for {selected_date}\")\n",
    "    print(globals()[passengers_variable_name])\n",
    "    \n",
    "else:\n",
    "    print(\"Invalid date entered. Please enter one of the specified options.\")"
   ]
  },
  {
   "cell_type": "markdown",
   "metadata": {},
   "source": [
    "Construct the model"
   ]
  },
  {
   "cell_type": "code",
   "execution_count": 13,
   "metadata": {},
   "outputs": [
    {
     "name": "stdout",
     "output_type": "stream",
     "text": [
      "Set parameter Username\n",
      "Academic license - for non-commercial use only - expires 2025-03-01\n"
     ]
    },
    {
     "data": {
      "text/plain": [
       "<gurobi.Model MIP instance statique: 6163 constrs, 33620 vars, Parameter changes: Username=(user-defined), OutputFlag=0>"
      ]
     },
     "metadata": {},
     "output_type": "display_data"
    }
   ],
   "source": [
    "# Create models and variables for the selected date\n",
    "if selected_date == \"Nov7\":\n",
    "    m_selected, S_selected = create_model_and_variables(globals()[passengers_variable_name], number_of_seats_Nov7,selected_date)\n",
    "else:\n",
    "    m_selected, S_selected = create_model_and_variables(globals()[passengers_variable_name], number_of_seats,selected_date)\n",
    "\n",
    "# Construct the model variable names \n",
    "model_variable_name_m = f\"m_{selected_date}\"\n",
    "model_variable_name_S = f\"S_{selected_date}\"\n",
    "\n",
    "# Assign the models to the variables \n",
    "globals()[model_variable_name_m] = m_selected\n",
    "globals()[model_variable_name_S] = S_selected\n",
    "    \n",
    "# Set objectives for the models\n",
    "if selected_date == \"Nov7\":\n",
    "    m_selected.setObjective(obj_transit(S_selected, globals()[passengers_variable_name], number_of_seats_Nov7) + obj_dist(m_selected, S_selected, globals()[passengers_variable_name], alpha, number_of_seats_Nov7), GRB.MINIMIZE)\n",
    "else:\n",
    "    m_selected.setObjective(obj_transit(S_selected, globals()[passengers_variable_name], number_of_seats) + obj_dist(m_selected, S_selected, globals()[passengers_variable_name], alpha, number_of_seats), GRB.MINIMIZE)\n",
    "        \n",
    "# Set display options\n",
    "globals()[model_variable_name_m].params.outputflag = 0  # mute mode\n",
    "globals()[model_variable_name_m].update()\n",
    "\n",
    "# Display the model in text mode\n",
    "display(globals()[model_variable_name_m])\n",
    "    \n",
    "# Set time limit\n",
    "globals()[model_variable_name_m].Params.timeLimit = 120.0"
   ]
  },
  {
   "cell_type": "markdown",
   "metadata": {},
   "source": [
    "Resolution"
   ]
  },
  {
   "cell_type": "code",
   "execution_count": 14,
   "metadata": {},
   "outputs": [
    {
     "name": "stdout",
     "output_type": "stream",
     "text": [
      "\n",
      "Seats on the plane for Oct24 are as follows: [(1, 27), (2, 28), (3, 20), (4, 19), (5, 21), (6, 16), (7, 15), (8, 5), (9, 6), (10, 162), (11, 155), (12, 148), (13, 169), (14, 82), (15, 55), (16, 54), (17, 63), (18, 62), (19, 61), (20, 108), (21, 164), (22, 112), (23, 111), (24, 40), (25, 34), (26, 41), (27, 38), (28, 47), (29, 42), (30, 36), (31, 37), (32, 31), (33, 43), (34, 44), (35, 30), (36, 29), (37, 33), (38, 35), (39, 13), (40, 14), (41, 12), (42, 45), (43, 140), (44, 132), (45, 176), (46, 194), (47, 17), (48, 183), (49, 23), (50, 24), (51, 181), (52, 147), (53, 73), (54, 96), (55, 89), (56, 131), (57, 117), (58, 84), (59, 143), (60, 115), (61, 114), (62, 90), (63, 56), (64, 163), (65, 71), (66, 72), (67, 7), (68, 75), (69, 49), (70, 48), (71, 26), (72, 113), (73, 192), (74, 201), (75, 189), (76, 133), (77, 118), (78, 119), (79, 145), (80, 103), (81, 98), (82, 127), (83, 22), (84, 110), (85, 161), (87, 65), (88, 64), (89, 66), (90, 139), (91, 160), (92, 185), (93, 124), (94, 126), (95, 122), (96, 125), (97, 105), (98, 150), (99, 202), (100, 68), (101, 129), (102, 69), (103, 70), (104, 134), (105, 141), (106, 142), (107, 188), (108, 187), (109, 177), (110, 97), (111, 59), (112, 106), (113, 156), (114, 157), (115, 153), (116, 138), (117, 184), (118, 170), (119, 135), (120, 136), (121, 10), (122, 58), (123, 51), (124, 52), (125, 50), (126, 100), (127, 101), (128, 85), (129, 99), (130, 87), (131, 80), (132, 92), (133, 93), (134, 86), (135, 94), (136, 79), (137, 78), (138, 57), (139, 191), (140, 198), (141, 199), (142, 197), (143, 76), (144, 168), (145, 171), (146, 173), (147, 174), (148, 166), (149, 180), (150, 178), (151, 175), (152, 182), (153, 107), (154, 128), (155, 77), (156, 159), (157, 8), (158, 9), (159, 2), (160, 3), (161, 1), (162, 104), (163, 195), (164, 196)]\n"
     ]
    }
   ],
   "source": [
    "# Optimize the model\n",
    "globals()[model_variable_name_m].optimize()\n",
    "\n",
    "# Solution display\n",
    "print()\n",
    "print(f\"Seats on the plane for {selected_date} are as follows:\", [(i, j) for i in range(1, len(globals()[f'Passengers_{selected_date}']) + 1) for j in range(1, number_of_seats if selected_date != 'Nov7' else number_of_seats_Nov7 + 1) if globals()[model_variable_name_S][(i, j)].x])"
   ]
  },
  {
   "cell_type": "markdown",
   "metadata": {},
   "source": [
    "Visualization"
   ]
  },
  {
   "cell_type": "code",
   "execution_count": 15,
   "metadata": {},
   "outputs": [],
   "source": [
    "# Calculate center of mass\n",
    "\n",
    "x_g_variable_name = f\"x_g_{selected_date}\"\n",
    "y_g_variable_name = f\"y_g_{selected_date}\"\n",
    "globals()[x_g_variable_name], globals()[y_g_variable_name] = calculate_center_of_mass(globals()[model_variable_name_S], globals()[f\"Passengers_{selected_date}\"], number_of_seats if selected_date != 'Nov7' else number_of_seats_Nov7)"
   ]
  },
  {
   "cell_type": "code",
   "execution_count": 16,
   "metadata": {},
   "outputs": [],
   "source": [
    "seats_variable_name = f\"seats_{selected_date}\"\n",
    "seat_coords_variable_name = f\"seat_coords_{selected_date}\"\n",
    "\n",
    "# Create lists of occupied seats\n",
    "globals()[seats_variable_name] = [j for i in range(1, len(globals()[f'Passengers_{selected_date}']) + 1) for j in range(1, number_of_seats if selected_date != 'Nov7' else number_of_seats_Nov7 + 1) if globals()[model_variable_name_S][(i, j)].x]\n",
    "\n",
    "# Calculate seat coordinates\n",
    "globals()[seat_coords_variable_name] = seat_coordinates(globals()[seats_variable_name])"
   ]
  },
  {
   "cell_type": "code",
   "execution_count": 20,
   "metadata": {},
   "outputs": [
    {
     "data": {
      "image/png": "[encoded data removed]",
      "text/plain": [
       "<Figure size 1000x1000 with 1 Axes>"
      ]
     },
     "metadata": {},
     "output_type": "display_data"
    }
   ],
   "source": [
    "plot_seating(globals()[passengers_variable_name], globals()[seat_coords_variable_name], globals()[x_g_variable_name], globals()[y_g_variable_name])"
   ]
  }
 ],
 "metadata": {
  "kernelspec": {
   "display_name": "base",
   "language": "python",
   "name": "python3"
  },
  "language_info": {
   "codemirror_mode": {
    "name": "ipython",
    "version": 3
   },
   "file_extension": ".py",
   "mimetype": "text/x-python",
   "name": "python",
   "nbconvert_exporter": "python",
   "pygments_lexer": "ipython3",
   "version": "3.11.7"
  }
 },
 "nbformat": 4,
 "nbformat_minor": 2
}
