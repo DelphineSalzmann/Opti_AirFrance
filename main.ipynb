{
 "cells": [
  {
   "cell_type": "markdown",
   "metadata": {},
   "source": [
    "## Import libraries"
   ]
  },
  {
   "cell_type": "code",
   "execution_count": 66,
   "metadata": {},
   "outputs": [],
   "source": [
    "import numpy as np\n",
    "import pandas as pd\n",
    "import matplotlib.pyplot as plt\n",
    "from gurobipy import *\n",
    "from collections import defaultdict\n",
    "import csv\n",
    "from datetime import datetime\n",
    "import os\n"
   ]
  },
  {
   "cell_type": "markdown",
   "metadata": {},
   "source": [
    "## Read and preprocess data\n"
   ]
  },
  {
   "cell_type": "code",
   "execution_count": 42,
   "metadata": {},
   "outputs": [],
   "source": [
    "def load_data(file_path):\n",
    "    data_dict = dict()\n",
    "\n",
    "    with open(file_path) as file:\n",
    "        reader = csv.DictReader(file)\n",
    "        for row in reader:\n",
    "            if row['Numéro du groupe'] != '':\n",
    "                heures, minutes, _ = map(int, row['TransitTime'].split(':')) \n",
    "                total_minutes = heures * 60 + minutes\n",
    "                data_dict[int(float(row['Numéro du groupe']))] = (\n",
    "                    int(float(row['Femmes'])),\n",
    "                    int(float(row['Hommes'])),\n",
    "                    int(float(row['WCHR'])),\n",
    "                    total_minutes\n",
    "                )\n",
    "\n",
    "    return data_dict\n",
    "\n",
    "# Load data for each file\n",
    "\n",
    "file_names = [\"DataSeating 2024.csv\",\"22Oct.csv\",\"23Oct.csv\",\"24Oct.csv\",\"30Oct.csv\", \"5Nov.csv\", \"7Nov.csv\"]\n",
    "data_directory = 'data'\n",
    "# for eachy dictionary : dict[Numéro du groupe : (Femmes, Hommes, WCHR, TransitTime)]\n",
    "Oct21, Oct22,Oct23, Oct24, Oct30, Nov5, Nov7= [load_data(os.path.join(data_directory, file)) for file in file_names]"
   ]
  },
  {
   "cell_type": "markdown",
   "metadata": {},
   "source": [
    "Transforming data to access each passenger's Id\n"
   ]
  },
  {
   "cell_type": "code",
   "execution_count": 43,
   "metadata": {},
   "outputs": [
    {
     "name": "stdout",
     "output_type": "stream",
     "text": [
      "{1: {'gender': 'Femmes', 'group': 1, 'weight': 70, 'connection_time': 0}, 2: {'gender': 'Hommes', 'group': 1, 'weight': 85, 'connection_time': 0}, 3: {'gender': 'Hommes', 'group': 1, 'weight': 85, 'connection_time': 0}, 4: {'gender': 'Hommes', 'group': 2, 'weight': 85, 'connection_time': 60}, 5: {'gender': 'Femmes', 'group': 3, 'weight': 70, 'connection_time': 165}, 6: {'gender': 'Hommes', 'group': 3, 'weight': 85, 'connection_time': 165}, 7: {'gender': 'Femmes', 'group': 4, 'weight': 70, 'connection_time': 0}, 8: {'gender': 'Hommes', 'group': 4, 'weight': 85, 'connection_time': 0}, 9: {'gender': 'WCHR', 'group': 4, 'weight': 10000, 'connection_time': 0}, 10: {'gender': 'Femmes', 'group': 5, 'weight': 70, 'connection_time': 0}, 11: {'gender': 'Femmes', 'group': 5, 'weight': 70, 'connection_time': 0}, 12: {'gender': 'Femmes', 'group': 5, 'weight': 70, 'connection_time': 0}, 13: {'gender': 'Femmes', 'group': 6, 'weight': 70, 'connection_time': 0}, 14: {'gender': 'Hommes', 'group': 6, 'weight': 85, 'connection_time': 0}, 15: {'gender': 'Femmes', 'group': 7, 'weight': 70, 'connection_time': 85}, 16: {'gender': 'Hommes', 'group': 7, 'weight': 85, 'connection_time': 85}, 17: {'gender': 'Hommes', 'group': 8, 'weight': 85, 'connection_time': 0}, 18: {'gender': 'Femmes', 'group': 9, 'weight': 70, 'connection_time': 60}, 19: {'gender': 'Femmes', 'group': 9, 'weight': 70, 'connection_time': 60}, 20: {'gender': 'Hommes', 'group': 9, 'weight': 85, 'connection_time': 60}, 21: {'gender': 'Hommes', 'group': 9, 'weight': 85, 'connection_time': 60}, 22: {'gender': 'Femmes', 'group': 10, 'weight': 70, 'connection_time': 0}, 23: {'gender': 'Femmes', 'group': 11, 'weight': 70, 'connection_time': 0}, 24: {'gender': 'Hommes', 'group': 12, 'weight': 85, 'connection_time': 0}, 25: {'gender': 'Hommes', 'group': 12, 'weight': 85, 'connection_time': 0}, 26: {'gender': 'Hommes', 'group': 13, 'weight': 85, 'connection_time': 0}, 27: {'gender': 'Hommes', 'group': 14, 'weight': 85, 'connection_time': 0}, 28: {'gender': 'Hommes', 'group': 14, 'weight': 85, 'connection_time': 0}, 29: {'gender': 'Hommes', 'group': 14, 'weight': 85, 'connection_time': 0}, 30: {'gender': 'Femmes', 'group': 15, 'weight': 70, 'connection_time': 0}, 31: {'gender': 'Femmes', 'group': 15, 'weight': 70, 'connection_time': 0}, 32: {'gender': 'Femmes', 'group': 16, 'weight': 70, 'connection_time': 60}, 33: {'gender': 'Femmes', 'group': 17, 'weight': 70, 'connection_time': 0}, 34: {'gender': 'Femmes', 'group': 18, 'weight': 70, 'connection_time': 0}, 35: {'gender': 'Hommes', 'group': 18, 'weight': 85, 'connection_time': 0}, 36: {'gender': 'Hommes', 'group': 19, 'weight': 85, 'connection_time': 0}, 37: {'gender': 'Femmes', 'group': 20, 'weight': 70, 'connection_time': 0}, 38: {'gender': 'Hommes', 'group': 20, 'weight': 85, 'connection_time': 0}, 39: {'gender': 'Hommes', 'group': 21, 'weight': 85, 'connection_time': 0}, 40: {'gender': 'Hommes', 'group': 22, 'weight': 85, 'connection_time': 0}, 41: {'gender': 'Femmes', 'group': 23, 'weight': 70, 'connection_time': 0}, 42: {'gender': 'Femmes', 'group': 23, 'weight': 70, 'connection_time': 0}, 43: {'gender': 'Hommes', 'group': 23, 'weight': 85, 'connection_time': 0}, 44: {'gender': 'Femmes', 'group': 24, 'weight': 70, 'connection_time': 0}, 45: {'gender': 'Hommes', 'group': 24, 'weight': 85, 'connection_time': 0}, 46: {'gender': 'Femmes', 'group': 26, 'weight': 70, 'connection_time': 0}, 47: {'gender': 'Femmes', 'group': 26, 'weight': 70, 'connection_time': 0}, 48: {'gender': 'Hommes', 'group': 27, 'weight': 85, 'connection_time': 0}, 49: {'gender': 'Hommes', 'group': 28, 'weight': 85, 'connection_time': 0}, 50: {'gender': 'Hommes', 'group': 29, 'weight': 85, 'connection_time': 85}, 51: {'gender': 'Femmes', 'group': 30, 'weight': 70, 'connection_time': 85}, 52: {'gender': 'Hommes', 'group': 30, 'weight': 85, 'connection_time': 85}, 53: {'gender': 'Femmes', 'group': 31, 'weight': 70, 'connection_time': 0}, 54: {'gender': 'Femmes', 'group': 31, 'weight': 70, 'connection_time': 0}, 55: {'gender': 'Hommes', 'group': 31, 'weight': 85, 'connection_time': 0}, 56: {'gender': 'Hommes', 'group': 31, 'weight': 85, 'connection_time': 0}, 57: {'gender': 'Hommes', 'group': 32, 'weight': 85, 'connection_time': 0}, 58: {'gender': 'Hommes', 'group': 32, 'weight': 85, 'connection_time': 0}, 59: {'gender': 'Hommes', 'group': 32, 'weight': 85, 'connection_time': 0}, 60: {'gender': 'Hommes', 'group': 32, 'weight': 85, 'connection_time': 0}, 61: {'gender': 'Hommes', 'group': 32, 'weight': 85, 'connection_time': 0}, 62: {'gender': 'Hommes', 'group': 33, 'weight': 85, 'connection_time': 0}, 63: {'gender': 'Hommes', 'group': 33, 'weight': 85, 'connection_time': 0}, 64: {'gender': 'Hommes', 'group': 33, 'weight': 85, 'connection_time': 0}, 65: {'gender': 'Hommes', 'group': 33, 'weight': 85, 'connection_time': 0}, 66: {'gender': 'Femmes', 'group': 34, 'weight': 70, 'connection_time': 85}, 67: {'gender': 'Hommes', 'group': 34, 'weight': 85, 'connection_time': 85}, 68: {'gender': 'Femmes', 'group': 35, 'weight': 70, 'connection_time': 0}, 69: {'gender': 'Hommes', 'group': 35, 'weight': 85, 'connection_time': 0}, 70: {'gender': 'Femmes', 'group': 36, 'weight': 70, 'connection_time': 60}, 71: {'gender': 'Femmes', 'group': 36, 'weight': 70, 'connection_time': 60}, 72: {'gender': 'Hommes', 'group': 37, 'weight': 85, 'connection_time': 0}, 73: {'gender': 'Hommes', 'group': 38, 'weight': 85, 'connection_time': 0}, 74: {'gender': 'Femmes', 'group': 39, 'weight': 70, 'connection_time': 0}, 75: {'gender': 'WCHR', 'group': 39, 'weight': 10000, 'connection_time': 0}, 76: {'gender': 'Femmes', 'group': 40, 'weight': 70, 'connection_time': 0}, 77: {'gender': 'WCHR', 'group': 40, 'weight': 10000, 'connection_time': 0}, 78: {'gender': 'Hommes', 'group': 41, 'weight': 85, 'connection_time': 0}, 79: {'gender': 'Hommes', 'group': 42, 'weight': 85, 'connection_time': 165}, 80: {'gender': 'Femmes', 'group': 43, 'weight': 70, 'connection_time': 0}, 81: {'gender': 'Femmes', 'group': 43, 'weight': 70, 'connection_time': 0}, 82: {'gender': 'Femmes', 'group': 43, 'weight': 70, 'connection_time': 0}, 83: {'gender': 'Femmes', 'group': 43, 'weight': 70, 'connection_time': 0}, 84: {'gender': 'Femmes', 'group': 43, 'weight': 70, 'connection_time': 0}, 85: {'gender': 'Femmes', 'group': 44, 'weight': 70, 'connection_time': 85}, 86: {'gender': 'Femmes', 'group': 44, 'weight': 70, 'connection_time': 85}, 87: {'gender': 'Hommes', 'group': 45, 'weight': 85, 'connection_time': 85}, 88: {'gender': 'Femmes', 'group': 46, 'weight': 70, 'connection_time': 0}, 89: {'gender': 'Hommes', 'group': 46, 'weight': 85, 'connection_time': 0}, 90: {'gender': 'Hommes', 'group': 46, 'weight': 85, 'connection_time': 0}, 91: {'gender': 'Femmes', 'group': 47, 'weight': 70, 'connection_time': 0}, 92: {'gender': 'Femmes', 'group': 48, 'weight': 70, 'connection_time': 0}, 93: {'gender': 'WCHR', 'group': 49, 'weight': 10000, 'connection_time': 0}, 94: {'gender': 'Femmes', 'group': 50, 'weight': 70, 'connection_time': 0}, 95: {'gender': 'Hommes', 'group': 51, 'weight': 85, 'connection_time': 0}, 96: {'gender': 'Femmes', 'group': 52, 'weight': 70, 'connection_time': 0}, 97: {'gender': 'Femmes', 'group': 53, 'weight': 70, 'connection_time': 0}}\n"
     ]
    }
   ],
   "source": [
    "def create_passengers_dict(data):\n",
    "    passengers_dict = {}\n",
    "    j = 1\n",
    "\n",
    "    for group_num, group_data in data.items():\n",
    "        weights = {'Femmes': 70, 'Hommes': 85, 'WCHR': 10000}  # Weight per passenger\n",
    "\n",
    "        # Extracting data\n",
    "        femmes, hommes, wchr, total_minutes = group_data\n",
    "\n",
    "        # Enumerating passengers\n",
    "        for _ in range(femmes + hommes + wchr):\n",
    "            if femmes > 0:\n",
    "                weight = weights['Femmes']\n",
    "                passengers_dict[j] = {'gender': 'Femmes', 'group': group_num, 'weight': weight,\n",
    "                                      'connection_time': total_minutes}\n",
    "                femmes -= 1\n",
    "            elif hommes > 0:\n",
    "                weight = weights['Hommes']\n",
    "                passengers_dict[j] = {'gender': 'Hommes', 'group': group_num, 'weight': weight,\n",
    "                                      'connection_time': total_minutes}\n",
    "                hommes -= 1\n",
    "            else:\n",
    "                weight = weights['WCHR']\n",
    "                passengers_dict[j] = {'gender': 'WCHR', 'group': group_num, 'weight': weight,\n",
    "                                      'connection_time': total_minutes}\n",
    "                wchr -= 1\n",
    "            j += 1\n",
    "\n",
    "    return passengers_dict\n",
    "\n",
    "Passengers_Oct21 = create_passengers_dict(Oct21)\n",
    "Passengers_Oct22 = create_passengers_dict(Oct22)\n",
    "Passengers_Oct23 = create_passengers_dict(Oct23)\n",
    "Passengers_Oct24 = create_passengers_dict(Oct24)\n",
    "Passengers_Oct30 = create_passengers_dict(Oct30)\n",
    "Passengers_Nov5 = create_passengers_dict(Nov5)\n",
    "Passengers_Nov7 = create_passengers_dict(Nov7)\n",
    "\n",
    "# Example usage for Nov5\n",
    "print(Passengers_Nov5)"
   ]
  },
  {
   "cell_type": "markdown",
   "metadata": {},
   "source": [
    "# Static model"
   ]
  },
  {
   "cell_type": "code",
   "execution_count": 44,
   "metadata": {},
   "outputs": [],
   "source": [
    "# Function to create optimization model and variables\n",
    "\n",
    "ranks = 29  # number of rows in the aircraft\n",
    "ns = 7 * ranks  # number of seats\n",
    "\n",
    "def create_model_and_variables(passengers_dict):\n",
    "    n = len(passengers_dict)  # number of passengers\n",
    "\n",
    "    m = Model('statique')  # Model initialization\n",
    "\n",
    "    # Adding variables\n",
    "    S = {(i, j): m.addVar(vtype=GRB.BINARY, name=f'j{i}') for i in range(1, n + 1) for j in range(1, ns + 1)}\n",
    "\n",
    "    # Adding constraints\n",
    "    # Max. 1 seat per passenger\n",
    "    for j in range(1, ns + 1):\n",
    "        m.addConstr(quicksum(S[(i, j)] for i in range(1, n + 1)) <= 1, name=\"PassengerMax\")\n",
    "\n",
    "    # Each passenger has one and only one seat\n",
    "    for i in range(1, n + 1):\n",
    "        m.addConstr(quicksum(S[(i, j)] for j in range(1, ns + 1)) == 1, name=\"SeatMax\")\n",
    "\n",
    "    # The central aisle is left free\n",
    "    for i in range(1, n + 1):\n",
    "        for j in range(1, ns + 1):\n",
    "            if j % 7 == 4:\n",
    "                m.addConstr(S[(i, j)] == 0)\n",
    "\n",
    "    # Baricenter\n",
    "    x_g = LinExpr()\n",
    "    y_g = LinExpr()\n",
    "\n",
    "    total_weight = quicksum(passengers_dict[i]['weight'] for i in range(1, n + 1)).getValue()\n",
    "\n",
    "    for i in range(1, n + 1):\n",
    "        j_k = 1\n",
    "\n",
    "        for j in range(1, ns + 1):\n",
    "            weight_ij = passengers_dict[i]['weight'] / total_weight\n",
    "\n",
    "            if j % 7 == 0:\n",
    "                x_g += (7 * S[i, j] * weight_ij)\n",
    "                y_g += (j_k * S[i, j] * weight_ij)\n",
    "                j_k += 1\n",
    "            else:\n",
    "                x_g += ((j % 7) * S[i, j] * weight_ij)\n",
    "                y_g += (((j // 7) + 1) * S[i, j] * weight_ij)\n",
    "\n",
    "    m.addConstr(x_g >= 3)\n",
    "    m.addConstr(x_g <= 5)\n",
    "    m.addConstr(y_g >= 13)\n",
    "    m.addConstr(y_g <= 17)\n",
    "\n",
    "    # Disabled passengers occupy 4 spaces on the central aisle\n",
    "    for passenger in passengers_dict:\n",
    "        if passengers_dict[passenger]['gender']=='WCHR':\n",
    "            #Seats are shortened by row (from 7 to 7)\n",
    "            for j in range(1, ns+1-8, 7):             \n",
    "            \n",
    "                x1, x2, x3, x4, x5, x6, x7 = j,j+1,j+2,j+3,j+4,j+5,j+6\n",
    "                \n",
    "                #A seat is fixed in rows 3 or 5.\n",
    "                m.addConstr(S[(passenger, x1)] + S[(passenger, x2)] +  S[(passenger, x6)] + S[(passenger, x7)] ==0 )   \n",
    "                \n",
    "                #The seat overlooking the alley is closed off\n",
    "                m.addConstr(S[(passenger, x3)]+sum(S[(i, x3-1)] for i in passengers_dict) <= 1) \n",
    "                #We close the 2 seats behind\n",
    "                m.addConstr(S[(passenger, x3)]+sum(S[(i, x3+7)] for i in passengers_dict) <= 1) \n",
    "                m.addConstr(S[(passenger, x3)]+sum(S[(i, x3+6)] for i in passengers_dict) <= 1)\n",
    "                #The seat overlooking the alley is closed off\n",
    "                m.addConstr(S[(passenger, x5)]+sum(S[(i, x5+1)] for i in passengers_dict) <= 1) \n",
    "                #We close the 2 seats behind\n",
    "                m.addConstr(S[(passenger, x5)]+sum(S[(i, x5+7)] for i in passengers_dict) <= 1) \n",
    "                m.addConstr(S[(passenger, x5)]+sum(S[(i, x5+8)] for i in passengers_dict) <= 1)\n",
    "            #Disabled passengers cannot be in the last row   \n",
    "            m.addConstr(sum(S[(passenger, k)] for k in range (ns-6, ns+1)) == 0)  \n",
    "\n",
    "    return m, S"
   ]
  },
  {
   "cell_type": "code",
   "execution_count": 45,
   "metadata": {},
   "outputs": [],
   "source": [
    "#Choice of the dictionnary\n",
    "\n",
    "Passengers=Passengers_Oct24"
   ]
  },
  {
   "cell_type": "code",
   "execution_count": 46,
   "metadata": {},
   "outputs": [],
   "source": [
    "# Create models and variables for each date\n",
    "n=len(Passengers)\n",
    "m, S = create_model_and_variables(Passengers)\n"
   ]
  },
  {
   "cell_type": "markdown",
   "metadata": {},
   "source": [
    "Objective functions"
   ]
  },
  {
   "cell_type": "code",
   "execution_count": 47,
   "metadata": {},
   "outputs": [],
   "source": [
    "# Transit passengers are seated at the front of the aircraft\n",
    "def obj_transit(S, passengers_dict):\n",
    "    T = {}\n",
    "\n",
    "    for passenger in passengers_dict:\n",
    "        if passengers_dict[passenger]['connection_time'] > 0:  # transit passenger\n",
    "            T[passenger] = passengers_dict[passenger]['connection_time']\n",
    "\n",
    "    P = list(T.keys())  # returns a list of transit passenger identifiers\n",
    "\n",
    "    f = 0\n",
    "    for k in range(len(P)):\n",
    "        for j in range(1, ns + 1):\n",
    "            q = (j - 1) // 7\n",
    "            f += S[(P[k], j)] * (1 / T[P[k]]) * q\n",
    "\n",
    "    return f\n"
   ]
  },
  {
   "cell_type": "code",
   "execution_count": 48,
   "metadata": {},
   "outputs": [],
   "source": [
    "def seat_coordinates(seats):\n",
    "    coordinates = []\n",
    "    for j in range(len(seats)):\n",
    "        if (seats[j] % 7 == 0):\n",
    "            x = 7\n",
    "            y = (seats[j] // 7) \n",
    "        else:\n",
    "            x = seats[j] % 7\n",
    "            y = (seats[j] // 7) +1 \n",
    "        coordinates.append((x, y))\n",
    "    return coordinates"
   ]
  },
  {
   "cell_type": "code",
   "execution_count": 49,
   "metadata": {},
   "outputs": [],
   "source": [
    "alpha=0.3\n",
    "\n",
    "def obj_dist(Passengers, alpha):\n",
    "\n",
    "    obj = LinExpr()\n",
    "    X={}\n",
    "    Y={}\n",
    "    coord = seat_coordinates([j for j in range(1, ns+1)])\n",
    "    for i in range(1, n + 1):\n",
    "        X[i]=m.addVar(vtype=GRB.INTEGER)\n",
    "        Y[i]=m.addVar(vtype=GRB.INTEGER)\n",
    "\n",
    "        for k in range(i + 1, n + 1):  \n",
    "            if  i!=k and Passengers[i]['group'] == Passengers[k]['group']:  #Si passager i et passager k sont dans le même groupe\n",
    "\n",
    "                xi, yi = 0, 0\n",
    "                xk, yk = 0, 0\n",
    "\n",
    "                for j in range (len(coord)):                                      #On parcourt les sièges\n",
    "                    xi, yi = xi + S[(i,j+1)]*coord[j][0], yi + S[(i,j+1)]*coord[j][1]\n",
    "                    xk, yk =  xk + S[(k,j+1)]*coord[j][0], yk + S[(k,j+1)]*coord[j][1]\n",
    "                \n",
    "                m.addConstr(X[i]>=xi - xk)\n",
    "                m.addConstr(X[i]>= -xi + xk)\n",
    "                m.addConstr(Y[i]>=yi - yk)\n",
    "                m.addConstr(Y[i]>= -yi + yk)\n",
    "                dist_x = X[i] \n",
    "                dist_y = Y[i]\n",
    "                obj += alpha*dist_x + (1-alpha)*dist_y  \n",
    "                \n",
    "    return obj\n",
    "\n"
   ]
  },
  {
   "cell_type": "code",
   "execution_count": 50,
   "metadata": {},
   "outputs": [],
   "source": [
    "\n",
    "m.setObjective(obj_transit(S, Passengers) + obj_dist(Passengers, alpha) , GRB.MINIMIZE)"
   ]
  },
  {
   "cell_type": "code",
   "execution_count": 51,
   "metadata": {},
   "outputs": [
    {
     "data": {
      "text/plain": [
       "<gurobi.Model MIP instance statique: 6163 constrs, 33620 vars, Parameter changes: Username=(user-defined), OutputFlag=0>"
      ]
     },
     "metadata": {},
     "output_type": "display_data"
    }
   ],
   "source": [
    "# Choice of minimalist display settings\n",
    "m.params.outputflag = 0 # mute mode\n",
    "m.update() # Model update\n",
    "display(m) # Text mode display of PL\n",
    "\n"
   ]
  },
  {
   "cell_type": "code",
   "execution_count": 52,
   "metadata": {},
   "outputs": [
    {
     "name": "stdout",
     "output_type": "stream",
     "text": [
      "\n",
      "Seats on the plane are as follows: [(1, 13), (2, 27), (3, 20), (4, 19), (5, 21), (6, 15), (7, 22), (8, 8), (9, 10), (10, 170), (11, 169), (12, 162), (13, 163), (14, 195), (15, 56), (16, 55), (17, 61), (18, 63), (19, 62), (20, 132), (21, 97), (22, 184), (23, 177), (24, 40), (25, 37), (26, 45), (27, 41), (28, 34), (29, 42), (30, 43), (31, 30), (32, 38), (33, 36), (34, 44), (35, 29), (36, 31), (37, 33), (38, 26), (39, 9), (40, 12), (41, 14), (42, 49), (43, 164), (44, 148), (45, 166), (46, 203), (47, 16), (48, 122), (49, 23), (50, 24), (51, 152), (52, 115), (53, 73), (54, 83), (55, 90), (56, 168), (57, 153), (58, 131), (59, 202), (60, 121), (61, 114), (62, 159), (63, 54), (64, 133), (65, 71), (66, 72), (67, 7), (68, 75), (69, 47), (70, 48), (71, 35), (72, 103), (73, 192), (74, 139), (75, 110), (76, 84), (77, 124), (78, 125), (79, 160), (80, 113), (81, 108), (82, 89), (83, 28), (84, 140), (85, 161), (86, 111), (87, 65), (88, 66), (89, 64), (90, 82), (91, 107), (92, 183), (93, 112), (94, 126), (95, 105), (96, 119), (97, 190), (98, 194), (99, 147), (100, 76), (101, 145), (102, 69), (103, 70), (104, 150), (105, 141), (106, 142), (107, 188), (108, 187), (109, 117), (110, 96), (111, 52), (112, 91), (113, 189), (114, 143), (115, 135), (116, 167), (117, 149), (118, 185), (119, 127), (120, 128), (121, 17), (122, 51), (123, 58), (124, 59), (125, 57), (126, 92), (127, 94), (128, 85), (129, 99), (130, 87), (131, 101), (132, 106), (133, 93), (134, 86), (135, 100), (136, 79), (137, 78), (138, 50), (139, 191), (140, 198), (141, 199), (142, 197), (143, 77), (144, 118), (145, 171), (146, 173), (147, 181), (148, 180), (149, 174), (150, 178), (151, 175), (152, 182), (153, 154), (154, 201), (155, 68), (156, 176), (157, 5), (158, 6), (159, 2), (160, 1), (161, 3), (162, 80), (163, 156), (164, 157)]\n"
     ]
    }
   ],
   "source": [
    "#Resolution\n",
    "m.Params.timeLimit = 120.0\n",
    "m.optimize()\n",
    "# Solution display \n",
    "print()\n",
    "print(\"Seats on the plane are as follows:\", [(i, j) for i in range(1, len(Passengers) + 1) for j in range(1, ns + 1) if S[(i, j)].x])\n",
    "\n"
   ]
  },
  {
   "cell_type": "markdown",
   "metadata": {},
   "source": [
    "Visualization of the seats"
   ]
  },
  {
   "cell_type": "code",
   "execution_count": 53,
   "metadata": {},
   "outputs": [
    {
     "data": {
      "image/png": "[encoded data removed]",
      "text/plain": [
       "<Figure size 1000x1000 with 1 Axes>"
      ]
     },
     "metadata": {},
     "output_type": "display_data"
    }
   ],
   "source": [
    "# Creating a variable called seats containing only the j coordinates\n",
    "seats = [j for i in range(1, n + 1) for j in range(1, ns + 1) if S[(i, j)].x]\n",
    "seat_coords = seat_coordinates(seats)\n",
    "\n",
    "\n",
    "# Display the Baricenter\n",
    "\n",
    "def calculate_center_of_mass(seat_coords, Passengers):\n",
    "    x_g = LinExpr()\n",
    "    y_g = LinExpr()\n",
    "    total_weight = quicksum(Passengers[i]['weight'] for i in range(1, n + 1)).getValue()\n",
    "\n",
    "    for i in range(1, n + 1):\n",
    "        j_k = 1\n",
    "\n",
    "        for j in range(1, ns + 1):\n",
    "            weight_ij = Passengers[i]['weight'] / total_weight\n",
    "\n",
    "            if (j % 7 == 0):\n",
    "                x_g += (7 * S[i, j] * weight_ij)\n",
    "                y_g += (j_k * S[i, j] * weight_ij)\n",
    "                j_k += 1\n",
    "            else:\n",
    "                x_g += ((j % 7) * S[i, j] * weight_ij)\n",
    "                y_g += (((j // 7) + 1) * S[i, j] * weight_ij)\n",
    "\n",
    "    return x_g, y_g\n",
    "\n",
    "\n",
    "x_g, y_g = calculate_center_of_mass(seat_coords, Passengers)\n",
    "\n",
    "\n",
    "\n",
    "# Dictionary to count the frequency of each group\n",
    "group_counts = defaultdict(int)\n",
    "\n",
    "# Counting the frequency of each group\n",
    "for passenger in Passengers.values():\n",
    "    group_counts[passenger['group']] += 1\n",
    "# Sort the groups by the number of passengers in each group in descending order\n",
    "sorted_groups = sorted(group_counts.items(), key=lambda x: x[1], reverse=True)\n",
    "\n",
    "# Print the groups in ascending order with the number of passengers in each group\n",
    "#print(\"Groups in ascending order with the number of passengers in each group:\")\n",
    "#for group, count in sorted_groups:\n",
    "#    print(f\"Group {group}: {count} passengers\")\n",
    "\n",
    "# Define shapes for each gender\n",
    "shapes = {\n",
    "    'Femmes': 'o',   # Circule\n",
    "    'Hommes': 's',   # Square\n",
    "    'WCHR': '^'      # Triangule\n",
    "}\n",
    "\n",
    "# Define colors for the groups with 3 passangers\n",
    "colors = {\n",
    "    1: 'red',\n",
    "    4: 'green',\n",
    "    5: 'blue',\n",
    "    14: 'orange',\n",
    "    23: 'purple',\n",
    "    46: 'gray'\n",
    "}\n",
    "\n",
    "plt.figure(figsize=(10, 10))\n",
    "for idx, coord in enumerate(seat_coords):\n",
    "    group = Passengers[idx + 1]['group']\n",
    "    gender = Passengers[idx + 1]['gender']\n",
    "    color = colors.get(group, 'black')  # Get color for the group, default to black if not in colors dictionary\n",
    "    shape = shapes.get(gender, 'o')      # Get shape for the gender, default to circle if not in shapes dictionary\n",
    "    plt.scatter(coord[0], coord[1], color=color, marker=shape)  # Use marker parameter to set the shape\n",
    "    \n",
    "# Add labels for each gender\n",
    "for gender, shape in shapes.items():\n",
    "    plt.scatter([], [], color='black', marker=shape, label=gender)  # Create invisible scatter plot to add label\n",
    "\n",
    "# Plotting the center of mass\n",
    "plt.scatter(x_g.getValue(), y_g.getValue(), color='red', marker='o', s=150)  # Larger red point for center of mass\n",
    "\n",
    "plt.xlabel('Col')\n",
    "plt.ylabel('Row')\n",
    "plt.title('Siege')\n",
    "plt.grid(True)\n",
    "plt.gca().invert_yaxis()\n",
    "plt.legend()  # Show legend with gender labels\n",
    "plt.show()"
   ]
  },
  {
   "cell_type": "markdown",
   "metadata": {},
   "source": [
    "Evaluation de la satisfaction client"
   ]
  },
  {
   "cell_type": "markdown",
   "metadata": {},
   "source": [
    "Première métrique qui évalue la satisfaction des passagers pris un par un.\n",
    "Donc même si le groupe n'est pas bien groupé, si le passager est assis à côté d'au moins un des membres de son groupe, il est satisfait."
   ]
  },
  {
   "cell_type": "code",
   "execution_count": 54,
   "metadata": {},
   "outputs": [
    {
     "ename": "TypeError",
     "evalue": "'float' object is not callable",
     "output_type": "error",
     "traceback": [
      "\u001b[1;31m---------------------------------------------------------------------------\u001b[0m",
      "\u001b[1;31mTypeError\u001b[0m                                 Traceback (most recent call last)",
      "Cell \u001b[1;32mIn[54], line 25\u001b[0m\n\u001b[0;32m     21\u001b[0m                 sat[i] \u001b[38;5;241m=\u001b[39m s\n\u001b[0;32m     23\u001b[0m     \u001b[38;5;28;01mreturn\u001b[39;00m sat\n\u001b[1;32m---> 25\u001b[0m \u001b[38;5;28mprint\u001b[39m ( metrique_groupe_passager()) \n\u001b[0;32m     27\u001b[0m \u001b[38;5;28;01mdef\u001b[39;00m \u001b[38;5;21mmetrique_transit_passager\u001b[39m():\n\u001b[0;32m     28\u001b[0m     sat\u001b[38;5;241m=\u001b[39m {}\n",
      "Cell \u001b[1;32mIn[54], line 16\u001b[0m, in \u001b[0;36mmetrique_groupe_passager\u001b[1;34m()\u001b[0m\n\u001b[0;32m     14\u001b[0m \u001b[38;5;28;01mif\u001b[39;00m yi \u001b[38;5;241m==\u001b[39m yk \u001b[38;5;129;01mand\u001b[39;00m \u001b[38;5;28mmin\u001b[39m([xi, xk]) \u001b[38;5;241m==\u001b[39m \u001b[38;5;28mmax\u001b[39m([xi, xk])\u001b[38;5;241m-\u001b[39m\u001b[38;5;241m1\u001b[39m:\n\u001b[0;32m     15\u001b[0m     s \u001b[38;5;241m=\u001b[39m \u001b[38;5;241m1\u001b[39m\n\u001b[1;32m---> 16\u001b[0m \u001b[38;5;28;01melif\u001b[39;00m xi \u001b[38;5;241m==\u001b[39m xk \u001b[38;5;129;01mand\u001b[39;00m \u001b[38;5;28mmin\u001b[39m([yi, yk]) \u001b[38;5;241m==\u001b[39m \u001b[38;5;28mmax\u001b[39m([yi, yk])\u001b[38;5;241m-\u001b[39m\u001b[38;5;241m1\u001b[39m:\n\u001b[0;32m     17\u001b[0m     s \u001b[38;5;241m=\u001b[39m \u001b[38;5;241m1\u001b[39m\u001b[38;5;241m/\u001b[39m\u001b[38;5;241m2\u001b[39m\n\u001b[0;32m     18\u001b[0m \u001b[38;5;28;01melif\u001b[39;00m yi \u001b[38;5;241m==\u001b[39m yk \u001b[38;5;129;01mand\u001b[39;00m \u001b[38;5;28mmin\u001b[39m([xi, xk]) \u001b[38;5;241m==\u001b[39m \u001b[38;5;241m3\u001b[39m \u001b[38;5;129;01mand\u001b[39;00m \u001b[38;5;28mmax\u001b[39m([xi, xk]) \u001b[38;5;241m==\u001b[39m \u001b[38;5;241m5\u001b[39m:\n",
      "\u001b[1;31mTypeError\u001b[0m: 'float' object is not callable"
     ]
    }
   ],
   "source": [
    "#Première métrique de la satisfaction client (chaque passager pris individuellement)\n",
    "def metrique_groupe_passager():\n",
    "    sat={}\n",
    "    s=0\n",
    "    for i in Passengers:\n",
    "        sat[i]=0\n",
    "        for k in Passengers :\n",
    "            if k !=i and Passengers[i]['group'] == Passengers[k]['group']:\n",
    "                for j in range (1, ns+1):\n",
    "                    if S[(i,j)].x:\n",
    "                        xi, yi = seat_coordinates([j])[0]\n",
    "                    if S[(k,j)].x:\n",
    "                        xk, yk = seat_coordinates([j])[0]\n",
    "                if yi == yk and min([xi, xk]) == max([xi, xk])-1:\n",
    "                    s = 1\n",
    "                elif xi == xk and min([yi, yk]) == max([yi, yk])-1:\n",
    "                    s = 1/2\n",
    "                elif yi == yk and min([xi, xk]) == 3 and max([xi, xk]) == 5:\n",
    "                    s = 1/2\n",
    "            if sat[i] != 1:\n",
    "                sat[i] = s\n",
    "    \n",
    "    return sat\n",
    "\n",
    "print ( metrique_groupe_passager()) \n",
    "\n",
    "def metrique_transit_passager():\n",
    "    sat= {}\n",
    "\n",
    "    for i in Passengers:\n",
    "        #On ne considère que les passagers dont le temps de correspondance est inférieur à 1h30\n",
    "        if Passengers[i]['connection_time'] > 0 and Passengers[i]['connection_time'] <= 90: \n",
    "            for j in range (1, ns+1):\n",
    "                \n",
    "                if S[(i,j)].x:\n",
    "                    x, y = seat_coordinates([j])[0]\n",
    "                    if y <=5:\n",
    "                        sat[i] = 1\n",
    "                    elif y <= 7:\n",
    "                        sat[i] = 0.5\n",
    "                    else:\n",
    "                        sat[i] =0\n",
    "        else :\n",
    "            sat[i]=1\n",
    "                \n",
    "    return sat\n",
    "print (metrique_transit_passager()) \n",
    "\n",
    "def metrique_globale_passager():\n",
    "\n",
    "    sat={}\n",
    "    sat1=metrique_transit_passager()\n",
    "    sat2=metrique_groupe_passager()\n",
    "    satisfaction=0\n",
    "     \n",
    "\n",
    "    for i in Passengers:\n",
    "        sat[i]=(sat1[i]+sat2[i])/2\n",
    "        satisfaction +=sat[i]\n",
    "    satisfaction = satisfaction/len(Passengers)\n",
    "\n",
    "    return satisfaction, sat\n",
    "\n",
    "satisfaction, sat= metrique_globale_passager()\n",
    "\n",
    "print (\"La satisfaction moyenne des clients est de \",satisfaction*100, \"%\" )"
   ]
  },
  {
   "cell_type": "markdown",
   "metadata": {},
   "source": [
    "Deuxième métrique : la satisfaction est évaluée à l'échelle du groupe et de manière strice, c'est à dire que certaines configurations sont jugées satisfaisantes, les autres ne l'étant pas."
   ]
  },
  {
   "cell_type": "code",
   "execution_count": null,
   "metadata": {},
   "outputs": [],
   "source": [
    "#renvoie une liste contenant les indices des passagers dans le groupe de i\n",
    "def groupe(i, Passengers):\n",
    "    G=[]\n",
    "    for k in range(1, n+1):\n",
    "        if Passengers[i]['group'] == Passengers[k]['group']:\n",
    "            G+=[k]\n",
    "    return G\n"
   ]
  },
  {
   "cell_type": "code",
   "execution_count": null,
   "metadata": {},
   "outputs": [
    {
     "name": "stdout",
     "output_type": "stream",
     "text": [
      "{1: [1, 2, 3, 4, 5], 2: [6, 7], 3: [8, 9], 4: [10, 11, 12, 13], 5: [14], 6: [15, 16, 17, 18, 19], 7: [20], 8: [21], 9: [22, 23], 10: [24, 25, 26, 27, 28, 29, 30, 31, 32, 33, 34, 35, 36, 37], 11: [38], 12: [39, 40, 41], 13: [42], 14: [43], 15: [44], 16: [45], 17: [46], 18: [47], 19: [48], 20: [49, 50], 21: [51], 22: [52], 23: [53], 24: [54, 55], 25: [56], 26: [57], 27: [58], 28: [59], 29: [60, 61], 30: [62], 31: [63], 32: [64], 33: [65, 66], 34: [67], 35: [68], 36: [69, 70], 37: [71], 38: [72], 39: [73], 40: [74], 41: [75], 42: [76], 43: [77, 78], 44: [79], 45: [80], 46: [81], 47: [82], 48: [83], 49: [84], 50: [85], 51: [86], 52: [87, 88, 89], 53: [90], 54: [91], 55: [92], 56: [93, 94, 95, 96], 57: [97], 58: [98], 59: [99], 60: [100], 61: [101], 62: [102, 103], 63: [104], 64: [105, 106], 65: [107, 108], 66: [109], 67: [110], 68: [111], 69: [112], 70: [113], 71: [114], 72: [115], 73: [116], 74: [117], 75: [118], 76: [119, 120], 77: [121], 78: [122, 123, 124, 125], 79: [126, 127, 128, 129, 130, 131, 132, 133, 134, 135, 136, 137], 80: [138], 81: [139, 140, 141, 142], 82: [143], 83: [144], 84: [145, 146, 147, 148, 149, 150, 151, 152], 85: [153], 86: [154], 87: [155], 88: [156], 89: [157, 158, 159, 160, 161], 90: [162], 91: [163, 164]}\n"
     ]
    }
   ],
   "source": [
    "#renvoie un dictionnaire dont les groupes sont les clefs et les passagers du groupe les valeurs\n",
    "def group_dict(Passengers):\n",
    "\n",
    "    dic={}\n",
    "    for i in Passengers:\n",
    "        groupi=groupe(i, Passengers)\n",
    "        k=Passengers[i]['group']\n",
    "        if k not in dic:\n",
    "            dic[k]=groupi\n",
    "    return dic\n",
    "\n",
    "print (group_dict(Passengers))\n",
    "  "
   ]
  },
  {
   "cell_type": "code",
   "execution_count": null,
   "metadata": {},
   "outputs": [],
   "source": [
    "def metrique_groupe_stricte (Passengers):\n",
    "    sat={}\n",
    "    \n",
    "    group=group_dict(Passengers)\n",
    "\n",
    "    for g in group:\n",
    "        seats = [j for i in group[g] for j in range(1, ns + 1) if S[(i, j)].x]\n",
    "        group_coord=seat_coordinates(seats)\n",
    "\n",
    "        X=[]\n",
    "        Y=[]\n",
    "        for i in range (len(group[g])):\n",
    "            X += [group_coord [i][0]]\n",
    "            Y += [group_coord [i][1]]\n",
    "            X.sort()\n",
    "            Y.sort()\n",
    "\n",
    "        if len(group[g]) == 1:\n",
    "            sat[g] = 1\n",
    "\n",
    "        #Groupe de 2 passagers : ils doivent être côte à côte. Satisfaction intermédiaire si séparés par allée centrale\n",
    "        if len(group[g]) == 2:\n",
    "            if Y[0] == Y[1]:\n",
    "                if X[1] == X[0]+1:\n",
    "                    sat[g] = 1\n",
    "                elif (3 in X and 5 in X):\n",
    "                    sat[g] = 1/2\n",
    "                else : \n",
    "                    sat[g] = 0\n",
    "\n",
    "            else : \n",
    "                sat[g] = 0\n",
    "\n",
    "        #Groupe de 3 : aligné sur le même rang. Satisfaction max si côtes à côtes, intermédiaire si séparés par allée centrale, nulle sinon\n",
    "        elif len(group[g]) == 3:\n",
    "            if Y[0] == Y[1] and Y[0] == Y[2]:\n",
    "                if X[1] == X[0]+1 and X[2] == X[1]+1:\n",
    "                    sat[g] = 1\n",
    "\n",
    "                elif (X[1] == X[0]+1 or X[2] == X[1]+1) and(3 in X and 5 in X):\n",
    "                    sat[g] = 1/2\n",
    "                else : \n",
    "                    sat[g] = 0\n",
    "            else : \n",
    "                sat[g] = 0\n",
    "\n",
    "        #Groupe de 4 à 6 personnes\n",
    "        elif len(group[g]) <=6 :\n",
    "            if all(y == Y[0] for y in Y):\n",
    "                \n",
    "                if X[len(group[g])-1]-X[0] == len(group):\n",
    "                    sat[g]=1\n",
    "                else:\n",
    "                    sat[g]=1\n",
    "            \n",
    "            elif Y[1]==Y[0]+1:\n",
    "                if (3 in X and 5 not in X) or (5 in X and 3 not in X):\n",
    "                    sat[g]=1/2\n",
    "                else:\n",
    "                    sat[g]=0\n",
    "            else :\n",
    "                sat[g]=0   \n",
    "                \n",
    "        else:\n",
    "            sat[g]=1\n",
    "\n",
    "\n",
    "    return sat        \n",
    "            "
   ]
  },
  {
   "cell_type": "code",
   "execution_count": null,
   "metadata": {},
   "outputs": [],
   "source": [
    "#Retourne une note sur 1 par passager concernant l'objectif de transit\n",
    "def metrique_transit_stricte(Passengers):\n",
    "\n",
    "    sat= {}\n",
    "    \n",
    "\n",
    "    for i in Passengers:\n",
    "        #On ne considère que les passagers dont le temps de correspondance est inférieur à 1h30\n",
    "        if Passengers[i]['connection_time'] > 0 and Passengers[i]['connection_time'] <= 90: \n",
    "            for j in range (1, ns+1):\n",
    "                \n",
    "                if S[(i,j)].x:\n",
    "                    x, y = seat_coordinates([j])[0]\n",
    "                    if y <=5:\n",
    "                        sat[i] = 1\n",
    "                    elif y <= 7:\n",
    "                        sat[i] = 1/2\n",
    "                    elif y <= 10:\n",
    "                        sat[i] = 1/3\n",
    "                    else:\n",
    "                        sat[i] =0\n",
    "        else :\n",
    "            sat[i]=1\n",
    "                \n",
    "    return sat\n",
    "\n"
   ]
  },
  {
   "cell_type": "code",
   "execution_count": 78,
   "metadata": {},
   "outputs": [],
   "source": [
    "def metrique_globale_stricte(Passengers):\n",
    "    sat={}\n",
    "    moyenne=0\n",
    "    sat_groupe=0\n",
    "    sat_transit=0\n",
    "    #Pour fusionner les notes des passagers au regard des deux fonctions objectif, on transforme les notes par groupe pour la fonction groupe en note par passager\n",
    "    sat1={}\n",
    "    s=metrique_groupe_stricte (Passengers)\n",
    "    group_dico=group_dict(Passengers)\n",
    "    for g in group_dico:\n",
    "        sat_groupe += s[g]\n",
    "        passagers = group_dico[g]\n",
    "        for i in passagers:\n",
    "            sat1[i]=s[g]\n",
    "\n",
    "    sat2=metrique_transit_stricte(Passengers)\n",
    "\n",
    "    for i in Passengers:\n",
    "        sat[i]=(sat1[i] + sat2[i])/2\n",
    "        moyenne += sat[i]\n",
    "        sat_transit += sat2[i]\n",
    "        \n",
    "\n",
    "    moyenne = moyenne / len(Passengers)\n",
    "    sat_groupe = sat_groupe / len(s)\n",
    "    sat_transit =sat_transit / len(Passengers)\n",
    "    # print (list(sat.values()))\n",
    "    # m=min(list(sat.values()))\n",
    "    # M=max(list(sat.values()))\n",
    "    return moyenne, sat_transit, sat_groupe\n",
    "\n",
    "    \n",
    "    "
   ]
  },
  {
   "cell_type": "code",
   "execution_count": 79,
   "metadata": {},
   "outputs": [
    {
     "name": "stdout",
     "output_type": "stream",
     "text": [
      "La satisfaction moyenne des passagers est de  88.71951219512195 %\n",
      "0.9725609756097561 0.8846153846153846\n"
     ]
    }
   ],
   "source": [
    "\n",
    "\n",
    "moyenne, s_transit, s_groupe = metrique_globale_stricte(Passengers)\n",
    "\n",
    "# print (\"Le pire niveau de satisfaction est de \", m*100, \"%\")\n",
    "# print (\"Le meilleur niveau de satisfaction est de \", M*100, \"%\")\n",
    "print (\"La satisfaction moyenne des passagers est de \", moyenne*100, \"%\")\n",
    "print (s_transit, s_groupe)\n",
    "\n",
    "\n"
   ]
  }
 ],
 "metadata": {
  "kernelspec": {
   "display_name": "base",
   "language": "python",
   "name": "python3"
  },
  "language_info": {
   "codemirror_mode": {
    "name": "ipython",
    "version": 3
   },
   "file_extension": ".py",
   "mimetype": "text/x-python",
   "name": "python",
   "nbconvert_exporter": "python",
   "pygments_lexer": "ipython3",
   "version": "3.11.5"
  }
 },
 "nbformat": 4,
 "nbformat_minor": 2
}
