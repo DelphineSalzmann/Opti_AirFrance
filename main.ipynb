{
 "cells": [
  {
   "cell_type": "markdown",
   "metadata": {},
   "source": [
    "# Import libraries"
   ]
  },
  {
   "cell_type": "code",
   "execution_count": 1,
   "metadata": {},
   "outputs": [],
   "source": [
    "import numpy as np\n",
    "import pandas as pd\n",
    "import matplotlib.pyplot as plt\n",
    "from gurobipy import *"
   ]
  },
  {
   "cell_type": "markdown",
   "metadata": {},
   "source": [
    "# Read and preprocess data"
   ]
  },
  {
   "cell_type": "code",
   "execution_count": 18,
   "metadata": {},
   "outputs": [],
   "source": [
    "def read(data, spreadsheet):\n",
    "    \n",
    "    df = pd.read_excel(data, spreadsheet)\n",
    "    df = df.iloc[:-2] # Remove the last two rows from the DataFrame\n",
    "\n",
    "    # Create a 'TransitTime (min)' column \n",
    "    df['TransitTime (min)'] = pd.to_datetime(df['TransitTime'], format='%H:%M:%S', errors='coerce').dt.hour * 60 + pd.to_datetime(df['TransitTime'], format='%H:%M:%S', errors='coerce').dt.minute\n",
    "\n",
    "    # Fill missing values with 0\n",
    "    df.fillna(0, inplace= True)\n",
    "\n",
    "    return df"
   ]
  },
  {
   "cell_type": "code",
   "execution_count": 19,
   "metadata": {},
   "outputs": [],
   "source": [
    "df_21Oct = read('data\\Data_seating2024.xlsx', '21Oct')\n",
    "df_22Oct = read('data\\Data_seating2024.xlsx', '22Oct')\n",
    "df_23Oct = read('data\\Data_seating2024.xlsx', '23Oct')\n",
    "df_24Oct = read('data\\Data_seating2024.xlsx', '24Oct')\n",
    "df_30Oct = read('data\\Data_seating2024.xlsx', '30Oct')\n",
    "df_5Nov = read('data\\Data_seating2024.xlsx', '5Nov')\n",
    "df_7Nov = read('data\\Data_seating2024.xlsx', '7Nov')"
   ]
  },
  {
   "cell_type": "markdown",
   "metadata": {},
   "source": [
    "# Variables"
   ]
  },
  {
   "cell_type": "markdown",
   "metadata": {},
   "source": [
    "Passengers : dictionnaire extrait du fichier excel\n",
    "\n",
    "Les sièges sont comptés comme une liste et pas comme une matrice\n",
    "\n",
    "Sij : var. binaire qui à un passager i associe le siège j"
   ]
  },
  {
   "cell_type": "code",
   "execution_count": 2,
   "metadata": {},
   "outputs": [],
   "source": [
    "ranks = 29 #nombre de rangées dans l'avion\n",
    "n = 81 #nombre de passagers\n",
    "\n",
    "def modele_statique():\n",
    "    m=Model('statique')\n",
    "    S = {(i,j) : m.addVar(vtype = GRB.BINARY, name = f'j{i}') for i in range(1, n+1) for j in range (1, 6*ranks+1)}\n",
    "\n",
    "    return m"
   ]
  }
 ],
 "metadata": {
  "kernelspec": {
   "display_name": "base",
   "language": "python",
   "name": "python3"
  },
  "language_info": {
   "codemirror_mode": {
    "name": "ipython",
    "version": 3
   },
   "file_extension": ".py",
   "mimetype": "text/x-python",
   "name": "python",
   "nbconvert_exporter": "python",
   "pygments_lexer": "ipython3",
   "version": "3.11.5"
  }
 },
 "nbformat": 4,
 "nbformat_minor": 2
}
