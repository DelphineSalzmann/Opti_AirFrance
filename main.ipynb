{
 "cells": [
  {
   "cell_type": "markdown",
   "metadata": {},
   "source": [
    "## Import libraries"
   ]
  },
  {
   "cell_type": "code",
   "execution_count": 22,
   "metadata": {},
   "outputs": [],
   "source": [
    "import numpy as np\n",
    "import pandas as pd\n",
    "import matplotlib.pyplot as plt\n",
    "from gurobipy import *\n",
    "from collections import defaultdict\n",
    "import csv\n",
    "from datetime import datetime\n",
    "import os\n"
   ]
  },
  {
   "cell_type": "markdown",
   "metadata": {},
   "source": [
    "## Read and preprocess data\n"
   ]
  },
  {
   "cell_type": "code",
   "execution_count": 23,
   "metadata": {},
   "outputs": [],
   "source": [
    "def load_data(file_path):\n",
    "    data_dict = dict()\n",
    "\n",
    "    with open(file_path) as file:\n",
    "        reader = csv.DictReader(file)\n",
    "        for row in reader:\n",
    "            if row['Numéro du groupe'] != '':\n",
    "                heures, minutes, _ = map(int, row['TransitTime'].split(':')) \n",
    "                total_minutes = heures * 60 + minutes\n",
    "                data_dict[int(float(row['Numéro du groupe']))] = (\n",
    "                    int(float(row['Femmes'])),\n",
    "                    int(float(row['Hommes'])),\n",
    "                    int(float(row['WCHR'])),\n",
    "                    total_minutes\n",
    "                )\n",
    "\n",
    "    return data_dict\n",
    "\n",
    "# Load data for each file\n",
    "\n",
    "file_names = [\"DataSeating 2024.csv\",\"22Oct.csv\",\"23Oct.csv\",\"24Oct.csv\",\"30Oct.csv\", \"5Nov.csv\", \"7Nov.csv\"]\n",
    "data_directory = 'data'\n",
    "# for eachy dictionary : dict[Numéro du groupe : (Femmes, Hommes, WCHR, TransitTime)]\n",
    "Oct21, Oct22,Oct23, Oct24, Oct30, Nov5, Nov7= [load_data(os.path.join(data_directory, file)) for file in file_names]"
   ]
  },
  {
   "cell_type": "markdown",
   "metadata": {},
   "source": [
    "Transforming data to access each passenger's Id\n"
   ]
  },
  {
   "cell_type": "code",
   "execution_count": 24,
   "metadata": {},
   "outputs": [
    {
     "name": "stdout",
     "output_type": "stream",
     "text": [
      "{1: {'gender': 'Femmes', 'group': 1, 'weight': 70, 'connection_time': 0}, 2: {'gender': 'Hommes', 'group': 1, 'weight': 85, 'connection_time': 0}, 3: {'gender': 'Hommes', 'group': 1, 'weight': 85, 'connection_time': 0}, 4: {'gender': 'Hommes', 'group': 2, 'weight': 85, 'connection_time': 60}, 5: {'gender': 'Femmes', 'group': 3, 'weight': 70, 'connection_time': 165}, 6: {'gender': 'Hommes', 'group': 3, 'weight': 85, 'connection_time': 165}, 7: {'gender': 'Femmes', 'group': 4, 'weight': 70, 'connection_time': 0}, 8: {'gender': 'Hommes', 'group': 4, 'weight': 85, 'connection_time': 0}, 9: {'gender': 'WCHR', 'group': 4, 'weight': 100, 'connection_time': 0}, 10: {'gender': 'Femmes', 'group': 5, 'weight': 70, 'connection_time': 0}, 11: {'gender': 'Femmes', 'group': 5, 'weight': 70, 'connection_time': 0}, 12: {'gender': 'Femmes', 'group': 5, 'weight': 70, 'connection_time': 0}, 13: {'gender': 'Femmes', 'group': 6, 'weight': 70, 'connection_time': 0}, 14: {'gender': 'Hommes', 'group': 6, 'weight': 85, 'connection_time': 0}, 15: {'gender': 'Femmes', 'group': 7, 'weight': 70, 'connection_time': 85}, 16: {'gender': 'Hommes', 'group': 7, 'weight': 85, 'connection_time': 85}, 17: {'gender': 'Hommes', 'group': 8, 'weight': 85, 'connection_time': 0}, 18: {'gender': 'Femmes', 'group': 9, 'weight': 70, 'connection_time': 60}, 19: {'gender': 'Femmes', 'group': 9, 'weight': 70, 'connection_time': 60}, 20: {'gender': 'Hommes', 'group': 9, 'weight': 85, 'connection_time': 60}, 21: {'gender': 'Hommes', 'group': 9, 'weight': 85, 'connection_time': 60}, 22: {'gender': 'Femmes', 'group': 10, 'weight': 70, 'connection_time': 0}, 23: {'gender': 'Femmes', 'group': 11, 'weight': 70, 'connection_time': 0}, 24: {'gender': 'Hommes', 'group': 12, 'weight': 85, 'connection_time': 0}, 25: {'gender': 'Hommes', 'group': 12, 'weight': 85, 'connection_time': 0}, 26: {'gender': 'Hommes', 'group': 13, 'weight': 85, 'connection_time': 0}, 27: {'gender': 'Hommes', 'group': 14, 'weight': 85, 'connection_time': 0}, 28: {'gender': 'Hommes', 'group': 14, 'weight': 85, 'connection_time': 0}, 29: {'gender': 'Hommes', 'group': 14, 'weight': 85, 'connection_time': 0}, 30: {'gender': 'Femmes', 'group': 15, 'weight': 70, 'connection_time': 0}, 31: {'gender': 'Femmes', 'group': 15, 'weight': 70, 'connection_time': 0}, 32: {'gender': 'Femmes', 'group': 16, 'weight': 70, 'connection_time': 60}, 33: {'gender': 'Femmes', 'group': 17, 'weight': 70, 'connection_time': 0}, 34: {'gender': 'Femmes', 'group': 18, 'weight': 70, 'connection_time': 0}, 35: {'gender': 'Hommes', 'group': 18, 'weight': 85, 'connection_time': 0}, 36: {'gender': 'Hommes', 'group': 19, 'weight': 85, 'connection_time': 0}, 37: {'gender': 'Femmes', 'group': 20, 'weight': 70, 'connection_time': 0}, 38: {'gender': 'Hommes', 'group': 20, 'weight': 85, 'connection_time': 0}, 39: {'gender': 'Hommes', 'group': 21, 'weight': 85, 'connection_time': 0}, 40: {'gender': 'Hommes', 'group': 22, 'weight': 85, 'connection_time': 0}, 41: {'gender': 'Femmes', 'group': 23, 'weight': 70, 'connection_time': 0}, 42: {'gender': 'Femmes', 'group': 23, 'weight': 70, 'connection_time': 0}, 43: {'gender': 'Hommes', 'group': 23, 'weight': 85, 'connection_time': 0}, 44: {'gender': 'Femmes', 'group': 24, 'weight': 70, 'connection_time': 0}, 45: {'gender': 'Hommes', 'group': 24, 'weight': 85, 'connection_time': 0}, 46: {'gender': 'Femmes', 'group': 26, 'weight': 70, 'connection_time': 0}, 47: {'gender': 'Femmes', 'group': 26, 'weight': 70, 'connection_time': 0}, 48: {'gender': 'Hommes', 'group': 27, 'weight': 85, 'connection_time': 0}, 49: {'gender': 'Hommes', 'group': 28, 'weight': 85, 'connection_time': 0}, 50: {'gender': 'Hommes', 'group': 29, 'weight': 85, 'connection_time': 85}, 51: {'gender': 'Femmes', 'group': 30, 'weight': 70, 'connection_time': 85}, 52: {'gender': 'Hommes', 'group': 30, 'weight': 85, 'connection_time': 85}, 53: {'gender': 'Femmes', 'group': 31, 'weight': 70, 'connection_time': 0}, 54: {'gender': 'Femmes', 'group': 31, 'weight': 70, 'connection_time': 0}, 55: {'gender': 'Hommes', 'group': 31, 'weight': 85, 'connection_time': 0}, 56: {'gender': 'Hommes', 'group': 31, 'weight': 85, 'connection_time': 0}, 57: {'gender': 'Hommes', 'group': 32, 'weight': 85, 'connection_time': 0}, 58: {'gender': 'Hommes', 'group': 32, 'weight': 85, 'connection_time': 0}, 59: {'gender': 'Hommes', 'group': 32, 'weight': 85, 'connection_time': 0}, 60: {'gender': 'Hommes', 'group': 32, 'weight': 85, 'connection_time': 0}, 61: {'gender': 'Hommes', 'group': 32, 'weight': 85, 'connection_time': 0}, 62: {'gender': 'Hommes', 'group': 33, 'weight': 85, 'connection_time': 0}, 63: {'gender': 'Hommes', 'group': 33, 'weight': 85, 'connection_time': 0}, 64: {'gender': 'Hommes', 'group': 33, 'weight': 85, 'connection_time': 0}, 65: {'gender': 'Hommes', 'group': 33, 'weight': 85, 'connection_time': 0}, 66: {'gender': 'Femmes', 'group': 34, 'weight': 70, 'connection_time': 85}, 67: {'gender': 'Hommes', 'group': 34, 'weight': 85, 'connection_time': 85}, 68: {'gender': 'Femmes', 'group': 35, 'weight': 70, 'connection_time': 0}, 69: {'gender': 'Hommes', 'group': 35, 'weight': 85, 'connection_time': 0}, 70: {'gender': 'Femmes', 'group': 36, 'weight': 70, 'connection_time': 60}, 71: {'gender': 'Femmes', 'group': 36, 'weight': 70, 'connection_time': 60}, 72: {'gender': 'Hommes', 'group': 37, 'weight': 85, 'connection_time': 0}, 73: {'gender': 'Hommes', 'group': 38, 'weight': 85, 'connection_time': 0}, 74: {'gender': 'Femmes', 'group': 39, 'weight': 70, 'connection_time': 0}, 75: {'gender': 'WCHR', 'group': 39, 'weight': 100, 'connection_time': 0}, 76: {'gender': 'Femmes', 'group': 40, 'weight': 70, 'connection_time': 0}, 77: {'gender': 'WCHR', 'group': 40, 'weight': 100, 'connection_time': 0}, 78: {'gender': 'Hommes', 'group': 41, 'weight': 85, 'connection_time': 0}, 79: {'gender': 'Hommes', 'group': 42, 'weight': 85, 'connection_time': 165}, 80: {'gender': 'Femmes', 'group': 43, 'weight': 70, 'connection_time': 0}, 81: {'gender': 'Femmes', 'group': 43, 'weight': 70, 'connection_time': 0}, 82: {'gender': 'Femmes', 'group': 43, 'weight': 70, 'connection_time': 0}, 83: {'gender': 'Femmes', 'group': 43, 'weight': 70, 'connection_time': 0}, 84: {'gender': 'Femmes', 'group': 43, 'weight': 70, 'connection_time': 0}, 85: {'gender': 'Femmes', 'group': 44, 'weight': 70, 'connection_time': 85}, 86: {'gender': 'Femmes', 'group': 44, 'weight': 70, 'connection_time': 85}, 87: {'gender': 'Hommes', 'group': 45, 'weight': 85, 'connection_time': 85}, 88: {'gender': 'Femmes', 'group': 46, 'weight': 70, 'connection_time': 0}, 89: {'gender': 'Hommes', 'group': 46, 'weight': 85, 'connection_time': 0}, 90: {'gender': 'Hommes', 'group': 46, 'weight': 85, 'connection_time': 0}, 91: {'gender': 'Femmes', 'group': 47, 'weight': 70, 'connection_time': 0}, 92: {'gender': 'Femmes', 'group': 48, 'weight': 70, 'connection_time': 0}, 93: {'gender': 'WCHR', 'group': 49, 'weight': 100, 'connection_time': 0}, 94: {'gender': 'Femmes', 'group': 50, 'weight': 70, 'connection_time': 0}, 95: {'gender': 'Hommes', 'group': 51, 'weight': 85, 'connection_time': 0}, 96: {'gender': 'Femmes', 'group': 52, 'weight': 70, 'connection_time': 0}, 97: {'gender': 'Femmes', 'group': 53, 'weight': 70, 'connection_time': 0}}\n"
     ]
    }
   ],
   "source": [
    "def create_passengers_dict(data):\n",
    "    passengers_dict = {}\n",
    "    j = 1\n",
    "\n",
    "    for group_num, group_data in data.items():\n",
    "        weights = {'Femmes': 70, 'Hommes': 85, 'WCHR': 100}  # Weight per passenger\n",
    "\n",
    "        # Extracting data\n",
    "        femmes, hommes, wchr, total_minutes = group_data\n",
    "\n",
    "        # Enumerating passengers\n",
    "        for _ in range(femmes + hommes + wchr):\n",
    "            if femmes > 0:\n",
    "                weight = weights['Femmes']\n",
    "                passengers_dict[j] = {'gender': 'Femmes', 'group': group_num, 'weight': weight,\n",
    "                                      'connection_time': total_minutes}\n",
    "                femmes -= 1\n",
    "            elif hommes > 0:\n",
    "                weight = weights['Hommes']\n",
    "                passengers_dict[j] = {'gender': 'Hommes', 'group': group_num, 'weight': weight,\n",
    "                                      'connection_time': total_minutes}\n",
    "                hommes -= 1\n",
    "            else:\n",
    "                weight = weights['WCHR']\n",
    "                passengers_dict[j] = {'gender': 'WCHR', 'group': group_num, 'weight': weight,\n",
    "                                      'connection_time': total_minutes}\n",
    "                wchr -= 1\n",
    "            j += 1\n",
    "\n",
    "    return passengers_dict\n",
    "\n",
    "Passengers_Oct21 = create_passengers_dict(Oct21)\n",
    "Passengers_Oct22 = create_passengers_dict(Oct22)\n",
    "Passengers_Oct23 = create_passengers_dict(Oct23)\n",
    "Passengers_Oct24 = create_passengers_dict(Oct24)\n",
    "Passengers_Oct30 = create_passengers_dict(Oct30)\n",
    "Passengers_Nov5 = create_passengers_dict(Nov5)\n",
    "Passengers_Nov7 = create_passengers_dict(Nov7)\n",
    "\n",
    "# Example usage for Nov5\n",
    "print(Passengers_Nov5)"
   ]
  },
  {
   "cell_type": "markdown",
   "metadata": {},
   "source": [
    "# Static model"
   ]
  },
  {
   "cell_type": "code",
   "execution_count": 25,
   "metadata": {},
   "outputs": [],
   "source": [
    "# Function to create optimization model and variables\n",
    "\n",
    "ranks = 29  # number of rows in the aircraft\n",
    "ns = 7 * ranks  # number of seats\n",
    "\n",
    "def create_model_and_variables(passengers_dict):\n",
    "    n = len(passengers_dict)  # number of passengers\n",
    "\n",
    "    m = Model('statique')  # Model initialization\n",
    "\n",
    "    # Adding variables\n",
    "    S = {(i, j): m.addVar(vtype=GRB.BINARY, name=f'j{i}') for i in range(1, n + 1) for j in range(1, ns + 1)}\n",
    "\n",
    "    # Adding constraints\n",
    "    # Max. 1 seat per passenger\n",
    "    for j in range(1, ns + 1):\n",
    "        m.addConstr(quicksum(S[(i, j)] for i in range(1, n + 1)) <= 1, name=\"PassengerMax\")\n",
    "\n",
    "    # Each passenger has one and only one seat\n",
    "    for i in range(1, n + 1):\n",
    "        m.addConstr(quicksum(S[(i, j)] for j in range(1, ns + 1)) == 1, name=\"SeatMax\")\n",
    "\n",
    "    # The central aisle is left free\n",
    "    for i in range(1, n + 1):\n",
    "        for j in range(1, ns + 1):\n",
    "            if j % 7 == 4:\n",
    "                m.addConstr(S[(i, j)] == 0)\n",
    "\n",
    "    # Baricenter\n",
    "    x_g = LinExpr()\n",
    "    y_g = LinExpr()\n",
    "\n",
    "    total_weight = quicksum(passengers_dict[i]['weight'] for i in range(1, n + 1)).getValue()\n",
    "\n",
    "    for i in range(1, n + 1):\n",
    "        j_k = 1\n",
    "\n",
    "        for j in range(1, ns + 1):\n",
    "            weight_ij = passengers_dict[i]['weight'] / total_weight\n",
    "\n",
    "            if j % 7 == 0:\n",
    "                x_g += (7 * S[i, j] * weight_ij)\n",
    "                y_g += (j_k * S[i, j] * weight_ij)\n",
    "                j_k += 1\n",
    "            else:\n",
    "                x_g += ((j % 7) * S[i, j] * weight_ij)\n",
    "                y_g += (((j // 7) + 1) * S[i, j] * weight_ij)\n",
    "\n",
    "    m.addConstr(x_g >= 3)\n",
    "    m.addConstr(x_g <= 5)\n",
    "    m.addConstr(y_g >= 13)\n",
    "    m.addConstr(y_g <= 17)\n",
    "\n",
    "    # Disabled passengers occupy 4 spaces on the central aisle\n",
    "    for passenger in passengers_dict:\n",
    "        if passengers_dict[passenger]['gender']=='WCHR':\n",
    "            #Seats are shortened by row (from 7 to 7)\n",
    "            for j in range(1, ns+1-8, 7):             \n",
    "            \n",
    "                x1, x2, x3, x4, x5, x6, x7 = j,j+1,j+2,j+3,j+4,j+5,j+6\n",
    "                \n",
    "                #A seat is fixed in rows 3 or 5.\n",
    "                m.addConstr(S[(passenger, x1)] + S[(passenger, x2)] +  S[(passenger, x6)] + S[(passenger, x7)] ==0 )   \n",
    "                \n",
    "                #The seat overlooking the alley is closed off\n",
    "                m.addConstr(S[(passenger, x3)]+sum(S[(i, x3-1)] for i in passengers_dict) <= 1) \n",
    "                #We close the 2 seats behind\n",
    "                m.addConstr(S[(passenger, x3)]+sum(S[(i, x3+7)] for i in passengers_dict) <= 1) \n",
    "                m.addConstr(S[(passenger, x3)]+sum(S[(i, x3+6)] for i in passengers_dict) <= 1)\n",
    "                #The seat overlooking the alley is closed off\n",
    "                m.addConstr(S[(passenger, x5)]+sum(S[(i, x5+1)] for i in passengers_dict) <= 1) \n",
    "                #We close the 2 seats behind\n",
    "                m.addConstr(S[(passenger, x5)]+sum(S[(i, x5+7)] for i in passengers_dict) <= 1) \n",
    "                m.addConstr(S[(passenger, x5)]+sum(S[(i, x5+8)] for i in passengers_dict) <= 1)\n",
    "            #Disabled passengers cannot be in the last row   \n",
    "            m.addConstr(sum(S[(passenger, k)] for k in range (ns-6, ns+1)) == 0)  \n",
    "\n",
    "    return m, S"
   ]
  },
  {
   "cell_type": "code",
<<<<<<< HEAD
   "execution_count": 5,
=======
   "execution_count": 26,
>>>>>>> delphine
   "metadata": {},
   "outputs": [],
   "source": [
    "#Choice of the dictionnary\n",
    "\n",
    "Passengers=Passengers_Oct30"
   ]
  },
  {
   "cell_type": "code",
<<<<<<< HEAD
   "execution_count": 6,
=======
   "execution_count": 27,
>>>>>>> delphine
   "metadata": {},
   "outputs": [
    {
     "name": "stdout",
     "output_type": "stream",
     "text": [
      "Set parameter Username\n"
     ]
    },
    {
     "name": "stdout",
     "output_type": "stream",
     "text": [
      "Academic license - for non-commercial use only - expires 2025-02-04\n"
     ]
    }
   ],
   "source": [
    "# Create models and variables for each date\n",
    "n=len(Passengers)\n",
    "m, S = create_model_and_variables(Passengers)\n"
   ]
  },
  {
   "cell_type": "markdown",
   "metadata": {},
   "source": [
    "Objective functions"
   ]
  },
  {
   "cell_type": "code",
<<<<<<< HEAD
   "execution_count": 7,
=======
   "execution_count": 28,
>>>>>>> delphine
   "metadata": {},
   "outputs": [],
   "source": [
    "# Transit passengers are seated at the front of the aircraft\n",
    "def obj_transit(S, passengers_dict):\n",
    "    T = {}\n",
    "\n",
    "    for passenger in passengers_dict:\n",
    "        if passengers_dict[passenger]['connection_time'] > 0:  # transit passenger\n",
    "            T[passenger] = passengers_dict[passenger]['connection_time']\n",
    "\n",
    "    P = list(T.keys())  # returns a list of transit passenger identifiers\n",
    "\n",
    "    f = 0\n",
    "    for k in range(len(P)):\n",
    "        for j in range(1, ns + 1):\n",
    "            q = (j - 1) // 7\n",
    "            f += S[(P[k], j)] * (1 / T[P[k]]) * q\n",
    "\n",
    "    return f\n"
   ]
  },
  {
   "cell_type": "code",
<<<<<<< HEAD
   "execution_count": 8,
=======
   "execution_count": 29,
>>>>>>> delphine
   "metadata": {},
   "outputs": [],
   "source": [
    "def seat_coordinates(seats):\n",
    "    coordinates = []\n",
    "    for j in range(len(seats)):\n",
    "        if (seats[j] % 7 == 0):\n",
    "            x = 7\n",
    "            y = (seats[j] // 7) \n",
    "        else:\n",
    "            x = seats[j] % 7\n",
    "            y = (seats[j] // 7) +1 \n",
    "        coordinates.append((x, y))\n",
    "    return coordinates"
   ]
  },
  {
   "cell_type": "code",
<<<<<<< HEAD
   "execution_count": 9,
=======
   "execution_count": 30,
>>>>>>> delphine
   "metadata": {},
   "outputs": [],
   "source": [
    "alpha=0.3\n",
    "\n",
    "def obj_dist(Passengers, alpha):\n",
    "\n",
    "    obj = LinExpr()\n",
    "    X={}\n",
    "    Y={}\n",
    "    coord = seat_coordinates([j for j in range(1, ns+1)])\n",
    "    for i in range(1, n + 1):\n",
    "        X[i]=m.addVar(vtype=GRB.INTEGER)\n",
    "        Y[i]=m.addVar(vtype=GRB.INTEGER)\n",
    "\n",
    "        for k in range(i + 1, n + 1):  \n",
    "            if  i!=k and Passengers[i]['group'] == Passengers[k]['group']:  #Si passager i et passager k sont dans le même groupe\n",
    "\n",
    "                xi, yi = 0, 0\n",
    "                xk, yk = 0, 0\n",
    "\n",
    "                for j in range (len(coord)):                                      #On parcourt les sièges\n",
    "                    xi, yi = xi + S[(i,j+1)]*coord[j][0], yi + S[(i,j+1)]*coord[j][1]\n",
    "                    xk, yk =  xk + S[(k,j+1)]*coord[j][0], yk + S[(k,j+1)]*coord[j][1]\n",
    "                \n",
    "                m.addConstr(X[i]>=xi - xk)\n",
    "                m.addConstr(X[i]>= -xi + xk)\n",
    "                m.addConstr(Y[i]>=yi - yk)\n",
    "                m.addConstr(Y[i]>= -yi + yk)\n",
    "                dist_x = X[i] \n",
    "                dist_y = Y[i]\n",
    "                obj += alpha*dist_x + (1-alpha)*dist_y  \n",
    "                \n",
    "    return obj\n",
    "\n"
   ]
  },
  {
   "cell_type": "code",
<<<<<<< HEAD
   "execution_count": 10,
=======
   "execution_count": 31,
>>>>>>> delphine
   "metadata": {},
   "outputs": [],
   "source": [
    "\n",
    "m.setObjective(obj_transit(S, Passengers) + obj_dist(Passengers, alpha) , GRB.MINIMIZE)"
   ]
  },
  {
   "cell_type": "code",
<<<<<<< HEAD
   "execution_count": 11,
=======
   "execution_count": 32,
>>>>>>> delphine
   "metadata": {},
   "outputs": [
    {
     "data": {
      "text/plain": [
       "<gurobi.Model MIP instance statique: 5248 constrs, 23575 vars, Parameter changes: Username=(user-defined), OutputFlag=0>"
      ]
     },
     "metadata": {},
     "output_type": "display_data"
    }
   ],
   "source": [
    "# Choice of minimalist display settings\n",
    "m.params.outputflag = 0 # mute mode\n",
    "m.update() # Model update\n",
    "display(m) # Text mode display of PL\n",
    "\n"
   ]
  },
  {
   "cell_type": "code",
<<<<<<< HEAD
   "execution_count": 12,
=======
   "execution_count": 33,
>>>>>>> delphine
   "metadata": {},
   "outputs": [
    {
     "name": "stdout",
     "output_type": "stream",
     "text": [
      "\n",
<<<<<<< HEAD
      "Seats on the plane are as follows: [(1, 163), (2, 170), (3, 171), (4, 169), (5, 174), (6, 33), (7, 31), (8, 107), (9, 100), (10, 101), (11, 99), (12, 28), (13, 146), (14, 147), (15, 141), (16, 143), (17, 114), (18, 112), (19, 120), (20, 122), (21, 20), (22, 19), (23, 13), (24, 14), (25, 12), (26, 131), (27, 106), (28, 180), (29, 57), (30, 58), (31, 41), (32, 187), (33, 185), (34, 78), (35, 79), (36, 135), (37, 136), (38, 134), (39, 164), (40, 2), (41, 168), (42, 29), (43, 27), (44, 26), (45, 125), (46, 77), (47, 71), (48, 195), (49, 194), (50, 40), (51, 1), (52, 202), (53, 201), (54, 105), (55, 44), (56, 42), (57, 173), (58, 16), (59, 17), (60, 15), (61, 7), (62, 6), (63, 167), (64, 111), (65, 51), (66, 70), (67, 188), (68, 43), (69, 96), (70, 124), (71, 9), (72, 10), (73, 8), (74, 140), (75, 68), (76, 54), (77, 22), (78, 152), (79, 115), (80, 89), (81, 90), (82, 91), (83, 197), (84, 21), (85, 5), (86, 178), (87, 108), (88, 47), (89, 183), (90, 176), (91, 190), (92, 34), (93, 35), (94, 145), (95, 203), (96, 133), (97, 160), (98, 166), (99, 97), (100, 118), (101, 117), (102, 84), (103, 189), (104, 3), (105, 159), (106, 154), (107, 153), (108, 113), (109, 199), (110, 198), (111, 177), (112, 94), (113, 23), (114, 45), (115, 24)]\n"
=======
      "Seats on the plane are as follows: [(1, 104), (2, 111), (3, 112), (4, 110), (5, 50), (6, 33), (7, 31), (8, 135), (9, 128), (10, 127), (11, 129), (12, 26), (13, 69), (14, 70), (15, 68), (16, 66), (17, 103), (18, 173), (19, 117), (20, 115), (21, 9), (22, 8), (23, 2), (24, 3), (25, 1), (26, 150), (27, 75), (28, 64), (29, 61), (30, 62), (31, 41), (32, 136), (33, 138), (34, 199), (35, 198), (36, 160), (37, 159), (38, 161), (39, 56), (40, 16), (41, 190), (42, 29), (43, 20), (44, 19), (45, 131), (46, 142), (47, 187), (48, 167), (49, 166), (50, 59), (51, 12), (52, 196), (53, 195), (54, 80), (55, 183), (56, 42), (57, 180), (58, 23), (59, 22), (60, 24), (61, 14), (62, 13), (63, 189), (64, 171), (65, 77), (66, 155), (67, 125), (68, 71), (69, 113), (70, 105), (71, 6), (72, 7), (73, 5), (74, 57), (75, 87), (76, 89), (77, 27), (78, 140), (79, 133), (80, 100), (81, 101), (82, 99), (83, 170), (84, 21), (85, 10), (86, 184), (87, 63), (88, 148), (89, 48), (90, 49), (91, 47), (92, 35), (93, 34), (94, 174), (95, 191), (96, 118), (97, 40), (98, 169), (99, 203), (100, 163), (101, 162), (102, 91), (103, 58), (104, 15), (105, 134), (106, 181), (107, 182), (108, 36), (109, 202), (110, 201), (111, 79), (112, 168), (113, 28), (114, 54), (115, 17)]\n"
>>>>>>> delphine
     ]
    }
   ],
   "source": [
    "#Resolution\n",
<<<<<<< HEAD
    "m.Params.timeLimit = 120\n",
=======
    "m.Params.timeLimit = 250\n",
>>>>>>> delphine
    "m.optimize()\n",
    "# Solution display \n",
    "print()\n",
    "print(\"Seats on the plane are as follows:\", [(i, j) for i in range(1, len(Passengers) + 1) for j in range(1, ns + 1) if S[(i, j)].x])\n",
    "\n"
   ]
  },
  {
   "cell_type": "markdown",
   "metadata": {},
   "source": [
    "Visualization of the seats"
   ]
  },
  {
   "cell_type": "code",
<<<<<<< HEAD
   "execution_count": 13,
=======
   "execution_count": 46,
>>>>>>> delphine
   "metadata": {},
   "outputs": [
    {
     "data": {
<<<<<<< HEAD
      "image/png": "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",
=======
      "image/png": "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",
>>>>>>> delphine
      "text/plain": [
       "<Figure size 1000x1000 with 1 Axes>"
      ]
     },
     "metadata": {},
     "output_type": "display_data"
    }
   ],
   "source": [
    "# Creating a variable called seats containing only the j coordinates\n",
    "seats = [j for i in range(1, n + 1) for j in range(1, ns + 1) if S[(i, j)].x]\n",
    "seat_coords = seat_coordinates(seats)\n",
    "\n",
    "\n",
    "# Display the Baricenter\n",
    "\n",
    "def calculate_center_of_mass(seat_coords, Passengers):\n",
    "    x_g = LinExpr()\n",
    "    y_g = LinExpr()\n",
    "    total_weight = quicksum(Passengers[i]['weight'] for i in range(1, n + 1)).getValue()\n",
    "\n",
    "    for i in range(1, n + 1):\n",
    "        j_k = 1\n",
    "\n",
    "        for j in range(1, ns + 1):\n",
    "            weight_ij = Passengers[i]['weight'] / total_weight\n",
    "\n",
    "            if (j % 7 == 0):\n",
    "                x_g += (7 * S[i, j] * weight_ij)\n",
    "                y_g += (j_k * S[i, j] * weight_ij)\n",
    "                j_k += 1\n",
    "            else:\n",
    "                x_g += ((j % 7) * S[i, j] * weight_ij)\n",
    "                y_g += (((j // 7) + 1) * S[i, j] * weight_ij)\n",
    "\n",
    "    return x_g, y_g\n",
    "\n",
    "\n",
    "x_g, y_g = calculate_center_of_mass(seat_coords, Passengers)\n",
    "\n",
    "\n",
    "\n",
    "# Dictionary to count the frequency of each group\n",
    "group_counts = defaultdict(int)\n",
    "\n",
    "# Counting the frequency of each group\n",
    "for passenger in Passengers.values():\n",
    "    group_counts[passenger['group']] += 1\n",
    "# Sort the groups by the number of passengers in each group in descending order\n",
    "sorted_groups = sorted(group_counts.items(), key=lambda x: x[1], reverse=True)\n",
    "\n",
    "# Print the groups in ascending order with the number of passengers in each group\n",
    "#print(\"Groups in ascending order with the number of passengers in each group:\")\n",
    "#for group, count in sorted_groups:\n",
    "#    print(f\"Group {group}: {count} passengers\")\n",
    "\n",
    "# Define shapes for each gender\n",
    "shapes = {\n",
    "    'Femmes': 'o',   # Circule\n",
    "    'Hommes': 's',   # Square\n",
    "    'WCHR': '^'      # Triangule\n",
    "}\n",
    "\n",
    "# Define colors for the groups with 3 passangers\n",
    "colors = {\n",
    "    1: 'red',\n",
    "    4: 'green',\n",
    "    5: 'blue',\n",
    "    14: 'orange',\n",
    "    23: 'purple',\n",
    "    46: 'gray',\n",
    "    3: 'yellow',\n",
    "    10: 'cyan',\n",
    "    17: 'peru',\n",
    "    19:'palegreen',\n",
    "    2: 'pink'\n",
    "}\n",
    "\n",
    "plt.figure(figsize=(10, 10))\n",
    "for idx, coord in enumerate(seat_coords):\n",
    "    group = Passengers[idx + 1]['group']\n",
    "    gender = Passengers[idx + 1]['gender']\n",
    "    color = colors.get(group, 'black')  # Get color for the group, default to black if not in colors dictionary\n",
    "    shape = shapes.get(gender, 'o')      # Get shape for the gender, default to circle if not in shapes dictionary\n",
    "    plt.scatter(coord[0], coord[1], color=color, marker=shape,  s=100)  # Use marker parameter to set the shape\n",
    "    \n",
    "# Add labels for each gender\n",
    "for gender, shape in shapes.items():\n",
    "    plt.scatter([], [], color='black', marker=shape, label=gender)  # Create invisible scatter plot to add label\n",
    "\n",
    "# Plotting the center of mass\n",
    "plt.scatter(x_g.getValue(), y_g.getValue(), color='red', marker='o', s=150)  # Larger red point for center of mass\n",
    "\n",
    "plt.xlabel('Col')\n",
    "plt.ylabel('Row')\n",
    "plt.title('Siege')\n",
    "plt.grid(True)\n",
    "plt.gca().invert_yaxis()\n",
    "plt.legend()  # Show legend with gender labels\n",
    "plt.show()"
   ]
  },
  {
   "cell_type": "markdown",
   "metadata": {},
   "source": [
    "Evaluation de la satisfaction client"
   ]
  },
  {
   "cell_type": "markdown",
   "metadata": {},
   "source": [
    "Première métrique qui évalue la satisfaction des passagers pris un par un.\n",
    "Donc même si le groupe n'est pas bien groupé, si le passager est assis à côté d'au moins un des membres de son groupe, il est satisfait."
   ]
  },
  {
   "cell_type": "code",
<<<<<<< HEAD
   "execution_count": 14,
=======
   "execution_count": 35,
>>>>>>> delphine
   "metadata": {},
   "outputs": [
    {
     "name": "stdout",
     "output_type": "stream",
     "text": [
<<<<<<< HEAD
      "{1: 0.5, 2: 1, 3: 1, 4: 1, 5: 1, 6: 1, 7: 0.5, 8: 0.5, 9: 1, 10: 1, 11: 1, 12: 1, 13: 1, 14: 1, 15: 1, 16: 1, 17: 1, 18: 1, 19: 1, 20: 1, 21: 1, 22: 1, 23: 1, 24: 1, 25: 1, 26: 1, 27: 1, 28: 1, 29: 1, 30: 1, 31: 1, 32: 1, 33: 0.5, 34: 1, 35: 1, 36: 1, 37: 1, 38: 1, 39: 1, 40: 1, 41: 1, 42: 1, 43: 1, 44: 1, 45: 1, 46: 1, 47: 1, 48: 1, 49: 1, 50: 1, 51: 1, 52: 1, 53: 1, 54: 1, 55: 1, 56: 1, 57: 1, 58: 1, 59: 1, 60: 1, 61: 1, 62: 1, 63: 1, 64: 1, 65: 1, 66: 1, 67: 1, 68: 1, 69: 1, 70: 1, 71: 1, 72: 1, 73: 1, 74: 1, 75: 1, 76: 1, 77: 1, 78: 1, 79: 1, 80: 1, 81: 1, 82: 1, 83: 1, 84: 1, 85: 1, 86: 1, 87: 1, 88: 1, 89: 1, 90: 0.5, 91: 0.5, 92: 1, 93: 1, 94: 1, 95: 1, 96: 1, 97: 1, 98: 1, 99: 1, 100: 1, 101: 1, 102: 1, 103: 1, 104: 1, 105: 1, 106: 1, 107: 1, 108: 1, 109: 1, 110: 1, 111: 1, 112: 1, 113: 1, 114: 1, 115: 1}\n",
      "{1: 1, 2: 1, 3: 1, 4: 1, 5: 1, 6: 1, 7: 1, 8: 1, 9: 1, 10: 1, 11: 1, 12: 1, 13: 1, 14: 1, 15: 1, 16: 1, 17: 1, 18: 1, 19: 1, 20: 1, 21: 1, 22: 1, 23: 1, 24: 1, 25: 1, 26: 1, 27: 1, 28: 1, 29: 1, 30: 1, 31: 1, 32: 1, 33: 1, 34: 1, 35: 1, 36: 1, 37: 1, 38: 1, 39: 1, 40: 1, 41: 1, 42: 1, 43: 1, 44: 1, 45: 1, 46: 1, 47: 1, 48: 1, 49: 1, 50: 1, 51: 1, 52: 1, 53: 1, 54: 1, 55: 1, 56: 1, 57: 1, 58: 1, 59: 1, 60: 1, 61: 1, 62: 1, 63: 1, 64: 1, 65: 1, 66: 1, 67: 1, 68: 1, 69: 1, 70: 1, 71: 1, 72: 1, 73: 1, 74: 1, 75: 1, 76: 1, 77: 1, 78: 1, 79: 1, 80: 1, 81: 1, 82: 1, 83: 1, 84: 1, 85: 1, 86: 1, 87: 1, 88: 1, 89: 1, 90: 1, 91: 1, 92: 1, 93: 1, 94: 1, 95: 1, 96: 1, 97: 1, 98: 1, 99: 1, 100: 1, 101: 1, 102: 1, 103: 1, 104: 1, 105: 1, 106: 1, 107: 1, 108: 1, 109: 1, 110: 1, 111: 1, 112: 1, 113: 1, 114: 1, 115: 1}\n",
      "La satisfaction moyenne des clients est de  98.69565217391305 %\n"
=======
      "{1: 0.5, 2: 1, 3: 1, 4: 1, 5: 1, 6: 1, 7: 0.5, 8: 0.5, 9: 1, 10: 1, 11: 1, 12: 1, 13: 1, 14: 1, 15: 1, 16: 0.5, 17: 0.5, 18: 0.5, 19: 0.5, 20: 0.5, 21: 1, 22: 1, 23: 1, 24: 1, 25: 1, 26: 1, 27: 1, 28: 1, 29: 1, 30: 1, 31: 1, 32: 1, 33: 0.5, 34: 1, 35: 1, 36: 1, 37: 1, 38: 1, 39: 1, 40: 1, 41: 1, 42: 1, 43: 1, 44: 1, 45: 1, 46: 1, 47: 1, 48: 1, 49: 1, 50: 1, 51: 1, 52: 1, 53: 1, 54: 1, 55: 1, 56: 1, 57: 1, 58: 1, 59: 1, 60: 1, 61: 1, 62: 1, 63: 1, 64: 1, 65: 1, 66: 1, 67: 1, 68: 1, 69: 1, 70: 1, 71: 1, 72: 1, 73: 1, 74: 1, 75: 1, 76: 0.5, 77: 0.5, 78: 0.5, 79: 0.5, 80: 1, 81: 1, 82: 1, 83: 1, 84: 1, 85: 1, 86: 1, 87: 1, 88: 1, 89: 1, 90: 1, 91: 1, 92: 1, 93: 1, 94: 1, 95: 1, 96: 1, 97: 1, 98: 1, 99: 1, 100: 1, 101: 1, 102: 1, 103: 1, 104: 1, 105: 1, 106: 1, 107: 1, 108: 1, 109: 1, 110: 1, 111: 1, 112: 1, 113: 1, 114: 1, 115: 1}\n",
      "{1: 1, 2: 1, 3: 1, 4: 1, 5: 1, 6: 1, 7: 1, 8: 1, 9: 1, 10: 1, 11: 1, 12: 1, 13: 1, 14: 1, 15: 1, 16: 1, 17: 1, 18: 1, 19: 1, 20: 1, 21: 1, 22: 1, 23: 1, 24: 1, 25: 1, 26: 1, 27: 1, 28: 1, 29: 1, 30: 1, 31: 1, 32: 1, 33: 1, 34: 1, 35: 1, 36: 1, 37: 1, 38: 1, 39: 1, 40: 1, 41: 1, 42: 1, 43: 1, 44: 1, 45: 1, 46: 1, 47: 1, 48: 1, 49: 1, 50: 1, 51: 1, 52: 1, 53: 1, 54: 1, 55: 1, 56: 1, 57: 1, 58: 1, 59: 1, 60: 1, 61: 1, 62: 1, 63: 1, 64: 1, 65: 1, 66: 1, 67: 1, 68: 1, 69: 1, 70: 1, 71: 1, 72: 1, 73: 1, 74: 1, 75: 1, 76: 1, 77: 1, 78: 1, 79: 1, 80: 1, 81: 1, 82: 1, 83: 1, 84: 1, 85: 1, 86: 1, 87: 1, 88: 1, 89: 1, 90: 1, 91: 1, 92: 1, 93: 1, 94: 1, 95: 1, 96: 1, 97: 1, 98: 1, 99: 1, 100: 1, 101: 1, 102: 1, 103: 1, 104: 1, 105: 1, 106: 1, 107: 1, 108: 1, 109: 1, 110: 1, 111: 1, 112: 1, 113: 1, 114: 1, 115: 1}\n",
      "La satisfaction moyenne des clients est de  97.17391304347827 %\n"
>>>>>>> delphine
     ]
    }
   ],
   "source": [
    "#Première métrique de la satisfaction client (chaque passager pris individuellement)\n",
    "def metrique_groupe_passager():\n",
    "    sat={}\n",
    "    s=0\n",
    "    for i in Passengers:\n",
    "        sat[i]=0\n",
    "        for k in Passengers :\n",
    "            if k !=i and Passengers[i]['group'] == Passengers[k]['group']:\n",
    "                for j in range (1, ns+1):\n",
    "                    if S[(i,j)].x:\n",
    "                        xi, yi = seat_coordinates([j])[0]\n",
    "                    if S[(k,j)].x:\n",
    "                        xk, yk = seat_coordinates([j])[0]\n",
    "                if yi == yk and min([xi, xk]) == max([xi, xk])-1:\n",
    "                    s = 1\n",
    "                elif xi == xk and min([yi, yk]) == max([yi, yk])-1:\n",
    "                    s = 1/2\n",
    "                elif yi == yk and min([xi, xk]) == 3 and max([xi, xk]) == 5:\n",
    "                    s = 1/2\n",
    "            if sat[i] != 1:\n",
    "                sat[i] = s\n",
    "    \n",
    "    return sat\n",
    "\n",
    "print ( metrique_groupe_passager()) \n",
    "\n",
    "def metrique_transit_passager():\n",
    "    sat= {}\n",
    "\n",
    "    for i in Passengers:\n",
    "        #On ne considère que les passagers dont le temps de correspondance est inférieur à 1h30\n",
    "        if Passengers[i]['connection_time'] > 0 and Passengers[i]['connection_time'] <= 90: \n",
    "            for j in range (1, ns+1):\n",
    "                \n",
    "                if S[(i,j)].x:\n",
    "                    x, y = seat_coordinates([j])[0]\n",
    "                    if y <=5:\n",
    "                        sat[i] = 1\n",
    "                    elif y <= 7:\n",
    "                        sat[i] = 0.5\n",
    "                    else:\n",
    "                        sat[i] =0\n",
    "        else :\n",
    "            sat[i]=1\n",
    "                \n",
    "    return sat\n",
    "print (metrique_transit_passager()) \n",
    "\n",
    "def metrique_globale_passager():\n",
    "\n",
    "    sat={}\n",
    "    sat1=metrique_transit_passager()\n",
    "    sat2=metrique_groupe_passager()\n",
    "    satisfaction=0\n",
    "     \n",
    "\n",
    "    for i in Passengers:\n",
    "        sat[i]=(sat1[i]+sat2[i])/2\n",
    "        satisfaction +=sat[i]\n",
    "    satisfaction = satisfaction/len(Passengers)\n",
    "\n",
    "    return satisfaction, sat\n",
    "\n",
    "satisfaction, sat= metrique_globale_passager()\n",
    "\n",
    "print (\"La satisfaction moyenne des clients est de \",satisfaction*100, \"%\" )"
   ]
  },
  {
   "cell_type": "markdown",
   "metadata": {},
   "source": [
    "Deuxième métrique : la satisfaction est évaluée à l'échelle du groupe et de manière strice, c'est à dire que certaines configurations sont jugées satisfaisantes, les autres ne l'étant pas."
   ]
  },
  {
   "cell_type": "code",
<<<<<<< HEAD
   "execution_count": 15,
=======
   "execution_count": 36,
>>>>>>> delphine
   "metadata": {},
   "outputs": [],
   "source": [
    "#renvoie une liste contenant les indices des passagers dans le groupe de i\n",
    "def groupe(i, Passengers):\n",
    "    G=[]\n",
    "    for k in range(1, n+1):\n",
    "        if Passengers[i]['group'] == Passengers[k]['group']:\n",
    "            G+=[k]\n",
    "    return G\n"
   ]
  },
  {
   "cell_type": "code",
<<<<<<< HEAD
   "execution_count": 16,
=======
   "execution_count": 37,
>>>>>>> delphine
   "metadata": {},
   "outputs": [
    {
     "name": "stdout",
     "output_type": "stream",
     "text": [
      "{1: [1, 2, 3, 4], 2: [5], 3: [6, 7], 4: [8, 9, 10, 11], 5: [12], 6: [13, 14], 7: [15, 16], 8: [17], 9: [18], 10: [19, 20], 11: [21, 22, 23, 24, 25], 12: [26], 13: [27], 14: [28], 15: [29, 30], 16: [31], 17: [32, 33], 18: [34, 35], 19: [36, 37, 38], 20: [39], 21: [40], 22: [41], 23: [42], 24: [43, 44], 25: [45], 26: [46], 27: [47], 28: [48, 49], 29: [50], 30: [51], 31: [52, 53], 32: [54], 33: [55], 34: [56], 35: [57], 36: [58, 59, 60], 37: [61, 62], 38: [63], 39: [64], 40: [65], 41: [66], 42: [67], 43: [68], 44: [69], 45: [70], 46: [71, 72, 73], 47: [74], 48: [75, 76], 49: [77], 50: [78], 51: [79], 52: [80, 81, 82], 53: [83], 54: [84], 55: [85], 56: [86], 57: [87], 58: [88], 59: [89, 90, 91], 60: [92, 93], 61: [94], 62: [95], 63: [96], 64: [97], 65: [98], 66: [99], 67: [100, 101], 68: [102], 69: [103], 70: [104], 71: [105], 72: [106, 107], 73: [108], 74: [109, 110], 75: [111], 76: [112], 77: [113], 78: [114], 79: [115]}\n"
     ]
    }
   ],
   "source": [
    "#renvoie un dictionnaire dont les groupes sont les clefs et les passagers du groupe les valeurs\n",
    "def group_dict(Passengers):\n",
    "\n",
    "    dic={}\n",
    "    for i in Passengers:\n",
    "        groupi=groupe(i, Passengers)\n",
    "        k=Passengers[i]['group']\n",
    "        if k not in dic:\n",
    "            dic[k]=groupi\n",
    "    return dic\n",
    "\n",
    "print (group_dict(Passengers))\n",
    "  "
   ]
  },
  {
   "cell_type": "code",
<<<<<<< HEAD
   "execution_count": 17,
=======
   "execution_count": 38,
>>>>>>> delphine
   "metadata": {},
   "outputs": [],
   "source": [
    "def metrique_groupe_stricte (Passengers):\n",
    "    sat={}\n",
    "    \n",
    "    group=group_dict(Passengers)\n",
    "\n",
    "    for g in group:\n",
    "        seats = [j for i in group[g] for j in range(1, ns + 1) if S[(i, j)].x]\n",
    "        group_coord=seat_coordinates(seats)\n",
    "\n",
    "        X=[]\n",
    "        Y=[]\n",
    "        for i in range (len(group[g])):\n",
    "            X += [group_coord [i][0]]\n",
    "            Y += [group_coord [i][1]]\n",
    "            X.sort()\n",
    "            Y.sort()\n",
    "\n",
    "        if len(group[g]) == 1:\n",
    "            sat[g] = 1\n",
    "\n",
    "        #Groupe de 2 passagers : ils doivent être côte à côte. Satisfaction intermédiaire si séparés par allée centrale\n",
    "        if len(group[g]) == 2:\n",
    "            if Y[0] == Y[1]:\n",
    "                if X[1] == X[0]+1:\n",
    "                    sat[g] = 1\n",
    "                elif (3 in X and 5 in X):\n",
    "                    sat[g] = 1/2\n",
    "                else : \n",
    "                    sat[g] = 0\n",
    "\n",
    "            else : \n",
    "                sat[g] = 0\n",
    "\n",
    "        #Groupe de 3 : aligné sur le même rang. Satisfaction max si côtes à côtes, intermédiaire si séparés par allée centrale, nulle sinon\n",
    "        elif len(group[g]) == 3:\n",
    "            if Y[0] == Y[1] and Y[0] == Y[2]:\n",
    "                if X[1] == X[0]+1 and X[2] == X[1]+1:\n",
    "                    sat[g] = 1\n",
    "\n",
    "                elif (X[1] == X[0]+1 or X[2] == X[1]+1) and(3 in X and 5 in X):\n",
    "                    sat[g] = 1/2\n",
    "                else : \n",
    "                    sat[g] = 0\n",
    "            else : \n",
    "                sat[g] = 0\n",
    "\n",
    "        #Groupe de 4 à 6 personnes\n",
    "        elif len(group[g]) <=6 :\n",
    "            if all(y == Y[0] for y in Y):\n",
    "                \n",
    "                if X[len(group[g])-1]-X[0] == len(group):\n",
    "                    sat[g]=1\n",
    "                else:\n",
    "                    sat[g]=1\n",
    "            \n",
    "            elif Y[1]==Y[0]+1:\n",
    "                if (3 in X and 5 not in X) or (5 in X and 3 not in X):\n",
    "                    sat[g]=1/2\n",
    "                else:\n",
    "                    sat[g]=0\n",
    "            else :\n",
    "                sat[g]=0   \n",
    "                \n",
    "        else:\n",
    "            sat[g]=1\n",
    "\n",
    "\n",
    "    return sat        \n",
    "            "
   ]
  },
  {
   "cell_type": "code",
<<<<<<< HEAD
   "execution_count": 18,
=======
   "execution_count": 39,
>>>>>>> delphine
   "metadata": {},
   "outputs": [],
   "source": [
    "#Retourne une note sur 1 par passager concernant l'objectif de transit\n",
    "def metrique_transit_stricte(Passengers):\n",
    "\n",
    "    sat= {}\n",
    "    \n",
    "\n",
    "    for i in Passengers:\n",
    "        #On ne considère que les passagers dont le temps de correspondance est inférieur à 1h30\n",
    "        if Passengers[i]['connection_time'] > 0 and Passengers[i]['connection_time'] <= 90: \n",
    "            for j in range (1, ns+1):\n",
    "                \n",
    "                if S[(i,j)].x:\n",
    "                    x, y = seat_coordinates([j])[0]\n",
    "                    if y <=5:\n",
    "                        sat[i] = 1\n",
    "                    elif y <= 7:\n",
    "                        sat[i] = 1/2\n",
    "                    elif y <= 10:\n",
    "                        sat[i] = 1/3\n",
    "                    else:\n",
    "                        sat[i] =0\n",
    "        else :\n",
    "            sat[i]=1\n",
    "                \n",
    "    return sat\n",
    "\n"
   ]
  },
  {
   "cell_type": "code",
<<<<<<< HEAD
   "execution_count": 19,
=======
   "execution_count": 40,
>>>>>>> delphine
   "metadata": {},
   "outputs": [],
   "source": [
    "def metrique_globale_stricte(Passengers):\n",
    "    sat={}\n",
    "    moyenne=0\n",
    "    sat_groupe=0\n",
    "    sat_transit=0\n",
    "    #Pour fusionner les notes des passagers au regard des deux fonctions objectif, on transforme les notes par groupe pour la fonction groupe en note par passager\n",
    "    sat1={}\n",
    "    s=metrique_groupe_stricte (Passengers)\n",
    "    group_dico=group_dict(Passengers)\n",
    "    for g in group_dico:\n",
    "        sat_groupe += s[g]\n",
    "        passagers = group_dico[g]\n",
    "        for i in passagers:\n",
    "            sat1[i]=s[g]\n",
    "\n",
    "    sat2=metrique_transit_stricte(Passengers)\n",
    "\n",
    "    for i in Passengers:\n",
    "        sat[i]=(sat1[i] + sat2[i])/2\n",
    "        moyenne += sat[i]\n",
    "        sat_transit += sat2[i]\n",
    "        \n",
    "\n",
    "    moyenne = moyenne / len(Passengers)\n",
    "    sat_groupe = sat_groupe / len(s)\n",
    "    sat_transit =sat_transit / len(Passengers)\n",
    "    # print (list(sat.values()))\n",
    "    # m=min(list(sat.values()))\n",
    "    # M=max(list(sat.values()))\n",
    "    return moyenne, sat_transit, sat_groupe\n",
    "\n",
    "    \n",
    "    "
   ]
  },
  {
   "cell_type": "code",
<<<<<<< HEAD
   "execution_count": 20,
=======
   "execution_count": 41,
>>>>>>> delphine
   "metadata": {},
   "outputs": [
    {
     "name": "stdout",
     "output_type": "stream",
     "text": [
<<<<<<< HEAD
      "La satisfaction moyenne des passagers est de  90.43478260869566 %\n",
      "La satisfaction moyenne des passagers en transit est de  1.0\n",
      "La satisfaction moyenne des groupes est de  0.9050632911392406\n"
=======
      "La satisfaction moyenne des passagers est de  93.04347826086956 %\n",
      "La satisfaction moyenne des passagers en transit est de  1.0\n",
      "La satisfaction moyenne des groupes est de  0.9367088607594937\n"
>>>>>>> delphine
     ]
    }
   ],
   "source": [
    "\n",
    "\n",
    "moyenne, s_transit, s_groupe = metrique_globale_stricte(Passengers)\n",
    "\n",
    "# print (\"Le pire niveau de satisfaction est de \", m*100, \"%\")\n",
    "# print (\"Le meilleur niveau de satisfaction est de \", M*100, \"%\")\n",
    "print (\"La satisfaction moyenne des passagers est de \", moyenne*100, \"%\")\n",
    "print (\"La satisfaction moyenne des passagers en transit est de \", s_transit)\n",
    "print (\"La satisfaction moyenne des groupes est de \", s_groupe)\n",
    "\n"
   ]
  },
  {
   "cell_type": "markdown",
   "metadata": {},
   "source": [
    "Troisième métrique : \"bounding box\""
   ]
  },
  {
   "cell_type": "code",
<<<<<<< HEAD
   "execution_count": 21,
=======
   "execution_count": 42,
>>>>>>> delphine
   "metadata": {},
   "outputs": [
    {
     "data": {
      "text/plain": [
<<<<<<< HEAD
       "(3.8643909254523043,\n",
=======
       "(3.8698257080609997,\n",
>>>>>>> delphine
       " {1: 1.8518518518518516,\n",
       "  2: 1.8518518518518516,\n",
       "  3: 1.8518518518518516,\n",
       "  4: 1.8518518518518516,\n",
       "  5: 5.0,\n",
       "  6: 5,\n",
       "  7: 5,\n",
       "  8: 1.8518518518518516,\n",
       "  9: 1.8518518518518516,\n",
       "  10: 1.8518518518518516,\n",
       "  11: 1.8518518518518516,\n",
       "  12: 5.0,\n",
       "  13: 2.9411764705882355,\n",
       "  14: 2.9411764705882355,\n",
       "  15: 5,\n",
       "  16: 5,\n",
       "  17: 5.0,\n",
       "  18: 5.0,\n",
       "  19: 5,\n",
       "  20: 5,\n",
       "  21: 1.8518518518518516,\n",
       "  22: 1.8518518518518516,\n",
       "  23: 1.8518518518518516,\n",
       "  24: 1.8518518518518516,\n",
       "  25: 1.8518518518518516,\n",
       "  26: 5.0,\n",
       "  27: 5.0,\n",
       "  28: 5.0,\n",
       "  29: 2.9411764705882355,\n",
       "  30: 2.9411764705882355,\n",
       "  31: 5.0,\n",
       "  32: 5,\n",
       "  33: 5,\n",
       "  34: 2.9411764705882355,\n",
       "  35: 2.9411764705882355,\n",
       "  36: 2.0833333333333335,\n",
       "  37: 2.0833333333333335,\n",
       "  38: 2.0833333333333335,\n",
       "  39: 5.0,\n",
       "  40: 5.0,\n",
       "  41: 5.0,\n",
       "  42: 5.0,\n",
       "  43: 2.9411764705882355,\n",
       "  44: 2.9411764705882355,\n",
       "  45: 5.0,\n",
       "  46: 5.0,\n",
       "  47: 5.0,\n",
       "  48: 2.9411764705882355,\n",
       "  49: 2.9411764705882355,\n",
       "  50: 5.0,\n",
       "  51: 5.0,\n",
       "  52: 2.9411764705882355,\n",
       "  53: 2.9411764705882355,\n",
       "  54: 5.0,\n",
       "  55: 5.0,\n",
       "  56: 5.0,\n",
       "  57: 5.0,\n",
       "  58: 2.0833333333333335,\n",
       "  59: 2.0833333333333335,\n",
       "  60: 2.0833333333333335,\n",
       "  61: 2.9411764705882355,\n",
       "  62: 2.9411764705882355,\n",
       "  63: 5.0,\n",
       "  64: 5.0,\n",
       "  65: 5.0,\n",
       "  66: 5.0,\n",
       "  67: 5.0,\n",
       "  68: 5.0,\n",
       "  69: 5.0,\n",
       "  70: 5.0,\n",
       "  71: 2.0833333333333335,\n",
       "  72: 2.0833333333333335,\n",
       "  73: 2.0833333333333335,\n",
       "  74: 5.0,\n",
<<<<<<< HEAD
       "  75: 3.125,\n",
       "  76: 3.125,\n",
=======
       "  75: 5,\n",
       "  76: 5,\n",
>>>>>>> delphine
       "  77: 5.0,\n",
       "  78: 5.0,\n",
       "  79: 5.0,\n",
       "  80: 2.0833333333333335,\n",
       "  81: 2.0833333333333335,\n",
       "  82: 2.0833333333333335,\n",
       "  83: 5.0,\n",
       "  84: 5.0,\n",
       "  85: 5.0,\n",
       "  86: 5.0,\n",
       "  87: 5.0,\n",
       "  88: 5.0,\n",
<<<<<<< HEAD
       "  89: 3.125,\n",
       "  90: 3.125,\n",
       "  91: 3.125,\n",
=======
       "  89: 2.0833333333333335,\n",
       "  90: 2.0833333333333335,\n",
       "  91: 2.0833333333333335,\n",
>>>>>>> delphine
       "  92: 2.9411764705882355,\n",
       "  93: 2.9411764705882355,\n",
       "  94: 5.0,\n",
       "  95: 5.0,\n",
       "  96: 5.0,\n",
       "  97: 5.0,\n",
       "  98: 5.0,\n",
       "  99: 5.0,\n",
       "  100: 2.9411764705882355,\n",
       "  101: 2.9411764705882355,\n",
       "  102: 5.0,\n",
       "  103: 5.0,\n",
       "  104: 5.0,\n",
       "  105: 5.0,\n",
       "  106: 2.9411764705882355,\n",
       "  107: 2.9411764705882355,\n",
       "  108: 5.0,\n",
       "  109: 2.9411764705882355,\n",
       "  110: 2.9411764705882355,\n",
       "  111: 5.0,\n",
       "  112: 5.0,\n",
       "  113: 5.0,\n",
       "  114: 5.0,\n",
       "  115: 5.0})"
      ]
     },
<<<<<<< HEAD
     "execution_count": 21,
=======
     "execution_count": 42,
>>>>>>> delphine
     "metadata": {},
     "output_type": "execute_result"
    }
   ],
   "source": [
    "def ponderation(x,y):\n",
    "\n",
    "    beta= 0.3\n",
    "    den = (1-beta)*x + beta*y + 1\n",
    "   \n",
    "    res = (1/den)*5\n",
    "\n",
    "    return res\n",
    "\n",
    "\n",
    "def metrique_retangule(passengers):\n",
    "    satisfaction_scores = 0 \n",
    "    group_scores = {}  \n",
    "\n",
    "    for i in passengers:\n",
    "        group = groupe(i, passengers)\n",
    "        group_coords = [seat_coords[idx - 1] for idx in group]  \n",
    "\n",
    "\n",
    "        min_x = min(coord[0] for coord in group_coords)\n",
    "        max_x = max(coord[0] for coord in group_coords)\n",
    "\n",
    "\n",
    "        min_y = min(coord[1] for coord in group_coords)\n",
    "        max_y = max(coord[1] for coord in group_coords)\n",
    "       \n",
    "        y_distance = max_y - min_y\n",
    "        x_distance = max_x - min_x\n",
    "\n",
    "        if x_distance == len(group)  and y_distance == 0:\n",
    "            group_scores[i] = 5\n",
    "            satisfaction_scores += 5 \n",
    "        else:\n",
    "            score = ponderation(x_distance, y_distance)\n",
    "            group_scores[i] = score\n",
    "            satisfaction_scores += score\n",
    "\n",
    "    return satisfaction_scores/len(Passengers), group_scores\n",
    "\n",
    "\n",
    "metrique_retangule(Passengers)"
   ]
  }
 ],
 "metadata": {
  "kernelspec": {
   "display_name": "base",
   "language": "python",
   "name": "python3"
  },
  "language_info": {
   "codemirror_mode": {
    "name": "ipython",
    "version": 3
   },
   "file_extension": ".py",
   "mimetype": "text/x-python",
   "name": "python",
   "nbconvert_exporter": "python",
   "pygments_lexer": "ipython3",
   "version": "3.11.5"
  }
 },
 "nbformat": 4,
 "nbformat_minor": 2
}
