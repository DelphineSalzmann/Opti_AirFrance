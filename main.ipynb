{
 "cells": [
  {
   "cell_type": "markdown",
   "metadata": {},
   "source": [
    "## Import libraries"
   ]
  },
  {
   "cell_type": "code",
<<<<<<< HEAD
   "execution_count": 1,
=======
   "execution_count": 4,
>>>>>>> Lucas
   "metadata": {},
   "outputs": [],
   "source": [
    "import numpy as np\n",
    "import pandas as pd\n",
    "import matplotlib.pyplot as plt\n",
    "from gurobipy import *\n",
    "from collections import defaultdict\n",
    "import csv\n",
    "from datetime import datetime\n",
    "import os"
   ]
  },
  {
   "cell_type": "markdown",
   "metadata": {},
   "source": [
    "## Define Functions"
   ]
  },
  {
   "cell_type": "markdown",
   "metadata": {},
   "source": [
    "Read and preprocess data"
   ]
  },
  {
   "cell_type": "code",
<<<<<<< HEAD
   "execution_count": 2,
=======
   "execution_count": 5,
>>>>>>> Lucas
   "metadata": {},
   "outputs": [],
   "source": [
    "def load_data(file_path):\n",
    "    data_dict = dict()\n",
    "\n",
    "    with open(file_path) as file:\n",
    "        reader = csv.DictReader(file)\n",
    "        for row in reader:\n",
    "            if row['Numéro du groupe'] != '':\n",
    "                heures, minutes, _ = map(int, row['TransitTime'].split(':')) \n",
    "                total_minutes = heures * 60 + minutes\n",
    "                data_dict[int(float(row['Numéro du groupe']))] = (\n",
    "                    int(float(row['Femmes'])),\n",
    "                    int(float(row['Hommes'])),\n",
    "                    int(float(row['WCHR'])),\n",
    "                    total_minutes\n",
    "                )\n",
    "\n",
    "    return data_dict"
   ]
  },
  {
   "cell_type": "markdown",
   "metadata": {},
   "source": [
    "Transforming data to access each passenger's Id"
   ]
  },
  {
   "cell_type": "code",
<<<<<<< HEAD
   "execution_count": 3,
=======
   "execution_count": 6,
>>>>>>> Lucas
   "metadata": {},
   "outputs": [
    {
     "name": "stdout",
     "output_type": "stream",
     "text": [
      "{1: {'gender': 'Femmes', 'group': 1, 'weight': 70, 'connection_time': 0}, 2: {'gender': 'Hommes', 'group': 1, 'weight': 85, 'connection_time': 0}, 3: {'gender': 'Hommes', 'group': 1, 'weight': 85, 'connection_time': 0}, 4: {'gender': 'Hommes', 'group': 2, 'weight': 85, 'connection_time': 60}, 5: {'gender': 'Femmes', 'group': 3, 'weight': 70, 'connection_time': 165}, 6: {'gender': 'Hommes', 'group': 3, 'weight': 85, 'connection_time': 165}, 7: {'gender': 'Femmes', 'group': 4, 'weight': 70, 'connection_time': 0}, 8: {'gender': 'Hommes', 'group': 4, 'weight': 85, 'connection_time': 0}, 9: {'gender': 'WCHR', 'group': 4, 'weight': 10000, 'connection_time': 0}, 10: {'gender': 'Femmes', 'group': 5, 'weight': 70, 'connection_time': 0}, 11: {'gender': 'Femmes', 'group': 5, 'weight': 70, 'connection_time': 0}, 12: {'gender': 'Femmes', 'group': 5, 'weight': 70, 'connection_time': 0}, 13: {'gender': 'Femmes', 'group': 6, 'weight': 70, 'connection_time': 0}, 14: {'gender': 'Hommes', 'group': 6, 'weight': 85, 'connection_time': 0}, 15: {'gender': 'Femmes', 'group': 7, 'weight': 70, 'connection_time': 85}, 16: {'gender': 'Hommes', 'group': 7, 'weight': 85, 'connection_time': 85}, 17: {'gender': 'Hommes', 'group': 8, 'weight': 85, 'connection_time': 0}, 18: {'gender': 'Femmes', 'group': 9, 'weight': 70, 'connection_time': 60}, 19: {'gender': 'Femmes', 'group': 9, 'weight': 70, 'connection_time': 60}, 20: {'gender': 'Hommes', 'group': 9, 'weight': 85, 'connection_time': 60}, 21: {'gender': 'Hommes', 'group': 9, 'weight': 85, 'connection_time': 60}, 22: {'gender': 'Femmes', 'group': 10, 'weight': 70, 'connection_time': 0}, 23: {'gender': 'Femmes', 'group': 11, 'weight': 70, 'connection_time': 0}, 24: {'gender': 'Hommes', 'group': 12, 'weight': 85, 'connection_time': 0}, 25: {'gender': 'Hommes', 'group': 12, 'weight': 85, 'connection_time': 0}, 26: {'gender': 'Hommes', 'group': 13, 'weight': 85, 'connection_time': 0}, 27: {'gender': 'Hommes', 'group': 14, 'weight': 85, 'connection_time': 0}, 28: {'gender': 'Hommes', 'group': 14, 'weight': 85, 'connection_time': 0}, 29: {'gender': 'Hommes', 'group': 14, 'weight': 85, 'connection_time': 0}, 30: {'gender': 'Femmes', 'group': 15, 'weight': 70, 'connection_time': 0}, 31: {'gender': 'Femmes', 'group': 15, 'weight': 70, 'connection_time': 0}, 32: {'gender': 'Femmes', 'group': 16, 'weight': 70, 'connection_time': 60}, 33: {'gender': 'Femmes', 'group': 17, 'weight': 70, 'connection_time': 0}, 34: {'gender': 'Femmes', 'group': 18, 'weight': 70, 'connection_time': 0}, 35: {'gender': 'Hommes', 'group': 18, 'weight': 85, 'connection_time': 0}, 36: {'gender': 'Hommes', 'group': 19, 'weight': 85, 'connection_time': 0}, 37: {'gender': 'Femmes', 'group': 20, 'weight': 70, 'connection_time': 0}, 38: {'gender': 'Hommes', 'group': 20, 'weight': 85, 'connection_time': 0}, 39: {'gender': 'Hommes', 'group': 21, 'weight': 85, 'connection_time': 0}, 40: {'gender': 'Hommes', 'group': 22, 'weight': 85, 'connection_time': 0}, 41: {'gender': 'Femmes', 'group': 23, 'weight': 70, 'connection_time': 0}, 42: {'gender': 'Femmes', 'group': 23, 'weight': 70, 'connection_time': 0}, 43: {'gender': 'Hommes', 'group': 23, 'weight': 85, 'connection_time': 0}, 44: {'gender': 'Femmes', 'group': 24, 'weight': 70, 'connection_time': 0}, 45: {'gender': 'Hommes', 'group': 24, 'weight': 85, 'connection_time': 0}, 46: {'gender': 'Femmes', 'group': 26, 'weight': 70, 'connection_time': 0}, 47: {'gender': 'Femmes', 'group': 26, 'weight': 70, 'connection_time': 0}, 48: {'gender': 'Hommes', 'group': 27, 'weight': 85, 'connection_time': 0}, 49: {'gender': 'Hommes', 'group': 28, 'weight': 85, 'connection_time': 0}, 50: {'gender': 'Hommes', 'group': 29, 'weight': 85, 'connection_time': 85}, 51: {'gender': 'Femmes', 'group': 30, 'weight': 70, 'connection_time': 85}, 52: {'gender': 'Hommes', 'group': 30, 'weight': 85, 'connection_time': 85}, 53: {'gender': 'Femmes', 'group': 31, 'weight': 70, 'connection_time': 0}, 54: {'gender': 'Femmes', 'group': 31, 'weight': 70, 'connection_time': 0}, 55: {'gender': 'Hommes', 'group': 31, 'weight': 85, 'connection_time': 0}, 56: {'gender': 'Hommes', 'group': 31, 'weight': 85, 'connection_time': 0}, 57: {'gender': 'Hommes', 'group': 32, 'weight': 85, 'connection_time': 0}, 58: {'gender': 'Hommes', 'group': 32, 'weight': 85, 'connection_time': 0}, 59: {'gender': 'Hommes', 'group': 32, 'weight': 85, 'connection_time': 0}, 60: {'gender': 'Hommes', 'group': 32, 'weight': 85, 'connection_time': 0}, 61: {'gender': 'Hommes', 'group': 32, 'weight': 85, 'connection_time': 0}, 62: {'gender': 'Hommes', 'group': 33, 'weight': 85, 'connection_time': 0}, 63: {'gender': 'Hommes', 'group': 33, 'weight': 85, 'connection_time': 0}, 64: {'gender': 'Hommes', 'group': 33, 'weight': 85, 'connection_time': 0}, 65: {'gender': 'Hommes', 'group': 33, 'weight': 85, 'connection_time': 0}, 66: {'gender': 'Femmes', 'group': 34, 'weight': 70, 'connection_time': 85}, 67: {'gender': 'Hommes', 'group': 34, 'weight': 85, 'connection_time': 85}, 68: {'gender': 'Femmes', 'group': 35, 'weight': 70, 'connection_time': 0}, 69: {'gender': 'Hommes', 'group': 35, 'weight': 85, 'connection_time': 0}, 70: {'gender': 'Femmes', 'group': 36, 'weight': 70, 'connection_time': 60}, 71: {'gender': 'Femmes', 'group': 36, 'weight': 70, 'connection_time': 60}, 72: {'gender': 'Hommes', 'group': 37, 'weight': 85, 'connection_time': 0}, 73: {'gender': 'Hommes', 'group': 38, 'weight': 85, 'connection_time': 0}, 74: {'gender': 'Femmes', 'group': 39, 'weight': 70, 'connection_time': 0}, 75: {'gender': 'WCHR', 'group': 39, 'weight': 10000, 'connection_time': 0}, 76: {'gender': 'Femmes', 'group': 40, 'weight': 70, 'connection_time': 0}, 77: {'gender': 'WCHR', 'group': 40, 'weight': 10000, 'connection_time': 0}, 78: {'gender': 'Hommes', 'group': 41, 'weight': 85, 'connection_time': 0}, 79: {'gender': 'Hommes', 'group': 42, 'weight': 85, 'connection_time': 165}, 80: {'gender': 'Femmes', 'group': 43, 'weight': 70, 'connection_time': 0}, 81: {'gender': 'Femmes', 'group': 43, 'weight': 70, 'connection_time': 0}, 82: {'gender': 'Femmes', 'group': 43, 'weight': 70, 'connection_time': 0}, 83: {'gender': 'Femmes', 'group': 43, 'weight': 70, 'connection_time': 0}, 84: {'gender': 'Femmes', 'group': 43, 'weight': 70, 'connection_time': 0}, 85: {'gender': 'Femmes', 'group': 44, 'weight': 70, 'connection_time': 85}, 86: {'gender': 'Femmes', 'group': 44, 'weight': 70, 'connection_time': 85}, 87: {'gender': 'Hommes', 'group': 45, 'weight': 85, 'connection_time': 85}, 88: {'gender': 'Femmes', 'group': 46, 'weight': 70, 'connection_time': 0}, 89: {'gender': 'Hommes', 'group': 46, 'weight': 85, 'connection_time': 0}, 90: {'gender': 'Hommes', 'group': 46, 'weight': 85, 'connection_time': 0}, 91: {'gender': 'Femmes', 'group': 47, 'weight': 70, 'connection_time': 0}, 92: {'gender': 'Femmes', 'group': 48, 'weight': 70, 'connection_time': 0}, 93: {'gender': 'WCHR', 'group': 49, 'weight': 10000, 'connection_time': 0}, 94: {'gender': 'Femmes', 'group': 50, 'weight': 70, 'connection_time': 0}, 95: {'gender': 'Hommes', 'group': 51, 'weight': 85, 'connection_time': 0}, 96: {'gender': 'Femmes', 'group': 52, 'weight': 70, 'connection_time': 0}, 97: {'gender': 'Femmes', 'group': 53, 'weight': 70, 'connection_time': 0}}\n"
     ]
    }
   ],
   "source": [
    "def create_passengers_dict(data):\n",
    "    passengers_dict = {}\n",
    "    j = 1\n",
    "\n",
    "    for group_num, group_data in data.items():\n",
    "        weights = {'Femmes': 70, 'Hommes': 85, 'WCHR': 10000}  # Weight per passenger\n",
    "\n",
    "        # Extracting data\n",
    "        femmes, hommes, wchr, total_minutes = group_data\n",
    "\n",
    "        # Enumerating passengers\n",
    "        for _ in range(femmes + hommes + wchr):\n",
    "            if femmes > 0:\n",
    "                weight = weights['Femmes']\n",
    "                passengers_dict[j] = {'gender': 'Femmes', 'group': group_num, 'weight': weight,\n",
    "                                      'connection_time': total_minutes}\n",
    "                femmes -= 1\n",
    "            elif hommes > 0:\n",
    "                weight = weights['Hommes']\n",
    "                passengers_dict[j] = {'gender': 'Hommes', 'group': group_num, 'weight': weight,\n",
    "                                      'connection_time': total_minutes}\n",
    "                hommes -= 1\n",
    "            else:\n",
    "                weight = weights['WCHR']\n",
    "                passengers_dict[j] = {'gender': 'WCHR', 'group': group_num, 'weight': weight,\n",
    "                                      'connection_time': total_minutes}\n",
    "                wchr -= 1\n",
    "            j += 1\n",
    "\n",
<<<<<<< HEAD
    "    return passengers_dict\n",
    "\n",
    "Passengers_Oct21 = create_passengers_dict(Oct21)\n",
    "Passengers_Oct22 = create_passengers_dict(Oct22)\n",
    "Passengers_Oct23 = create_passengers_dict(Oct23)\n",
    "Passengers_Oct24 = create_passengers_dict(Oct24)\n",
    "Passengers_Oct30 = create_passengers_dict(Oct30)\n",
    "Passengers_Nov5 = create_passengers_dict(Nov5)\n",
    "Passengers_Nov7 = create_passengers_dict(Nov7)\n",
    "\n",
    "# Example usage for Nov5\n",
    "print(Passengers_Nov5)"
=======
    "    return passengers_dict"
>>>>>>> Lucas
   ]
  },
  {
   "cell_type": "markdown",
   "metadata": {},
   "source": [
    "Create optimization model and variables"
   ]
  },
  {
   "cell_type": "code",
<<<<<<< HEAD
   "execution_count": 4,
=======
   "execution_count": 7,
>>>>>>> Lucas
   "metadata": {},
   "outputs": [],
   "source": [
    "\n",
<<<<<<< HEAD
    "ranks = 29  # number of rows in the aircraft\n",
    "ns = 7 * ranks  # number of seats\n",
    "\n",
    "def create_model_and_variables(passengers_dict):\n",
=======
    "def create_model_and_variables(passengers_dict, ns, selected_date):\n",
>>>>>>> Lucas
    "    n = len(passengers_dict)  # number of passengers\n",
    "\n",
    "    m = Model('statique')  # Model initialization\n",
    "\n",
    "    # Adding variables\n",
    "    S = {(i, j): m.addVar(vtype=GRB.BINARY, name=f'j{i}') for i in range(1, n + 1) for j in range(1, ns + 1)}\n",
    "\n",
    "    # Adding constraints\n",
    "    # Max. 1 seat per passenger\n",
    "    for j in range(1, ns + 1):\n",
    "        m.addConstr(quicksum(S[(i, j)] for i in range(1, n + 1)) <= 1, name=\"PassengerMax\")\n",
    "\n",
    "    # Each passenger has one and only one seat\n",
    "    for i in range(1, n + 1):\n",
    "        m.addConstr(quicksum(S[(i, j)] for j in range(1, ns + 1)) == 1, name=\"SeatMax\")\n",
    "\n",
    "    # The central aisle is left free\n",
    "    for i in range(1, n + 1):\n",
    "        for j in range(1, ns + 1):\n",
    "            if j % 7 == 4:\n",
    "                m.addConstr(S[(i, j)] == 0)\n",
    "\n",
    "\n",
    "    inf = (ranks -4)//2 + (ranks -4)%2\n",
    "    sup = ranks - (ranks-4 //2)\n",
    "\n",
    "    # Baricenter\n",
    "    x_g = LinExpr()\n",
    "    y_g = LinExpr()\n",
    "\n",
    "    total_weight = quicksum(passengers_dict[i]['weight'] for i in range(1, n + 1)).getValue()\n",
    "\n",
    "    for i in range(1, n + 1):\n",
    "        j_k = 1\n",
    "\n",
    "        for j in range(1, ns + 1):\n",
    "            weight_ij = passengers_dict[i]['weight'] / total_weight\n",
    "\n",
    "            if j % 7 == 0:\n",
    "                x_g += (7 * S[i, j] * weight_ij)\n",
    "                y_g += (j_k * S[i, j] * weight_ij)\n",
    "                j_k += 1\n",
    "            else:\n",
    "                x_g += ((j % 7) * S[i, j] * weight_ij)\n",
    "                y_g += (((j // 7) + 1) * S[i, j] * weight_ij)\n",
    "\n",
    "    m.addConstr(x_g >= 3)\n",
    "    m.addConstr(x_g <= 5)\n",
    "    \n",
<<<<<<< HEAD
    "    m.addConstr(y_g >= 13)\n",
    "    m.addConstr(y_g <= 17)\n",
=======
    "    if selected_date == \"Nov7\":\n",
    "        # Additional constraints for Nov7\n",
    "        m.addConstr(y_g >= 16)\n",
    "        m.addConstr(y_g <= 20)\n",
    "    else:\n",
    "        m.addConstr(y_g >= 13)\n",
    "        m.addConstr(y_g <= 17)\n",
>>>>>>> Lucas
    "\n",
    "    # Disabled passengers occupy 4 spaces on the central aisle\n",
    "    for passenger in passengers_dict:\n",
    "        if passengers_dict[passenger]['gender']=='WCHR':\n",
    "            #Seats are shortened by row (from 7 to 7)\n",
<<<<<<< HEAD
    "            for j in range(1, ns+1-8, 7):             \n",
=======
    "            for j in range(1, ns+1-8, 7):        \n",
>>>>>>> Lucas
    "            \n",
    "                x1, x2, x3, x4, x5, x6, x7 = j,j+1,j+2,j+3,j+4,j+5,j+6\n",
    "                \n",
    "                #A seat is fixed in rows 3 or 5.\n",
    "                m.addConstr(S[(passenger, x1)] + S[(passenger, x2)] +  S[(passenger, x6)] + S[(passenger, x7)] ==0 )   \n",
    "                \n",
    "                #The seat overlooking the alley is closed off\n",
    "                m.addConstr(S[(passenger, x3)]+sum(S[(i, x3-1)] for i in passengers_dict) <= 1) \n",
    "                #We close the 2 seats behind\n",
    "                m.addConstr(S[(passenger, x3)]+sum(S[(i, x3+7)] for i in passengers_dict) <= 1) \n",
    "                m.addConstr(S[(passenger, x3)]+sum(S[(i, x3+6)] for i in passengers_dict) <= 1)\n",
    "                #The seat overlooking the alley is closed off\n",
    "                m.addConstr(S[(passenger, x5)]+sum(S[(i, x5+1)] for i in passengers_dict) <= 1) \n",
    "                #We close the 2 seats behind\n",
    "                m.addConstr(S[(passenger, x5)]+sum(S[(i, x5+7)] for i in passengers_dict) <= 1) \n",
    "                m.addConstr(S[(passenger, x5)]+sum(S[(i, x5+8)] for i in passengers_dict) <= 1)\n",
    "            #Disabled passengers cannot be in the last row   \n",
    "            m.addConstr(sum(S[(passenger, k)] for k in range (ns-6, ns+1)) == 0)  \n",
    "\n",
    "    return m, S"
   ]
  },
  {
<<<<<<< HEAD
   "cell_type": "code",
   "execution_count": 71,
   "metadata": {},
   "outputs": [
    {
     "name": "stdout",
     "output_type": "stream",
     "text": [
      "(13, 2)\n",
      "(13, 2)\n"
     ]
    }
   ],
   "source": [
    "\n",
    "def baricenter_limits(nrows):\n",
    "\n",
    "    inf = (ranks -4)//2  + (ranks -4)%2\n",
    "    sup = ranks - (ranks-4 //2)\n",
    "\n",
    "    return inf,sup\n",
    "\n",
    "print(baricenter_limits(29))\n",
    "print(baricenter_limits(35))"
   ]
  },
  {
   "cell_type": "code",
   "execution_count": 5,
=======
   "cell_type": "markdown",
>>>>>>> Lucas
   "metadata": {},
   "source": [
<<<<<<< HEAD
    "#Choice of the dictionnary\n",
    "\n",
    "Passengers=Passengers_Oct24"
   ]
  },
  {
   "cell_type": "code",
   "execution_count": 6,
   "metadata": {},
   "outputs": [
    {
     "name": "stdout",
     "output_type": "stream",
     "text": [
      "Set parameter Username\n",
      "Academic license - for non-commercial use only - expires 2025-03-06\n"
     ]
    }
   ],
   "source": [
    "# Create models and variables for each date\n",
    "n=len(Passengers)\n",
    "m, S = create_model_and_variables(Passengers)\n"
=======
    "### Objective functions"
>>>>>>> Lucas
   ]
  },
  {
   "cell_type": "markdown",
   "metadata": {},
   "source": [
    "Transit passengers are seated at the front of the aircraft"
   ]
  },
  {
   "cell_type": "code",
<<<<<<< HEAD
   "execution_count": 7,
   "metadata": {},
   "outputs": [],
   "source": [
    "# Transit passengers are seated at the front of the aircraft\n",
    "def obj_transit(S, passengers_dict):\n",
=======
   "execution_count": 8,
   "metadata": {},
   "outputs": [],
   "source": [
    "def obj_transit(S, passengers_dict, ns):\n",
>>>>>>> Lucas
    "    T = {}\n",
    "\n",
    "    for passenger in passengers_dict:\n",
    "        if passengers_dict[passenger]['connection_time'] > 0:  # transit passenger\n",
    "            T[passenger] = passengers_dict[passenger]['connection_time']\n",
    "\n",
    "    P = list(T.keys())  # returns a list of transit passenger identifiers\n",
    "\n",
    "    f = 0\n",
    "    for k in range(len(P)):\n",
    "        for j in range(1, ns + 1):\n",
    "            q = (j - 1) // 7\n",
    "            f += S[(P[k], j)] * (1 / T[P[k]]) * q\n",
    "\n",
    "    return f"
   ]
  },
  {
   "cell_type": "markdown",
   "metadata": {},
   "source": [
    "Creates coordinates for the seats"
   ]
  },
  {
   "cell_type": "code",
<<<<<<< HEAD
   "execution_count": 8,
=======
   "execution_count": 9,
>>>>>>> Lucas
   "metadata": {},
   "outputs": [],
   "source": [
    "def seat_coordinates(seats):\n",
    "    coordinates = []\n",
    "    for j in range(len(seats)):\n",
    "        if (seats[j] % 7 == 0):\n",
    "            x = 7\n",
    "            y = (seats[j] // 7) \n",
    "        else:\n",
    "            x = seats[j] % 7\n",
    "            y = (seats[j] // 7) +1 \n",
    "        coordinates.append((x, y))\n",
    "    return coordinates"
   ]
  },
  {
   "cell_type": "markdown",
   "metadata": {},
   "source": [
    "Allocate passengers to the same group"
   ]
  },
  {
   "cell_type": "code",
<<<<<<< HEAD
   "execution_count": 9,
   "metadata": {},
   "outputs": [],
   "source": [
    "alpha=0.3\n",
    "\n",
    "def obj_dist(Passengers, alpha):\n",
=======
   "execution_count": 10,
   "metadata": {},
   "outputs": [],
   "source": [
    "def obj_dist(m, S, Passengers, alpha, ns):\n",
>>>>>>> Lucas
    "\n",
    "    obj = LinExpr()\n",
    "    X={}\n",
    "    Y={}\n",
    "    coord = seat_coordinates([j for j in range(1, ns+1)])\n",
    "    for i in range(1, n + 1):\n",
    "        X[i]=m.addVar(vtype=GRB.INTEGER)\n",
    "        Y[i]=m.addVar(vtype=GRB.INTEGER)\n",
    "\n",
    "        for k in range(i + 1, n + 1):  \n",
    "            if  i!=k and Passengers[i]['group'] == Passengers[k]['group']:  #Si passager i et passager k sont dans le même groupe\n",
    "\n",
    "                xi, yi = 0, 0\n",
    "                xk, yk = 0, 0\n",
    "\n",
    "                for j in range (len(coord)):                                      #On parcourt les sièges\n",
    "                    xi, yi = xi + S[(i,j+1)]*coord[j][0], yi + S[(i,j+1)]*coord[j][1]\n",
    "                    xk, yk =  xk + S[(k,j+1)]*coord[j][0], yk + S[(k,j+1)]*coord[j][1]\n",
    "                \n",
    "                m.addConstr(X[i]>=xi - xk)\n",
    "                m.addConstr(X[i]>= -xi + xk)\n",
    "                m.addConstr(Y[i]>=yi - yk)\n",
    "                m.addConstr(Y[i]>= -yi + yk)\n",
    "                dist_x = X[i] \n",
    "                dist_y = Y[i]\n",
    "                obj += alpha*dist_x + (1-alpha)*dist_y  \n",
    "                \n",
<<<<<<< HEAD
    "    return obj\n",
    "\n"
   ]
  },
  {
   "cell_type": "code",
   "execution_count": 10,
   "metadata": {},
   "outputs": [],
   "source": [
    "\n",
    "m.setObjective(obj_transit(S, Passengers) + obj_dist(Passengers, alpha) , GRB.MINIMIZE)"
   ]
  },
  {
   "cell_type": "code",
   "execution_count": 11,
   "metadata": {},
   "outputs": [
    {
     "data": {
      "text/plain": [
       "<gurobi.Model MIP instance statique: 6163 constrs, 33620 vars, Parameter changes: Username=(user-defined), OutputFlag=0>"
      ]
     },
     "metadata": {},
     "output_type": "display_data"
    }
   ],
   "source": [
    "# Choice of minimalist display settings\n",
    "m.params.outputflag = 0 # mute mode\n",
    "m.update() # Model update\n",
    "display(m) # Text mode display of PL\n",
    "\n"
   ]
  },
  {
   "cell_type": "code",
   "execution_count": 12,
   "metadata": {},
   "outputs": [
    {
     "name": "stdout",
     "output_type": "stream",
     "text": [
      "\n",
      "Seats on the plane for Oct21 are as follows: [(1, 13), (2, 12), (3, 20), (4, 19), (5, 21), (6, 52), (7, 54), (8, 16), (9, 15), (10, 170), (11, 169), (12, 162), (13, 163), (14, 145), (15, 56), (16, 55), (17, 61), (18, 63), (19, 62), (20, 114), (21, 97), (22, 176), (23, 177), (24, 40), (25, 37), (26, 45), (27, 41), (28, 34), (29, 42), (30, 36), (31, 30), (32, 38), (33, 44), (34, 43), (35, 29), (36, 31), (37, 33), (38, 26), (39, 9), (40, 8), (41, 10), (42, 22), (43, 164), (44, 106), (45, 148), (46, 168), (47, 17), (48, 138), (49, 23), (50, 24), (51, 82), (52, 96), (53, 73), (54, 128), (55, 135), (56, 141), (57, 89), (58, 84), (59, 131), (60, 121), (61, 122), (62, 159), (63, 35), (64, 190), (65, 71), (66, 72), (67, 7), (68, 77), (69, 48), (70, 47), (71, 27), (72, 83), (73, 90), (74, 139), (75, 91), (76, 103), (77, 124), (78, 125), (79, 147), (80, 196), (81, 98), (82, 156), (83, 28), (84, 201), (85, 166), (86, 111), (87, 65), (88, 66), (89, 64), (90, 143), (91, 202), (92, 157), (93, 112), (94, 126), (95, 105), (96, 119), (97, 104), (98, 194), (99, 146), (100, 76), (101, 160), (102, 70), (103, 69), (104, 153), (105, 187), (106, 188), (107, 133), (108, 132), (109, 140), (110, 161), (111, 49), (112, 110), (113, 80), (114, 115), (115, 155), (116, 167), (117, 149), (118, 185), (119, 118), (120, 117), (121, 14), (122, 58), (123, 57), (124, 50), (125, 51), (126, 107), (127, 94), (128, 85), (129, 92), (130, 87), (131, 101), (132, 99), (133, 93), (134, 86), (135, 100), (136, 79), (137, 78), (138, 59), (139, 191), (140, 198), (141, 199), (142, 197), (143, 75), (144, 203), (145, 171), (146, 173), (147, 181), (148, 180), (149, 174), (150, 178), (151, 175), (152, 182), (153, 154), (154, 192), (155, 68), (156, 142), (157, 5), (158, 6), (159, 2), (160, 1), (161, 3), (162, 152), (163, 184), (164, 183)]\n"
     ]
    }
   ],
   "source": [
    "#Resolution\n",
    "m.Params.timeLimit = 120.0\n",
    "m.optimize()\n",
    "# Solution display \n",
    "print()\n",
    "print(\"Seats on the plane for Oct21 are as follows:\", [(i, j) for i in range(1, len(Passengers) + 1) for j in range(1, ns + 1) if S[(i, j)].x])\n",
    "\n"
=======
    "    return obj"
   ]
  },
  {
   "cell_type": "markdown",
   "metadata": {},
   "source": [
    "### Visualization functions"
>>>>>>> Lucas
   ]
  },
  {
   "cell_type": "markdown",
   "metadata": {},
   "source": [
    "Display the Baricenter"
   ]
  },
  {
   "cell_type": "code",
<<<<<<< HEAD
   "execution_count": 14,
=======
   "execution_count": 11,
>>>>>>> Lucas
   "metadata": {},
   "outputs": [
    {
     "data": {
      "image/png": "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",
      "text/plain": [
       "<Figure size 1000x1000 with 1 Axes>"
      ]
     },
     "metadata": {},
     "output_type": "display_data"
    }
   ],
   "source": [
<<<<<<< HEAD
    "# Creating a variable called seats containing only the j coordinates\n",
    "seats = [j for i in range(1, n + 1) for j in range(1, ns + 1) if S[(i, j)].x]\n",
    "seat_coords = seat_coordinates(seats)\n",
    "\n",
    "\n",
    "# Display the Baricenter\n",
    "def calculate_center_of_mass(seat_coords, Passengers):\n",
=======
    "def calculate_center_of_mass(S, passengers_dict, ns):\n",
>>>>>>> Lucas
    "    x_g = LinExpr()\n",
    "    y_g = LinExpr()\n",
    "    total_weight = quicksum(Passengers[i]['weight'] for i in range(1, n + 1)).getValue()\n",
    "\n",
    "    for i in range(1, n + 1):\n",
    "        j_k = 1\n",
    "\n",
    "        for j in range(1, ns + 1):\n",
    "            weight_ij = Passengers[i]['weight'] / total_weight\n",
    "\n",
    "            if (j % 7 == 0):\n",
    "                x_g += (7 * S[i, j] * weight_ij)\n",
    "                y_g += (j_k * S[i, j] * weight_ij)\n",
    "                j_k += 1\n",
    "            else:\n",
    "                x_g += ((j % 7) * S[i, j] * weight_ij)\n",
    "                y_g += (((j // 7) + 1) * S[i, j] * weight_ij)\n",
    "\n",
<<<<<<< HEAD
    "    return x_g, y_g\n",
    "\n",
    "\n",
    "x_g, y_g = calculate_center_of_mass(seat_coords, Passengers)\n",
    "\n",
    "\n",
    "\n",
    "# Dictionary to count the frequency of each group\n",
    "group_counts = defaultdict(int)\n",
    "\n",
    "# Counting the frequency of each group\n",
    "for passenger in Passengers.values():\n",
    "    group_counts[passenger['group']] += 1\n",
    "# Sort the groups by the number of passengers in each group in descending order\n",
    "sorted_groups = sorted(group_counts.items(), key=lambda x: x[1], reverse=True)\n",
    "\n",
    "# Print the groups in ascending order with the number of passengers in each group\n",
    "#print(\"Groups in ascending order with the number of passengers in each group:\")\n",
    "#for group, count in sorted_groups:\n",
    "#    print(f\"Group {group}: {count} passengers\")\n",
    "\n",
    "# Define shapes for each gender\n",
    "shapes = {\n",
    "    'Femmes': 'o',   # Circule\n",
    "    'Hommes': 's',   # Square\n",
    "    'WCHR': '^'      # Triangule\n",
    "}\n",
    "\n",
    "# Define colors for the groups with 3 passangers\n",
    "colors = {\n",
    "    1: 'red',\n",
    "    4: 'green',\n",
    "    5: 'blue',\n",
    "    14: 'orange',\n",
    "    23: 'purple',\n",
    "    46: 'gray'\n",
    "}\n",
    "\n",
    "plt.figure(figsize=(10, 10))\n",
    "for idx, coord in enumerate(seat_coords):\n",
    "    group = Passengers[idx + 1]['group']\n",
    "    gender = Passengers[idx + 1]['gender']\n",
    "    color = colors.get(group, 'black')  # Get color for the group, default to black if not in colors dictionary\n",
    "    shape = shapes.get(gender, 'o')      # Get shape for the gender, default to circle if not in shapes dictionary\n",
    "    plt.scatter(coord[0], coord[1], color=color, marker=shape)  # Use marker parameter to set the shape\n",
    "    \n",
    "# Add labels for each gender\n",
    "for gender, shape in shapes.items():\n",
    "    plt.scatter([], [], color='black', marker=shape, label=gender)  # Create invisible scatter plot to add label\n",
    "\n",
    "# Displaying lines and row indices\n",
    "for row_idx in range(1, 30, 1):  \n",
    "    plt.axhline(y=row_idx, color='gray', linestyle='--', linewidth=0.5)  # Adding horizontal lines\n",
    "\n",
    "# Plotting the center of mass\n",
    "plt.scatter(x_g.getValue(), y_g.getValue(), color='red', marker='o', s=150)  # Larger red point for center of mass\n",
    "\n",
    "plt.xlabel('Col')\n",
    "plt.ylabel('Row')\n",
    "plt.title('Siege')\n",
    "plt.grid(True)\n",
    "plt.gca().invert_yaxis()\n",
    "plt.legend()  # Show legend with gender labels\n",
    "plt.show()"
   ]
  },
  {
   "cell_type": "markdown",
   "metadata": {},
   "source": [
    "Evaluation de la satisfaction client"
   ]
  },
  {
   "cell_type": "code",
   "execution_count": 15,
   "metadata": {},
   "outputs": [
    {
     "name": "stdout",
     "output_type": "stream",
     "text": [
      "[1, 2, 3, 4, 5]\n"
     ]
    }
   ],
   "source": [
    "#renvoie une liste contenant les indices des passagers dans le groupe de i\n",
    "def groupe(i, Passengers):\n",
    "    G=[]\n",
    "    for k in range(1, n+1):\n",
    "        if Passengers[i]['group'] == Passengers[k]['group']:\n",
    "            G+=[k]\n",
    "    return G\n",
    "\n",
    "print (groupe(1,Passengers))"
   ]
  },
  {
   "cell_type": "code",
   "execution_count": 64,
   "metadata": {},
   "outputs": [
    {
     "data": {
      "text/plain": [
       "(545.7245144467091,\n",
       " {1: 1.8518518518518516,\n",
       "  2: 1.8518518518518516,\n",
       "  3: 1.8518518518518516,\n",
       "  4: 1.8518518518518516,\n",
       "  5: 1.8518518518518516,\n",
       "  6: 5,\n",
       "  7: 5,\n",
       "  8: 2.9411764705882355,\n",
       "  9: 2.9411764705882355,\n",
       "  10: 2.5,\n",
       "  11: 2.5,\n",
       "  12: 2.5,\n",
       "  13: 2.5,\n",
       "  14: 5.0,\n",
       "  15: 1.8518518518518516,\n",
       "  16: 1.8518518518518516,\n",
       "  17: 1.8518518518518516,\n",
       "  18: 1.8518518518518516,\n",
       "  19: 1.8518518518518516,\n",
       "  20: 5.0,\n",
       "  21: 5.0,\n",
       "  22: 2.9411764705882355,\n",
       "  23: 2.9411764705882355,\n",
       "  24: 0.8620689655172415,\n",
       "  25: 0.8620689655172415,\n",
       "  26: 0.8620689655172415,\n",
       "  27: 0.8620689655172415,\n",
       "  28: 0.8620689655172415,\n",
       "  29: 0.8620689655172415,\n",
       "  30: 0.8620689655172415,\n",
       "  31: 0.8620689655172415,\n",
       "  32: 0.8620689655172415,\n",
       "  33: 0.8620689655172415,\n",
       "  34: 0.8620689655172415,\n",
       "  35: 0.8620689655172415,\n",
       "  36: 0.8620689655172415,\n",
       "  37: 0.8620689655172415,\n",
       "  38: 5.0,\n",
       "  39: 2.0833333333333335,\n",
       "  40: 2.0833333333333335,\n",
       "  41: 2.0833333333333335,\n",
       "  42: 5.0,\n",
       "  43: 5.0,\n",
       "  44: 5.0,\n",
       "  45: 5.0,\n",
       "  46: 5.0,\n",
       "  47: 5.0,\n",
       "  48: 5.0,\n",
       "  49: 2.9411764705882355,\n",
       "  50: 2.9411764705882355,\n",
       "  51: 5.0,\n",
       "  52: 5.0,\n",
       "  53: 5.0,\n",
       "  54: 3.846153846153846,\n",
       "  55: 3.846153846153846,\n",
       "  56: 5.0,\n",
       "  57: 5.0,\n",
       "  58: 5.0,\n",
       "  59: 5.0,\n",
       "  60: 2.9411764705882355,\n",
       "  61: 2.9411764705882355,\n",
       "  62: 5.0,\n",
       "  63: 5.0,\n",
       "  64: 5.0,\n",
       "  65: 2.9411764705882355,\n",
       "  66: 2.9411764705882355,\n",
       "  67: 5.0,\n",
       "  68: 5.0,\n",
       "  69: 2.9411764705882355,\n",
       "  70: 2.9411764705882355,\n",
       "  71: 5.0,\n",
       "  72: 5.0,\n",
       "  73: 5.0,\n",
       "  74: 5.0,\n",
       "  75: 5.0,\n",
       "  76: 5.0,\n",
       "  77: 2.9411764705882355,\n",
       "  78: 2.9411764705882355,\n",
       "  79: 5.0,\n",
       "  80: 5.0,\n",
       "  81: 5.0,\n",
       "  82: 5.0,\n",
       "  83: 5.0,\n",
       "  84: 5.0,\n",
       "  85: 5.0,\n",
       "  86: 5.0,\n",
       "  87: 2.0833333333333335,\n",
       "  88: 2.0833333333333335,\n",
       "  89: 2.0833333333333335,\n",
       "  90: 5.0,\n",
       "  91: 5.0,\n",
       "  92: 5.0,\n",
       "  93: 2.631578947368421,\n",
       "  94: 2.631578947368421,\n",
       "  95: 2.631578947368421,\n",
       "  96: 2.631578947368421,\n",
       "  97: 5.0,\n",
       "  98: 5.0,\n",
       "  99: 5.0,\n",
       "  100: 5.0,\n",
       "  101: 5.0,\n",
       "  102: 2.9411764705882355,\n",
       "  103: 2.9411764705882355,\n",
       "  104: 5.0,\n",
       "  105: 2.9411764705882355,\n",
       "  106: 2.9411764705882355,\n",
       "  107: 2.9411764705882355,\n",
       "  108: 2.9411764705882355,\n",
       "  109: 5.0,\n",
       "  110: 5.0,\n",
       "  111: 5.0,\n",
       "  112: 5.0,\n",
       "  113: 5.0,\n",
       "  114: 5.0,\n",
       "  115: 5.0,\n",
       "  116: 5.0,\n",
       "  117: 5.0,\n",
       "  118: 5.0,\n",
       "  119: 2.9411764705882355,\n",
       "  120: 2.9411764705882355,\n",
       "  121: 5.0,\n",
       "  122: 2.5,\n",
       "  123: 2.5,\n",
       "  124: 2.5,\n",
       "  125: 2.5,\n",
       "  126: 1.3888888888888888,\n",
       "  127: 1.3888888888888888,\n",
       "  128: 1.3888888888888888,\n",
       "  129: 1.3888888888888888,\n",
       "  130: 1.3888888888888888,\n",
       "  131: 1.3888888888888888,\n",
       "  132: 1.3888888888888888,\n",
       "  133: 1.3888888888888888,\n",
       "  134: 1.3888888888888888,\n",
       "  135: 1.3888888888888888,\n",
       "  136: 1.3888888888888888,\n",
       "  137: 1.3888888888888888,\n",
       "  138: 5.0,\n",
       "  139: 1.8518518518518516,\n",
       "  140: 1.8518518518518516,\n",
       "  141: 1.8518518518518516,\n",
       "  142: 1.8518518518518516,\n",
       "  143: 5.0,\n",
       "  144: 5.0,\n",
       "  145: 1.2195121951219514,\n",
       "  146: 1.2195121951219514,\n",
       "  147: 1.2195121951219514,\n",
       "  148: 1.2195121951219514,\n",
       "  149: 1.2195121951219514,\n",
       "  150: 1.2195121951219514,\n",
       "  151: 1.2195121951219514,\n",
       "  152: 1.2195121951219514,\n",
       "  153: 5.0,\n",
       "  154: 5.0,\n",
       "  155: 5.0,\n",
       "  156: 5.0,\n",
       "  157: 5,\n",
       "  158: 5,\n",
       "  159: 5,\n",
       "  160: 5,\n",
       "  161: 5,\n",
       "  162: 5.0,\n",
       "  163: 2.9411764705882355,\n",
       "  164: 2.9411764705882355})"
      ]
     },
     "execution_count": 64,
     "metadata": {},
     "output_type": "execute_result"
    }
   ],
   "source": [
    "def ponderation(x,y):\n",
    "\n",
    "    beta= 0.3\n",
    "    den = (1-beta)*x + beta*y + 1\n",
    "   \n",
    "    res = (1/den)*5\n",
    "\n",
    "    return res\n",
    "\n",
    "\n",
    "def metrique_retangule(passengers):\n",
    "    satisfaction_scores = 0 \n",
    "    group_scores = {}  \n",
    "\n",
    "    for i in passengers:\n",
    "        group = groupe(i, passengers)\n",
    "        group_coords = [seat_coords[idx - 1] for idx in group]  \n",
    "\n",
    "\n",
    "        min_x = min(coord[0] for coord in group_coords)\n",
    "        max_x = max(coord[0] for coord in group_coords)\n",
    "\n",
    "\n",
    "        min_y = min(coord[1] for coord in group_coords)\n",
    "        max_y = max(coord[1] for coord in group_coords)\n",
    "       \n",
    "        y_distance = max_y - min_y\n",
    "        x_distance = max_x - min_x\n",
    "\n",
    "        if x_distance == len(group)  and y_distance == 0:\n",
    "            group_scores[i] = 5\n",
    "            satisfaction_scores += 5 \n",
    "        else:\n",
    "            score = ponderation(x_distance, y_distance)\n",
    "            group_scores[i] = score\n",
    "            satisfaction_scores += score\n",
    "\n",
    "    return satisfaction_scores, group_scores\n",
    "\n",
    "\n",
    "metrique_retangule(Passengers)"
   ]
  },
  {
   "cell_type": "code",
   "execution_count": 66,
   "metadata": {},
   "outputs": [
    {
     "data": {
      "text/plain": [
       "1.8518518518518516"
      ]
     },
     "execution_count": 66,
     "metadata": {},
     "output_type": "execute_result"
    }
   ],
   "source": [
    "def metrique_retangule_2(passengers):\n",
    "    satisfaction_scores = 0 \n",
    "\n",
    "    for i in passengers:\n",
    "        group = groupe(i, passengers)\n",
    "        group_coords = [seat_coords[idx - 1] for idx in group]  \n",
    "\n",
    "        \n",
    "        min_x = min(coord[0] for coord in group_coords)\n",
    "        max_x = max(coord[0] for coord in group_coords)\n",
    "\n",
    "\n",
    "        min_y = min(coord[1] for coord in group_coords)\n",
    "        max_y = max(coord[1] for coord in group_coords)\n",
    "\n",
    "        \n",
    "        x_distance = max_x - min_x\n",
    "        y_distance = max_y - min_y\n",
    "\n",
    "        if(x_distance == len(group) and y_distance == 0):\n",
    "                satisfaction_scores += 5 \n",
    "        else:\n",
    "            satisfaction_scores += ponderation(x_distance, y_distance)\n",
    "\n",
    "        return satisfaction_scores\n",
    "\n",
    "\n",
    "metrique_retangule_2(Passengers)"
   ]
  },
  {
   "cell_type": "code",
   "execution_count": 16,
   "metadata": {},
   "outputs": [
    {
     "ename": "SyntaxError",
     "evalue": "incomplete input (786669628.py, line 21)",
     "output_type": "error",
     "traceback": [
      "\u001b[1;36m  Cell \u001b[1;32mIn[16], line 21\u001b[1;36m\u001b[0m\n\u001b[1;33m    \u001b[0m\n\u001b[1;37m    ^\u001b[0m\n\u001b[1;31mSyntaxError\u001b[0m\u001b[1;31m:\u001b[0m incomplete input\n"
     ]
    }
   ],
   "source": [
    "def metrique_groupe (Passengers):\n",
    "    sat={}\n",
    "\n",
    "    for i in Passengers:\n",
    "\n",
    "        group=groupe(i,Passengers)\n",
    "        group_coord=seat_coordinates(group)\n",
    "        if len(group) == 2:\n",
    "            if group_coord [0][1] == group_coord [1][1]:\n",
    "                sat[i] = 2.5\n",
    "\n",
    "                if (group_coord [0][0] == group_coord [1][0] + 1) or (group_coord [0][0] == group_coord [1][0] - 1):\n",
    "                    sat[i] += 2.5\n",
    "\n",
    "            else : \n",
    "                sat[i] = 0\n",
    "\n",
    "        elif len(group) == 3:\n",
    "\n",
    "                \n",
    "            "
   ]
  },
  {
   "cell_type": "code",
   "execution_count": 17,
   "metadata": {},
   "outputs": [
    {
     "ename": "SyntaxError",
     "evalue": "invalid syntax (3091158755.py, line 13)",
     "output_type": "error",
     "traceback": [
      "\u001b[1;36m  Cell \u001b[1;32mIn[17], line 13\u001b[1;36m\u001b[0m\n\u001b[1;33m    elif\u001b[0m\n\u001b[1;37m        ^\u001b[0m\n\u001b[1;31mSyntaxError\u001b[0m\u001b[1;31m:\u001b[0m invalid syntax\n"
     ]
    }
   ],
   "source": [
    "def metrique_grossière(Passengers):\n",
    "\n",
    "    sat=0\n",
    "\n",
    "    for i in Passengers:\n",
    "        if Passengers[i]['connection_time'] > 0 :\n",
    "            for j in range (1, ns+1):\n",
    "                \n",
    "                if S[(i,j)].x:\n",
    "                    x, y = seat_coordinates([j])\n",
    "                    if y <=5:\n",
    "                        sat += 5\n",
    "                    elif\n",
    "                \n",
    "    return sat"
   ]
  },
  {
   "cell_type": "code",
   "execution_count": null,
   "metadata": {},
   "outputs": [],
   "source": []
=======
    "    return x_g, y_g"
   ]
  },
  {
   "cell_type": "markdown",
   "metadata": {},
   "source": [
    "Plot the results"
   ]
  },
  {
   "cell_type": "code",
   "execution_count": 12,
   "metadata": {},
   "outputs": [],
   "source": [
    "def plot_seating(passengers_dict, seat_coords, x_g, y_g):\n",
    "    # Counting the frequency of each group\n",
    "    group_counts = defaultdict(int)\n",
    "\n",
    "    for passenger in passengers_dict.values():\n",
    "        group_counts[passenger['group']] += 1\n",
    "\n",
    "    # Sort the groups by the number of passengers in each group in descending order\n",
    "    sorted_groups = sorted(group_counts.items(), key=lambda x: x[1], reverse=True)\n",
    "\n",
    "    # Define shapes for each gender\n",
    "    shapes = {\n",
    "        'Femmes': 'o',   # Circle\n",
    "        'Hommes': 's',     # Square\n",
    "        'WCHR': '^'     # Triangle\n",
    "    }\n",
    "\n",
    "    # Define colors for the groups with 3 passangers\n",
    "    colors = {\n",
    "        23: 'red',\n",
    "        9: 'green',\n",
    "        29: 'blue',\n",
    "        30: 'darkorange',\n",
    "        36: 'purple',\n",
    "        44: 'gray',\n",
    "        7: 'cyan',\n",
    "        3 : 'springgreen',\n",
    "        16: 'yellow',\n",
    "        42: 'saddlebrown',\n",
    "        46: 'deeppink'\n",
    "    }\n",
    "\n",
    "    plt.figure(figsize=(10, 10))\n",
    "    for idx, coord in enumerate(seat_coords):\n",
    "        group = passengers_dict[idx + 1]['group']\n",
    "        gender = passengers_dict[idx + 1]['gender']\n",
    "        color = colors.get(group, 'black')  # Get color for the group, default to black if not in colors dictionary\n",
    "        shape = shapes.get(gender, 'o')      # Get shape for the gender, default to circle if not in shapes dictionary\n",
    "        plt.scatter(coord[0], coord[1], color=color, marker=shape)  # Use marker parameter to set the shape\n",
    "\n",
    "    # Add labels for each gender\n",
    "    for gender, shape in shapes.items():\n",
    "        plt.scatter([], [], color='black', marker=shape, label=gender)  # Create invisible scatter plot to add label\n",
    "\n",
    "    # Plotting the center of mass\n",
    "    plt.scatter(x_g.getValue(), y_g.getValue(), color='red', marker='o', label=\"center of mass\", s=150)  # Larger red point for center of mass\n",
    "\n",
    "    plt.xlabel('Col')\n",
    "    plt.ylabel('Row')\n",
    "    plt.title('Seat')\n",
    "    plt.grid(True)\n",
    "    plt.gca().invert_yaxis()\n",
    "    plt.legend()\n",
    "    plt.show()"
   ]
  },
  {
   "cell_type": "markdown",
   "metadata": {},
   "source": [
    "### Evaluation functions"
   ]
  },
  {
   "cell_type": "markdown",
   "metadata": {},
   "source": [
    "Returns a list containing the indices of the passengers in i's group"
   ]
  },
  {
   "cell_type": "code",
   "execution_count": null,
   "metadata": {},
   "outputs": [],
   "source": [
    "def groupe(i, Passengers):\n",
    "    G=[]\n",
    "    for k in range(1, len(Passengers)+1):\n",
    "        if Passengers[i]['group'] == Passengers[k]['group']:\n",
    "            G+=[k]\n",
    "    return G"
   ]
  },
  {
   "cell_type": "markdown",
   "metadata": {},
   "source": [
    "Ponderation"
   ]
  },
  {
   "cell_type": "code",
   "execution_count": null,
   "metadata": {},
   "outputs": [],
   "source": [
    "def ponderation(x,y):\n",
    "\n",
    "    beta= 0.3\n",
    "    den = (1-beta)*x + beta*y + 1\n",
    "   \n",
    "    res = (1/den)*5\n",
    "\n",
    "    return res"
   ]
  },
  {
   "cell_type": "code",
   "execution_count": null,
   "metadata": {},
   "outputs": [],
   "source": []
  },
  {
   "cell_type": "markdown",
   "metadata": {},
   "source": [
    "## Read data\n"
   ]
  },
  {
   "cell_type": "code",
   "execution_count": 13,
   "metadata": {},
   "outputs": [],
   "source": [
    "# Load data for each file\n",
    "\n",
    "file_names = [\"DataSeating 2024.csv\",\"22Oct.csv\",\"23Oct.csv\",\"24Oct.csv\",\"30Oct.csv\", \"5Nov.csv\", \"7Nov.csv\"]\n",
    "data_directory = 'data'\n",
    "# for eachy dictionary : dict[Numéro du groupe : (Femmes, Hommes, WCHR, TransitTime)]\n",
    "Oct21, Oct22,Oct23, Oct24, Oct30, Nov5, Nov7= [load_data(os.path.join(data_directory, file)) for file in file_names]"
   ]
  },
  {
   "cell_type": "markdown",
   "metadata": {},
   "source": [
    "# Static model"
   ]
  },
  {
   "cell_type": "markdown",
   "metadata": {},
   "source": [
    "Parameters"
   ]
  },
  {
   "cell_type": "code",
   "execution_count": 14,
   "metadata": {},
   "outputs": [],
   "source": [
    "ranks = 29  # number of rows in the aircraft\n",
    "number_of_seats = 7 * ranks \n",
    " \n",
    "# We need a bigger aircraft for Nov7:\n",
    "ranks_Nov7 = 35  # number of rows in the aircraft\n",
    "number_of_seats_Nov7 = 7 * ranks_Nov7 \n",
    "\n",
    "alpha=0.3"
   ]
  },
  {
   "cell_type": "markdown",
   "metadata": {},
   "source": [
    "User input for date selection - Select the data you want to analyze!"
   ]
  },
  {
   "cell_type": "code",
   "execution_count": 15,
   "metadata": {},
   "outputs": [
    {
     "name": "stdout",
     "output_type": "stream",
     "text": [
      "Analyzing data for Oct24\n",
      "{1: {'gender': 'Femmes', 'group': 1, 'weight': 70, 'connection_time': 70}, 2: {'gender': 'Hommes', 'group': 1, 'weight': 85, 'connection_time': 70}, 3: {'gender': 'Hommes', 'group': 1, 'weight': 85, 'connection_time': 70}, 4: {'gender': 'Hommes', 'group': 1, 'weight': 85, 'connection_time': 70}, 5: {'gender': 'Hommes', 'group': 1, 'weight': 85, 'connection_time': 70}, 6: {'gender': 'Femmes', 'group': 2, 'weight': 70, 'connection_time': 70}, 7: {'gender': 'Hommes', 'group': 2, 'weight': 85, 'connection_time': 70}, 8: {'gender': 'Femmes', 'group': 3, 'weight': 70, 'connection_time': 60}, 9: {'gender': 'Hommes', 'group': 3, 'weight': 85, 'connection_time': 60}, 10: {'gender': 'Femmes', 'group': 4, 'weight': 70, 'connection_time': 0}, 11: {'gender': 'Femmes', 'group': 4, 'weight': 70, 'connection_time': 0}, 12: {'gender': 'Hommes', 'group': 4, 'weight': 85, 'connection_time': 0}, 13: {'gender': 'Hommes', 'group': 4, 'weight': 85, 'connection_time': 0}, 14: {'gender': 'Femmes', 'group': 5, 'weight': 70, 'connection_time': 0}, 15: {'gender': 'Hommes', 'group': 6, 'weight': 85, 'connection_time': 120}, 16: {'gender': 'Hommes', 'group': 6, 'weight': 85, 'connection_time': 120}, 17: {'gender': 'Hommes', 'group': 6, 'weight': 85, 'connection_time': 120}, 18: {'gender': 'Hommes', 'group': 6, 'weight': 85, 'connection_time': 120}, 19: {'gender': 'Hommes', 'group': 6, 'weight': 85, 'connection_time': 120}, 20: {'gender': 'Hommes', 'group': 7, 'weight': 85, 'connection_time': 0}, 21: {'gender': 'Hommes', 'group': 8, 'weight': 85, 'connection_time': 0}, 22: {'gender': 'Femmes', 'group': 9, 'weight': 70, 'connection_time': 0}, 23: {'gender': 'Hommes', 'group': 9, 'weight': 85, 'connection_time': 0}, 24: {'gender': 'Femmes', 'group': 10, 'weight': 70, 'connection_time': 90}, 25: {'gender': 'Femmes', 'group': 10, 'weight': 70, 'connection_time': 90}, 26: {'gender': 'Femmes', 'group': 10, 'weight': 70, 'connection_time': 90}, 27: {'gender': 'Femmes', 'group': 10, 'weight': 70, 'connection_time': 90}, 28: {'gender': 'Hommes', 'group': 10, 'weight': 85, 'connection_time': 90}, 29: {'gender': 'Hommes', 'group': 10, 'weight': 85, 'connection_time': 90}, 30: {'gender': 'Hommes', 'group': 10, 'weight': 85, 'connection_time': 90}, 31: {'gender': 'Hommes', 'group': 10, 'weight': 85, 'connection_time': 90}, 32: {'gender': 'Hommes', 'group': 10, 'weight': 85, 'connection_time': 90}, 33: {'gender': 'Hommes', 'group': 10, 'weight': 85, 'connection_time': 90}, 34: {'gender': 'Hommes', 'group': 10, 'weight': 85, 'connection_time': 90}, 35: {'gender': 'Hommes', 'group': 10, 'weight': 85, 'connection_time': 90}, 36: {'gender': 'Hommes', 'group': 10, 'weight': 85, 'connection_time': 90}, 37: {'gender': 'Hommes', 'group': 10, 'weight': 85, 'connection_time': 90}, 38: {'gender': 'Femmes', 'group': 11, 'weight': 70, 'connection_time': 90}, 39: {'gender': 'Femmes', 'group': 12, 'weight': 70, 'connection_time': 65}, 40: {'gender': 'Hommes', 'group': 12, 'weight': 85, 'connection_time': 65}, 41: {'gender': 'Hommes', 'group': 12, 'weight': 85, 'connection_time': 65}, 42: {'gender': 'Femmes', 'group': 13, 'weight': 70, 'connection_time': 95}, 43: {'gender': 'Hommes', 'group': 14, 'weight': 85, 'connection_time': 0}, 44: {'gender': 'Hommes', 'group': 15, 'weight': 85, 'connection_time': 0}, 45: {'gender': 'Hommes', 'group': 16, 'weight': 85, 'connection_time': 0}, 46: {'gender': 'Femmes', 'group': 17, 'weight': 70, 'connection_time': 0}, 47: {'gender': 'Hommes', 'group': 18, 'weight': 85, 'connection_time': 70}, 48: {'gender': 'Femmes', 'group': 19, 'weight': 70, 'connection_time': 0}, 49: {'gender': 'Femmes', 'group': 20, 'weight': 70, 'connection_time': 80}, 50: {'gender': 'Hommes', 'group': 20, 'weight': 85, 'connection_time': 80}, 51: {'gender': 'Hommes', 'group': 21, 'weight': 85, 'connection_time': 0}, 52: {'gender': 'Hommes', 'group': 22, 'weight': 85, 'connection_time': 0}, 53: {'gender': 'Femmes', 'group': 23, 'weight': 70, 'connection_time': 445}, 54: {'gender': 'Femmes', 'group': 24, 'weight': 70, 'connection_time': 0}, 55: {'gender': 'Femmes', 'group': 24, 'weight': 70, 'connection_time': 0}, 56: {'gender': 'Femmes', 'group': 25, 'weight': 70, 'connection_time': 0}, 57: {'gender': 'Hommes', 'group': 26, 'weight': 85, 'connection_time': 0}, 58: {'gender': 'Hommes', 'group': 27, 'weight': 85, 'connection_time': 0}, 59: {'gender': 'Femmes', 'group': 28, 'weight': 70, 'connection_time': 0}, 60: {'gender': 'Femmes', 'group': 29, 'weight': 70, 'connection_time': 0}, 61: {'gender': 'Hommes', 'group': 29, 'weight': 85, 'connection_time': 0}, 62: {'gender': 'Femmes', 'group': 30, 'weight': 70, 'connection_time': 0}, 63: {'gender': 'Femmes', 'group': 31, 'weight': 70, 'connection_time': 95}, 64: {'gender': 'Femmes', 'group': 32, 'weight': 70, 'connection_time': 0}, 65: {'gender': 'Femmes', 'group': 33, 'weight': 70, 'connection_time': 210}, 66: {'gender': 'Hommes', 'group': 33, 'weight': 85, 'connection_time': 210}, 67: {'gender': 'Femmes', 'group': 34, 'weight': 70, 'connection_time': 60}, 68: {'gender': 'Femmes', 'group': 35, 'weight': 70, 'connection_time': 140}, 69: {'gender': 'Femmes', 'group': 36, 'weight': 70, 'connection_time': 120}, 70: {'gender': 'Hommes', 'group': 36, 'weight': 85, 'connection_time': 120}, 71: {'gender': 'Hommes', 'group': 37, 'weight': 85, 'connection_time': 90}, 72: {'gender': 'Hommes', 'group': 38, 'weight': 85, 'connection_time': 0}, 73: {'gender': 'Femmes', 'group': 39, 'weight': 70, 'connection_time': 0}, 74: {'gender': 'Hommes', 'group': 40, 'weight': 85, 'connection_time': 0}, 75: {'gender': 'Hommes', 'group': 41, 'weight': 85, 'connection_time': 0}, 76: {'gender': 'Hommes', 'group': 42, 'weight': 85, 'connection_time': 0}, 77: {'gender': 'Femmes', 'group': 43, 'weight': 70, 'connection_time': 0}, 78: {'gender': 'Hommes', 'group': 43, 'weight': 85, 'connection_time': 0}, 79: {'gender': 'Hommes', 'group': 44, 'weight': 85, 'connection_time': 0}, 80: {'gender': 'Femmes', 'group': 45, 'weight': 70, 'connection_time': 0}, 81: {'gender': 'Hommes', 'group': 46, 'weight': 85, 'connection_time': 0}, 82: {'gender': 'Hommes', 'group': 47, 'weight': 85, 'connection_time': 0}, 83: {'gender': 'Femmes', 'group': 48, 'weight': 70, 'connection_time': 90}, 84: {'gender': 'Hommes', 'group': 49, 'weight': 85, 'connection_time': 0}, 85: {'gender': 'Femmes', 'group': 50, 'weight': 70, 'connection_time': 0}, 86: {'gender': 'Femmes', 'group': 51, 'weight': 70, 'connection_time': 0}, 87: {'gender': 'Femmes', 'group': 52, 'weight': 70, 'connection_time': 135}, 88: {'gender': 'Femmes', 'group': 52, 'weight': 70, 'connection_time': 135}, 89: {'gender': 'Hommes', 'group': 52, 'weight': 85, 'connection_time': 135}, 90: {'gender': 'Femmes', 'group': 53, 'weight': 70, 'connection_time': 0}, 91: {'gender': 'Femmes', 'group': 54, 'weight': 70, 'connection_time': 0}, 92: {'gender': 'Hommes', 'group': 55, 'weight': 85, 'connection_time': 0}, 93: {'gender': 'Femmes', 'group': 56, 'weight': 70, 'connection_time': 0}, 94: {'gender': 'Femmes', 'group': 56, 'weight': 70, 'connection_time': 0}, 95: {'gender': 'Hommes', 'group': 56, 'weight': 85, 'connection_time': 0}, 96: {'gender': 'Hommes', 'group': 56, 'weight': 85, 'connection_time': 0}, 97: {'gender': 'Hommes', 'group': 57, 'weight': 85, 'connection_time': 0}, 98: {'gender': 'Femmes', 'group': 58, 'weight': 70, 'connection_time': 0}, 99: {'gender': 'Femmes', 'group': 59, 'weight': 70, 'connection_time': 0}, 100: {'gender': 'Hommes', 'group': 60, 'weight': 85, 'connection_time': 135}, 101: {'gender': 'Femmes', 'group': 61, 'weight': 70, 'connection_time': 0}, 102: {'gender': 'Femmes', 'group': 62, 'weight': 70, 'connection_time': 135}, 103: {'gender': 'Hommes', 'group': 62, 'weight': 85, 'connection_time': 135}, 104: {'gender': 'Hommes', 'group': 63, 'weight': 85, 'connection_time': 0}, 105: {'gender': 'Femmes', 'group': 64, 'weight': 70, 'connection_time': 0}, 106: {'gender': 'Hommes', 'group': 64, 'weight': 85, 'connection_time': 0}, 107: {'gender': 'Femmes', 'group': 65, 'weight': 70, 'connection_time': 0}, 108: {'gender': 'Hommes', 'group': 65, 'weight': 85, 'connection_time': 0}, 109: {'gender': 'Femmes', 'group': 66, 'weight': 70, 'connection_time': 0}, 110: {'gender': 'Femmes', 'group': 67, 'weight': 70, 'connection_time': 0}, 111: {'gender': 'Hommes', 'group': 68, 'weight': 85, 'connection_time': 120}, 112: {'gender': 'Hommes', 'group': 69, 'weight': 85, 'connection_time': 0}, 113: {'gender': 'Hommes', 'group': 70, 'weight': 85, 'connection_time': 0}, 114: {'gender': 'Hommes', 'group': 71, 'weight': 85, 'connection_time': 0}, 115: {'gender': 'Hommes', 'group': 72, 'weight': 85, 'connection_time': 0}, 116: {'gender': 'Femmes', 'group': 73, 'weight': 70, 'connection_time': 0}, 117: {'gender': 'Femmes', 'group': 74, 'weight': 70, 'connection_time': 0}, 118: {'gender': 'Femmes', 'group': 75, 'weight': 70, 'connection_time': 0}, 119: {'gender': 'Femmes', 'group': 76, 'weight': 70, 'connection_time': 0}, 120: {'gender': 'Hommes', 'group': 76, 'weight': 85, 'connection_time': 0}, 121: {'gender': 'Hommes', 'group': 77, 'weight': 85, 'connection_time': 70}, 122: {'gender': 'Femmes', 'group': 78, 'weight': 70, 'connection_time': 120}, 123: {'gender': 'Femmes', 'group': 78, 'weight': 70, 'connection_time': 120}, 124: {'gender': 'Femmes', 'group': 78, 'weight': 70, 'connection_time': 120}, 125: {'gender': 'Hommes', 'group': 78, 'weight': 85, 'connection_time': 120}, 126: {'gender': 'Femmes', 'group': 79, 'weight': 70, 'connection_time': 0}, 127: {'gender': 'Femmes', 'group': 79, 'weight': 70, 'connection_time': 0}, 128: {'gender': 'Femmes', 'group': 79, 'weight': 70, 'connection_time': 0}, 129: {'gender': 'Femmes', 'group': 79, 'weight': 70, 'connection_time': 0}, 130: {'gender': 'Femmes', 'group': 79, 'weight': 70, 'connection_time': 0}, 131: {'gender': 'Femmes', 'group': 79, 'weight': 70, 'connection_time': 0}, 132: {'gender': 'Femmes', 'group': 79, 'weight': 70, 'connection_time': 0}, 133: {'gender': 'Femmes', 'group': 79, 'weight': 70, 'connection_time': 0}, 134: {'gender': 'Femmes', 'group': 79, 'weight': 70, 'connection_time': 0}, 135: {'gender': 'Femmes', 'group': 79, 'weight': 70, 'connection_time': 0}, 136: {'gender': 'Femmes', 'group': 79, 'weight': 70, 'connection_time': 0}, 137: {'gender': 'Femmes', 'group': 79, 'weight': 70, 'connection_time': 0}, 138: {'gender': 'Hommes', 'group': 80, 'weight': 85, 'connection_time': 120}, 139: {'gender': 'Femmes', 'group': 81, 'weight': 70, 'connection_time': 0}, 140: {'gender': 'Femmes', 'group': 81, 'weight': 70, 'connection_time': 0}, 141: {'gender': 'Hommes', 'group': 81, 'weight': 85, 'connection_time': 0}, 142: {'gender': 'Hommes', 'group': 81, 'weight': 85, 'connection_time': 0}, 143: {'gender': 'Femmes', 'group': 82, 'weight': 70, 'connection_time': 210}, 144: {'gender': 'Femmes', 'group': 83, 'weight': 70, 'connection_time': 0}, 145: {'gender': 'Femmes', 'group': 84, 'weight': 70, 'connection_time': 0}, 146: {'gender': 'Femmes', 'group': 84, 'weight': 70, 'connection_time': 0}, 147: {'gender': 'Hommes', 'group': 84, 'weight': 85, 'connection_time': 0}, 148: {'gender': 'Hommes', 'group': 84, 'weight': 85, 'connection_time': 0}, 149: {'gender': 'Hommes', 'group': 84, 'weight': 85, 'connection_time': 0}, 150: {'gender': 'Hommes', 'group': 84, 'weight': 85, 'connection_time': 0}, 151: {'gender': 'Hommes', 'group': 84, 'weight': 85, 'connection_time': 0}, 152: {'gender': 'Hommes', 'group': 84, 'weight': 85, 'connection_time': 0}, 153: {'gender': 'Femmes', 'group': 85, 'weight': 70, 'connection_time': 0}, 154: {'gender': 'Femmes', 'group': 86, 'weight': 70, 'connection_time': 0}, 155: {'gender': 'Hommes', 'group': 87, 'weight': 85, 'connection_time': 135}, 156: {'gender': 'Femmes', 'group': 88, 'weight': 70, 'connection_time': 0}, 157: {'gender': 'Femmes', 'group': 89, 'weight': 70, 'connection_time': 45}, 158: {'gender': 'Femmes', 'group': 89, 'weight': 70, 'connection_time': 45}, 159: {'gender': 'Hommes', 'group': 89, 'weight': 85, 'connection_time': 45}, 160: {'gender': 'Hommes', 'group': 89, 'weight': 85, 'connection_time': 45}, 161: {'gender': 'Hommes', 'group': 89, 'weight': 85, 'connection_time': 45}, 162: {'gender': 'Hommes', 'group': 90, 'weight': 85, 'connection_time': 0}, 163: {'gender': 'Femmes', 'group': 91, 'weight': 70, 'connection_time': 0}, 164: {'gender': 'Femmes', 'group': 91, 'weight': 70, 'connection_time': 0}}\n"
     ]
    }
   ],
   "source": [
    "# User input for date selection\n",
    "selected_date = input(\"Which date do you want to analyze? Please enter one of the following options: Oct21, Oct22, Oct23, Oct24, Oct30, Nov5, Nov7: \")\n",
    "\n",
    "# Check if the entered date is valid\n",
    "if selected_date in [\"Oct21\", \"Oct22\", \"Oct23\", \"Oct24\", \"Oct30\", \"Nov5\", \"Nov7\"]:\n",
    "    # Construct the variable name dynamically\n",
    "    passengers_variable_name = f\"Passengers_{selected_date}\"\n",
    "\n",
    "    # Create a dictionary for the selected date and assign it to the variable dynamically\n",
    "    globals()[passengers_variable_name] = create_passengers_dict(globals()[selected_date])\n",
    "\n",
    "    print(f\"Analyzing data for {selected_date}\")\n",
    "    print(globals()[passengers_variable_name])\n",
    "    \n",
    "else:\n",
    "    print(\"Invalid date entered. Please enter one of the specified options.\")"
   ]
  },
  {
   "cell_type": "markdown",
   "metadata": {},
   "source": [
    "Construct the model"
   ]
  },
  {
   "cell_type": "code",
   "execution_count": 16,
   "metadata": {},
   "outputs": [
    {
     "name": "stdout",
     "output_type": "stream",
     "text": [
      "Set parameter Username\n",
      "Academic license - for non-commercial use only - expires 2025-03-01\n"
     ]
    },
    {
     "data": {
      "text/plain": [
       "<gurobi.Model MIP instance statique: 6163 constrs, 33620 vars, Parameter changes: Username=(user-defined), OutputFlag=0>"
      ]
     },
     "metadata": {},
     "output_type": "display_data"
    }
   ],
   "source": [
    "# Create models and variables for the selected date\n",
    "if selected_date == \"Nov7\":\n",
    "    m_selected, S_selected = create_model_and_variables(globals()[passengers_variable_name], number_of_seats_Nov7,selected_date)\n",
    "else:\n",
    "    m_selected, S_selected = create_model_and_variables(globals()[passengers_variable_name], number_of_seats,selected_date)\n",
    "\n",
    "# Construct the model variable names \n",
    "model_variable_name_m = f\"m_{selected_date}\"\n",
    "model_variable_name_S = f\"S_{selected_date}\"\n",
    "\n",
    "# Assign the models to the variables \n",
    "globals()[model_variable_name_m] = m_selected\n",
    "globals()[model_variable_name_S] = S_selected\n",
    "    \n",
    "# Set objectives for the models\n",
    "if selected_date == \"Nov7\":\n",
    "    m_selected.setObjective(obj_transit(S_selected, globals()[passengers_variable_name], number_of_seats_Nov7) + obj_dist(m_selected, S_selected, globals()[passengers_variable_name], alpha, number_of_seats_Nov7), GRB.MINIMIZE)\n",
    "else:\n",
    "    m_selected.setObjective(obj_transit(S_selected, globals()[passengers_variable_name], number_of_seats) + obj_dist(m_selected, S_selected, globals()[passengers_variable_name], alpha, number_of_seats), GRB.MINIMIZE)\n",
    "        \n",
    "# Set display options\n",
    "globals()[model_variable_name_m].params.outputflag = 0  # mute mode\n",
    "globals()[model_variable_name_m].update()\n",
    "\n",
    "# Display the model in text mode\n",
    "display(globals()[model_variable_name_m])\n",
    "    \n",
    "# Set time limit\n",
    "globals()[model_variable_name_m].Params.timeLimit = 120.0"
   ]
  },
  {
   "cell_type": "markdown",
   "metadata": {},
   "source": [
    "Resolution"
   ]
  },
  {
   "cell_type": "code",
   "execution_count": 17,
   "metadata": {},
   "outputs": [
    {
     "name": "stdout",
     "output_type": "stream",
     "text": [
      "\n",
      "Seats on the plane for Oct24 are as follows: [(1, 27), (2, 28), (3, 20), (4, 19), (5, 21), (6, 16), (7, 15), (8, 5), (9, 6), (10, 162), (11, 155), (12, 148), (13, 169), (14, 82), (15, 55), (16, 54), (17, 63), (18, 62), (19, 61), (20, 108), (21, 164), (22, 112), (23, 111), (24, 40), (25, 34), (26, 41), (27, 38), (28, 47), (29, 42), (30, 36), (31, 37), (32, 31), (33, 43), (34, 44), (35, 30), (36, 29), (37, 33), (38, 35), (39, 13), (40, 14), (41, 12), (42, 45), (43, 140), (44, 132), (45, 176), (46, 194), (47, 17), (48, 183), (49, 23), (50, 24), (51, 181), (52, 147), (53, 73), (54, 96), (55, 89), (56, 131), (57, 117), (58, 84), (59, 143), (60, 115), (61, 114), (62, 90), (63, 56), (64, 163), (65, 71), (66, 72), (67, 7), (68, 75), (69, 49), (70, 48), (71, 26), (72, 113), (73, 192), (74, 201), (75, 189), (76, 133), (77, 118), (78, 119), (79, 145), (80, 103), (81, 98), (82, 127), (83, 22), (84, 110), (85, 161), (87, 65), (88, 64), (89, 66), (90, 139), (91, 160), (92, 185), (93, 124), (94, 126), (95, 122), (96, 125), (97, 105), (98, 150), (99, 202), (100, 68), (101, 129), (102, 69), (103, 70), (104, 134), (105, 141), (106, 142), (107, 188), (108, 187), (109, 177), (110, 97), (111, 59), (112, 106), (113, 156), (114, 157), (115, 153), (116, 138), (117, 184), (118, 170), (119, 135), (120, 136), (121, 10), (122, 58), (123, 51), (124, 52), (125, 50), (126, 100), (127, 101), (128, 85), (129, 99), (130, 87), (131, 80), (132, 92), (133, 93), (134, 86), (135, 94), (136, 79), (137, 78), (138, 57), (139, 191), (140, 198), (141, 199), (142, 197), (143, 76), (144, 168), (145, 171), (146, 173), (147, 174), (148, 166), (149, 180), (150, 178), (151, 175), (152, 182), (153, 107), (154, 128), (155, 77), (156, 159), (157, 8), (158, 9), (159, 2), (160, 3), (161, 1), (162, 104), (163, 195), (164, 196)]\n"
     ]
    }
   ],
   "source": [
    "# Optimize the model\n",
    "globals()[model_variable_name_m].optimize()\n",
    "\n",
    "# Solution display\n",
    "print()\n",
    "print(f\"Seats on the plane for {selected_date} are as follows:\", [(i, j) for i in range(1, len(globals()[f'Passengers_{selected_date}']) + 1) for j in range(1, number_of_seats if selected_date != 'Nov7' else number_of_seats_Nov7 + 1) if globals()[model_variable_name_S][(i, j)].x])"
   ]
  },
  {
   "cell_type": "markdown",
   "metadata": {},
   "source": [
    "Visualization"
   ]
  },
  {
   "cell_type": "code",
   "execution_count": 36,
   "metadata": {},
   "outputs": [],
   "source": [
    "seats_variable_name = f\"seats_{selected_date}\"\n",
    "seat_coords_variable_name = f\"seat_coords_{selected_date}\"\n",
    "\n",
    "# Create lists of occupied seats\n",
    "globals()[seats_variable_name] = [j for i in range(1, len(globals()[f'Passengers_{selected_date}']) + 1) for j in range(1, number_of_seats if selected_date != 'Nov7' else number_of_seats_Nov7 + 1) if globals()[model_variable_name_S][(i, j)].x]\n",
    "\n",
    "# Calculate seat coordinates\n",
    "globals()[seat_coords_variable_name] = seat_coordinates(globals()[seats_variable_name])"
   ]
  },
  {
   "cell_type": "code",
   "execution_count": 38,
   "metadata": {},
   "outputs": [],
   "source": [
    "# Calculate center of mass\n",
    "\n",
    "x_g_variable_name = f\"x_g_{selected_date}\"\n",
    "y_g_variable_name = f\"y_g_{selected_date}\"\n",
    "globals()[x_g_variable_name], globals()[y_g_variable_name] = calculate_center_of_mass(globals()[model_variable_name_S],globals()[f\"Passengers_{selected_date}\"], number_of_seats if selected_date != 'Nov7' else number_of_seats_Nov7)"
   ]
  },
  {
   "cell_type": "code",
   "execution_count": 39,
   "metadata": {},
   "outputs": [
    {
     "data": {
      "image/png": "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",
      "text/plain": [
       "<Figure size 1000x1000 with 1 Axes>"
      ]
     },
     "metadata": {},
     "output_type": "display_data"
    }
   ],
   "source": [
    "plot_seating(globals()[passengers_variable_name], globals()[seat_coords_variable_name], globals()[x_g_variable_name], globals()[y_g_variable_name])"
   ]
  },
  {
   "cell_type": "markdown",
   "metadata": {},
   "source": [
    "Evaluation"
   ]
  },
  {
   "cell_type": "code",
   "execution_count": 45,
   "metadata": {},
   "outputs": [
    {
     "name": "stdout",
     "output_type": "stream",
     "text": [
      "[1, 2, 3, 4, 5]\n"
     ]
    }
   ],
   "source": [
    "print (groupe(1,globals()[passengers_variable_name]))"
   ]
  },
  {
   "cell_type": "code",
   "execution_count": 42,
   "metadata": {},
   "outputs": [],
   "source": [
    "def metrique_retangule(passengers): #“List Index Out of Range”\n",
    "    satisfaction_scores = 0 \n",
    "    group_scores = {}  \n",
    "\n",
    "    for i in passengers:\n",
    "        group = groupe(i, passengers)\n",
    "        group_coords = [globals()[seat_coords_variable_name][idx - 1] for idx in group]  \n",
    "\n",
    "\n",
    "        min_x = min(coord[0] for coord in group_coords)\n",
    "        max_x = max(coord[0] for coord in group_coords)\n",
    "\n",
    "\n",
    "        min_y = min(coord[1] for coord in group_coords)\n",
    "        max_y = max(coord[1] for coord in group_coords)\n",
    "       \n",
    "        y_distance = max_y - min_y\n",
    "        x_distance = max_x - min_x\n",
    "\n",
    "        if x_distance == len(group)  and y_distance == 0:\n",
    "            group_scores[i] = 5\n",
    "            satisfaction_scores += 5 \n",
    "        else:\n",
    "            score = ponderation(x_distance, y_distance)\n",
    "            group_scores[i] = score\n",
    "            satisfaction_scores += score\n",
    "\n",
    "    return satisfaction_scores, group_scores"
   ]
  },
  {
   "cell_type": "code",
   "execution_count": 47,
   "metadata": {},
   "outputs": [],
   "source": [
    "def metrique_retangule_2(passengers):\n",
    "    satisfaction_scores = 0 \n",
    "\n",
    "    for i in passengers:\n",
    "        group = groupe(i, passengers)\n",
    "        group_coords = [globals()[seat_coords_variable_name][idx - 1] for idx in group]  \n",
    "\n",
    "        \n",
    "        min_x = min(coord[0] for coord in group_coords)\n",
    "        max_x = max(coord[0] for coord in group_coords)\n",
    "\n",
    "\n",
    "        min_y = min(coord[1] for coord in group_coords)\n",
    "        max_y = max(coord[1] for coord in group_coords)\n",
    "\n",
    "        \n",
    "        x_distance = max_x - min_x\n",
    "        y_distance = max_y - min_y\n",
    "\n",
    "        if(x_distance == len(group) and y_distance == 0):\n",
    "                satisfaction_scores += 5 \n",
    "        else:\n",
    "            satisfaction_scores += ponderation(x_distance, y_distance)\n",
    "\n",
    "        return satisfaction_scores\n"
   ]
  },
  {
   "cell_type": "code",
   "execution_count": 46,
   "metadata": {},
   "outputs": [
    {
     "data": {
      "text/plain": [
       "1.8518518518518516"
      ]
     },
     "execution_count": 46,
     "metadata": {},
     "output_type": "execute_result"
    }
   ],
   "source": [
    "metrique_retangule_2(globals()[passengers_variable_name])"
   ]
  },
  {
   "cell_type": "code",
   "execution_count": 48,
   "metadata": {},
   "outputs": [],
   "source": [
    "def metrique_groupe (Passengers):\n",
    "    sat={}\n",
    "\n",
    "    for i in Passengers:\n",
    "\n",
    "        group=groupe(i,Passengers)\n",
    "        group_coord=seat_coordinates(group)\n",
    "        if len(group) == 2:\n",
    "            if group_coord [0][1] == group_coord [1][1]:\n",
    "                sat[i] = 2.5\n",
    "\n",
    "                if (group_coord [0][0] == group_coord [1][0] + 1) or (group_coord [0][0] == group_coord [1][0] - 1):\n",
    "                    sat[i] += 2.5\n",
    "\n",
    "            else : \n",
    "                sat[i] = 0\n",
    "\n",
    "        #elif len(group) == 3:"
   ]
  },
  {
   "cell_type": "code",
   "execution_count": 49,
   "metadata": {},
   "outputs": [],
   "source": [
    "def metrique_grossière(Passengers):\n",
    "\n",
    "    sat=0\n",
    "\n",
    "    for i in Passengers:\n",
    "        if Passengers[i]['connection_time'] > 0 :\n",
    "            for j in range (1, number_of_seats+1):\n",
    "                \n",
    "                if globals()[model_variable_name_S].x:\n",
    "                    x, y = seat_coordinates([j])\n",
    "                    if y <=5:\n",
    "                        sat += 5\n",
    "                    #elif\n",
    "                \n",
    "    return sat"
   ]
>>>>>>> Lucas
  }
 ],
 "metadata": {
  "kernelspec": {
   "display_name": "base",
   "language": "python",
   "name": "python3"
  },
  "language_info": {
   "codemirror_mode": {
    "name": "ipython",
    "version": 3
   },
   "file_extension": ".py",
   "mimetype": "text/x-python",
   "name": "python",
   "nbconvert_exporter": "python",
   "pygments_lexer": "ipython3",
   "version": "3.11.5"
  }
 },
 "nbformat": 4,
 "nbformat_minor": 2
}
