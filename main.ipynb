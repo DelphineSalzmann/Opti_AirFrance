{
 "cells": [
  {
   "cell_type": "markdown",
   "metadata": {},
   "source": [
    "## Import libraries"
   ]
  },
  {
   "cell_type": "code",
   "execution_count": 13,
   "metadata": {},
   "outputs": [],
   "source": [
    "import numpy as np\n",
    "import pandas as pd\n",
    "import matplotlib.pyplot as plt\n",
    "from gurobipy import *"
   ]
  },
  {
   "cell_type": "markdown",
   "metadata": {},
   "source": [
    "## Read and preprocess data\n"
   ]
  },
  {
   "cell_type": "code",
   "execution_count": 14,
   "metadata": {},
   "outputs": [],
   "source": [
    "import csv\n",
    "from datetime import datetime\n",
    "import os\n",
    "\n",
    "def load_data(file_path):\n",
    "    data_dict = dict()\n",
    "\n",
    "    with open(file_path) as file:\n",
    "        reader = csv.DictReader(file)\n",
    "        for row in reader:\n",
    "            if row['Numéro du groupe'] != '':\n",
    "                heures, minutes, _ = map(int, row['TransitTime'].split(':')) \n",
    "                total_minutes = heures * 60 + minutes\n",
    "                data_dict[int(float(row['Numéro du groupe']))] = (\n",
    "                    int(float(row['Femmes'])),\n",
    "                    int(float(row['Hommes'])),\n",
    "                    int(float(row['WCHR'])),\n",
    "                    total_minutes\n",
    "                )\n",
    "\n",
    "    return data_dict\n",
    "\n",
    "# Load data for each file\n",
    "\n",
    "file_names = [\"5Nov.csv\", \"7Nov.csv\", \"22Oct.csv\", \"24Oct.csv\", \"23Oct.csv\", \"30Oct.csv\", \"DataSeating 2024.csv\"]\n",
    "data_directory = 'data'\n",
    "# for eachy dictionary : dict[Numéro du groupe : (Femmes, Hommes, WCHR, TransitTime)]\n",
    "Nov5, Nov7, Oct22, Oct24, Oct23, Oct30, Date0 = [load_data(os.path.join(data_directory, file)) for file in file_names]"
   ]
  },
  {
   "cell_type": "markdown",
   "metadata": {},
   "source": [
    "Example of how we access data"
   ]
  },
  {
   "cell_type": "code",
   "execution_count": 15,
   "metadata": {},
   "outputs": [
    {
     "data": {
      "text/plain": [
       "1"
      ]
     },
     "execution_count": 15,
     "metadata": {},
     "output_type": "execute_result"
    }
   ],
   "source": [
    "Nov5[1][0] # Number of women in group 1 on November 5th"
   ]
  },
  {
   "cell_type": "markdown",
   "metadata": {},
   "source": [
    "Transforming data to access each passenger's Id\n",
    "\n",
    "First we solved the problem for November 5th, then we'll have to automate it"
   ]
  },
  {
   "cell_type": "code",
   "execution_count": 16,
   "metadata": {},
   "outputs": [
    {
     "name": "stdout",
     "output_type": "stream",
     "text": [
      "{1: {'gender': 'Femmes', 'group': 1, 'weight': 70, 'connection_time': 0}, 2: {'gender': 'Hommes', 'group': 1, 'weight': 85, 'connection_time': 0}, 3: {'gender': 'Hommes', 'group': 1, 'weight': 85, 'connection_time': 0}, 4: {'gender': 'Hommes', 'group': 2, 'weight': 85, 'connection_time': 60}, 5: {'gender': 'Femmes', 'group': 3, 'weight': 70, 'connection_time': 165}, 6: {'gender': 'Hommes', 'group': 3, 'weight': 85, 'connection_time': 165}, 7: {'gender': 'Femmes', 'group': 4, 'weight': 70, 'connection_time': 0}, 8: {'gender': 'Hommes', 'group': 4, 'weight': 85, 'connection_time': 0}, 9: {'gender': 'WCHR', 'group': 4, 'weight': 100, 'connection_time': 0}, 10: {'gender': 'Femmes', 'group': 5, 'weight': 70, 'connection_time': 0}, 11: {'gender': 'Femmes', 'group': 5, 'weight': 70, 'connection_time': 0}, 12: {'gender': 'Femmes', 'group': 5, 'weight': 70, 'connection_time': 0}, 13: {'gender': 'Femmes', 'group': 6, 'weight': 70, 'connection_time': 0}, 14: {'gender': 'Hommes', 'group': 6, 'weight': 85, 'connection_time': 0}, 15: {'gender': 'Femmes', 'group': 7, 'weight': 70, 'connection_time': 85}, 16: {'gender': 'Hommes', 'group': 7, 'weight': 85, 'connection_time': 85}, 17: {'gender': 'Hommes', 'group': 8, 'weight': 85, 'connection_time': 0}, 18: {'gender': 'Femmes', 'group': 9, 'weight': 70, 'connection_time': 60}, 19: {'gender': 'Femmes', 'group': 9, 'weight': 70, 'connection_time': 60}, 20: {'gender': 'Hommes', 'group': 9, 'weight': 85, 'connection_time': 60}, 21: {'gender': 'Hommes', 'group': 9, 'weight': 85, 'connection_time': 60}, 22: {'gender': 'Femmes', 'group': 10, 'weight': 70, 'connection_time': 0}, 23: {'gender': 'Femmes', 'group': 11, 'weight': 70, 'connection_time': 0}, 24: {'gender': 'Hommes', 'group': 12, 'weight': 85, 'connection_time': 0}, 25: {'gender': 'Hommes', 'group': 12, 'weight': 85, 'connection_time': 0}, 26: {'gender': 'Hommes', 'group': 13, 'weight': 85, 'connection_time': 0}, 27: {'gender': 'Hommes', 'group': 14, 'weight': 85, 'connection_time': 0}, 28: {'gender': 'Hommes', 'group': 14, 'weight': 85, 'connection_time': 0}, 29: {'gender': 'Hommes', 'group': 14, 'weight': 85, 'connection_time': 0}, 30: {'gender': 'Femmes', 'group': 15, 'weight': 70, 'connection_time': 0}, 31: {'gender': 'Femmes', 'group': 15, 'weight': 70, 'connection_time': 0}, 32: {'gender': 'Femmes', 'group': 16, 'weight': 70, 'connection_time': 60}, 33: {'gender': 'Femmes', 'group': 17, 'weight': 70, 'connection_time': 0}, 34: {'gender': 'Femmes', 'group': 18, 'weight': 70, 'connection_time': 0}, 35: {'gender': 'Hommes', 'group': 18, 'weight': 85, 'connection_time': 0}, 36: {'gender': 'Hommes', 'group': 19, 'weight': 85, 'connection_time': 0}, 37: {'gender': 'Femmes', 'group': 20, 'weight': 70, 'connection_time': 0}, 38: {'gender': 'Hommes', 'group': 20, 'weight': 85, 'connection_time': 0}, 39: {'gender': 'Hommes', 'group': 21, 'weight': 85, 'connection_time': 0}, 40: {'gender': 'Hommes', 'group': 22, 'weight': 85, 'connection_time': 0}, 41: {'gender': 'Femmes', 'group': 23, 'weight': 70, 'connection_time': 0}, 42: {'gender': 'Femmes', 'group': 23, 'weight': 70, 'connection_time': 0}, 43: {'gender': 'Hommes', 'group': 23, 'weight': 85, 'connection_time': 0}, 44: {'gender': 'Femmes', 'group': 24, 'weight': 70, 'connection_time': 0}, 45: {'gender': 'Hommes', 'group': 24, 'weight': 85, 'connection_time': 0}, 46: {'gender': 'Femmes', 'group': 26, 'weight': 70, 'connection_time': 0}, 47: {'gender': 'Femmes', 'group': 26, 'weight': 70, 'connection_time': 0}, 48: {'gender': 'Hommes', 'group': 27, 'weight': 85, 'connection_time': 0}, 49: {'gender': 'Hommes', 'group': 28, 'weight': 85, 'connection_time': 0}, 50: {'gender': 'Hommes', 'group': 29, 'weight': 85, 'connection_time': 85}, 51: {'gender': 'Femmes', 'group': 30, 'weight': 70, 'connection_time': 85}, 52: {'gender': 'Hommes', 'group': 30, 'weight': 85, 'connection_time': 85}, 53: {'gender': 'Femmes', 'group': 31, 'weight': 70, 'connection_time': 0}, 54: {'gender': 'Femmes', 'group': 31, 'weight': 70, 'connection_time': 0}, 55: {'gender': 'Hommes', 'group': 31, 'weight': 85, 'connection_time': 0}, 56: {'gender': 'Hommes', 'group': 31, 'weight': 85, 'connection_time': 0}, 57: {'gender': 'Hommes', 'group': 32, 'weight': 85, 'connection_time': 0}, 58: {'gender': 'Hommes', 'group': 32, 'weight': 85, 'connection_time': 0}, 59: {'gender': 'Hommes', 'group': 32, 'weight': 85, 'connection_time': 0}, 60: {'gender': 'Hommes', 'group': 32, 'weight': 85, 'connection_time': 0}, 61: {'gender': 'Hommes', 'group': 32, 'weight': 85, 'connection_time': 0}, 62: {'gender': 'Hommes', 'group': 33, 'weight': 85, 'connection_time': 0}, 63: {'gender': 'Hommes', 'group': 33, 'weight': 85, 'connection_time': 0}, 64: {'gender': 'Hommes', 'group': 33, 'weight': 85, 'connection_time': 0}, 65: {'gender': 'Hommes', 'group': 33, 'weight': 85, 'connection_time': 0}, 66: {'gender': 'Femmes', 'group': 34, 'weight': 70, 'connection_time': 85}, 67: {'gender': 'Hommes', 'group': 34, 'weight': 85, 'connection_time': 85}, 68: {'gender': 'Femmes', 'group': 35, 'weight': 70, 'connection_time': 0}, 69: {'gender': 'Hommes', 'group': 35, 'weight': 85, 'connection_time': 0}, 70: {'gender': 'Femmes', 'group': 36, 'weight': 70, 'connection_time': 60}, 71: {'gender': 'Femmes', 'group': 36, 'weight': 70, 'connection_time': 60}, 72: {'gender': 'Hommes', 'group': 37, 'weight': 85, 'connection_time': 0}, 73: {'gender': 'Hommes', 'group': 38, 'weight': 85, 'connection_time': 0}, 74: {'gender': 'Femmes', 'group': 39, 'weight': 70, 'connection_time': 0}, 75: {'gender': 'WCHR', 'group': 39, 'weight': 100, 'connection_time': 0}, 76: {'gender': 'Femmes', 'group': 40, 'weight': 70, 'connection_time': 0}, 77: {'gender': 'WCHR', 'group': 40, 'weight': 100, 'connection_time': 0}, 78: {'gender': 'Hommes', 'group': 41, 'weight': 85, 'connection_time': 0}, 79: {'gender': 'Hommes', 'group': 42, 'weight': 85, 'connection_time': 165}, 80: {'gender': 'Femmes', 'group': 43, 'weight': 70, 'connection_time': 0}, 81: {'gender': 'Femmes', 'group': 43, 'weight': 70, 'connection_time': 0}, 82: {'gender': 'Femmes', 'group': 43, 'weight': 70, 'connection_time': 0}, 83: {'gender': 'Femmes', 'group': 43, 'weight': 70, 'connection_time': 0}, 84: {'gender': 'Femmes', 'group': 43, 'weight': 70, 'connection_time': 0}, 85: {'gender': 'Femmes', 'group': 44, 'weight': 70, 'connection_time': 85}, 86: {'gender': 'Femmes', 'group': 44, 'weight': 70, 'connection_time': 85}, 87: {'gender': 'Hommes', 'group': 45, 'weight': 85, 'connection_time': 85}, 88: {'gender': 'Femmes', 'group': 46, 'weight': 70, 'connection_time': 0}, 89: {'gender': 'Hommes', 'group': 46, 'weight': 85, 'connection_time': 0}, 90: {'gender': 'Hommes', 'group': 46, 'weight': 85, 'connection_time': 0}, 91: {'gender': 'Femmes', 'group': 47, 'weight': 70, 'connection_time': 0}, 92: {'gender': 'Femmes', 'group': 48, 'weight': 70, 'connection_time': 0}, 93: {'gender': 'WCHR', 'group': 49, 'weight': 100, 'connection_time': 0}, 94: {'gender': 'Femmes', 'group': 50, 'weight': 70, 'connection_time': 0}, 95: {'gender': 'Hommes', 'group': 51, 'weight': 85, 'connection_time': 0}, 96: {'gender': 'Femmes', 'group': 52, 'weight': 70, 'connection_time': 0}, 97: {'gender': 'Femmes', 'group': 53, 'weight': 70, 'connection_time': 0}}\n"
     ]
    }
   ],
   "source": [
    "Passengers = {}\n",
    "j = 1\n",
    "\n",
    "for group_num, data in Nov5.items():\n",
    "    weights = {'Femmes': 70, 'Hommes': 85, 'WCHR': 100}  # Weight per passenger\n",
    "    \n",
    "    # Extracting data\n",
    "    femmes, hommes, wchr, total_minutes = data\n",
    "    \n",
    "    # Enumerating passengers\n",
    "    for _ in range(femmes + hommes + wchr):\n",
    "        if femmes > 0:\n",
    "            weight = weights['Femmes']  \n",
    "            Passengers[j] = {'gender': 'Femmes', 'group': group_num, 'weight': weight, 'connection_time': total_minutes}\n",
    "            femmes -= 1\n",
    "        elif hommes > 0:\n",
    "            weight = weights['Hommes']\n",
    "            Passengers[j] = {'gender': 'Hommes', 'group': group_num, 'weight': weight, 'connection_time': total_minutes}\n",
    "            hommes -= 1\n",
    "        else:\n",
    "            weight = weights['WCHR']\n",
    "            Passengers[j] = {'gender': 'WCHR', 'group': group_num, 'weight': weight, 'connection_time': total_minutes}\n",
    "            wchr -= 1\n",
    "        j += 1\n",
    "\n",
    "print(Passengers)"
   ]
  },
  {
   "cell_type": "code",
   "execution_count": 17,
   "metadata": {},
   "outputs": [
    {
     "data": {
      "text/plain": [
       "{'gender': 'Femmes', 'group': 1, 'weight': 70, 'connection_time': 0}"
      ]
     },
     "execution_count": 17,
     "metadata": {},
     "output_type": "execute_result"
    }
   ],
   "source": [
    "Passengers[1] # Characteristic of passenger 1 of November 5"
   ]
  },
  {
   "cell_type": "markdown",
   "metadata": {},
   "source": [
    "## Static model"
   ]
  },
  {
   "cell_type": "code",
   "execution_count": 18,
   "metadata": {},
   "outputs": [],
   "source": [
    "ranks = 29 #number of rows in the aircraft\n",
    "n = 90 #number of passengers - TO BE CHANGED\n",
    "ns=7*ranks #number of seats\n",
    "\n",
    "def modele_statique():\n",
    "    m=Model('statique') # Model initialization\n",
    "    \n",
    "    # -- Adding variables  --\n",
    "    # Sij : dict[(int, int) : Var] : Associate passenger i with seat j\n",
    "    S = {(i,j) : m.addVar(vtype = GRB.BINARY, name = f'j{i}') for i in range(1, n+1) for j in range (1, ns+1)}\n",
    "\n",
    "    # -- Adding constraints  --\n",
    "    \n",
    "    # Max. 1 seat per passenger\n",
    "    for j in range (1, ns+1):\n",
    "        m.addConstr(sum(S[(i,j)] for i in range (1, n+1)) <=1, name=\"PassengerMax\")\n",
    "\n",
    "    #Each passenger has one and only one seat\n",
    "    for i in range (1, n+1):\n",
    "        m.addConstr(sum(S[(i,j)] for j in range (1, ns+1)) == 1, name=\"SeatMax\")\n",
    "\n",
    "    #The central aisle is left free\n",
    "    for i in range (1, n+1):\n",
    "        m.addConstr(S[(i, 4)] == 0)\n",
    "\n",
    "    #Barycenter\n",
    "\n",
    "    return m, S"
   ]
  },
  {
   "cell_type": "markdown",
   "metadata": {},
   "source": [
    "Fonctions objectifs"
   ]
  },
  {
   "cell_type": "code",
   "execution_count": 19,
   "metadata": {},
   "outputs": [],
   "source": [
    "## Fonctions objectifs\n",
    "\n",
    "m,S=modele_statique()\n",
    "\n",
    "#Les passagers en transit sont placés à l'avant de l'avion\n",
    "\n",
    "def obj_transit():\n",
    "    T= {} \n",
    "    \n",
    "    \n",
    "    for passenger in Passengers:\n",
    "        if Passengers[passenger]['connection_time'] >0:   #passager en transit\n",
    "            T[passenger]=Passengers[passenger]['connection_time']\n",
    "\n",
    "    #T=sorted(T.items(), key=lambda item:item[1], reverse=True)\n",
    "    P=list(T.keys())  #retourne la liste des identifiants des passagers en transit\n",
    "    \n",
    "\n",
    "    f=0\n",
    "    for k in range (len(P)):\n",
    "        for j in range (1, ns+1):\n",
    "            q=(j-1)//7\n",
    "            f+= S[(P[k],j)] * (1/T[P[k]]) * q\n",
    "            \n",
    "\n",
    "    return f\n",
    "\n",
    "m.setObjective(obj_transit(), GRB.MINIMIZE)"
   ]
  },
  {
   "cell_type": "code",
   "execution_count": 20,
   "metadata": {},
   "outputs": [
    {
     "data": {
      "text/plain": [
       "<gurobi.Model MIP instance statique: 383 constrs, 18270 vars, Parameter changes: Username=(user-defined), OutputFlag=0>"
      ]
     },
     "metadata": {},
     "output_type": "display_data"
    }
   ],
   "source": [
    "# -- Choix d'un paramétrage d'affichage minimaliste --\n",
    "m.params.outputflag = 0 # mode muet\n",
    "\n",
    "# -- Mise à jour du modèle  --\n",
    "m.update() \n",
    "\n",
    "# -- Affichage en mode texte du PL --\n",
    "display(m)"
   ]
  },
  {
   "cell_type": "code",
   "execution_count": 21,
   "metadata": {},
   "outputs": [
    {
     "name": "stdout",
     "output_type": "stream",
     "text": [
      "Les places dans l'avion sont les suivantes : [(1, 187), (2, 153), (3, 123), (4, 2), (5, 25), (6, 21), (7, 139), (8, 69), (9, 188), (10, 131), (11, 136), (12, 92), (13, 185), (14, 64), (15, 10), (16, 19), (17, 96), (18, 7), (19, 3), (20, 8), (21, 5), (22, 134), (23, 142), (24, 173), (25, 122), (26, 162), (27, 89), (28, 99), (29, 158), (30, 178), (31, 57), (32, 1), (33, 55), (34, 24), (35, 93), (36, 107), (37, 120), (38, 161), (39, 193), (40, 113), (41, 31), (42, 144), (43, 203), (44, 88), (45, 29), (46, 53), (47, 73), (48, 100), (49, 147), (50, 11), (51, 13), (52, 9), (53, 104), (54, 116), (55, 40), (56, 119), (57, 168), (58, 180), (59, 91), (60, 137), (61, 23), (62, 95), (63, 71), (64, 197), (65, 39), (66, 18), (67, 15), (68, 102), (69, 45), (70, 14), (71, 6), (72, 202), (73, 36), (74, 51), (75, 176), (76, 84), (77, 90), (78, 83), (79, 20), (80, 43), (81, 115), (82, 130), (83, 148), (84, 67), (85, 12), (86, 16), (87, 17), (88, 179), (89, 110), (90, 72)]\n"
     ]
    }
   ],
   "source": [
    "# -- Résolution --\n",
    "m.optimize()\n",
    "\n",
    "# -- Affichage de la solution --\n",
    "print(\"Les places dans l'avion sont les suivantes :\", [(i,j) for i in range(1,n+1) for j in range (1,ns+1) if S[(i,j)].x])"
   ]
  },
  {
   "cell_type": "code",
   "execution_count": null,
   "metadata": {},
   "outputs": [],
   "source": []
  },
  {
   "cell_type": "code",
   "execution_count": 23,
   "metadata": {},
   "outputs": [
    {
     "data": {
      "image/png": "[encoded data removed]",
      "text/plain": [
       "<Figure size 1000x600 with 1 Axes>"
      ]
     },
     "metadata": {},
     "output_type": "display_data"
    }
   ],
   "source": [
    "import matplotlib.pyplot as plt\n",
    "\n",
    "# Sample seating arrangement data obtained from the optimization model\n",
    "seating_arrangement = [(1, 187), (2, 153), (3, 123), (4, 2), (5, 25), (6, 21), (7, 139), (8, 69), (9, 188), (10, 131),\n",
    "                       (11, 136), (12, 92), (13, 185), (14, 64), (15, 10), (16, 19), (17, 96), (18, 7), (19, 3),\n",
    "                       (20, 8), (21, 5), (22, 134), (23, 142), (24, 173), (25, 122), (26, 162), (27, 89), (28, 99),\n",
    "                       (29, 158), (30, 178), (31, 57), (32, 1), (33, 55), (34, 24), (35, 93), (36, 107), (37, 120),\n",
    "                       (38, 161), (39, 193), (40, 113), (41, 31), (42, 144), (43, 203), (44, 88), (45, 29), (46, 53),\n",
    "                       (47, 73), (48, 100), (49, 147), (50, 11), (51, 13), (52, 9), (53, 104), (54, 116), (55, 40),\n",
    "                       (56, 119), (57, 168), (58, 180), (59, 91), (60, 137), (61, 23), (62, 95), (63, 71), (64, 197),\n",
    "                       (65, 39), (66, 18), (67, 15), (68, 102), (69, 45), (70, 14), (71, 6), (72, 202), (73, 36),\n",
    "                       (74, 51), (75, 176), (76, 84), (77, 90), (78, 83), (79, 20), (80, 43), (81, 115), (82, 130),\n",
    "                       (83, 148), (84, 67), (85, 12), (86, 16), (87, 17), (88, 179), (89, 110), (90, 72)]\n",
    "\n",
    "# Plotting the seating arrangement\n",
    "plt.figure(figsize=(10, 6))  # Adjust figure size as needed\n",
    "\n",
    "for seat in seating_arrangement:\n",
    "    plt.scatter(seat[1] % 7, seat[1] // 7, color=\"blue\")  # Plot seat position on the aircraft grid\n",
    "\n",
    "plt.title(\"Seating Arrangement\")\n",
    "plt.xlabel(\"Column\")\n",
    "plt.ylabel(\"Row\")\n",
    "plt.grid(True)\n",
    "plt.gca().invert_yaxis()  # Invert y-axis to match the aircraft's seating orientation\n",
    "plt.show()\n",
    "\n"
   ]
  }
 ],
 "metadata": {
  "kernelspec": {
   "display_name": "base",
   "language": "python",
   "name": "python3"
  },
  "language_info": {
   "codemirror_mode": {
    "name": "ipython",
    "version": 3
   },
   "file_extension": ".py",
   "mimetype": "text/x-python",
   "name": "python",
   "nbconvert_exporter": "python",
   "pygments_lexer": "ipython3",
   "version": "3.11.5"
  }
 },
 "nbformat": 4,
 "nbformat_minor": 2
}
