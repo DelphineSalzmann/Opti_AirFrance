{
 "cells": [
  {
   "cell_type": "markdown",
   "metadata": {},
   "source": [
    "## Import libraries"
   ]
  },
  {
   "cell_type": "code",
   "execution_count": 204,
   "metadata": {},
   "outputs": [],
   "source": [
    "import numpy as np\n",
    "import pandas as pd\n",
    "import matplotlib.pyplot as plt\n",
    "from gurobipy import *"
   ]
  },
  {
   "cell_type": "markdown",
   "metadata": {},
   "source": [
    "## Read and preprocess data\n"
   ]
  },
  {
   "cell_type": "code",
   "execution_count": 220,
   "metadata": {},
   "outputs": [],
   "source": [
    "import csv\n",
    "from datetime import datetime\n",
    "import os\n",
    "\n",
    "def load_data(file_path):\n",
    "    data_dict = dict()\n",
    "\n",
    "    with open(file_path) as file:\n",
    "        reader = csv.DictReader(file)\n",
    "        for row in reader:\n",
    "            if row['Numéro du groupe'] != '':\n",
    "                heures, minutes, _ = map(int, row['TransitTime'].split(':')) \n",
    "                total_minutes = heures * 60 + minutes\n",
    "                data_dict[int(float(row['Numéro du groupe']))] = (\n",
    "                    int(float(row['Femmes'])),\n",
    "                    int(float(row['Hommes'])),\n",
    "                    int(float(row['WCHR'])),\n",
    "                    total_minutes\n",
    "                )\n",
    "\n",
    "    return data_dict\n",
    "\n",
    "# Load data for each file\n",
    "\n",
    "file_names = [\"5Nov.csv\", \"7Nov.csv\", \"22Oct.csv\", \"24Oct.csv\", \"23Oct.csv\", \"30Oct.csv\", \"DataSeating 2024.csv\"]\n",
    "data_directory = 'data'\n",
    "# for eachy dictionary : dict[Numéro du groupe : (Femmes, Hommes, WCHR, TransitTime)]\n",
    "Nov5, Nov7, Oct22, Oct24, Oct23, Oct30, Date0 = [load_data(os.path.join(data_directory, file)) for file in file_names]"
   ]
  },
  {
   "cell_type": "markdown",
   "metadata": {},
   "source": [
    "Example of how we access data"
   ]
  },
  {
   "cell_type": "code",
   "execution_count": 206,
   "metadata": {},
   "outputs": [
    {
     "data": {
      "text/plain": [
       "1"
      ]
     },
     "execution_count": 206,
     "metadata": {},
     "output_type": "execute_result"
    }
   ],
   "source": [
    "Nov5[1][0] # Number of women in group 1 on November 5th"
   ]
  },
  {
   "cell_type": "markdown",
   "metadata": {},
   "source": [
    "Transforming data to access each passenger's Id\n",
    "\n",
    "First we solved the problem for November 5th, then we'll have to automate it"
   ]
  },
  {
   "cell_type": "code",
   "execution_count": 207,
   "metadata": {},
   "outputs": [
    {
     "name": "stdout",
     "output_type": "stream",
     "text": [
      "{1: {'gender': 'Femmes', 'group': 1, 'weight': 70, 'connection_time': 0}, 2: {'gender': 'Hommes', 'group': 1, 'weight': 85, 'connection_time': 0}, 3: {'gender': 'Hommes', 'group': 1, 'weight': 85, 'connection_time': 0}, 4: {'gender': 'Hommes', 'group': 2, 'weight': 85, 'connection_time': 60}, 5: {'gender': 'Femmes', 'group': 3, 'weight': 70, 'connection_time': 165}, 6: {'gender': 'Hommes', 'group': 3, 'weight': 85, 'connection_time': 165}, 7: {'gender': 'Femmes', 'group': 4, 'weight': 70, 'connection_time': 0}, 8: {'gender': 'Hommes', 'group': 4, 'weight': 85, 'connection_time': 0}, 9: {'gender': 'WCHR', 'group': 4, 'weight': 10000, 'connection_time': 0}, 10: {'gender': 'Femmes', 'group': 5, 'weight': 70, 'connection_time': 0}, 11: {'gender': 'Femmes', 'group': 5, 'weight': 70, 'connection_time': 0}, 12: {'gender': 'Femmes', 'group': 5, 'weight': 70, 'connection_time': 0}, 13: {'gender': 'Femmes', 'group': 6, 'weight': 70, 'connection_time': 0}, 14: {'gender': 'Hommes', 'group': 6, 'weight': 85, 'connection_time': 0}, 15: {'gender': 'Femmes', 'group': 7, 'weight': 70, 'connection_time': 85}, 16: {'gender': 'Hommes', 'group': 7, 'weight': 85, 'connection_time': 85}, 17: {'gender': 'Hommes', 'group': 8, 'weight': 85, 'connection_time': 0}, 18: {'gender': 'Femmes', 'group': 9, 'weight': 70, 'connection_time': 60}, 19: {'gender': 'Femmes', 'group': 9, 'weight': 70, 'connection_time': 60}, 20: {'gender': 'Hommes', 'group': 9, 'weight': 85, 'connection_time': 60}, 21: {'gender': 'Hommes', 'group': 9, 'weight': 85, 'connection_time': 60}, 22: {'gender': 'Femmes', 'group': 10, 'weight': 70, 'connection_time': 0}, 23: {'gender': 'Femmes', 'group': 11, 'weight': 70, 'connection_time': 0}, 24: {'gender': 'Hommes', 'group': 12, 'weight': 85, 'connection_time': 0}, 25: {'gender': 'Hommes', 'group': 12, 'weight': 85, 'connection_time': 0}, 26: {'gender': 'Hommes', 'group': 13, 'weight': 85, 'connection_time': 0}, 27: {'gender': 'Hommes', 'group': 14, 'weight': 85, 'connection_time': 0}, 28: {'gender': 'Hommes', 'group': 14, 'weight': 85, 'connection_time': 0}, 29: {'gender': 'Hommes', 'group': 14, 'weight': 85, 'connection_time': 0}, 30: {'gender': 'Femmes', 'group': 15, 'weight': 70, 'connection_time': 0}, 31: {'gender': 'Femmes', 'group': 15, 'weight': 70, 'connection_time': 0}, 32: {'gender': 'Femmes', 'group': 16, 'weight': 70, 'connection_time': 60}, 33: {'gender': 'Femmes', 'group': 17, 'weight': 70, 'connection_time': 0}, 34: {'gender': 'Femmes', 'group': 18, 'weight': 70, 'connection_time': 0}, 35: {'gender': 'Hommes', 'group': 18, 'weight': 85, 'connection_time': 0}, 36: {'gender': 'Hommes', 'group': 19, 'weight': 85, 'connection_time': 0}, 37: {'gender': 'Femmes', 'group': 20, 'weight': 70, 'connection_time': 0}, 38: {'gender': 'Hommes', 'group': 20, 'weight': 85, 'connection_time': 0}, 39: {'gender': 'Hommes', 'group': 21, 'weight': 85, 'connection_time': 0}, 40: {'gender': 'Hommes', 'group': 22, 'weight': 85, 'connection_time': 0}, 41: {'gender': 'Femmes', 'group': 23, 'weight': 70, 'connection_time': 0}, 42: {'gender': 'Femmes', 'group': 23, 'weight': 70, 'connection_time': 0}, 43: {'gender': 'Hommes', 'group': 23, 'weight': 85, 'connection_time': 0}, 44: {'gender': 'Femmes', 'group': 24, 'weight': 70, 'connection_time': 0}, 45: {'gender': 'Hommes', 'group': 24, 'weight': 85, 'connection_time': 0}, 46: {'gender': 'Femmes', 'group': 26, 'weight': 70, 'connection_time': 0}, 47: {'gender': 'Femmes', 'group': 26, 'weight': 70, 'connection_time': 0}, 48: {'gender': 'Hommes', 'group': 27, 'weight': 85, 'connection_time': 0}, 49: {'gender': 'Hommes', 'group': 28, 'weight': 85, 'connection_time': 0}, 50: {'gender': 'Hommes', 'group': 29, 'weight': 85, 'connection_time': 85}, 51: {'gender': 'Femmes', 'group': 30, 'weight': 70, 'connection_time': 85}, 52: {'gender': 'Hommes', 'group': 30, 'weight': 85, 'connection_time': 85}, 53: {'gender': 'Femmes', 'group': 31, 'weight': 70, 'connection_time': 0}, 54: {'gender': 'Femmes', 'group': 31, 'weight': 70, 'connection_time': 0}, 55: {'gender': 'Hommes', 'group': 31, 'weight': 85, 'connection_time': 0}, 56: {'gender': 'Hommes', 'group': 31, 'weight': 85, 'connection_time': 0}, 57: {'gender': 'Hommes', 'group': 32, 'weight': 85, 'connection_time': 0}, 58: {'gender': 'Hommes', 'group': 32, 'weight': 85, 'connection_time': 0}, 59: {'gender': 'Hommes', 'group': 32, 'weight': 85, 'connection_time': 0}, 60: {'gender': 'Hommes', 'group': 32, 'weight': 85, 'connection_time': 0}, 61: {'gender': 'Hommes', 'group': 32, 'weight': 85, 'connection_time': 0}, 62: {'gender': 'Hommes', 'group': 33, 'weight': 85, 'connection_time': 0}, 63: {'gender': 'Hommes', 'group': 33, 'weight': 85, 'connection_time': 0}, 64: {'gender': 'Hommes', 'group': 33, 'weight': 85, 'connection_time': 0}, 65: {'gender': 'Hommes', 'group': 33, 'weight': 85, 'connection_time': 0}, 66: {'gender': 'Femmes', 'group': 34, 'weight': 70, 'connection_time': 85}, 67: {'gender': 'Hommes', 'group': 34, 'weight': 85, 'connection_time': 85}, 68: {'gender': 'Femmes', 'group': 35, 'weight': 70, 'connection_time': 0}, 69: {'gender': 'Hommes', 'group': 35, 'weight': 85, 'connection_time': 0}, 70: {'gender': 'Femmes', 'group': 36, 'weight': 70, 'connection_time': 60}, 71: {'gender': 'Femmes', 'group': 36, 'weight': 70, 'connection_time': 60}, 72: {'gender': 'Hommes', 'group': 37, 'weight': 85, 'connection_time': 0}, 73: {'gender': 'Hommes', 'group': 38, 'weight': 85, 'connection_time': 0}, 74: {'gender': 'Femmes', 'group': 39, 'weight': 70, 'connection_time': 0}, 75: {'gender': 'WCHR', 'group': 39, 'weight': 10000, 'connection_time': 0}, 76: {'gender': 'Femmes', 'group': 40, 'weight': 70, 'connection_time': 0}, 77: {'gender': 'WCHR', 'group': 40, 'weight': 10000, 'connection_time': 0}, 78: {'gender': 'Hommes', 'group': 41, 'weight': 85, 'connection_time': 0}, 79: {'gender': 'Hommes', 'group': 42, 'weight': 85, 'connection_time': 165}, 80: {'gender': 'Femmes', 'group': 43, 'weight': 70, 'connection_time': 0}, 81: {'gender': 'Femmes', 'group': 43, 'weight': 70, 'connection_time': 0}, 82: {'gender': 'Femmes', 'group': 43, 'weight': 70, 'connection_time': 0}, 83: {'gender': 'Femmes', 'group': 43, 'weight': 70, 'connection_time': 0}, 84: {'gender': 'Femmes', 'group': 43, 'weight': 70, 'connection_time': 0}, 85: {'gender': 'Femmes', 'group': 44, 'weight': 70, 'connection_time': 85}, 86: {'gender': 'Femmes', 'group': 44, 'weight': 70, 'connection_time': 85}, 87: {'gender': 'Hommes', 'group': 45, 'weight': 85, 'connection_time': 85}, 88: {'gender': 'Femmes', 'group': 46, 'weight': 70, 'connection_time': 0}, 89: {'gender': 'Hommes', 'group': 46, 'weight': 85, 'connection_time': 0}, 90: {'gender': 'Hommes', 'group': 46, 'weight': 85, 'connection_time': 0}, 91: {'gender': 'Femmes', 'group': 47, 'weight': 70, 'connection_time': 0}, 92: {'gender': 'Femmes', 'group': 48, 'weight': 70, 'connection_time': 0}, 93: {'gender': 'WCHR', 'group': 49, 'weight': 10000, 'connection_time': 0}, 94: {'gender': 'Femmes', 'group': 50, 'weight': 70, 'connection_time': 0}, 95: {'gender': 'Hommes', 'group': 51, 'weight': 85, 'connection_time': 0}, 96: {'gender': 'Femmes', 'group': 52, 'weight': 70, 'connection_time': 0}, 97: {'gender': 'Femmes', 'group': 53, 'weight': 70, 'connection_time': 0}}\n"
     ]
    }
   ],
   "source": [
    "Passengers = {}\n",
    "j = 1\n",
    "\n",
    "for group_num, data in Nov5.items():\n",
    "    weights = {'Femmes': 70, 'Hommes': 85, 'WCHR': 10000}  # Weight per passenger\n",
    "    \n",
    "    # Extracting data\n",
    "    femmes, hommes, wchr, total_minutes = data\n",
    "    \n",
    "    # Enumerating passengers\n",
    "    for _ in range(femmes + hommes + wchr):\n",
    "        if femmes > 0:\n",
    "            weight = weights['Femmes']  \n",
    "            Passengers[j] = {'gender': 'Femmes', 'group': group_num, 'weight': weight, 'connection_time': total_minutes}\n",
    "            femmes -= 1\n",
    "        elif hommes > 0:\n",
    "            weight = weights['Hommes']\n",
    "            Passengers[j] = {'gender': 'Hommes', 'group': group_num, 'weight': weight, 'connection_time': total_minutes}\n",
    "            hommes -= 1\n",
    "        else:\n",
    "            weight = weights['WCHR']\n",
    "            Passengers[j] = {'gender': 'WCHR', 'group': group_num, 'weight': weight, 'connection_time': total_minutes}\n",
    "            wchr -= 1\n",
    "        j += 1\n",
    "\n",
    "print(Passengers)"
   ]
  },
  {
   "cell_type": "markdown",
   "metadata": {},
   "source": [
    "## Static model"
   ]
  },
  {
   "cell_type": "code",
   "execution_count": 208,
   "metadata": {},
   "outputs": [],
   "source": [
    "ranks = 29 #number of rows in the aircraft\n",
    "n = len(Passengers) #number of passengers - TO BE CHANGED\n",
    "ns=7*ranks #number of seats\n",
    "\n",
    "def modele_statique():\n",
    "    m=Model('statique') # Model initialization\n",
    "    \n",
    "    # -- Adding variables  --\n",
    "    # Sij : dict[(int, int) : Var] : Associate passenger i with seat j\n",
    "    S = {(i,j) : m.addVar(vtype = GRB.BINARY, name = f'j{i}') for i in range(1, n+1) for j in range (1, ns+1)}\n",
    "\n",
    "    \n",
    "\n",
    "    # -- Adding constraints  --\n",
    "    \n",
    "    # Max. 1 seat per passenger\n",
    "    for j in range (1, ns+1):\n",
    "        m.addConstr(quicksum(S[(i,j)] for i in range (1, n+1)) <=1, name=\"PassengerMax\")\n",
    "\n",
    "    #Each passenger has one and only one seat\n",
    "    for i in range (1, n+1):\n",
    "        m.addConstr(quicksum(S[(i,j)] for j in range (1, ns+1)) == 1, name=\"SeatMax\")\n",
    "        \n",
    "    #The central aisle is left free   \n",
    "    for i in range (1, n+1):\n",
    "        for j in range (1, ns+1):\n",
    "            if j%7==4 : \n",
    "                m.addConstr(S[(i, j)] == 0)\n",
    "\n",
    "     #Baricenter\n",
    "    \n",
    "    x_g = LinExpr()\n",
    "    y_g = LinExpr()\n",
    "\n",
    "    total_weight = quicksum(Passengers[i]['weight'] for i in range(1, n + 1)).getValue()\n",
    "\n",
    "    for i in range(1, n + 1):\n",
    "        \n",
    "        j_k=1\n",
    "\n",
    "        for j in range(1, ns + 1):\n",
    "            \n",
    "            weight_ij = Passengers[i]['weight'] / total_weight\n",
    "\n",
    "            if (j % 7 == 0):\n",
    "                x_g += (7 * S[i, j] * weight_ij)\n",
    "                y_g += (j_k * S[i, j] * weight_ij)\n",
    "                j_k=j_k+1\n",
    "         \n",
    "\n",
    "            else:\n",
    "                x_g += ((j % 7) * S[i, j] * weight_ij)\n",
    "                y_g += (((j // 7)  + 1 )* S[i, j] * weight_ij)\n",
    "                \n",
    "    \n",
    "\n",
    "    m.addConstr(x_g >= 3)  \n",
    "    m.addConstr(x_g <= 5)  \n",
    "    \n",
    "    m.addConstr(y_g >= 13)  \n",
    "    m.addConstr(y_g <= 17)\n",
    "\n",
    "\n",
    "    #Passagers handicapés occupent 4 places collées à l'allée centrale\n",
    "    for passenger in Passengers:\n",
    "        if Passengers[passenger]['gender']=='WCHR':\n",
    "            for j in range(1, ns+1-8, 7):             #On ârcourt les sièges par rangée (de 7 en 7)\n",
    "            \n",
    "                x1, x2, x3, x4, x5, x6, x7 = j, j+1, j+2, j+3, j+4, j+5, j+6\n",
    "                \n",
    "\n",
    "                m.addConstr(S[(passenger, x1)] + S[(passenger, x2)] + S[(passenger, x6)] + S[(passenger, x7)] ==0 )   #On fixe un siège dans les rangs 3 ou 5\n",
    "\n",
    "                m.addConstr(S[(passenger, x3)]+sum(S[(i, x3+1)] for i in Passengers) <= 1) #On condamne le siège donnant sur l'allée\n",
    "                m.addConstr(S[(passenger, x3)]+sum(S[(i, x3+7)] for i in Passengers) <= 1) #On condamne les 2 sièges derrière\n",
    "                m.addConstr(S[(passenger, x3)]+sum(S[(i, x3+8)] for i in Passengers) <= 1)\n",
    "                m.addConstr(S[(passenger, x5)]+sum(S[(i, x5+1)] for i in Passengers) <= 1) #On condamne le siège donnant sur l'allée\n",
    "                m.addConstr(S[(passenger, x5)]+sum(S[(i, x5+7)] for i in Passengers) <= 1) #On condamne les 2 sièges derrière\n",
    "                m.addConstr(S[(passenger, x5)]+sum(S[(i, x5+8)] for i in Passengers) <= 1)\n",
    "                \n",
    "            m.addConstr(sum(S[(passenger, k)] for k in range (ns-6, ns+1)) == 0)  #Un passger handicapé ne peut pas être sur la dernière rangée\n",
    "\n",
    "\n",
    "    return m, S"
   ]
  },
  {
   "cell_type": "code",
   "execution_count": 209,
   "metadata": {},
   "outputs": [],
   "source": [
    "m,S=modele_statique()"
   ]
  },
  {
   "cell_type": "markdown",
   "metadata": {},
   "source": [
    "Fonctions objectifs"
   ]
  },
  {
   "cell_type": "code",
   "execution_count": 210,
   "metadata": {},
   "outputs": [],
   "source": [
    "\n",
    "#Les passagers en transit sont placés à l'avant de l'avion\n",
    "\n",
    "def obj_transit():\n",
    "    T= {} \n",
    "    \n",
    "    for passenger in Passengers:\n",
    "        if Passengers[passenger]['connection_time'] >0:   #passager en transit\n",
    "            T[passenger]=Passengers[passenger]['connection_time']\n",
    "\n",
    "    #T=sorted(T.items(), key=lambda item:item[1], reverse=True)\n",
    "    P=list(T.keys())  #retourne la liste des identifiants des passagers en transit\n",
    "    \n",
    "\n",
    "    f=0\n",
    "    for k in range (len(P)):\n",
    "        for j in range (1, ns+1):\n",
    "            q=(j-1)//7\n",
    "            f+= S[(P[k],j)] * (1/T[P[k]]) * q\n",
    "            \n",
    "\n",
    "    return f\n",
    "\n",
    "m.setObjective(obj_transit(), GRB.MINIMIZE)"
   ]
  },
  {
   "cell_type": "code",
   "execution_count": 211,
   "metadata": {},
   "outputs": [],
   "source": [
    "def seat_coordinates(seat):\n",
    "    coordinates = []\n",
    "    for j in range(len(seat)):\n",
    "        if (seat[j] % 7 == 0):\n",
    "            x = 7\n",
    "            y = (seat[j] // 7) \n",
    "        else:\n",
    "            x = seat[j] % 7\n",
    "            y = (seat[j] // 7) +1 \n",
    "        coordinates.append((x, y))\n",
    "    return coordinates"
   ]
  },
  {
   "cell_type": "code",
   "execution_count": 212,
   "metadata": {},
   "outputs": [],
   "source": [
    "alpha=0.8\n",
    "\n",
    "def obj_dist(alpha):\n",
    "\n",
    "    obj = LinExpr()\n",
    "    for i in range(1, n + 1):\n",
    "        for k in range(i + 1, n + 1):  \n",
    "            if  i!=k and Passengers[i]['group'] == Passengers[k]['group']:  \n",
    "\n",
    "                xi, yi = seat_coordinates([j for j in range(1, ns + 1) if S[(i, j)].x])[0]  \n",
    "                xk, yk = seat_coordinates([j for j in range(1, ns + 1) if S[(k, j)].x])[0]  \n",
    "                dist_x = abs(xi - xk)  \n",
    "                dist_y = abs(yi - yk)  \n",
    "                obj += alpha*dist_x + (1-alpha)*dist_y  \n",
    "                \n",
    "    return obj\n",
    "\n",
    "\n",
    "#m.setObjective(obj_dist(alpha), GRB.MINIMIZE)\n",
    "\n",
    "\n"
   ]
  },
  {
   "cell_type": "code",
   "execution_count": 213,
   "metadata": {},
   "outputs": [
    {
     "data": {
      "text/plain": [
       "<gurobi.Model MIP instance statique: 3905 constrs, 19691 vars, Parameter changes: Username=(user-defined), OutputFlag=0>"
      ]
     },
     "metadata": {},
     "output_type": "display_data"
    }
   ],
   "source": [
    "# -- Choix d'un paramétrage d'affichage minimaliste --\n",
    "m.params.outputflag = 0 # mode muet\n",
    "\n",
    "# -- Mise à jour du modèle  --\n",
    "m.update() \n",
    "\n",
    "# -- Affichage en mode texte du PL --\n",
    "display(m)"
   ]
  },
  {
   "cell_type": "code",
   "execution_count": 214,
   "metadata": {},
   "outputs": [
    {
     "name": "stdout",
     "output_type": "stream",
     "text": [
      "Les places dans l'avion sont les suivantes : [(1, 87), (2, 163), (3, 139), (4, 7), (5, 22), (6, 23), (7, 138), (8, 119), (9, 192), (10, 168), (11, 176), (12, 148), (13, 182), (14, 61), (15, 15), (16, 21), (17, 147), (18, 1), (19, 3), (20, 12), (21, 2), (22, 29), (23, 127), (24, 84), (25, 170), (26, 106), (27, 161), (28, 31), (29, 70), (30, 82), (31, 122), (32, 13), (33, 142), (34, 166), (35, 115), (36, 49), (37, 114), (38, 191), (39, 91), (40, 187), (41, 101), (42, 110), (43, 167), (44, 24), (45, 64), (46, 69), (47, 56), (48, 174), (49, 58), (50, 17), (51, 10), (52, 16), (53, 183), (54, 198), (55, 194), (56, 173), (57, 155), (58, 78), (59, 89), (60, 149), (61, 146), (62, 50), (63, 104), (64, 201), (65, 83), (66, 8), (67, 19), (68, 121), (69, 134), (70, 5), (71, 6), (72, 90), (73, 120), (74, 52), (75, 66), (76, 159), (77, 38), (78, 135), (79, 26), (80, 160), (81, 86), (82, 181), (83, 75), (84, 100), (85, 9), (86, 14), (87, 20), (88, 154), (89, 93), (90, 65), (91, 128), (92, 59), (93, 124), (94, 141), (95, 43), (96, 34), (97, 96)]\n"
     ]
    }
   ],
   "source": [
    "# -- Résolution --\n",
    "m.optimize()\n",
    "\n",
    "# -- Affichage de la solution --\n",
    "print(\"Les places dans l'avion sont les suivantes :\", [(i,j) for i in range(1,n+1) for j in range (1,ns+1) if S[(i,j)].x])"
   ]
  },
  {
   "cell_type": "code",
   "execution_count": 219,
   "metadata": {},
   "outputs": [
    {
     "data": {
      "image/png": "[encoded data removed]",
      "text/plain": [
       "<Figure size 1000x1000 with 1 Axes>"
      ]
     },
     "metadata": {},
     "output_type": "display_data"
    }
   ],
   "source": [
    "import matplotlib.pyplot as plt\n",
    "from collections import defaultdict\n",
    "\n",
    "\n",
    "# Creating a variable called seats containing only the j coordinates\n",
    "seats = [j for i in range(1, n + 1) for j in range(1, ns + 1) if S[(i, j)].x]\n",
    "seat_coords = seat_coordinates(seats)\n",
    "\n",
    "\n",
    "# Display the Baricenter\n",
    "\n",
    "def calculate_center_of_mass(seat_coords, Passengers):\n",
    "    x_g = LinExpr()\n",
    "    y_g = LinExpr()\n",
    "    total_weight = quicksum(Passengers[i]['weight'] for i in range(1, n + 1)).getValue()\n",
    "\n",
    "    for i in range(1, n + 1):\n",
    "        j_k = 1\n",
    "\n",
    "        for j in range(1, ns + 1):\n",
    "            weight_ij = Passengers[i]['weight'] / total_weight\n",
    "\n",
    "            if (j % 7 == 0):\n",
    "                x_g += (7 * S[i, j] * weight_ij)\n",
    "                y_g += (j_k * S[i, j] * weight_ij)\n",
    "                j_k += 1\n",
    "            else:\n",
    "                x_g += ((j % 7) * S[i, j] * weight_ij)\n",
    "                y_g += (((j // 7) + 1) * S[i, j] * weight_ij)\n",
    "\n",
    "    return x_g, y_g\n",
    "\n",
    "\n",
    "x_g, y_g = calculate_center_of_mass(seat_coords, Passengers)\n",
    "\n",
    "\n",
    "\n",
    "# Dictionary to count the frequency of each group\n",
    "group_counts = defaultdict(int)\n",
    "\n",
    "# Counting the frequency of each group\n",
    "for passenger in Passengers.values():\n",
    "    group_counts[passenger['group']] += 1\n",
    "\n",
    "# Sort the groups by the number of passengers in each group in descending order\n",
    "sorted_groups = sorted(group_counts.items(), key=lambda x: x[1], reverse=True)\n",
    "\n",
    "# Print the groups in ascending order with the number of passengers in each group\n",
    "#print(\"Groups in ascending order with the number of passengers in each group:\")\n",
    "#for group, count in sorted_groups:\n",
    "#    print(f\"Group {group}: {count} passengers\")\n",
    "\n",
    "# Define shapes for each gender\n",
    "shapes = {\n",
    "    'Femmes': 'o',   # Circule\n",
    "    'Hommes': 's',   # Square\n",
    "    'WCHR': '^'      # Triangule\n",
    "}\n",
    "\n",
    "# Define colors for the groups with 3 passangers\n",
    "colors = {\n",
    "    1: 'red',\n",
    "    4: 'green',\n",
    "    5: 'blue',\n",
    "    14: 'orange',\n",
    "    23: 'purple',\n",
    "    46: 'gray'\n",
    "}\n",
    "\n",
    "\n",
    "plt.figure(figsize=(10, 10))\n",
    "for idx, coord in enumerate(seat_coords):\n",
    "    group = Passengers[idx + 1]['group']\n",
    "    gender = Passengers[idx + 1]['gender']\n",
    "    color = colors.get(group, 'black')  # Get color for the group, default to black if not in colors dictionary\n",
    "    shape = shapes.get(gender, 'o')      # Get shape for the gender, default to circle if not in shapes dictionary\n",
    "    plt.scatter(coord[0], coord[1], color=color, marker=shape)  # Use marker parameter to set the shape\n",
    "    \n",
    "# Add labels for each gender\n",
    "for gender, shape in shapes.items():\n",
    "    plt.scatter([], [], color='black', marker=shape, label=gender)  # Create invisible scatter plot to add label\n",
    "\n",
    "# Plotting the center of mass\n",
    "plt.scatter(x_g.getValue(), y_g.getValue(), color='red', marker='o', s=150)  # Larger red point for center of mass\n",
    "\n",
    "plt.xlabel('Col')\n",
    "plt.ylabel('Row')\n",
    "plt.title('Siege')\n",
    "plt.grid(True)\n",
    "plt.gca().invert_yaxis()\n",
    "plt.legend()  # Show legend with gender labels\n",
    "plt.show()\n"
   ]
  },
  {
   "cell_type": "code",
   "execution_count": null,
   "metadata": {},
   "outputs": [],
   "source": []
  }
 ],
 "metadata": {
  "kernelspec": {
   "display_name": "base",
   "language": "python",
   "name": "python3"
  },
  "language_info": {
   "codemirror_mode": {
    "name": "ipython",
    "version": 3
   },
   "file_extension": ".py",
   "mimetype": "text/x-python",
   "name": "python",
   "nbconvert_exporter": "python",
   "pygments_lexer": "ipython3",
   "version": "3.11.5"
  }
 },
 "nbformat": 4,
 "nbformat_minor": 2
}
