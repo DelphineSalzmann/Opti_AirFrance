{
 "cells": [
  {
   "cell_type": "code",
   "execution_count": 1,
   "metadata": {},
   "outputs": [],
   "source": [
    "import pandas as pd\n",
    "import os\n",
    "\n",
    "# Specify the directory path\n",
    "data_directory = os.path.join(os.getcwd(), 'data')\n",
    "\n",
    "# Ensure the 'data' directory exists\n",
    "os.makedirs(data_directory, exist_ok=True)\n",
    "\n",
    "# Read the Excel file\n",
    "xls = pd.ExcelFile(os.path.join(data_directory, 'DataSeating2024.xlsx'))\n",
    "\n",
    "# For each sheet, export to a separate Excel file\n",
    "for sheet_name in xls.sheet_names:\n",
    "    df = pd.read_excel(xls, sheet_name)\n",
    "    csv_filename = os.path.join(data_directory, f'{sheet_name}.csv')\n",
    "    excel_filename = os.path.join(data_directory, f'{sheet_name}.xlsx')\n",
    "    \n",
    "    # Export to CSV\n",
    "    df.to_csv(csv_filename, index=False)\n",
    "    \n",
    "    # Export to Excel\n",
    "    df.to_excel(excel_filename, index=False)\n",
    "\n",
    "# List the Excel files to be converted to CSV\n",
    "excel_files = ['5Nov.xlsx', '7Nov.xlsx', '22Oct.xlsx', '23Oct.xlsx', '24Oct.xlsx', '30Oct.xlsx', 'DataSeating 2024.xlsx']\n",
    "\n",
    "# For each Excel file, read and export as CSV to the 'data' directory\n",
    "for excel_file in excel_files:\n",
    "    df = pd.read_excel(os.path.join(data_directory, excel_file))\n",
    "    csv_filename = os.path.join(data_directory, os.path.splitext(excel_file)[0] + '.csv')\n",
    "    df.to_csv(csv_filename, index=False)"
   ]
  }
 ],
 "metadata": {
  "kernelspec": {
   "display_name": "base",
   "language": "python",
   "name": "python3"
  },
  "language_info": {
   "codemirror_mode": {
    "name": "ipython",
    "version": 3
   },
   "file_extension": ".py",
   "mimetype": "text/x-python",
   "name": "python",
   "nbconvert_exporter": "python",
   "pygments_lexer": "ipython3",
   "version": "3.11.7"
  }
 },
 "nbformat": 4,
 "nbformat_minor": 2
}
